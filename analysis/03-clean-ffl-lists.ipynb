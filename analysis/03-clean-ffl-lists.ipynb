{
 "cells": [
  {
   "cell_type": "markdown",
   "id": "2794b78e-fc86-4f9a-87e5-4bf468e891f0",
   "metadata": {},
   "source": [
    "# Clean FFL lists"
   ]
  },
  {
   "cell_type": "code",
   "execution_count": 1,
   "id": "26f2cde2-501c-4b08-9108-5d26ad29876e",
   "metadata": {},
   "outputs": [],
   "source": [
    "import pandas as pd\n",
    "import os"
   ]
  },
  {
   "cell_type": "markdown",
   "id": "d42310db-2a32-4e78-bcd3-78a12d83df9f",
   "metadata": {},
   "source": [
    "## Load reference files"
   ]
  },
  {
   "cell_type": "code",
   "execution_count": 44,
   "id": "d575faf4-1688-4d4a-a8c4-5ea9379a3068",
   "metadata": {},
   "outputs": [],
   "source": [
    "counties = pd.read_csv(\"../../data/processed/counties-reference.csv\", dtype=str)"
   ]
  },
  {
   "cell_type": "code",
   "execution_count": 66,
   "id": "5a8f1af7-121f-42c1-a861-a818aa0506be",
   "metadata": {},
   "outputs": [],
   "source": [
    "neighbors = pd.read_csv(\"../../data/handmade/neighbor-counties.csv\", dtype=str)"
   ]
  },
  {
   "cell_type": "markdown",
   "id": "d04b6054-9eba-4db4-8e26-8ea250839cc2",
   "metadata": {},
   "source": [
    "## Clean, merge, and group FFL lists for each year"
   ]
  },
  {
   "cell_type": "code",
   "execution_count": 68,
   "id": "f77432ce-361d-48b0-bf9d-3950e066b50b",
   "metadata": {},
   "outputs": [],
   "source": [
    "# The license types that allow regular “dealing” in firearms are \n",
    "# 01 (Firearms Dealer), 02 (Pawn Broker), 07 (Manufacture of Firearms) and 08 (Importer of firearms)\n",
    "dealer_types = [\"01\",\"02\",\"07\",\"08\"]\n",
    "limited_dealer_types = [\"01\",\"02\"]"
   ]
  },
  {
   "cell_type": "code",
   "execution_count": 69,
   "id": "d37ca9b9-3c1f-4f5c-8ab2-fcd2d0b965f6",
   "metadata": {},
   "outputs": [],
   "source": [
    "years = [\n",
    "    '2003', '2004', '2005', '2006', '2007', '2008', '2009', '2010', '2011', '2012', \n",
    "    '2013', '2014', '2015', '2016', '2017', '2018', '2019', '2020', '2021', '2022', \n",
    "    '2023'\n",
    "]"
   ]
  },
  {
   "cell_type": "code",
   "execution_count": 77,
   "id": "2c98f5d0-6df0-4cec-bc08-20b197bdd79d",
   "metadata": {},
   "outputs": [],
   "source": [
    "for year in years:\n",
    "    df = pd.read_csv('../../data/source/atf-ffl-list/'+year+'/'+year+'-ffl-list.csv', dtype=str)\n",
    "    df.columns = df.columns.str.replace(\" \",\"_\")\n",
    "    df.columns = df.columns.str.lower()\n",
    "    # Filter license type\n",
    "    df = df.loc[df[\"lic_type\"].isin(dealer_types)]\n",
    "    # Filter to just 50 states\n",
    "    df = df.loc[~df[\"premise_state\"].isin([\"PR\",\"VI\",\"GU\",\"MP\"])]\n",
    "    # Clean the zip code\n",
    "    df['premise_zip_code'] = df['premise_zip_code'].str[:5]\n",
    "    df['mail_zip_code'] = df['mail_zip_code'].str[:5]\n",
    "    # Add state FIPS\n",
    "    df = df.merge(state_fips[[\"state\",\"statefp\",\"state_name\"]], left_on=\"premise_state\", right_on=\"state\", how=\"left\")\n",
    "    # Add county name\n",
    "    df = df.merge(county_fips[[\"statefp\",\"countyfp\",\"countyname\"]], left_on=[\"statefp\",\"lic_cnty\"], right_on=[\"statefp\",\"countyfp\"], how=\"left\")\n",
    "    # Save clean FFL list\n",
    "    df.to_csv('../../data/processed/atf-ffl-list/'+year+'-ffl-list-clean.csv', index=False)\n",
    "    # Create county FIPS code\n",
    "    df[\"fips\"] = df[\"statefp\"] + df[\"countyfp\"]\n",
    "    # Create county group\n",
    "    county_df = df.groupby([\"fips\"]).size().reset_index(name=\"count\")\n",
    "    # Merge the area\n",
    "    county_df = counties.merge(county_df, on=\"fips\", how=\"left\")\n",
    "    # Create neighbor county file\n",
    "    neighbor_df = neighbors.merge(county_df, left_on=\"neighbor_fips\", right_on=\"fips\", how=\"left\")\n",
    "    neighbor_df = neighbor_df.groupby(\"fips_x\").agg({\"area\":\"sum\",\"count\":\"sum\"}).reset_index()\n",
    "    neighbor_df.columns = [\"fips\",\"neighbor_area\",\"neighbor_count\"]\n",
    "    # Calculate the density per 100 miles\n",
    "    county_df[\"ffl_per_100mi\"] = (county_df[\"count\"] / county_df[\"area\"]) * 100\n",
    "    county_df = county_df.merge(neighbor_df, on=\"fips\", how=\"left\")\n",
    "    county_df[\"neighbor_count\"] = county_df[\"count\"] + county_df[\"neighbor_count\"]\n",
    "    county_df[\"neighbor_area\"] = county_df[\"area\"] + county_df[\"neighbor_area\"]\n",
    "    county_df[\"neighbor_ffl_per_100mi\"] = (county_df[\"neighbor_count\"] / county_df[\"neighbor_area\"]) * 100\n",
    "    county_df[[\"count\",\"ffl_per_100mi\",\"neighbor_count\",\"neighbor_ffl_per_100mi\"]] = county_df[[\"count\",\"ffl_per_100mi\",\"neighbor_count\",\"neighbor_ffl_per_100mi\"]].fillna(0)\n",
    "    county_df.loc[county_df[\"ffl_per_100mi\"] >= county_df[\"neighbor_ffl_per_100mi\"], \"adj_ffl_per_100mi\"] = county_df[\"ffl_per_100mi\"]\n",
    "    county_df.loc[county_df[\"ffl_per_100mi\"] < county_df[\"neighbor_ffl_per_100mi\"], \"adj_ffl_per_100mi\"] = county_df[\"neighbor_ffl_per_100mi\"]\n",
    "    # Save county-level summary\n",
    "    county_df.to_csv('../../data/processed/atf-ffl-list/'+year+'-ffl-list-counties.csv', index=False)\n",
    "    # Create state group\n",
    "    state_df = df.groupby([\"state\",\"statefp\"]).size().reset_index(name=\"count\")\n",
    "    # Save state-level group\n",
    "    state_df.to_csv('../../data/processed/atf-ffl-list/'+year+'-ffl-list-states.csv', index=False)\n",
    "    # Create license type group\n",
    "    lic_df = df.groupby([\"lic_type\"]).size().reset_index(name=\"count\")\n",
    "    # Save license-type group\n",
    "    lic_df.to_csv('../../data/processed/atf-ffl-list/'+year+'-ffl-list-license-types.csv', index=False)"
   ]
  },
  {
   "cell_type": "code",
   "execution_count": null,
   "id": "afdc76ad-c494-43e6-979d-e58e573f7fd8",
   "metadata": {},
   "outputs": [],
   "source": []
  }
 ],
 "metadata": {
  "kernelspec": {
   "display_name": "gun-dealers-2023-analysis",
   "language": "python",
   "name": "python3"
  },
  "language_info": {
   "codemirror_mode": {
    "name": "ipython",
    "version": 3
   },
   "file_extension": ".py",
   "mimetype": "text/x-python",
   "name": "python",
   "nbconvert_exporter": "python",
   "pygments_lexer": "ipython3",
   "version": "3.11.2"
  }
 },
 "nbformat": 4,
 "nbformat_minor": 5
}
