{
 "cells": [
  {
   "cell_type": "markdown",
   "id": "2f2365ba-7f64-4592-a4ef-aaf3ea6a1a9b",
   "metadata": {},
   "source": [
    "# Convert excel or txt files to csv\n",
    "The complete list of federal firearms licensees is posted monthly on the [ATF website](https://www.atf.gov/firearms/listing-federal-firearms-licensees). It is usually available as either a txt file or an excel file. To make batch processing easier, we converted all of these files into csvs. "
   ]
  },
  {
   "cell_type": "code",
   "execution_count": 1,
   "id": "b1d21a75-0d5d-4f0a-8658-7529902dd440",
   "metadata": {},
   "outputs": [],
   "source": [
    "import pandas as pd"
   ]
  },
  {
   "cell_type": "code",
   "execution_count": null,
   "id": "15966896-cb62-4946-a224-82e7f54a84a3",
   "metadata": {},
   "outputs": [],
   "source": [
    "# For xlsm files, add engine=\"openpyxl\"\n",
    "# For 2012, add sheet_name=\"FFL January 2012\"\n",
    "# df = pd.read_excel('./_workspace/gun-dealers-2023-analysis/data/source/atf-ffl-list/2013/2013 FFL List.xlsx', dtype=str, skiprows=[1]) \n",
    "df = pd.read_csv('../../data/source/atf-ffl-list/2023/1123-ffl-list.txt', sep=\"\\t\", skiprows=[1], dtype=str)"
   ]
  },
  {
   "cell_type": "code",
   "execution_count": null,
   "id": "260ba089-1465-401e-a3c3-f76fe7263a72",
   "metadata": {},
   "outputs": [],
   "source": [
    "df.head()"
   ]
  },
  {
   "cell_type": "code",
   "execution_count": null,
   "id": "b6db0803-030d-448a-b1f8-3537bd5e5175",
   "metadata": {},
   "outputs": [],
   "source": [
    "df.to_csv('../../data/source/atf-ffl-list/2023/1123-ffl-list.csv', index=False)"
   ]
  }
 ],
 "metadata": {
  "kernelspec": {
   "display_name": "gun-dealers-2023-analysis",
   "language": "python",
   "name": "python3"
  },
  "language_info": {
   "codemirror_mode": {
    "name": "ipython",
    "version": 3
   },
   "file_extension": ".py",
   "mimetype": "text/x-python",
   "name": "python",
   "nbconvert_exporter": "python",
   "pygments_lexer": "ipython3",
   "version": "3.11.2"
  }
 },
 "nbformat": 4,
 "nbformat_minor": 5
}
