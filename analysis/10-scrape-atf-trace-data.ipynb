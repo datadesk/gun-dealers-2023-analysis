{
 "cells": [
  {
   "cell_type": "markdown",
   "id": "b3fa4c8c-afa1-4ee5-8f7a-2ecaa09cab0a",
   "metadata": {},
   "source": [
    "# Pull trace data from ATF site"
   ]
  },
  {
   "cell_type": "code",
   "execution_count": 1,
   "id": "cfee7612-4ebe-4315-836d-f85ed3613689",
   "metadata": {
    "tags": []
   },
   "outputs": [],
   "source": [
    "import requests\n",
    "import pandas as pd\n",
    "from bs4 import BeautifulSoup\n",
    "import re\n",
    "import pdfplumber\n",
    "import numpy as np\n",
    "import os"
   ]
  },
  {
   "cell_type": "code",
   "execution_count": 21,
   "id": "6be587de-689d-4ac7-b138-7e10eb939b42",
   "metadata": {
    "tags": []
   },
   "outputs": [],
   "source": [
    "year = \"2019\""
   ]
  },
  {
   "cell_type": "code",
   "execution_count": 22,
   "id": "f876a03e-f2eb-45ea-87ab-596be0c24339",
   "metadata": {
    "tags": []
   },
   "outputs": [],
   "source": [
    "states = [\"Alabama\",\"Alaska\",\"Arizona\",\"Arkansas\",\"California\",\"Colorado\",\"Connecticut\",\"Delaware\",\n",
    "          \"District of Columbia\",\"Florida\",\"Georgia\",\"Hawaii\",\"Idaho\",\"Illinois\",\"Indiana\",\"Iowa\",\n",
    "          \"Kansas\",\"Kentucky\",\"Louisiana\",\"Maine\",\"Maryland\",\"Massachusetts\",\"Michigan\",\"Minnesota\",\n",
    "          \"Mississippi\",\"Missouri\",\"Montana\",\"Nebraska\",\"Nevada\",\"New Hampshire\",\"New Jersey\",\n",
    "          \"New Mexico\",\"New York\",\"North Carolina\",\"North Dakota\",\"Ohio\",\"Oklahoma\",\"Oregon\",\n",
    "          \"Pennsylvania\",\"Rhode Island\",\"South Carolina\",\"South Dakota\",\"Tennessee\",\"Texas\",\"Utah\",\n",
    "          \"Vermont\",\"Virginia\",\"Washington\",\"West Virginia\",\"Wisconsin\",\"Wyoming\"]"
   ]
  },
  {
   "cell_type": "code",
   "execution_count": 23,
   "id": "34b255df-647e-4a03-a7a3-e8ebff43680e",
   "metadata": {
    "tags": []
   },
   "outputs": [],
   "source": [
    "cities = [\"Little Rock AR\",\"Los Angeles CA\",\"San Francisco CA\",\"Stockton CA\",\"Washington DC\",\"Chicago IL\",\n",
    "          \"Baltimore MD\",\"Detroit MI\",\"Kansas City MO\",\"Springfield MO\",\"St Louis MO\",\"Albuquerque NM\",\n",
    "          \"New York City NY\",\"Cleveland OH\",\"Memphis TN\"]"
   ]
  },
  {
   "cell_type": "markdown",
   "id": "346abc7a-751a-4cd2-bda9-1ddb48b5173d",
   "metadata": {
    "tags": []
   },
   "source": [
    "## 2021 and 2020"
   ]
  },
  {
   "cell_type": "markdown",
   "id": "fbf8970b-3bf6-4fbe-8ae1-04e33dbaaa64",
   "metadata": {
    "tags": []
   },
   "source": [
    "### Pull data from the text"
   ]
  },
  {
   "cell_type": "code",
   "execution_count": 24,
   "id": "c8fd5c46-2eba-40a8-9b8a-ce688733044f",
   "metadata": {
    "tags": []
   },
   "outputs": [],
   "source": [
    "general_numbers = pd.DataFrame()"
   ]
  },
  {
   "cell_type": "code",
   "execution_count": 25,
   "id": "97699c3c-afc8-4016-8a66-971fdf334928",
   "metadata": {
    "tags": []
   },
   "outputs": [],
   "source": [
    "for state in states:\n",
    "    state_url = state.lower()\n",
    "    state_url = state_url.replace(\" \",\"-\")\n",
    "    state_url = state_url.replace(\"-of-\",\"-\")\n",
    "    url = \"https://www.atf.gov/resource-center/firearms-trace-data-\"+state_url+\"-\"+year\n",
    "    html = requests.get(url)\n",
    "    html_content = html.content\n",
    "    soup = BeautifulSoup(html_content)\n",
    "    try:\n",
    "        all_traces = soup.find(id=\"types\").parent.contents[0]\n",
    "        source_traces = soup.find(id=\"time-to-crime\").parent.contents[1]\n",
    "        national_ttc = soup.find(id=\"age\").parent.contents[1].get_text()\n",
    "        state_ttc = soup.find(id=\"age\").parent.previous_sibling.previous_sibling.contents[1].get_text()\n",
    "        national_avg_age = soup.find(id=\"recovery-cities\").parent.contents[1].get_text()\n",
    "        state_avg_age = soup.find(id=\"recovery-cities\").parent.previous_sibling.previous_sibling.contents[1].get_text()\n",
    "        d = {'state': [state],\n",
    "             'year': [year],\n",
    "             'all_traces': [all_traces], \n",
    "             'source_traces': [source_traces],\n",
    "             'national_ttc': [national_ttc],\n",
    "             'state_ttc': [state_ttc],\n",
    "             'national_avg_age': [national_avg_age],\n",
    "             'state_avg_age': [state_avg_age]}\n",
    "        row = pd.DataFrame(data=d)\n",
    "        general_numbers = pd.concat([general_numbers,row])\n",
    "    except:\n",
    "        d = {'state': [state],\n",
    "             'year': [year],\n",
    "             'all_traces': \"\", \n",
    "             'source_traces': \"\",\n",
    "             'national_ttc': \"\",\n",
    "             'state_ttc': \"\",\n",
    "             'national_avg_age': \"\",\n",
    "             'state_avg_age': \"\"}\n",
    "        row = pd.DataFrame(data=d)\n",
    "        general_numbers = pd.concat([general_numbers,row])"
   ]
  },
  {
   "cell_type": "code",
   "execution_count": 139,
   "id": "1dadfebf-f4fe-4243-b9bd-197800df8786",
   "metadata": {
    "tags": []
   },
   "outputs": [],
   "source": [
    "# # If the page is down\n",
    "# url = \"https://web.archive.org/web/20211127170156/https://www.atf.gov/resource-center/firearms-trace-data-pennsylvania-2020\"\n",
    "# html = requests.get(url)\n",
    "# html_content = html.content\n",
    "# soup = BeautifulSoup(html_content)\n",
    "# all_traces = soup.find(id=\"types\").parent.contents[0]\n",
    "# source_traces = soup.find(id=\"time-to-crime\").parent.contents[1]\n",
    "# national_ttc = soup.find(id=\"age\").parent.contents[1].get_text()\n",
    "# state_ttc = soup.find(id=\"age\").parent.previous_sibling.previous_sibling.contents[1].get_text()\n",
    "# national_avg_age = soup.find(id=\"recovery-cities\").parent.contents[1].get_text()\n",
    "# state_avg_age = soup.find(id=\"recovery-cities\").parent.previous_sibling.previous_sibling.contents[1].get_text()\n",
    "# d = {'state': 'Pennsylvania',\n",
    "#      'year': [year],\n",
    "#      'all_traces': [all_traces], \n",
    "#      'source_traces': [source_traces],\n",
    "#      'national_ttc': [national_ttc],\n",
    "#      'state_ttc': [state_ttc],\n",
    "#      'national_avg_age': [national_avg_age],\n",
    "#      'state_avg_age': [state_avg_age]}\n",
    "# row = pd.DataFrame(data=d)\n",
    "# general_numbers = general_numbers.loc[general_numbers[\"state\"] != \"Pennsylvania\"]\n",
    "# general_numbers = pd.concat([general_numbers,row])"
   ]
  },
  {
   "cell_type": "code",
   "execution_count": 26,
   "id": "e435de67-f2e3-4b02-a6e1-1d6edeebb408",
   "metadata": {
    "tags": []
   },
   "outputs": [],
   "source": [
    "general_numbers = general_numbers.reset_index(drop=True)"
   ]
  },
  {
   "cell_type": "code",
   "execution_count": 27,
   "id": "46ee3d81-b923-4353-b110-6e8c29b8455a",
   "metadata": {
    "tags": []
   },
   "outputs": [],
   "source": [
    "general_numbers[\"national_ttc\"] = general_numbers[\"national_ttc\"].str.replace(\"Years\",\"\")\n",
    "general_numbers[\"state_ttc\"] = general_numbers[\"state_ttc\"].str.replace(\"Years\",\"\")\n",
    "general_numbers[\"national_avg_age\"] = general_numbers[\"national_avg_age\"].str.replace(\"Years\",\"\")\n",
    "general_numbers[\"state_avg_age\"] = general_numbers[\"state_avg_age\"].str.replace(\"Years\",\"\")"
   ]
  },
  {
   "cell_type": "code",
   "execution_count": 28,
   "id": "ceef664a-607a-4756-8106-05c5cee176c3",
   "metadata": {
    "tags": []
   },
   "outputs": [],
   "source": [
    "general_numbers[\"source_traces_clean\"] = general_numbers[\"source_traces\"].str.split(\"identified in\")\n",
    "general_numbers[\"source_traces_clean\"] = general_numbers[\"source_traces_clean\"].str[-1]\n",
    "general_numbers[\"source_traces_clean\"] = general_numbers[\"source_traces_clean\"].str.replace(\"total traces.\",\"\")"
   ]
  },
  {
   "cell_type": "code",
   "execution_count": 29,
   "id": "7fe9d32b-f0c6-4fb9-8666-08bf5e5c51b2",
   "metadata": {
    "tags": []
   },
   "outputs": [],
   "source": [
    "general_numbers.drop(columns=[\"source_traces\"], inplace=True)"
   ]
  },
  {
   "cell_type": "code",
   "execution_count": 30,
   "id": "84c26b4d-7c28-42ee-ab9d-1180c85a30a3",
   "metadata": {
    "tags": []
   },
   "outputs": [],
   "source": [
    "general_numbers.rename(columns={\"source_traces_clean\":\"source_traces\"}, inplace=True)"
   ]
  },
  {
   "cell_type": "code",
   "execution_count": 15,
   "id": "a46c137b-61ad-4797-8a32-451d93c4f262",
   "metadata": {
    "tags": []
   },
   "outputs": [],
   "source": [
    "general_numbers.to_csv(\"data/raw/atf-trace-data/general-numbers-\"+year+\".csv\", index=False)"
   ]
  },
  {
   "cell_type": "markdown",
   "id": "a8654e63-20d6-44a0-9b9b-df150507c637",
   "metadata": {
    "tags": []
   },
   "source": [
    "### Pull data from the tables"
   ]
  },
  {
   "cell_type": "code",
   "execution_count": 32,
   "id": "81ed3b80-0e8d-4bb6-a23e-001ec4a34acd",
   "metadata": {
    "tags": []
   },
   "outputs": [],
   "source": [
    "firearm_types = pd.DataFrame()\n",
    "calibers = pd.DataFrame()\n",
    "categories = pd.DataFrame()\n",
    "source_states = pd.DataFrame()\n",
    "time_to_crime = pd.DataFrame()\n",
    "possessor_age = pd.DataFrame()\n",
    "recovery_cities = pd.DataFrame()"
   ]
  },
  {
   "cell_type": "code",
   "execution_count": 33,
   "id": "c5ca3077-0f22-4d8d-a6b5-ffb97180aef7",
   "metadata": {
    "tags": []
   },
   "outputs": [],
   "source": [
    "for state in states:\n",
    "    state_url = state.lower()\n",
    "    state_url = state_url.replace(\" \",\"-\")\n",
    "    state_url = state_url.replace(\"-of-\",\"-\")\n",
    "    url = \"https://www.atf.gov/resource-center/firearms-trace-data-\"+state_url+\"-\"+year\n",
    "    try:\n",
    "        tables = pd.read_html(url)\n",
    "        for x in range(0,7):\n",
    "            tables[x][\"state\"] = state\n",
    "            tables[x][\"year\"] = year\n",
    "        firearm_types = pd.concat([firearm_types, tables[0]])\n",
    "        calibers = pd.concat([calibers, tables[1]])\n",
    "        categories = pd.concat([categories, tables[2]])\n",
    "        source_states = pd.concat([source_states, tables[3]])\n",
    "        time_to_crime = pd.concat([time_to_crime, tables[4]])\n",
    "        possessor_age = pd.concat([possessor_age, tables[5]])\n",
    "        recovery_cities = pd.concat([recovery_cities, tables[6]])\n",
    "    except:\n",
    "        pass"
   ]
  },
  {
   "cell_type": "code",
   "execution_count": 171,
   "id": "5546ef9c-13e5-4265-ba81-bb221b9ae9f1",
   "metadata": {
    "tags": []
   },
   "outputs": [],
   "source": [
    "# # If the page is down\n",
    "# url = \"https://web.archive.org/web/20211127170156/https://www.atf.gov/resource-center/firearms-trace-data-pennsylvania-2020\"\n",
    "# tables = pd.read_html(url)\n",
    "# for x in range(0,7):\n",
    "#     tables[x][\"state\"] = \"Pennsylvania\"\n",
    "#     tables[x][\"year\"] = year\n",
    "# firearm_types = pd.concat([firearm_types, tables[1]])\n",
    "# calibers = pd.concat([calibers, tables[2]])\n",
    "# categories = pd.concat([categories, tables[3]])\n",
    "# source_states = pd.concat([source_states, tables[4]])\n",
    "# time_to_crime = pd.concat([time_to_crime, tables[5]])\n",
    "# possessor_age = pd.concat([possessor_age, tables[6]])\n",
    "# recovery_cities = pd.concat([recovery_cities, tables[7]])"
   ]
  },
  {
   "cell_type": "code",
   "execution_count": 34,
   "id": "7ef0e6ac-a747-4e03-8056-eeaa241348f1",
   "metadata": {
    "tags": []
   },
   "outputs": [
    {
     "data": {
      "text/html": [
       "<div>\n",
       "<style scoped>\n",
       "    .dataframe tbody tr th:only-of-type {\n",
       "        vertical-align: middle;\n",
       "    }\n",
       "\n",
       "    .dataframe tbody tr th {\n",
       "        vertical-align: top;\n",
       "    }\n",
       "\n",
       "    .dataframe thead th {\n",
       "        text-align: right;\n",
       "    }\n",
       "</style>\n",
       "<table border=\"1\" class=\"dataframe\">\n",
       "  <thead>\n",
       "    <tr style=\"text-align: right;\">\n",
       "      <th></th>\n",
       "    </tr>\n",
       "  </thead>\n",
       "  <tbody>\n",
       "  </tbody>\n",
       "</table>\n",
       "</div>"
      ],
      "text/plain": [
       "Empty DataFrame\n",
       "Columns: []\n",
       "Index: []"
      ]
     },
     "execution_count": 34,
     "metadata": {},
     "output_type": "execute_result"
    }
   ],
   "source": [
    "firearm_types"
   ]
  },
  {
   "cell_type": "code",
   "execution_count": 19,
   "id": "c4795635-0730-4f93-8791-0ee77d806786",
   "metadata": {
    "tags": []
   },
   "outputs": [],
   "source": [
    "firearm_types.rename(columns={0:\"firearm_type\",1:\"count\"}, inplace=True)\n",
    "calibers.rename(columns={0:\"caliber\",1:\"count\"}, inplace=True)\n",
    "categories.rename(columns={0:\"category\",1:\"count\"}, inplace=True)\n",
    "source_states.rename(columns={0:\"source_state\",1:\"count\"}, inplace=True)\n",
    "time_to_crime.rename(columns={0:\"time_to_crime\",1:\"count\"}, inplace=True)\n",
    "possessor_age.rename(columns={0:\"possessor_age\",1:\"count\"}, inplace=True)\n",
    "recovery_cities.rename(columns={0:\"recovery_city\",1:\"count\"}, inplace=True)"
   ]
  },
  {
   "cell_type": "code",
   "execution_count": 20,
   "id": "91483687-3263-49e3-9e9a-64db20df5196",
   "metadata": {
    "tags": []
   },
   "outputs": [],
   "source": [
    "firearm_types.to_csv(\"data/raw/atf-trace-data/firearm-types-\"+year+\".csv\", index=False)\n",
    "calibers.to_csv(\"data/raw/atf-trace-data/calibers-\"+year+\".csv\", index=False)\n",
    "categories.to_csv(\"data/raw/atf-trace-data/categories-\"+year+\".csv\", index=False)\n",
    "source_states.to_csv(\"data/raw/atf-trace-data/source-states-\"+year+\".csv\", index=False)\n",
    "time_to_crime.to_csv(\"data/raw/atf-trace-data/time-to-crime-\"+year+\".csv\", index=False)\n",
    "possessor_age.to_csv(\"data/raw/atf-trace-data/possessor-age-\"+year+\".csv\", index=False)\n",
    "recovery_cities.to_csv(\"data/raw/atf-trace-data/recovery-cities-\"+year+\".csv\", index=False)"
   ]
  },
  {
   "cell_type": "markdown",
   "id": "edd0f173-89b6-4206-8802-ab95d283f7f9",
   "metadata": {},
   "source": [
    "## Older years: 2019, 2018, 2017, 2016, 2015, 2014\n",
    "Note: 2019 also has data for some cities, including Los Angeles"
   ]
  },
  {
   "cell_type": "code",
   "execution_count": 68,
   "id": "1ccb087d-079e-4656-8297-4924f09e9d3b",
   "metadata": {
    "tags": []
   },
   "outputs": [],
   "source": [
    "year = \"2017\""
   ]
  },
  {
   "cell_type": "markdown",
   "id": "4a59e15f-0ebe-453b-95f8-656448f77f3f",
   "metadata": {},
   "source": [
    "### Download the pdfs"
   ]
  },
  {
   "cell_type": "code",
   "execution_count": 348,
   "id": "15ba1be3-552e-4987-9b8b-33f11e889309",
   "metadata": {
    "tags": []
   },
   "outputs": [],
   "source": [
    "pdf_links = []"
   ]
  },
  {
   "cell_type": "code",
   "execution_count": 349,
   "id": "f43fb7ad-3fe1-40f4-9f4a-43bd318bf39a",
   "metadata": {
    "tags": []
   },
   "outputs": [],
   "source": [
    "# Get all pdf links\n",
    "r  = requests.get(\"https://www.atf.gov/resource-center/firearms-trace-data-\"+year)\n",
    "data = r.text\n",
    "soup = BeautifulSoup(data)\n",
    "\n",
    "for link in soup.find_all('a'):\n",
    "    url = link.get('href')\n",
    "    if url != None:\n",
    "        if ('download' in url) & ('https://www.atf.gov' in url) & ('xlsx' not in url):\n",
    "            pdf_links.append(url)"
   ]
  },
  {
   "cell_type": "code",
   "execution_count": 350,
   "id": "aa8ac05c-14c0-4de1-ba5f-0ef42e611618",
   "metadata": {
    "tags": []
   },
   "outputs": [],
   "source": [
    "for link in pdf_links:\n",
    "    url = link\n",
    "    url_name = url.split('/')[-2]\n",
    "    response = requests.get(url)\n",
    "    with open('./data/raw/trace-data/'+year+'/'+url_name+'.pdf', 'wb') as f:\n",
    "        f.write(response.content)"
   ]
  },
  {
   "cell_type": "markdown",
   "id": "a6b8933f-a6c8-4499-8f3a-7e3af7382bf8",
   "metadata": {},
   "source": [
    "### Scrape the 2019, 2018, 2017 data"
   ]
  },
  {
   "cell_type": "code",
   "execution_count": 69,
   "id": "b6a077ce-120a-4af5-bc4f-6202e45f709b",
   "metadata": {
    "tags": []
   },
   "outputs": [],
   "source": [
    "directory = os.listdir(\"data/raw/atf-trace-data/2017/\")"
   ]
  },
  {
   "cell_type": "code",
   "execution_count": 70,
   "id": "0332c5ea-f5ce-44dc-b5f5-37f074edfd67",
   "metadata": {
    "tags": []
   },
   "outputs": [
    {
     "data": {
      "text/plain": [
       "'2017'"
      ]
     },
     "execution_count": 70,
     "metadata": {},
     "output_type": "execute_result"
    }
   ],
   "source": [
    "year"
   ]
  },
  {
   "cell_type": "code",
   "execution_count": 71,
   "id": "cdabdad3-4401-4674-a644-216b15934436",
   "metadata": {
    "tags": []
   },
   "outputs": [
    {
     "name": "stdout",
     "output_type": "stream",
     "text": [
      "130326.pdf\n",
      "number-firearms-sourced-and-recovered-united-states-and-territories-2017.pdf\n",
      "Alabama\n",
      "Delaware\n",
      "Idaho\n",
      "Florida\n",
      "South Carolina\n",
      "South Dakota\n",
      "130331.pdf\n",
      "Alaska\n",
      "North Carolina\n",
      "Montana\n",
      "Mississippi\n",
      "Wyoming\n",
      "District of\n",
      "Kentucky\n",
      "Iowa\n",
      "Louisiana\n",
      "North Dakota\n",
      "130321.pdf\n",
      "Rhode Island\n",
      "Guam\n",
      "Hawaii\n",
      "130336.pdf\n",
      "130351.pdf\n",
      "Oregon\n",
      "Michigan\n",
      "Kansas\n",
      "New Hampshire\n",
      "Colorado\n",
      "Puerto\n",
      "Oklahoma\n",
      "Massachusetts\n",
      "Utah\n",
      "Pennsylvania\n",
      "Ohio\n",
      "Minnesota\n",
      "Virginia\n",
      "Vermont\n",
      "New York\n",
      "Arkansas\n",
      "Illinois\n",
      "Nevada\n",
      "U.S.\n",
      "Connecticut\n",
      "Washington\n",
      "Missouri\n",
      "Nebraska\n",
      "New Mexico\n",
      "Tennessee\n",
      "Texas\n",
      "West Virginia\n",
      "Indiana\n",
      "New Jersey\n",
      "Maryland\n",
      "Wisconsin\n",
      "Georgia\n",
      "Maine\n",
      "California\n",
      "Arizona\n"
     ]
    }
   ],
   "source": [
    "source_states = pd.DataFrame()\n",
    "ttc_breakdown = pd.DataFrame()\n",
    "general = pd.DataFrame()\n",
    "\n",
    "for file in directory:\n",
    "    try:\n",
    "        pdf = pdfplumber.open(\"data/raw/atf-trace-data/2017/\"+file)\n",
    "        # Get the state\n",
    "        p1 = pdf.pages[0]\n",
    "        state = p1.extract_text_simple().split()[1]\n",
    "        if (state == \"New\") | (state == \"North\") | (state == \"South\") | (state == \"West\") | (state == \"District\") | (state == \"Rhode\"):\n",
    "            state = p1.extract_text_simple().split()[1:3]\n",
    "            state = [' '.join(state)][0]\n",
    "        # print(state)\n",
    "        # Get the total traces\n",
    "        p3 = pdf.pages[2]\n",
    "        total_traces = p3.extract_text_simple().split()[-2]\n",
    "        # print(state)\n",
    "        # # Get the top 15 source states\n",
    "        # p7 = pdf.pages[6]\n",
    "        # table = p7.extract_table()\n",
    "        # table_list = list(np.concatenate(table).flat)\n",
    "        # source_states_list = []\n",
    "        # counts_list = []\n",
    "        # for s in table_list:\n",
    "        #     if s != None:\n",
    "        #         # State\n",
    "        #         n = re.findall(\"[a-zA-Z]*\", s)\n",
    "        #         n = [' '.join(n)]\n",
    "        #         n = n[0].strip()\n",
    "        #         source_states_list.append(n)\n",
    "        #         # Count\n",
    "        #         c = re.findall(\"[0-9]\",s)\n",
    "        #         c = [''.join(c)]\n",
    "        #         c = c[0]\n",
    "        #         counts_list.append(c)\n",
    "        # source_states_list = list(filter(None, source_states_list))\n",
    "        # counts_list = list(filter(None, counts_list))\n",
    "        # d1 = {'source_state': source_states_list, 'count': counts_list}\n",
    "        # source_states_row = pd.DataFrame(data=d1)\n",
    "        # source_states_row[\"state\"] = state\n",
    "        # source_states_row[\"year\"] = year\n",
    "        # source_states = pd.concat([source_states, source_states_row])\n",
    "        print(state)\n",
    "        # Get source traces\n",
    "        source_traces = p7.extract_text_lines()[-2].get('text')\n",
    "        source_traces = source_traces.split(\"identified in\")[-1].replace(\"total traces.\",\"\").strip()\n",
    "        # Get the time-to-crime\n",
    "        p8 = pdf.pages[7]\n",
    "        national_ttc = p8.extract_text_lines()[-2].get('text').split()[-2]\n",
    "        state_ttc = p8.extract_text_lines()[-3].get('text').split()[-2]\n",
    "        # Get the time-to-crime breakdown\n",
    "        ttc_table = p8.extract_table()\n",
    "        ttc_df = pd.DataFrame(data = {'time_to_crime':ttc_table[0], 'count':ttc_table[1]})\n",
    "        ttc_df[\"state\"] = state\n",
    "        ttc_df[\"year\"] = year\n",
    "        ttc_breakdown = pd.concat([ttc_breakdown, ttc_df])\n",
    "        # Get the average age of possessor\n",
    "        p9 = pdf.pages[8]\n",
    "        national_age = p9.extract_text_lines()[-2].get('text').split()[-2]\n",
    "        state_age = p9.extract_text_lines()[-3].get('text').split()[-2]\n",
    "        d2 = {\n",
    "            \"state\":[state],\n",
    "            \"year\":[year],\n",
    "            \"all_traces\":[total_traces],\n",
    "            \"source_traces\":[source_traces],\n",
    "            \"national_ttc\":[national_ttc],\n",
    "            \"state_ttc\":[state_ttc],\n",
    "            \"national_avg_age\":[national_age],\n",
    "            \"state_avg_age\":[state_age],\n",
    "        }\n",
    "        general_row = pd.DataFrame(data=d2)\n",
    "        general = pd.concat([general, general_row])\n",
    "    except:\n",
    "        print(file)\n",
    "        pass\n",
    "\n",
    "# source_states.to_csv(\"data/processed/atf-trace-data/source-states-\"+year+\".csv\", index=False)\n",
    "ttc_breakdown.to_csv(\"data/processed/atf-trace-data/time-to-crime-\"+year+\".csv\", index=False)\n",
    "# general.to_csv(\"data/processed/atf-trace-data/general-numbers-\"+year+\".csv\", index=False)"
   ]
  },
  {
   "cell_type": "code",
   "execution_count": 35,
   "id": "e25cdfe1-74ec-43a0-9a8d-516732effc84",
   "metadata": {},
   "outputs": [],
   "source": [
    "pdf = pdfplumber.open(\"data/raw/atf-trace-data/2019/146946.pdf\")"
   ]
  },
  {
   "cell_type": "code",
   "execution_count": 36,
   "id": "72573051-ebf5-4869-a931-7b04a8a8c88f",
   "metadata": {
    "tags": []
   },
   "outputs": [],
   "source": [
    "p8 = pdf.pages[7]"
   ]
  },
  {
   "cell_type": "code",
   "execution_count": 37,
   "id": "33da7c16-865a-4ec4-b2cb-19447e9e8763",
   "metadata": {
    "tags": []
   },
   "outputs": [],
   "source": [
    "table = p8.extract_table()"
   ]
  },
  {
   "cell_type": "code",
   "execution_count": 44,
   "id": "283bab3c-0e2f-4113-ba25-129fc85aec3e",
   "metadata": {
    "tags": []
   },
   "outputs": [
    {
     "data": {
      "text/html": [
       "<div>\n",
       "<style scoped>\n",
       "    .dataframe tbody tr th:only-of-type {\n",
       "        vertical-align: middle;\n",
       "    }\n",
       "\n",
       "    .dataframe tbody tr th {\n",
       "        vertical-align: top;\n",
       "    }\n",
       "\n",
       "    .dataframe thead th {\n",
       "        text-align: right;\n",
       "    }\n",
       "</style>\n",
       "<table border=\"1\" class=\"dataframe\">\n",
       "  <thead>\n",
       "    <tr style=\"text-align: right;\">\n",
       "      <th></th>\n",
       "      <th>time_to_crime</th>\n",
       "      <th>count</th>\n",
       "    </tr>\n",
       "  </thead>\n",
       "  <tbody>\n",
       "    <tr>\n",
       "      <th>0</th>\n",
       "      <td>Under 3 Months</td>\n",
       "      <td>52</td>\n",
       "    </tr>\n",
       "    <tr>\n",
       "      <th>1</th>\n",
       "      <td>3 Months to\\nUnder 7 Months</td>\n",
       "      <td>45</td>\n",
       "    </tr>\n",
       "    <tr>\n",
       "      <th>2</th>\n",
       "      <td>7 Months to\\nUnder 1 Year</td>\n",
       "      <td>50</td>\n",
       "    </tr>\n",
       "    <tr>\n",
       "      <th>3</th>\n",
       "      <td>1 Year to\\nUnder 2 years</td>\n",
       "      <td>103</td>\n",
       "    </tr>\n",
       "    <tr>\n",
       "      <th>4</th>\n",
       "      <td>2 Years to\\nUnder 3 Years</td>\n",
       "      <td>85</td>\n",
       "    </tr>\n",
       "    <tr>\n",
       "      <th>5</th>\n",
       "      <td>3 Years and Over</td>\n",
       "      <td>544</td>\n",
       "    </tr>\n",
       "  </tbody>\n",
       "</table>\n",
       "</div>"
      ],
      "text/plain": [
       "                 time_to_crime count\n",
       "0               Under 3 Months    52\n",
       "1  3 Months to\\nUnder 7 Months    45\n",
       "2    7 Months to\\nUnder 1 Year    50\n",
       "3     1 Year to\\nUnder 2 years   103\n",
       "4    2 Years to\\nUnder 3 Years    85\n",
       "5             3 Years and Over   544"
      ]
     },
     "execution_count": 44,
     "metadata": {},
     "output_type": "execute_result"
    }
   ],
   "source": [
    "pd.DataFrame(data = {'time_to_crime':table[0], 'count':table[1]})"
   ]
  },
  {
   "cell_type": "code",
   "execution_count": null,
   "id": "ed4a1850-a935-4c2f-bdbe-050acbd286dc",
   "metadata": {},
   "outputs": [],
   "source": []
  }
 ],
 "metadata": {
  "kernelspec": {
   "display_name": "gun-dealers-2023-analysis",
   "language": "python",
   "name": "python3"
  },
  "language_info": {
   "codemirror_mode": {
    "name": "ipython",
    "version": 3
   },
   "file_extension": ".py",
   "mimetype": "text/x-python",
   "name": "python",
   "nbconvert_exporter": "python",
   "pygments_lexer": "ipython3",
   "version": "3.11.2"
  }
 },
 "nbformat": 4,
 "nbformat_minor": 5
}
