{
 "cells": [
  {
   "cell_type": "code",
   "execution_count": 10,
   "id": "3e1f1f39-d8c8-4062-89c9-630f68d38159",
   "metadata": {},
   "outputs": [],
   "source": [
    "import pandas as pd\n",
    "import numpy as np"
   ]
  },
  {
   "cell_type": "markdown",
   "id": "b032b50b-84be-4d39-b28b-504da679f94c",
   "metadata": {},
   "source": [
    "# Prep the regression data"
   ]
  },
  {
   "cell_type": "markdown",
   "id": "72abb23b-642d-4e99-9ef3-0b31b72de2a3",
   "metadata": {},
   "source": [
    "### Compile the county dataframes"
   ]
  },
  {
   "cell_type": "code",
   "execution_count": 2,
   "id": "9c775ef8-ba43-4366-bac0-3fbdeac94410",
   "metadata": {},
   "outputs": [],
   "source": [
    "# These are the years of CDC data that we have (with a one year lag so 2014-2021)\n",
    "years = [\n",
    "    '2009','2010','2011','2012','2013','2014','2015','2016','2017','2018',\n",
    "    '2019'\n",
    "]"
   ]
  },
  {
   "cell_type": "code",
   "execution_count": 3,
   "id": "9682f162-17f1-43b8-9b26-8b37d764384e",
   "metadata": {},
   "outputs": [],
   "source": [
    "# Filter the counties to just these states - assigned by FIPS code\n",
    "states = [\"01\",\"02\",\"04\",\"05\",\"06\",\"08\",\"09\",\"10\",\"11\",\"12\",\"13\",\"15\",\"16\",\"17\",\"18\",\"19\",\"20\",\n",
    "          \"21\",\"22\",\"23\",\"24\",\"25\",\"26\",\"27\",\"28\",\"29\",\"30\",\"31\",\"32\",\"33\",\"34\",\"35\",\"36\",\"37\",\n",
    "          \"38\",\"39\",\"40\",\"41\",\"42\",\"44\",\"45\",\"46\",\"47\",\"48\",\"49\",\"50\",\"51\",\"53\",\"54\",\"55\",\"56\"]"
   ]
  },
  {
   "cell_type": "code",
   "execution_count": 4,
   "id": "0b4519cf-23de-4e07-8253-4b47b88e2e49",
   "metadata": {},
   "outputs": [],
   "source": [
    "county_fire_hom = pd.DataFrame()\n",
    "county_nonfire_hom = pd.DataFrame()"
   ]
  },
  {
   "cell_type": "code",
   "execution_count": 5,
   "id": "86344ffe-66d2-45f0-9857-d8528acf3223",
   "metadata": {},
   "outputs": [],
   "source": [
    "# Compile the data frames\n",
    "for year in years:\n",
    "    year_lag = str(int(year)+2)\n",
    "    # Start with population to get all counties\n",
    "    population = pd.read_csv('../../data/processed/census/acs5_'+year+'_population_counties.csv', dtype={\"geoid\":'str',\"state\":'str'}, usecols=[\"geoid\",\"universe\",\"state\"])\n",
    "    population.rename(columns={\"geoid\":\"fips\",\"universe\":\"population\"}, inplace=True)\n",
    "    population = population.loc[population[\"state\"].isin(states)]\n",
    "    # Add in the dealers\n",
    "    dealers = pd.read_csv('../../data/processed/atf-ffl-list/'+year+'-ffl-list-counties.csv', dtype={\"fips\":'str'})\n",
    "    df_county = population.merge(dealers, on=\"fips\", how=\"left\")\n",
    "    # Add in race / ethnicity\n",
    "    race = pd.read_csv('../../data/processed/census/acs5_'+year+'_race_counties.csv', dtype={\"geoid\":'str'}, usecols=[\"geoid\",\"universe\",\"white_alone\",\"black_alone\",\"latino_alone\",\"asians_all\"])\n",
    "    race[\"white_pct\"] = (race[\"white_alone\"] / race[\"universe\"]) * 100\n",
    "    race[\"black_pct\"] = (race[\"black_alone\"] / race[\"universe\"]) * 100\n",
    "    race[\"latino_pct\"] = (race[\"latino_alone\"] / race[\"universe\"]) * 100\n",
    "    race[\"asian_pct\"] = (race[\"asians_all\"] / race[\"universe\"]) * 100\n",
    "    race.rename(columns={\"geoid\":\"fips\"}, inplace=True)\n",
    "    race = race[[\"fips\",\"white_pct\",\"black_pct\",\"latino_pct\",\"asian_pct\"]]\n",
    "    df_county = df_county.merge(race, on=\"fips\", how=\"left\")\n",
    "    # Add in percent poverty\n",
    "    poverty = pd.read_csv('../../data/processed/census/acs5_'+year+'_poverty_counties.csv', dtype={\"geoid\":'str'}, usecols=[\"geoid\",\"universe\",\"income_past12months_below_poverty_level\"])\n",
    "    poverty[\"poverty_pct\"] = (poverty[\"income_past12months_below_poverty_level\"] / poverty[\"universe\"]) * 100\n",
    "    poverty.rename(columns={\"geoid\":\"fips\"}, inplace=True)\n",
    "    poverty = poverty[[\"fips\",\"poverty_pct\"]]\n",
    "    df_county = df_county.merge(poverty, on=\"fips\", how=\"left\")\n",
    "    # Add in median income\n",
    "    income = pd.read_csv('../../data/processed/census/acs5_'+year+'_medianhouseholdincome_counties.csv', dtype={\"geoid\":'str'}, usecols=[\"geoid\",\"median\"])\n",
    "    income.rename(columns={\"geoid\":\"fips\",\"median\":\"income\"}, inplace=True)\n",
    "    df_county = df_county.merge(income, on=\"fips\", how=\"left\")\n",
    "    # Set the year\n",
    "    df_county['year'] = year\n",
    "    # Get the death data and isolate firearm homicides and non-firearm homicides\n",
    "    df_deaths = pd.read_csv('../../data/processed/cdc-data/mult'+year_lag+'_grouped_rates_counties.csv', dtype={\"fips\":'str'})\n",
    "    df_deaths_trim = df_deaths[[\"fips\",\"type_manner\",\"total_rate\",\"deaths\"]]\n",
    "    fire_hom_deaths = df_deaths_trim.loc[df_deaths_trim[\"type_manner\"] == \"firearm-homicide\"]\n",
    "    nonfire_hom_deaths = df_deaths_trim.loc[df_deaths_trim[\"type_manner\"] == \"non-firearm-homicide\"]\n",
    "    df_county_fire_hom = df_county.merge(fire_hom_deaths, on=\"fips\", how=\"left\")\n",
    "    df_county_nonfire_hom = df_county.merge(nonfire_hom_deaths, on=\"fips\", how=\"left\")\n",
    "    # Add this year's data onto the full dataframes\n",
    "    county_fire_hom = pd.concat([county_fire_hom, df_county_fire_hom])\n",
    "    county_nonfire_hom = pd.concat([county_nonfire_hom, df_county_nonfire_hom])"
   ]
  },
  {
   "cell_type": "code",
   "execution_count": 6,
   "id": "56bd1397-f13a-4e47-977c-4419d7999ee7",
   "metadata": {},
   "outputs": [],
   "source": [
    "# Get most recent\n",
    "df_county_2023 = pd.read_csv('../../data/processed/atf-ffl-list/2023-ffl-list-counties.csv', dtype={\"fips\":'str'})"
   ]
  },
  {
   "cell_type": "markdown",
   "id": "47947228-dcd8-4fb9-b226-75ef2bb79e0c",
   "metadata": {},
   "source": [
    "### Format homicide data for regression analysis"
   ]
  },
  {
   "cell_type": "code",
   "execution_count": 7,
   "id": "ed2fbb02-46f8-451f-8b44-37f2647c22ae",
   "metadata": {},
   "outputs": [],
   "source": [
    "county_fire_hom['year'] = pd.to_numeric(county_fire_hom['year'])"
   ]
  },
  {
   "cell_type": "code",
   "execution_count": 11,
   "id": "a5a51a2a-1ed7-4f12-9d6d-c87cf3183afb",
   "metadata": {},
   "outputs": [],
   "source": [
    "county_fire_hom['total_rate'] = county_fire_hom['total_rate'].fillna(0)\n",
    "county_fire_hom[\"total_rate_hs\"] = np.arcsinh(county_fire_hom[\"total_rate\"]) \n",
    "# county_fire_hom['total_rate_hs'] = county_fire_hom['total_rate_hs'].fillna(0)\n",
    "county_fire_hom[\"ln_population\"] = np.log(county_fire_hom[\"population\"]) \n",
    "county_fire_hom[\"ln_income\"] = np.log(county_fire_hom[\"income\"]) \n",
    "county_fire_hom['deaths'] = county_fire_hom['deaths'].fillna(0)\n",
    "county_fire_hom['ffl_per_100mi'] = county_fire_hom['ffl_per_100mi'].fillna(0)\n",
    "county_fire_hom['neighbor_ffl_per_100mi'] = county_fire_hom['neighbor_ffl_per_100mi'].fillna(0)"
   ]
  },
  {
   "cell_type": "code",
   "execution_count": 12,
   "id": "8cbeb0cb-38b9-413a-ab5d-b323e26e78cc",
   "metadata": {},
   "outputs": [],
   "source": [
    "county_fire_hom.to_csv(\"../../data/processed/county_firearm_homicides_dealers.csv\", index=False)"
   ]
  },
  {
   "cell_type": "code",
   "execution_count": 13,
   "id": "55d8ea91-2941-4d9a-9fe2-312f2111ff0d",
   "metadata": {},
   "outputs": [],
   "source": [
    "fire_hom = county_fire_hom.set_index(['fips', 'year'])"
   ]
  },
  {
   "cell_type": "code",
   "execution_count": 14,
   "id": "7b6b2d8b-9885-4667-ad68-f14e81a5158f",
   "metadata": {},
   "outputs": [],
   "source": [
    "fire_hom_years = fire_hom.index.get_level_values('year').to_list()\n",
    "fire_hom['year'] = pd.Categorical(fire_hom_years)"
   ]
  },
  {
   "cell_type": "code",
   "execution_count": 15,
   "id": "e7a821df-b1e3-426b-bbf2-f753ae048e7a",
   "metadata": {},
   "outputs": [],
   "source": [
    "county_nonfire_hom['year'] = pd.to_numeric(county_nonfire_hom['year'])"
   ]
  },
  {
   "cell_type": "code",
   "execution_count": 16,
   "id": "64a6183c-d625-4b2b-93b4-af4e6402a363",
   "metadata": {},
   "outputs": [],
   "source": [
    "county_nonfire_hom['total_rate'] = county_nonfire_hom['total_rate'].fillna(0)\n",
    "county_nonfire_hom[\"total_rate_hs\"] = np.arcsinh(county_nonfire_hom[\"total_rate\"]) \n",
    "county_nonfire_hom['total_rate_hs'] = county_nonfire_hom['total_rate_hs'].fillna(0)\n",
    "county_nonfire_hom[\"ln_population\"] = np.log(county_nonfire_hom[\"population\"]) \n",
    "county_nonfire_hom[\"ln_income\"] = np.log(county_nonfire_hom[\"income\"]) \n",
    "county_nonfire_hom['deaths'] = county_nonfire_hom['deaths'].fillna(0)\n",
    "county_nonfire_hom['ffl_per_100mi'] = county_nonfire_hom['ffl_per_100mi'].fillna(0)\n",
    "county_nonfire_hom['neighbor_ffl_per_100mi'] = county_nonfire_hom['neighbor_ffl_per_100mi'].fillna(0)"
   ]
  },
  {
   "cell_type": "code",
   "execution_count": 17,
   "id": "0d265e7b-6263-4526-8562-1c8a6f6e1559",
   "metadata": {},
   "outputs": [],
   "source": [
    "county_nonfire_hom.to_csv(\"../../data/processed/county_nonfirearm_homicides_dealers.csv\", index=False)"
   ]
  },
  {
   "cell_type": "code",
   "execution_count": 18,
   "id": "748ffe86-a781-4d37-8dd3-e19877b89714",
   "metadata": {},
   "outputs": [],
   "source": [
    "non_fire_hom = county_nonfire_hom.set_index(['fips', 'year'])"
   ]
  },
  {
   "cell_type": "code",
   "execution_count": 19,
   "id": "574c39ff-6acd-4db2-a27e-4ee0208e5c20",
   "metadata": {},
   "outputs": [],
   "source": [
    "non_fire_hom_years = non_fire_hom.index.get_level_values('year').to_list()\n",
    "non_fire_hom['year'] = pd.Categorical(non_fire_hom_years)"
   ]
  },
  {
   "cell_type": "markdown",
   "id": "7f516b9e-32a1-4694-a069-8f16d678796a",
   "metadata": {},
   "source": [
    "## County dealer changes\n",
    "Have any counties/neighbors seen this kind of increase OR reduction? "
   ]
  },
  {
   "cell_type": "code",
   "execution_count": 54,
   "id": "0a1bf622-6cca-42d6-b25a-07acdfb10cdd",
   "metadata": {},
   "outputs": [],
   "source": [
    "compare =  county_fire_hom[(county_fire_hom[\"year\"] == 2009) | (county_fire_hom[\"year\"] == 2019)]"
   ]
  },
  {
   "cell_type": "code",
   "execution_count": 55,
   "id": "472ce8d5-d190-42c8-83b0-a8d913a72c88",
   "metadata": {},
   "outputs": [],
   "source": [
    "# compare = compare.reset_index(level=\"fips\")"
   ]
  },
  {
   "cell_type": "code",
   "execution_count": 43,
   "id": "cc05afd2-ee03-42d4-9682-054dfd5a9b72",
   "metadata": {},
   "outputs": [],
   "source": [
    "compare = pd.pivot(compare, index=['fips','state_y','countyname'], columns='year', values=['count','neighbor_ffl_per_100mi','total_rate','poverty_pct','black_pct','deaths'])"
   ]
  },
  {
   "cell_type": "code",
   "execution_count": 44,
   "id": "351f6aa1-52a3-428b-a383-6e6b65eb680a",
   "metadata": {},
   "outputs": [],
   "source": [
    "compare = compare.reset_index()"
   ]
  },
  {
   "cell_type": "code",
   "execution_count": 45,
   "id": "90d26067-2d34-42bc-a65c-a9d0c95141f4",
   "metadata": {},
   "outputs": [],
   "source": [
    "compare.columns = ['fips','state','countyname','count_old','count_new','neighbor_ffl_per_100mi_old','neighbor_ffl_per_100mi_new','total_rate_old','total_rate_new','poverty_old','poverty_new','black_old','black_new','deaths_old','deaths_new']"
   ]
  },
  {
   "cell_type": "code",
   "execution_count": 46,
   "id": "b1c05b0c-3b6d-4a1e-ba86-acc8af3cf4fb",
   "metadata": {},
   "outputs": [],
   "source": [
    "compare[\"ffl_difference\"] = compare['neighbor_ffl_per_100mi_new'] - compare['neighbor_ffl_per_100mi_old']\n",
    "compare[\"homicide_difference\"] = compare['total_rate_new'] - compare['total_rate_old']\n",
    "compare[\"count_difference\"] = compare['count_new'] - compare['count_old']"
   ]
  },
  {
   "cell_type": "code",
   "execution_count": 47,
   "id": "2d4ebd39-70aa-43ca-b9ab-7b8a8d545b3e",
   "metadata": {
    "scrolled": true
   },
   "outputs": [],
   "source": [
    "# compare[compare[\"ffl_difference\"] >= 1].sort_values(\"ffl_difference\", ascending=False).head(40)"
   ]
  },
  {
   "cell_type": "code",
   "execution_count": 1,
   "id": "25aaea59-69d6-4ce1-94d7-28a29f74e806",
   "metadata": {},
   "outputs": [],
   "source": [
    "# compare[compare[\"state\"] == \"GA\"].sort_values(\"ffl_difference\", ascending=False).head(30)"
   ]
  },
  {
   "cell_type": "markdown",
   "id": "541d9dab-124d-4c31-b20a-9ab00bbc613a",
   "metadata": {},
   "source": [
    "## Calculate unit change in dealers"
   ]
  },
  {
   "cell_type": "markdown",
   "id": "833f4c4c-4f96-4218-890c-bcf3b069ea6e",
   "metadata": {},
   "source": [
    "### National change in dealers"
   ]
  },
  {
   "cell_type": "code",
   "execution_count": 261,
   "id": "0270d0cf-697b-4c59-8ad3-446ff8bc610a",
   "metadata": {},
   "outputs": [],
   "source": [
    "us_county_area = county.drop_duplicates(subset=\"fips\")[\"area\"].sum()"
   ]
  },
  {
   "cell_type": "code",
   "execution_count": 262,
   "id": "9f3fd342-a588-435d-bfa1-737296e1e0a7",
   "metadata": {},
   "outputs": [
    {
     "data": {
      "text/plain": [
       "35726.82099452933"
      ]
     },
     "execution_count": 262,
     "metadata": {},
     "output_type": "execute_result"
    }
   ],
   "source": [
    "us_county_area/100"
   ]
  },
  {
   "cell_type": "code",
   "execution_count": 263,
   "id": "dd9f53d8-d780-4bc7-8ec5-69013ba87255",
   "metadata": {},
   "outputs": [
    {
     "data": {
      "text/plain": [
       "0.4534608627632645"
      ]
     },
     "execution_count": 263,
     "metadata": {},
     "output_type": "execute_result"
    }
   ],
   "source": [
    "# Percentage increase in dealers compared to current count of dealers\n",
    "(((us_county_area/100) + 78787) - 78787) / 78787"
   ]
  }
 ],
 "metadata": {
  "kernelspec": {
   "display_name": "gun-dealers-2023-analysis",
   "language": "python",
   "name": "python3"
  },
  "language_info": {
   "codemirror_mode": {
    "name": "ipython",
    "version": 3
   },
   "file_extension": ".py",
   "mimetype": "text/x-python",
   "name": "python",
   "nbconvert_exporter": "python",
   "pygments_lexer": "ipython3",
   "version": "3.11.2"
  }
 },
 "nbformat": 4,
 "nbformat_minor": 5
}
