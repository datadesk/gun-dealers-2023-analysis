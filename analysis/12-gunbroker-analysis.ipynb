{
 "cells": [
  {
   "cell_type": "code",
   "execution_count": 562,
   "id": "1616c360-b2dc-4bc7-9c7a-53d85c42706f",
   "metadata": {
    "tags": []
   },
   "outputs": [],
   "source": [
    "import json\n",
    "import pandas as pd\n",
    "import geopandas as gpd\n",
    "import os\n",
    "import statsmodels.api as sma\n",
    "import altair as alt"
   ]
  },
  {
   "cell_type": "code",
   "execution_count": 710,
   "id": "ca79a28a-98dd-4ebb-a4a1-42f70f25670b",
   "metadata": {
    "tags": []
   },
   "outputs": [],
   "source": [
    "# assign directory\n",
    "directory = 'data/raw/gunbroker/'"
   ]
  },
  {
   "cell_type": "code",
   "execution_count": 711,
   "id": "429ed5c8-fd5c-4d0d-9cf6-e490ee0c423a",
   "metadata": {
    "tags": []
   },
   "outputs": [],
   "source": [
    "data_list = []"
   ]
  },
  {
   "cell_type": "code",
   "execution_count": 712,
   "id": "bc1db5cf-c951-4fc2-a399-e7a5b771faa3",
   "metadata": {
    "tags": []
   },
   "outputs": [],
   "source": [
    "# iterate over files in directory\n",
    "for filename in os.listdir(directory):\n",
    "    f = os.path.join(directory, filename)\n",
    "    # checking if it is a file\n",
    "    if os.path.isfile(f):\n",
    "        file = open(f)\n",
    "        data = json.load(file)\n",
    "        data_list = data_list + data.get('results')"
   ]
  },
  {
   "cell_type": "code",
   "execution_count": 713,
   "id": "f40e6f7e-8c63-4b30-a422-1d4a0d755e50",
   "metadata": {
    "tags": []
   },
   "outputs": [
    {
     "data": {
      "text/plain": [
       "37514"
      ]
     },
     "execution_count": 713,
     "metadata": {},
     "output_type": "execute_result"
    }
   ],
   "source": [
    "len(data_list)"
   ]
  },
  {
   "cell_type": "code",
   "execution_count": 714,
   "id": "72b154fe-3190-4ae5-9700-5edd97b2d906",
   "metadata": {
    "tags": []
   },
   "outputs": [],
   "source": [
    "df = pd.DataFrame.from_records(data_list)"
   ]
  },
  {
   "cell_type": "code",
   "execution_count": 715,
   "id": "46c42006-8f00-4c04-89b6-a677cdff8971",
   "metadata": {
    "tags": []
   },
   "outputs": [
    {
     "data": {
      "text/plain": [
       "Index(['fflID', 'name', 'company', 'address1', 'address2', 'city', 'state',\n",
       "       'zip', 'phone', 'fax', 'cellPhone', 'otherPhone', 'hours', 'longGunFee',\n",
       "       'longGunDescription', 'handGunFee', 'handGunDescription', 'nicsFee',\n",
       "       'nicsDescription', 'otherFee', 'otherDescription', 'promotionalText',\n",
       "       'website', 'latitude', 'longitude', 'licenseNumber', 'distance',\n",
       "       'licenseOnFile', 'links'],\n",
       "      dtype='object')"
      ]
     },
     "execution_count": 715,
     "metadata": {},
     "output_type": "execute_result"
    }
   ],
   "source": [
    "df.columns"
   ]
  },
  {
   "cell_type": "code",
   "execution_count": 716,
   "id": "38ee022e-b330-4405-9fd6-6a6f32e5847b",
   "metadata": {
    "tags": []
   },
   "outputs": [],
   "source": [
    "df.drop(['links','distance'], axis=1, inplace=True)"
   ]
  },
  {
   "cell_type": "code",
   "execution_count": 717,
   "id": "baef894b-cd86-4713-bb72-8331d42968be",
   "metadata": {
    "tags": []
   },
   "outputs": [],
   "source": [
    "df.drop_duplicates(inplace=True)"
   ]
  },
  {
   "cell_type": "code",
   "execution_count": 718,
   "id": "c2ab3cf4-2657-42eb-ab89-156706b5d427",
   "metadata": {},
   "outputs": [
    {
     "data": {
      "text/html": [
       "<div>\n",
       "<style scoped>\n",
       "    .dataframe tbody tr th:only-of-type {\n",
       "        vertical-align: middle;\n",
       "    }\n",
       "\n",
       "    .dataframe tbody tr th {\n",
       "        vertical-align: top;\n",
       "    }\n",
       "\n",
       "    .dataframe thead th {\n",
       "        text-align: right;\n",
       "    }\n",
       "</style>\n",
       "<table border=\"1\" class=\"dataframe\">\n",
       "  <thead>\n",
       "    <tr style=\"text-align: right;\">\n",
       "      <th></th>\n",
       "      <th>fflID</th>\n",
       "      <th>name</th>\n",
       "      <th>company</th>\n",
       "      <th>address1</th>\n",
       "      <th>address2</th>\n",
       "      <th>city</th>\n",
       "      <th>state</th>\n",
       "      <th>zip</th>\n",
       "      <th>phone</th>\n",
       "      <th>fax</th>\n",
       "      <th>...</th>\n",
       "      <th>nicsFee</th>\n",
       "      <th>nicsDescription</th>\n",
       "      <th>otherFee</th>\n",
       "      <th>otherDescription</th>\n",
       "      <th>promotionalText</th>\n",
       "      <th>website</th>\n",
       "      <th>latitude</th>\n",
       "      <th>longitude</th>\n",
       "      <th>licenseNumber</th>\n",
       "      <th>licenseOnFile</th>\n",
       "    </tr>\n",
       "  </thead>\n",
       "  <tbody>\n",
       "    <tr>\n",
       "      <th>0</th>\n",
       "      <td>57794</td>\n",
       "      <td>Craig Sirna</td>\n",
       "      <td>Tactical Assault Specialist</td>\n",
       "      <td>19009 RAVENNA RD</td>\n",
       "      <td></td>\n",
       "      <td>Chagrin Falls</td>\n",
       "      <td>OH</td>\n",
       "      <td>44023</td>\n",
       "      <td>4408340696</td>\n",
       "      <td></td>\n",
       "      <td>...</td>\n",
       "      <td>0.0</td>\n",
       "      <td></td>\n",
       "      <td>0.0</td>\n",
       "      <td></td>\n",
       "      <td></td>\n",
       "      <td>NaN</td>\n",
       "      <td>41.35040</td>\n",
       "      <td>-81.22385</td>\n",
       "      <td>4-34-XXX-XX-XX-07720</td>\n",
       "      <td>True</td>\n",
       "    </tr>\n",
       "    <tr>\n",
       "      <th>1</th>\n",
       "      <td>39791</td>\n",
       "      <td></td>\n",
       "      <td>A&amp;Z Sales and Service</td>\n",
       "      <td>302 west 7th St</td>\n",
       "      <td></td>\n",
       "      <td>Evart</td>\n",
       "      <td>MI</td>\n",
       "      <td>49631</td>\n",
       "      <td>231-734-5070</td>\n",
       "      <td></td>\n",
       "      <td>...</td>\n",
       "      <td>0.0</td>\n",
       "      <td></td>\n",
       "      <td>0.0</td>\n",
       "      <td></td>\n",
       "      <td></td>\n",
       "      <td>NaN</td>\n",
       "      <td>43.90047</td>\n",
       "      <td>-85.26265</td>\n",
       "      <td>4-38-XXX-XX-XX-08968</td>\n",
       "      <td>True</td>\n",
       "    </tr>\n",
       "    <tr>\n",
       "      <th>2</th>\n",
       "      <td>63430</td>\n",
       "      <td>James E. Arens, Jr.</td>\n",
       "      <td>Arens Ballistics Company, Ltd.</td>\n",
       "      <td>1035 Gartner Dr.</td>\n",
       "      <td></td>\n",
       "      <td>Obetz</td>\n",
       "      <td>OH</td>\n",
       "      <td>43207</td>\n",
       "      <td>614-321-1699</td>\n",
       "      <td></td>\n",
       "      <td>...</td>\n",
       "      <td>5.0</td>\n",
       "      <td></td>\n",
       "      <td>5.0</td>\n",
       "      <td></td>\n",
       "      <td></td>\n",
       "      <td>NaN</td>\n",
       "      <td>39.87400</td>\n",
       "      <td>-82.97070</td>\n",
       "      <td>4-31-XXX-XX-XX-08547</td>\n",
       "      <td>True</td>\n",
       "    </tr>\n",
       "    <tr>\n",
       "      <th>3</th>\n",
       "      <td>39281</td>\n",
       "      <td>Dean Williams</td>\n",
       "      <td>Williams, Dean Dennis</td>\n",
       "      <td>2564 N. Aragon Ave</td>\n",
       "      <td></td>\n",
       "      <td>Kettering</td>\n",
       "      <td>OH</td>\n",
       "      <td>45420</td>\n",
       "      <td>937-902-3731</td>\n",
       "      <td></td>\n",
       "      <td>...</td>\n",
       "      <td>20.0</td>\n",
       "      <td></td>\n",
       "      <td>0.0</td>\n",
       "      <td></td>\n",
       "      <td></td>\n",
       "      <td>NaN</td>\n",
       "      <td>39.71350</td>\n",
       "      <td>-84.11720</td>\n",
       "      <td>4-31-XXX-XX-XX-04249</td>\n",
       "      <td>True</td>\n",
       "    </tr>\n",
       "    <tr>\n",
       "      <th>4</th>\n",
       "      <td>60812</td>\n",
       "      <td>Zac Hendrix</td>\n",
       "      <td>Vance Outdoors</td>\n",
       "      <td>4250 Alum Creek Drive</td>\n",
       "      <td></td>\n",
       "      <td>Obetz</td>\n",
       "      <td>OH</td>\n",
       "      <td>43207</td>\n",
       "      <td>6144895025</td>\n",
       "      <td></td>\n",
       "      <td>...</td>\n",
       "      <td>0.0</td>\n",
       "      <td></td>\n",
       "      <td>0.0</td>\n",
       "      <td></td>\n",
       "      <td></td>\n",
       "      <td>NaN</td>\n",
       "      <td>39.88289</td>\n",
       "      <td>-82.93063</td>\n",
       "      <td>4-31-XXX-XX-XX-06052</td>\n",
       "      <td>True</td>\n",
       "    </tr>\n",
       "  </tbody>\n",
       "</table>\n",
       "<p>5 rows × 27 columns</p>\n",
       "</div>"
      ],
      "text/plain": [
       "   fflID                 name                         company  \\\n",
       "0  57794          Craig Sirna     Tactical Assault Specialist   \n",
       "1  39791                                A&Z Sales and Service   \n",
       "2  63430  James E. Arens, Jr.  Arens Ballistics Company, Ltd.   \n",
       "3  39281        Dean Williams           Williams, Dean Dennis   \n",
       "4  60812          Zac Hendrix                  Vance Outdoors   \n",
       "\n",
       "                address1 address2           city state    zip         phone  \\\n",
       "0       19009 RAVENNA RD           Chagrin Falls    OH  44023    4408340696   \n",
       "1       302 west 7th St                    Evart    MI  49631  231-734-5070   \n",
       "2       1035 Gartner Dr.                   Obetz    OH  43207  614-321-1699   \n",
       "3     2564 N. Aragon Ave              Kettering     OH  45420  937-902-3731   \n",
       "4  4250 Alum Creek Drive                   Obetz    OH  43207    6144895025   \n",
       "\n",
       "  fax  ... nicsFee nicsDescription otherFee  otherDescription promotionalText  \\\n",
       "0      ...     0.0                      0.0                                     \n",
       "1      ...     0.0                      0.0                                     \n",
       "2      ...     5.0                      5.0                                     \n",
       "3      ...    20.0                      0.0                                     \n",
       "4      ...     0.0                      0.0                                     \n",
       "\n",
       "   website  latitude  longitude         licenseNumber  licenseOnFile  \n",
       "0      NaN  41.35040  -81.22385  4-34-XXX-XX-XX-07720           True  \n",
       "1      NaN  43.90047  -85.26265  4-38-XXX-XX-XX-08968           True  \n",
       "2      NaN  39.87400  -82.97070  4-31-XXX-XX-XX-08547           True  \n",
       "3      NaN  39.71350  -84.11720  4-31-XXX-XX-XX-04249           True  \n",
       "4      NaN  39.88289  -82.93063  4-31-XXX-XX-XX-06052           True  \n",
       "\n",
       "[5 rows x 27 columns]"
      ]
     },
     "execution_count": 718,
     "metadata": {},
     "output_type": "execute_result"
    }
   ],
   "source": [
    "df.head()"
   ]
  },
  {
   "cell_type": "code",
   "execution_count": 719,
   "id": "6b5dbdf9-349b-405c-9238-970a79249012",
   "metadata": {},
   "outputs": [
    {
     "data": {
      "text/plain": [
       "29399"
      ]
     },
     "execution_count": 719,
     "metadata": {},
     "output_type": "execute_result"
    }
   ],
   "source": [
    "len(df)"
   ]
  },
  {
   "cell_type": "code",
   "execution_count": 720,
   "id": "d8b3fc54-0922-4aa9-8c0d-7f35b444528f",
   "metadata": {
    "tags": []
   },
   "outputs": [],
   "source": [
    "df.to_csv(\"data/processed/gunbroker.csv\", index=False)"
   ]
  },
  {
   "cell_type": "markdown",
   "id": "5a5bcdd3-666e-4c4d-8a4b-12cdf6c0a295",
   "metadata": {
    "tags": []
   },
   "source": [
    "### Assign a county"
   ]
  },
  {
   "cell_type": "code",
   "execution_count": 734,
   "id": "0061ad1f-5ea4-408e-919a-62f186a8e62a",
   "metadata": {
    "tags": []
   },
   "outputs": [],
   "source": [
    "counties = gpd.read_file(\"data/processed/counties.geojson\")"
   ]
  },
  {
   "cell_type": "code",
   "execution_count": 735,
   "id": "166aa549-7d29-4f2e-8a50-38ae05d64842",
   "metadata": {
    "tags": []
   },
   "outputs": [
    {
     "data": {
      "text/html": [
       "<div>\n",
       "<style scoped>\n",
       "    .dataframe tbody tr th:only-of-type {\n",
       "        vertical-align: middle;\n",
       "    }\n",
       "\n",
       "    .dataframe tbody tr th {\n",
       "        vertical-align: top;\n",
       "    }\n",
       "\n",
       "    .dataframe thead th {\n",
       "        text-align: right;\n",
       "    }\n",
       "</style>\n",
       "<table border=\"1\" class=\"dataframe\">\n",
       "  <thead>\n",
       "    <tr style=\"text-align: right;\">\n",
       "      <th></th>\n",
       "      <th>statefp</th>\n",
       "      <th>countyfp</th>\n",
       "      <th>county</th>\n",
       "      <th>county_area</th>\n",
       "      <th>state</th>\n",
       "      <th>geoid</th>\n",
       "      <th>geometry</th>\n",
       "    </tr>\n",
       "  </thead>\n",
       "  <tbody>\n",
       "    <tr>\n",
       "      <th>0</th>\n",
       "      <td>02</td>\n",
       "      <td>013</td>\n",
       "      <td>Aleutians East</td>\n",
       "      <td>15009.939752</td>\n",
       "      <td>Alaska</td>\n",
       "      <td>02013</td>\n",
       "      <td>MULTIPOLYGON (((-3801432.512 3133472.767, -380...</td>\n",
       "    </tr>\n",
       "    <tr>\n",
       "      <th>1</th>\n",
       "      <td>02</td>\n",
       "      <td>016</td>\n",
       "      <td>Aleutians West</td>\n",
       "      <td>14116.419570</td>\n",
       "      <td>Alaska</td>\n",
       "      <td>02016</td>\n",
       "      <td>MULTIPOLYGON (((-4900590.329 3834004.986, -490...</td>\n",
       "    </tr>\n",
       "    <tr>\n",
       "      <th>2</th>\n",
       "      <td>28</td>\n",
       "      <td>107</td>\n",
       "      <td>Panola</td>\n",
       "      <td>705.131639</td>\n",
       "      <td>Mississippi</td>\n",
       "      <td>28107</td>\n",
       "      <td>MULTIPOLYGON (((513070.490 -662207.945, 513069...</td>\n",
       "    </tr>\n",
       "    <tr>\n",
       "      <th>3</th>\n",
       "      <td>28</td>\n",
       "      <td>101</td>\n",
       "      <td>Newton</td>\n",
       "      <td>579.601941</td>\n",
       "      <td>Mississippi</td>\n",
       "      <td>28101</td>\n",
       "      <td>MULTIPOLYGON (((614290.086 -847983.437, 614317...</td>\n",
       "    </tr>\n",
       "    <tr>\n",
       "      <th>4</th>\n",
       "      <td>28</td>\n",
       "      <td>027</td>\n",
       "      <td>Coahoma</td>\n",
       "      <td>583.152412</td>\n",
       "      <td>Mississippi</td>\n",
       "      <td>28027</td>\n",
       "      <td>MULTIPOLYGON (((474830.268 -692448.051, 474470...</td>\n",
       "    </tr>\n",
       "    <tr>\n",
       "      <th>...</th>\n",
       "      <td>...</td>\n",
       "      <td>...</td>\n",
       "      <td>...</td>\n",
       "      <td>...</td>\n",
       "      <td>...</td>\n",
       "      <td>...</td>\n",
       "      <td>...</td>\n",
       "    </tr>\n",
       "    <tr>\n",
       "      <th>3216</th>\n",
       "      <td>37</td>\n",
       "      <td>077</td>\n",
       "      <td>Granville</td>\n",
       "      <td>536.498459</td>\n",
       "      <td>North Carolina</td>\n",
       "      <td>37077</td>\n",
       "      <td>MULTIPOLYGON (((1455833.489 -317345.762, 14557...</td>\n",
       "    </tr>\n",
       "    <tr>\n",
       "      <th>3217</th>\n",
       "      <td>37</td>\n",
       "      <td>111</td>\n",
       "      <td>McDowell</td>\n",
       "      <td>445.994701</td>\n",
       "      <td>North Carolina</td>\n",
       "      <td>37111</td>\n",
       "      <td>MULTIPOLYGON (((1207528.929 -416252.481, 12075...</td>\n",
       "    </tr>\n",
       "    <tr>\n",
       "      <th>3218</th>\n",
       "      <td>27</td>\n",
       "      <td>021</td>\n",
       "      <td>Cass</td>\n",
       "      <td>2413.993603</td>\n",
       "      <td>Minnesota</td>\n",
       "      <td>27021</td>\n",
       "      <td>MULTIPOLYGON (((96243.198 814680.164, 96242.80...</td>\n",
       "    </tr>\n",
       "    <tr>\n",
       "      <th>3219</th>\n",
       "      <td>27</td>\n",
       "      <td>057</td>\n",
       "      <td>Hubbard</td>\n",
       "      <td>999.559340</td>\n",
       "      <td>Minnesota</td>\n",
       "      <td>27057</td>\n",
       "      <td>MULTIPOLYGON (((59375.994 845151.916, 59373.36...</td>\n",
       "    </tr>\n",
       "    <tr>\n",
       "      <th>3220</th>\n",
       "      <td>27</td>\n",
       "      <td>169</td>\n",
       "      <td>Winona</td>\n",
       "      <td>641.582187</td>\n",
       "      <td>Minnesota</td>\n",
       "      <td>27169</td>\n",
       "      <td>MULTIPOLYGON (((295755.293 473344.688, 295745....</td>\n",
       "    </tr>\n",
       "  </tbody>\n",
       "</table>\n",
       "<p>3221 rows × 7 columns</p>\n",
       "</div>"
      ],
      "text/plain": [
       "     statefp countyfp          county   county_area           state  geoid  \\\n",
       "0         02      013  Aleutians East  15009.939752          Alaska  02013   \n",
       "1         02      016  Aleutians West  14116.419570          Alaska  02016   \n",
       "2         28      107          Panola    705.131639     Mississippi  28107   \n",
       "3         28      101          Newton    579.601941     Mississippi  28101   \n",
       "4         28      027         Coahoma    583.152412     Mississippi  28027   \n",
       "...      ...      ...             ...           ...             ...    ...   \n",
       "3216      37      077       Granville    536.498459  North Carolina  37077   \n",
       "3217      37      111        McDowell    445.994701  North Carolina  37111   \n",
       "3218      27      021            Cass   2413.993603       Minnesota  27021   \n",
       "3219      27      057         Hubbard    999.559340       Minnesota  27057   \n",
       "3220      27      169          Winona    641.582187       Minnesota  27169   \n",
       "\n",
       "                                               geometry  \n",
       "0     MULTIPOLYGON (((-3801432.512 3133472.767, -380...  \n",
       "1     MULTIPOLYGON (((-4900590.329 3834004.986, -490...  \n",
       "2     MULTIPOLYGON (((513070.490 -662207.945, 513069...  \n",
       "3     MULTIPOLYGON (((614290.086 -847983.437, 614317...  \n",
       "4     MULTIPOLYGON (((474830.268 -692448.051, 474470...  \n",
       "...                                                 ...  \n",
       "3216  MULTIPOLYGON (((1455833.489 -317345.762, 14557...  \n",
       "3217  MULTIPOLYGON (((1207528.929 -416252.481, 12075...  \n",
       "3218  MULTIPOLYGON (((96243.198 814680.164, 96242.80...  \n",
       "3219  MULTIPOLYGON (((59375.994 845151.916, 59373.36...  \n",
       "3220  MULTIPOLYGON (((295755.293 473344.688, 295745....  \n",
       "\n",
       "[3221 rows x 7 columns]"
      ]
     },
     "execution_count": 735,
     "metadata": {},
     "output_type": "execute_result"
    }
   ],
   "source": [
    "counties"
   ]
  },
  {
   "cell_type": "code",
   "execution_count": 736,
   "id": "89ef4d5e-3223-4709-849a-8532c720f1ed",
   "metadata": {
    "tags": []
   },
   "outputs": [],
   "source": [
    "# Set to NAD 1983 Albers North America - https://epsg.io/102008\n",
    "counties = counties.to_crs(\"EPSG:4269\")"
   ]
  },
  {
   "cell_type": "code",
   "execution_count": 737,
   "id": "c7920d9a-9e67-409e-8f36-8b494b27a32c",
   "metadata": {
    "tags": []
   },
   "outputs": [],
   "source": [
    "# Create geodataframe\n",
    "gdf = gpd.GeoDataFrame(df, geometry=gpd.points_from_xy(ffl_merge_trim.longitude, ffl_merge_trim.latitude))"
   ]
  },
  {
   "cell_type": "code",
   "execution_count": 738,
   "id": "4620bc8d-a2f4-4aed-9ef2-9ceb5650a4d4",
   "metadata": {
    "tags": []
   },
   "outputs": [],
   "source": [
    "# Set to NAD 1983 Albers North America - https://epsg.io/102008\n",
    "gdf = gdf.set_crs(\"EPSG:4269\")"
   ]
  },
  {
   "cell_type": "code",
   "execution_count": 739,
   "id": "af68bab2-79cb-4301-a2bc-dfb9a895c2f8",
   "metadata": {
    "tags": []
   },
   "outputs": [],
   "source": [
    "# Merge with county\n",
    "gdf_county = gdf.sjoin(counties, how=\"left\", predicate='intersects')\n",
    "gdf_county.drop('index_right', axis=1, inplace=True)"
   ]
  },
  {
   "cell_type": "code",
   "execution_count": 740,
   "id": "60dd1b76-355d-4497-8e4a-ade79d2a54e2",
   "metadata": {
    "tags": []
   },
   "outputs": [
    {
     "data": {
      "text/html": [
       "<div>\n",
       "<style scoped>\n",
       "    .dataframe tbody tr th:only-of-type {\n",
       "        vertical-align: middle;\n",
       "    }\n",
       "\n",
       "    .dataframe tbody tr th {\n",
       "        vertical-align: top;\n",
       "    }\n",
       "\n",
       "    .dataframe thead th {\n",
       "        text-align: right;\n",
       "    }\n",
       "</style>\n",
       "<table border=\"1\" class=\"dataframe\">\n",
       "  <thead>\n",
       "    <tr style=\"text-align: right;\">\n",
       "      <th></th>\n",
       "      <th>lic_regn</th>\n",
       "      <th>lic_dist</th>\n",
       "      <th>lic_cnty</th>\n",
       "      <th>lic_type</th>\n",
       "      <th>lic_xprdte</th>\n",
       "      <th>lic_seqn</th>\n",
       "      <th>license_name</th>\n",
       "      <th>business_name</th>\n",
       "      <th>premise_street</th>\n",
       "      <th>premise_city</th>\n",
       "      <th>...</th>\n",
       "      <th>promotionalText</th>\n",
       "      <th>website</th>\n",
       "      <th>licenseOnFile</th>\n",
       "      <th>geometry</th>\n",
       "      <th>statefp_right</th>\n",
       "      <th>countyfp_right</th>\n",
       "      <th>county_right</th>\n",
       "      <th>county_area_right</th>\n",
       "      <th>state</th>\n",
       "      <th>geoid</th>\n",
       "    </tr>\n",
       "  </thead>\n",
       "  <tbody>\n",
       "    <tr>\n",
       "      <th>3</th>\n",
       "      <td>6</td>\n",
       "      <td>004</td>\n",
       "      <td>13.0</td>\n",
       "      <td>7.0</td>\n",
       "      <td>4D</td>\n",
       "      <td>12422</td>\n",
       "      <td>GUN VALLEY ARMS LLC</td>\n",
       "      <td>NaN</td>\n",
       "      <td>81 RAMAH CIRCLE SOUTH SUITE 5</td>\n",
       "      <td>AGAWAM</td>\n",
       "      <td>...</td>\n",
       "      <td></td>\n",
       "      <td>NaN</td>\n",
       "      <td>True</td>\n",
       "      <td>POINT (-72.63132 42.08435)</td>\n",
       "      <td>25</td>\n",
       "      <td>013</td>\n",
       "      <td>Hampden</td>\n",
       "      <td>634.251128</td>\n",
       "      <td>Massachusetts</td>\n",
       "      <td>25013</td>\n",
       "    </tr>\n",
       "    <tr>\n",
       "      <th>12</th>\n",
       "      <td>6</td>\n",
       "      <td>004</td>\n",
       "      <td>27.0</td>\n",
       "      <td>1.0</td>\n",
       "      <td>4F</td>\n",
       "      <td>14926</td>\n",
       "      <td>JJT ENTERPRISES, LLC</td>\n",
       "      <td>DOWN RANGE SPORTS</td>\n",
       "      <td>590 SUMMER STREET</td>\n",
       "      <td>BARRE</td>\n",
       "      <td>...</td>\n",
       "      <td></td>\n",
       "      <td>NaN</td>\n",
       "      <td>True</td>\n",
       "      <td>POINT (-72.09790 42.40992)</td>\n",
       "      <td>25</td>\n",
       "      <td>027</td>\n",
       "      <td>Worcester</td>\n",
       "      <td>1579.193920</td>\n",
       "      <td>Massachusetts</td>\n",
       "      <td>25027</td>\n",
       "    </tr>\n",
       "    <tr>\n",
       "      <th>14</th>\n",
       "      <td>6</td>\n",
       "      <td>004</td>\n",
       "      <td>15.0</td>\n",
       "      <td>1.0</td>\n",
       "      <td>3E</td>\n",
       "      <td>36592</td>\n",
       "      <td>EVERETT, DOUGLAS FORDE</td>\n",
       "      <td>SWIFT RIVER GUNWORKS</td>\n",
       "      <td>450 STATE ST</td>\n",
       "      <td>BELCHERTOWN</td>\n",
       "      <td>...</td>\n",
       "      <td></td>\n",
       "      <td>NaN</td>\n",
       "      <td>False</td>\n",
       "      <td>POINT (-72.43958 42.26582)</td>\n",
       "      <td>25</td>\n",
       "      <td>015</td>\n",
       "      <td>Hampshire</td>\n",
       "      <td>545.209270</td>\n",
       "      <td>Massachusetts</td>\n",
       "      <td>25015</td>\n",
       "    </tr>\n",
       "    <tr>\n",
       "      <th>21</th>\n",
       "      <td>6</td>\n",
       "      <td>004</td>\n",
       "      <td>15.0</td>\n",
       "      <td>7.0</td>\n",
       "      <td>3D</td>\n",
       "      <td>14383</td>\n",
       "      <td>KC SMALL ARMS LLC</td>\n",
       "      <td>NaN</td>\n",
       "      <td>412 MAIN STREET</td>\n",
       "      <td>EASTHAMPTON</td>\n",
       "      <td>...</td>\n",
       "      <td></td>\n",
       "      <td>NaN</td>\n",
       "      <td>True</td>\n",
       "      <td>POINT (-72.69247 42.25332)</td>\n",
       "      <td>25</td>\n",
       "      <td>015</td>\n",
       "      <td>Hampshire</td>\n",
       "      <td>545.209270</td>\n",
       "      <td>Massachusetts</td>\n",
       "      <td>25015</td>\n",
       "    </tr>\n",
       "    <tr>\n",
       "      <th>24</th>\n",
       "      <td>6</td>\n",
       "      <td>004</td>\n",
       "      <td>13.0</td>\n",
       "      <td>1.0</td>\n",
       "      <td>3G</td>\n",
       "      <td>12049</td>\n",
       "      <td>YACOVONE, STEPHEN ALAN</td>\n",
       "      <td>INSIGHT SALES</td>\n",
       "      <td>143E SHAKER RD SUITE 200E</td>\n",
       "      <td>EAST LONGMEADOW</td>\n",
       "      <td>...</td>\n",
       "      <td></td>\n",
       "      <td>NaN</td>\n",
       "      <td>True</td>\n",
       "      <td>POINT (-72.51679 42.05884)</td>\n",
       "      <td>25</td>\n",
       "      <td>013</td>\n",
       "      <td>Hampden</td>\n",
       "      <td>634.251128</td>\n",
       "      <td>Massachusetts</td>\n",
       "      <td>25013</td>\n",
       "    </tr>\n",
       "  </tbody>\n",
       "</table>\n",
       "<p>5 rows × 62 columns</p>\n",
       "</div>"
      ],
      "text/plain": [
       "   lic_regn lic_dist  lic_cnty  lic_type lic_xprdte lic_seqn  \\\n",
       "3         6      004      13.0       7.0         4D    12422   \n",
       "12        6      004      27.0       1.0         4F    14926   \n",
       "14        6      004      15.0       1.0         3E    36592   \n",
       "21        6      004      15.0       7.0         3D    14383   \n",
       "24        6      004      13.0       1.0         3G    12049   \n",
       "\n",
       "              license_name         business_name  \\\n",
       "3      GUN VALLEY ARMS LLC                   NaN   \n",
       "12    JJT ENTERPRISES, LLC     DOWN RANGE SPORTS   \n",
       "14  EVERETT, DOUGLAS FORDE  SWIFT RIVER GUNWORKS   \n",
       "21       KC SMALL ARMS LLC                   NaN   \n",
       "24  YACOVONE, STEPHEN ALAN         INSIGHT SALES   \n",
       "\n",
       "                   premise_street     premise_city  ... promotionalText  \\\n",
       "3   81 RAMAH CIRCLE SOUTH SUITE 5           AGAWAM  ...                   \n",
       "12              590 SUMMER STREET            BARRE  ...                   \n",
       "14                   450 STATE ST      BELCHERTOWN  ...                   \n",
       "21                412 MAIN STREET      EASTHAMPTON  ...                   \n",
       "24      143E SHAKER RD SUITE 200E  EAST LONGMEADOW  ...                   \n",
       "\n",
       "    website licenseOnFile                    geometry statefp_right  \\\n",
       "3       NaN          True  POINT (-72.63132 42.08435)            25   \n",
       "12      NaN          True  POINT (-72.09790 42.40992)            25   \n",
       "14      NaN         False  POINT (-72.43958 42.26582)            25   \n",
       "21      NaN          True  POINT (-72.69247 42.25332)            25   \n",
       "24      NaN          True  POINT (-72.51679 42.05884)            25   \n",
       "\n",
       "    countyfp_right  county_right county_area_right          state  geoid  \n",
       "3              013       Hampden        634.251128  Massachusetts  25013  \n",
       "12             027     Worcester       1579.193920  Massachusetts  25027  \n",
       "14             015     Hampshire        545.209270  Massachusetts  25015  \n",
       "21             015     Hampshire        545.209270  Massachusetts  25015  \n",
       "24             013       Hampden        634.251128  Massachusetts  25013  \n",
       "\n",
       "[5 rows x 62 columns]"
      ]
     },
     "execution_count": 740,
     "metadata": {},
     "output_type": "execute_result"
    }
   ],
   "source": [
    "gdf_county.head()"
   ]
  },
  {
   "cell_type": "code",
   "execution_count": 741,
   "id": "aeb64152-a99b-4152-b8ed-349625826609",
   "metadata": {
    "tags": []
   },
   "outputs": [],
   "source": [
    "gdf_county = gdf_county.sort_values([\"company\",\"state\"])"
   ]
  },
  {
   "cell_type": "code",
   "execution_count": 742,
   "id": "f5e7cd84-1bf7-4e23-9cd2-64c3b96cbac1",
   "metadata": {
    "tags": []
   },
   "outputs": [],
   "source": [
    "gdf_county.to_file(\"data/processed/gunbroker_locations.geojson\", driver='GeoJSON')"
   ]
  },
  {
   "cell_type": "markdown",
   "id": "d59bb51c-f6d9-4915-bb75-b145d7ff9e7a",
   "metadata": {
    "tags": []
   },
   "source": [
    "### Group by county"
   ]
  },
  {
   "cell_type": "code",
   "execution_count": 743,
   "id": "623d3ded-414e-4595-842f-b64f8015f125",
   "metadata": {
    "tags": []
   },
   "outputs": [],
   "source": [
    "gdf_county_merge = gdf_county.groupby([\"geoid\"]).size().reset_index(name=\"dealers\")"
   ]
  },
  {
   "cell_type": "code",
   "execution_count": 744,
   "id": "137fcefe-0521-4cce-bcc0-7351286b9771",
   "metadata": {
    "tags": []
   },
   "outputs": [
    {
     "data": {
      "text/html": [
       "<div>\n",
       "<style scoped>\n",
       "    .dataframe tbody tr th:only-of-type {\n",
       "        vertical-align: middle;\n",
       "    }\n",
       "\n",
       "    .dataframe tbody tr th {\n",
       "        vertical-align: top;\n",
       "    }\n",
       "\n",
       "    .dataframe thead th {\n",
       "        text-align: right;\n",
       "    }\n",
       "</style>\n",
       "<table border=\"1\" class=\"dataframe\">\n",
       "  <thead>\n",
       "    <tr style=\"text-align: right;\">\n",
       "      <th></th>\n",
       "      <th>geoid</th>\n",
       "      <th>dealers</th>\n",
       "    </tr>\n",
       "  </thead>\n",
       "  <tbody>\n",
       "    <tr>\n",
       "      <th>0</th>\n",
       "      <td>01001</td>\n",
       "      <td>12</td>\n",
       "    </tr>\n",
       "    <tr>\n",
       "      <th>1</th>\n",
       "      <td>01003</td>\n",
       "      <td>35</td>\n",
       "    </tr>\n",
       "    <tr>\n",
       "      <th>2</th>\n",
       "      <td>01005</td>\n",
       "      <td>5</td>\n",
       "    </tr>\n",
       "    <tr>\n",
       "      <th>3</th>\n",
       "      <td>01007</td>\n",
       "      <td>1</td>\n",
       "    </tr>\n",
       "    <tr>\n",
       "      <th>4</th>\n",
       "      <td>01009</td>\n",
       "      <td>11</td>\n",
       "    </tr>\n",
       "  </tbody>\n",
       "</table>\n",
       "</div>"
      ],
      "text/plain": [
       "   geoid  dealers\n",
       "0  01001       12\n",
       "1  01003       35\n",
       "2  01005        5\n",
       "3  01007        1\n",
       "4  01009       11"
      ]
     },
     "execution_count": 744,
     "metadata": {},
     "output_type": "execute_result"
    }
   ],
   "source": [
    "gdf_county_merge.head()"
   ]
  },
  {
   "cell_type": "code",
   "execution_count": 770,
   "id": "90e59d5b-2d46-4407-a2fc-b3ae9cf047dd",
   "metadata": {
    "tags": []
   },
   "outputs": [],
   "source": [
    "counties_merge_full = counties[[\"geoid\",\"state\",\"county\",\"county_area\"]].merge(gdf_county_merge, on=\"geoid\", how=\"left\")"
   ]
  },
  {
   "cell_type": "code",
   "execution_count": 771,
   "id": "669f4c93-01d8-4d21-86fb-63aa44459701",
   "metadata": {
    "tags": []
   },
   "outputs": [
    {
     "data": {
      "text/html": [
       "<div>\n",
       "<style scoped>\n",
       "    .dataframe tbody tr th:only-of-type {\n",
       "        vertical-align: middle;\n",
       "    }\n",
       "\n",
       "    .dataframe tbody tr th {\n",
       "        vertical-align: top;\n",
       "    }\n",
       "\n",
       "    .dataframe thead th {\n",
       "        text-align: right;\n",
       "    }\n",
       "</style>\n",
       "<table border=\"1\" class=\"dataframe\">\n",
       "  <thead>\n",
       "    <tr style=\"text-align: right;\">\n",
       "      <th></th>\n",
       "      <th>geoid</th>\n",
       "      <th>state</th>\n",
       "      <th>county</th>\n",
       "      <th>county_area</th>\n",
       "      <th>dealers</th>\n",
       "    </tr>\n",
       "  </thead>\n",
       "  <tbody>\n",
       "    <tr>\n",
       "      <th>0</th>\n",
       "      <td>02013</td>\n",
       "      <td>Alaska</td>\n",
       "      <td>Aleutians East</td>\n",
       "      <td>15009.939752</td>\n",
       "      <td>NaN</td>\n",
       "    </tr>\n",
       "    <tr>\n",
       "      <th>1</th>\n",
       "      <td>02016</td>\n",
       "      <td>Alaska</td>\n",
       "      <td>Aleutians West</td>\n",
       "      <td>14116.419570</td>\n",
       "      <td>1.0</td>\n",
       "    </tr>\n",
       "    <tr>\n",
       "      <th>2</th>\n",
       "      <td>28107</td>\n",
       "      <td>Mississippi</td>\n",
       "      <td>Panola</td>\n",
       "      <td>705.131639</td>\n",
       "      <td>8.0</td>\n",
       "    </tr>\n",
       "    <tr>\n",
       "      <th>3</th>\n",
       "      <td>28101</td>\n",
       "      <td>Mississippi</td>\n",
       "      <td>Newton</td>\n",
       "      <td>579.601941</td>\n",
       "      <td>6.0</td>\n",
       "    </tr>\n",
       "    <tr>\n",
       "      <th>4</th>\n",
       "      <td>28027</td>\n",
       "      <td>Mississippi</td>\n",
       "      <td>Coahoma</td>\n",
       "      <td>583.152412</td>\n",
       "      <td>3.0</td>\n",
       "    </tr>\n",
       "  </tbody>\n",
       "</table>\n",
       "</div>"
      ],
      "text/plain": [
       "   geoid        state          county   county_area  dealers\n",
       "0  02013       Alaska  Aleutians East  15009.939752      NaN\n",
       "1  02016       Alaska  Aleutians West  14116.419570      1.0\n",
       "2  28107  Mississippi          Panola    705.131639      8.0\n",
       "3  28101  Mississippi          Newton    579.601941      6.0\n",
       "4  28027  Mississippi         Coahoma    583.152412      3.0"
      ]
     },
     "execution_count": 771,
     "metadata": {},
     "output_type": "execute_result"
    }
   ],
   "source": [
    "counties_merge_full.head()"
   ]
  },
  {
   "cell_type": "markdown",
   "id": "51a01853-6c12-41af-a333-8a1d420bba7b",
   "metadata": {
    "tags": []
   },
   "source": [
    "### Create dealer rate"
   ]
  },
  {
   "cell_type": "code",
   "execution_count": 776,
   "id": "e605ff3f-f21e-4a29-be4a-44c7af24168b",
   "metadata": {
    "tags": []
   },
   "outputs": [],
   "source": [
    "final_df[\"dealer_rate\"] = final_df[\"dealers\"] / final_df[\"county_area\"]"
   ]
  },
  {
   "cell_type": "markdown",
   "id": "ecc6cc46-fd11-46b1-b9a1-22f837b14028",
   "metadata": {
    "tags": []
   },
   "source": [
    "### Add neighbor dealer rate"
   ]
  },
  {
   "cell_type": "code",
   "execution_count": 777,
   "id": "d456fa0c-909c-4f66-8688-3be3b721c674",
   "metadata": {
    "tags": []
   },
   "outputs": [],
   "source": [
    "neighbor_file = open(\"neighbor-counties.json\")\n",
    "neighbors = json.load(neighbor_file)"
   ]
  },
  {
   "cell_type": "code",
   "execution_count": 778,
   "id": "5882d253-a162-407d-8def-70d46ef4f5d2",
   "metadata": {
    "tags": []
   },
   "outputs": [],
   "source": [
    "neighbor_dealer_sum = []\n",
    "neighbor_area_sum = []\n",
    "# neighbor_area_population = []\n",
    "\n",
    "for row in final_df.itertuples():\n",
    "    neighbor_filter = final_df[final_df[\"geoid\"].isin(neighbors.get(row.geoid))]\n",
    "    neighbor_dealer_sum.append(neighbor_filter[\"dealers\"].sum())\n",
    "    neighbor_area_sum.append(neighbor_filter[\"county_area\"].sum())\n",
    "    # neighbor_area_population.append(neighbor_filter[\"population\"].sum())\n",
    "\n",
    "final_df[\"neighbor_dealers\"] = neighbor_dealer_sum\n",
    "final_df[\"neighbor_area\"] = neighbor_area_sum\n",
    "# final_df[\"neighbor_population\"] = neighbor_area_population"
   ]
  },
  {
   "cell_type": "code",
   "execution_count": 779,
   "id": "58c46077-71d1-4152-899d-79e7636983b2",
   "metadata": {
    "tags": []
   },
   "outputs": [],
   "source": [
    "final_df[\"neighbor_dealers_rate\"] = (final_df[\"dealers\"] + final_df[\"neighbor_dealers\"]) / (final_df[\"county_area\"] + final_df[\"neighbor_area\"])"
   ]
  },
  {
   "cell_type": "code",
   "execution_count": 780,
   "id": "e8cc469d-8788-4592-9d2e-16f8f1484cfd",
   "metadata": {
    "tags": []
   },
   "outputs": [],
   "source": [
    "final_df['neighbor_dealers_rate_adj'] = final_df.apply(lambda x: x[\"dealer_rate\"] if x[\"county_area\"] >= 50 else x[\"neighbor_dealers_rate\"], axis = 1)"
   ]
  },
  {
   "cell_type": "code",
   "execution_count": 781,
   "id": "beb66835-6e4b-4600-877a-8508cad0ca86",
   "metadata": {
    "tags": []
   },
   "outputs": [
    {
     "data": {
      "text/html": [
       "<div>\n",
       "<style scoped>\n",
       "    .dataframe tbody tr th:only-of-type {\n",
       "        vertical-align: middle;\n",
       "    }\n",
       "\n",
       "    .dataframe tbody tr th {\n",
       "        vertical-align: top;\n",
       "    }\n",
       "\n",
       "    .dataframe thead th {\n",
       "        text-align: right;\n",
       "    }\n",
       "</style>\n",
       "<table border=\"1\" class=\"dataframe\">\n",
       "  <thead>\n",
       "    <tr style=\"text-align: right;\">\n",
       "      <th></th>\n",
       "      <th>geoid</th>\n",
       "      <th>state</th>\n",
       "      <th>county</th>\n",
       "      <th>county_area</th>\n",
       "      <th>dealers</th>\n",
       "      <th>population</th>\n",
       "      <th>poverty_pct</th>\n",
       "      <th>dealer_rate</th>\n",
       "      <th>neighbor_dealers</th>\n",
       "      <th>neighbor_area</th>\n",
       "      <th>neighbor_dealers_rate</th>\n",
       "      <th>neighbor_dealers_rate_adj</th>\n",
       "    </tr>\n",
       "  </thead>\n",
       "  <tbody>\n",
       "    <tr>\n",
       "      <th>1223</th>\n",
       "      <td>48439</td>\n",
       "      <td>Texas</td>\n",
       "      <td>Tarrant</td>\n",
       "      <td>902.304892</td>\n",
       "      <td>273.0</td>\n",
       "      <td>2050487.0</td>\n",
       "      <td>0.113635</td>\n",
       "      <td>0.302558</td>\n",
       "      <td>485.0</td>\n",
       "      <td>5380.480972</td>\n",
       "      <td>0.120647</td>\n",
       "      <td>0.302558</td>\n",
       "    </tr>\n",
       "    <tr>\n",
       "      <th>216</th>\n",
       "      <td>48201</td>\n",
       "      <td>Texas</td>\n",
       "      <td>Harris</td>\n",
       "      <td>1777.482550</td>\n",
       "      <td>397.0</td>\n",
       "      <td>4634207.0</td>\n",
       "      <td>0.156065</td>\n",
       "      <td>0.223350</td>\n",
       "      <td>331.0</td>\n",
       "      <td>7009.966841</td>\n",
       "      <td>0.082845</td>\n",
       "      <td>0.223350</td>\n",
       "    </tr>\n",
       "    <tr>\n",
       "      <th>10</th>\n",
       "      <td>48113</td>\n",
       "      <td>Texas</td>\n",
       "      <td>Dallas</td>\n",
       "      <td>908.613868</td>\n",
       "      <td>177.0</td>\n",
       "      <td>2592698.0</td>\n",
       "      <td>0.145804</td>\n",
       "      <td>0.194802</td>\n",
       "      <td>657.0</td>\n",
       "      <td>4649.510694</td>\n",
       "      <td>0.150051</td>\n",
       "      <td>0.194802</td>\n",
       "    </tr>\n",
       "    <tr>\n",
       "      <th>628</th>\n",
       "      <td>22055</td>\n",
       "      <td>Louisiana</td>\n",
       "      <td>Lafayette</td>\n",
       "      <td>269.208664</td>\n",
       "      <td>48.0</td>\n",
       "      <td>238082.0</td>\n",
       "      <td>0.166850</td>\n",
       "      <td>0.178300</td>\n",
       "      <td>56.0</td>\n",
       "      <td>4985.524363</td>\n",
       "      <td>0.019792</td>\n",
       "      <td>0.178300</td>\n",
       "    </tr>\n",
       "    <tr>\n",
       "      <th>2264</th>\n",
       "      <td>12103</td>\n",
       "      <td>Florida</td>\n",
       "      <td>Pinellas</td>\n",
       "      <td>608.126655</td>\n",
       "      <td>107.0</td>\n",
       "      <td>955568.0</td>\n",
       "      <td>0.115877</td>\n",
       "      <td>0.175950</td>\n",
       "      <td>156.0</td>\n",
       "      <td>2134.181766</td>\n",
       "      <td>0.095905</td>\n",
       "      <td>0.175950</td>\n",
       "    </tr>\n",
       "    <tr>\n",
       "      <th>1257</th>\n",
       "      <td>40143</td>\n",
       "      <td>Oklahoma</td>\n",
       "      <td>Tulsa</td>\n",
       "      <td>587.018072</td>\n",
       "      <td>99.0</td>\n",
       "      <td>640621.0</td>\n",
       "      <td>0.143420</td>\n",
       "      <td>0.168649</td>\n",
       "      <td>101.0</td>\n",
       "      <td>6297.340636</td>\n",
       "      <td>0.029051</td>\n",
       "      <td>0.168649</td>\n",
       "    </tr>\n",
       "    <tr>\n",
       "      <th>2711</th>\n",
       "      <td>48085</td>\n",
       "      <td>Texas</td>\n",
       "      <td>Collin</td>\n",
       "      <td>886.103501</td>\n",
       "      <td>148.0</td>\n",
       "      <td>1000193.0</td>\n",
       "      <td>0.062556</td>\n",
       "      <td>0.167023</td>\n",
       "      <td>395.0</td>\n",
       "      <td>4770.391728</td>\n",
       "      <td>0.095996</td>\n",
       "      <td>0.167023</td>\n",
       "    </tr>\n",
       "    <tr>\n",
       "      <th>128</th>\n",
       "      <td>42045</td>\n",
       "      <td>Pennsylvania</td>\n",
       "      <td>Delaware</td>\n",
       "      <td>190.603645</td>\n",
       "      <td>31.0</td>\n",
       "      <td>544692.0</td>\n",
       "      <td>0.099096</td>\n",
       "      <td>0.162641</td>\n",
       "      <td>129.0</td>\n",
       "      <td>2220.316862</td>\n",
       "      <td>0.066365</td>\n",
       "      <td>0.162641</td>\n",
       "    </tr>\n",
       "    <tr>\n",
       "      <th>828</th>\n",
       "      <td>13067</td>\n",
       "      <td>Georgia</td>\n",
       "      <td>Cobb</td>\n",
       "      <td>344.517747</td>\n",
       "      <td>56.0</td>\n",
       "      <td>744737.0</td>\n",
       "      <td>0.086042</td>\n",
       "      <td>0.162546</td>\n",
       "      <td>136.0</td>\n",
       "      <td>1954.210882</td>\n",
       "      <td>0.083524</td>\n",
       "      <td>0.162546</td>\n",
       "    </tr>\n",
       "    <tr>\n",
       "      <th>1079</th>\n",
       "      <td>49035</td>\n",
       "      <td>Utah</td>\n",
       "      <td>Salt Lake</td>\n",
       "      <td>807.368563</td>\n",
       "      <td>130.0</td>\n",
       "      <td>1130965.0</td>\n",
       "      <td>0.085993</td>\n",
       "      <td>0.161017</td>\n",
       "      <td>182.0</td>\n",
       "      <td>13763.079168</td>\n",
       "      <td>0.021413</td>\n",
       "      <td>0.161017</td>\n",
       "    </tr>\n",
       "  </tbody>\n",
       "</table>\n",
       "</div>"
      ],
      "text/plain": [
       "      geoid         state     county  county_area  dealers  population  \\\n",
       "1223  48439         Texas    Tarrant   902.304892    273.0   2050487.0   \n",
       "216   48201         Texas     Harris  1777.482550    397.0   4634207.0   \n",
       "10    48113         Texas     Dallas   908.613868    177.0   2592698.0   \n",
       "628   22055     Louisiana  Lafayette   269.208664     48.0    238082.0   \n",
       "2264  12103       Florida   Pinellas   608.126655    107.0    955568.0   \n",
       "1257  40143      Oklahoma      Tulsa   587.018072     99.0    640621.0   \n",
       "2711  48085         Texas     Collin   886.103501    148.0   1000193.0   \n",
       "128   42045  Pennsylvania   Delaware   190.603645     31.0    544692.0   \n",
       "828   13067       Georgia       Cobb   344.517747     56.0    744737.0   \n",
       "1079  49035          Utah  Salt Lake   807.368563    130.0   1130965.0   \n",
       "\n",
       "      poverty_pct  dealer_rate  neighbor_dealers  neighbor_area  \\\n",
       "1223     0.113635     0.302558             485.0    5380.480972   \n",
       "216      0.156065     0.223350             331.0    7009.966841   \n",
       "10       0.145804     0.194802             657.0    4649.510694   \n",
       "628      0.166850     0.178300              56.0    4985.524363   \n",
       "2264     0.115877     0.175950             156.0    2134.181766   \n",
       "1257     0.143420     0.168649             101.0    6297.340636   \n",
       "2711     0.062556     0.167023             395.0    4770.391728   \n",
       "128      0.099096     0.162641             129.0    2220.316862   \n",
       "828      0.086042     0.162546             136.0    1954.210882   \n",
       "1079     0.085993     0.161017             182.0   13763.079168   \n",
       "\n",
       "      neighbor_dealers_rate  neighbor_dealers_rate_adj  \n",
       "1223               0.120647                   0.302558  \n",
       "216                0.082845                   0.223350  \n",
       "10                 0.150051                   0.194802  \n",
       "628                0.019792                   0.178300  \n",
       "2264               0.095905                   0.175950  \n",
       "1257               0.029051                   0.168649  \n",
       "2711               0.095996                   0.167023  \n",
       "128                0.066365                   0.162641  \n",
       "828                0.083524                   0.162546  \n",
       "1079               0.021413                   0.161017  "
      ]
     },
     "execution_count": 781,
     "metadata": {},
     "output_type": "execute_result"
    }
   ],
   "source": [
    "final_df.sort_values(\"neighbor_dealers_rate_adj\", ascending=False).head(10)"
   ]
  },
  {
   "cell_type": "markdown",
   "id": "05bbd9e5-ed5f-4b6a-a19b-ce805f7dd0b3",
   "metadata": {},
   "source": [
    "### Compare gunbroker.com list to ATF FFL list"
   ]
  },
  {
   "cell_type": "code",
   "execution_count": 827,
   "id": "7eb72cd6-8905-4c90-aede-84d4648769cc",
   "metadata": {
    "tags": []
   },
   "outputs": [],
   "source": [
    "# Create geodataframe\n",
    "gb_gdf = gpd.GeoDataFrame(df, geometry=gpd.points_from_xy(df.longitude, df.latitude))"
   ]
  },
  {
   "cell_type": "code",
   "execution_count": 828,
   "id": "904d9451-1c27-4b80-b093-27f69a20871a",
   "metadata": {
    "tags": []
   },
   "outputs": [],
   "source": [
    "# Set to NAD 1983 Albers North America - https://epsg.io/102008\n",
    "gb_gdf = gb_gdf.set_crs(\"EPSG:4269\")"
   ]
  },
  {
   "cell_type": "code",
   "execution_count": 829,
   "id": "406f1615-3fd7-4ae2-98e6-757e10877c56",
   "metadata": {
    "tags": []
   },
   "outputs": [],
   "source": [
    "# Merge with county\n",
    "gb_gdf_county = gb_gdf.sjoin(counties, how=\"left\", predicate='intersects')\n",
    "gb_gdf_county.drop('index_right', axis=1, inplace=True)"
   ]
  },
  {
   "cell_type": "code",
   "execution_count": 830,
   "id": "24f1fef8-1d4e-45ad-8067-0d79742acb2a",
   "metadata": {
    "tags": []
   },
   "outputs": [],
   "source": [
    "gb_gdf_county_merge = gb_gdf_county.groupby([\"geoid\"]).size().reset_index(name=\"dealers\")"
   ]
  },
  {
   "cell_type": "code",
   "execution_count": 831,
   "id": "4343a9b0-1190-4981-b5d0-98d918938e3c",
   "metadata": {
    "tags": []
   },
   "outputs": [],
   "source": [
    "gb_counties_merge_full = counties[[\"geoid\",\"state\",\"county\",\"county_area\"]].merge(gb_gdf_county_merge, on=\"geoid\", how=\"left\")"
   ]
  },
  {
   "cell_type": "code",
   "execution_count": 832,
   "id": "6b87b20c-7c11-40da-8806-b69f5ae88e05",
   "metadata": {
    "tags": []
   },
   "outputs": [],
   "source": [
    "gb_counties_merge_full[\"dealer_rate\"] = gb_counties_merge_full[\"dealers\"] / gb_counties_merge_full[\"county_area\"]"
   ]
  },
  {
   "cell_type": "code",
   "execution_count": 833,
   "id": "62e5f00c-b54d-464e-af0b-bd1ea342fa89",
   "metadata": {
    "tags": []
   },
   "outputs": [
    {
     "data": {
      "text/html": [
       "<div>\n",
       "<style scoped>\n",
       "    .dataframe tbody tr th:only-of-type {\n",
       "        vertical-align: middle;\n",
       "    }\n",
       "\n",
       "    .dataframe tbody tr th {\n",
       "        vertical-align: top;\n",
       "    }\n",
       "\n",
       "    .dataframe thead th {\n",
       "        text-align: right;\n",
       "    }\n",
       "</style>\n",
       "<table border=\"1\" class=\"dataframe\">\n",
       "  <thead>\n",
       "    <tr style=\"text-align: right;\">\n",
       "      <th></th>\n",
       "      <th>geoid</th>\n",
       "      <th>state</th>\n",
       "      <th>county</th>\n",
       "      <th>county_area</th>\n",
       "      <th>dealers</th>\n",
       "      <th>dealer_rate</th>\n",
       "    </tr>\n",
       "  </thead>\n",
       "  <tbody>\n",
       "    <tr>\n",
       "      <th>0</th>\n",
       "      <td>02013</td>\n",
       "      <td>Alaska</td>\n",
       "      <td>Aleutians East</td>\n",
       "      <td>15009.939752</td>\n",
       "      <td>NaN</td>\n",
       "      <td>NaN</td>\n",
       "    </tr>\n",
       "    <tr>\n",
       "      <th>1</th>\n",
       "      <td>02016</td>\n",
       "      <td>Alaska</td>\n",
       "      <td>Aleutians West</td>\n",
       "      <td>14116.419570</td>\n",
       "      <td>1.0</td>\n",
       "      <td>0.000071</td>\n",
       "    </tr>\n",
       "    <tr>\n",
       "      <th>2</th>\n",
       "      <td>28107</td>\n",
       "      <td>Mississippi</td>\n",
       "      <td>Panola</td>\n",
       "      <td>705.131639</td>\n",
       "      <td>5.0</td>\n",
       "      <td>0.007091</td>\n",
       "    </tr>\n",
       "    <tr>\n",
       "      <th>3</th>\n",
       "      <td>28101</td>\n",
       "      <td>Mississippi</td>\n",
       "      <td>Newton</td>\n",
       "      <td>579.601941</td>\n",
       "      <td>4.0</td>\n",
       "      <td>0.006901</td>\n",
       "    </tr>\n",
       "    <tr>\n",
       "      <th>4</th>\n",
       "      <td>28027</td>\n",
       "      <td>Mississippi</td>\n",
       "      <td>Coahoma</td>\n",
       "      <td>583.152412</td>\n",
       "      <td>1.0</td>\n",
       "      <td>0.001715</td>\n",
       "    </tr>\n",
       "  </tbody>\n",
       "</table>\n",
       "</div>"
      ],
      "text/plain": [
       "   geoid        state          county   county_area  dealers  dealer_rate\n",
       "0  02013       Alaska  Aleutians East  15009.939752      NaN          NaN\n",
       "1  02016       Alaska  Aleutians West  14116.419570      1.0     0.000071\n",
       "2  28107  Mississippi          Panola    705.131639      5.0     0.007091\n",
       "3  28101  Mississippi          Newton    579.601941      4.0     0.006901\n",
       "4  28027  Mississippi         Coahoma    583.152412      1.0     0.001715"
      ]
     },
     "execution_count": 833,
     "metadata": {},
     "output_type": "execute_result"
    }
   ],
   "source": [
    "gb_counties_merge_full.head()"
   ]
  },
  {
   "cell_type": "code",
   "execution_count": 837,
   "id": "83c3c64c-9e56-4297-ac1e-8ecd90478328",
   "metadata": {
    "tags": []
   },
   "outputs": [],
   "source": [
    "ffl_counties = pd.read_csv(\"data/processed/dealers-list/2023/0123-ffl-list-county-summary.csv\", dtype={\"lic_regn\":str,\"lic_dist\":str,\"lic_seqn\":str,\"geoid\":str})"
   ]
  },
  {
   "cell_type": "code",
   "execution_count": 836,
   "id": "f542c892-ff1d-48ca-93ae-5f0a3b215076",
   "metadata": {
    "tags": []
   },
   "outputs": [
    {
     "data": {
      "text/plain": [
       "Index(['statefp', 'state', 'countyfp', 'geoid', 'county', 'county_area',\n",
       "       'county_population', 'county_white', 'county_black', 'county_asian',\n",
       "       'county_latino', 'county_median_income', 'county_poverty', 'id',\n",
       "       'business', 'pawn', 'sport', 'defense', 'big_box', 'small_business',\n",
       "       'commercial', 'residential', 'all_density_land', 'all_density_pop',\n",
       "       'business__pct', 'pawn__pct', 'sport_pct', 'defense_pct', 'big_box_pct',\n",
       "       'small_business_pct', 'residential_pct', 'commercial_pct',\n",
       "       'neighbor_id', 'neighbor_pawn', 'neighbor_sm_business', 'neighbor_area',\n",
       "       'neighbor_population'],\n",
       "      dtype='object')"
      ]
     },
     "execution_count": 836,
     "metadata": {},
     "output_type": "execute_result"
    }
   ],
   "source": [
    "ffl_counties.columns"
   ]
  },
  {
   "cell_type": "code",
   "execution_count": 838,
   "id": "aa26da38-ed3c-46f5-a8c2-d3a362baecfa",
   "metadata": {
    "tags": []
   },
   "outputs": [],
   "source": [
    "compare = gb_counties_merge_full[[\"geoid\",\"dealer_rate\"]].merge(ffl_counties[[\"geoid\",\"all_density_land\"]], on=\"geoid\", how=\"outer\")"
   ]
  },
  {
   "cell_type": "code",
   "execution_count": 839,
   "id": "f552c261-9029-4a77-9fb6-da1bc7077fba",
   "metadata": {
    "tags": []
   },
   "outputs": [
    {
     "data": {
      "text/html": [
       "<div>\n",
       "<style scoped>\n",
       "    .dataframe tbody tr th:only-of-type {\n",
       "        vertical-align: middle;\n",
       "    }\n",
       "\n",
       "    .dataframe tbody tr th {\n",
       "        vertical-align: top;\n",
       "    }\n",
       "\n",
       "    .dataframe thead th {\n",
       "        text-align: right;\n",
       "    }\n",
       "</style>\n",
       "<table border=\"1\" class=\"dataframe\">\n",
       "  <thead>\n",
       "    <tr style=\"text-align: right;\">\n",
       "      <th></th>\n",
       "      <th>geoid</th>\n",
       "      <th>dealer_rate</th>\n",
       "      <th>all_density_land</th>\n",
       "    </tr>\n",
       "  </thead>\n",
       "  <tbody>\n",
       "    <tr>\n",
       "      <th>0</th>\n",
       "      <td>02013</td>\n",
       "      <td>NaN</td>\n",
       "      <td>0.019987</td>\n",
       "    </tr>\n",
       "    <tr>\n",
       "      <th>1</th>\n",
       "      <td>02016</td>\n",
       "      <td>0.000071</td>\n",
       "      <td>0.028336</td>\n",
       "    </tr>\n",
       "    <tr>\n",
       "      <th>2</th>\n",
       "      <td>28107</td>\n",
       "      <td>0.007091</td>\n",
       "      <td>1.985445</td>\n",
       "    </tr>\n",
       "    <tr>\n",
       "      <th>3</th>\n",
       "      <td>28101</td>\n",
       "      <td>0.006901</td>\n",
       "      <td>1.552790</td>\n",
       "    </tr>\n",
       "    <tr>\n",
       "      <th>4</th>\n",
       "      <td>28027</td>\n",
       "      <td>0.001715</td>\n",
       "      <td>0.514445</td>\n",
       "    </tr>\n",
       "    <tr>\n",
       "      <th>...</th>\n",
       "      <td>...</td>\n",
       "      <td>...</td>\n",
       "      <td>...</td>\n",
       "    </tr>\n",
       "    <tr>\n",
       "      <th>3216</th>\n",
       "      <td>37077</td>\n",
       "      <td>0.016775</td>\n",
       "      <td>4.473452</td>\n",
       "    </tr>\n",
       "    <tr>\n",
       "      <th>3217</th>\n",
       "      <td>37111</td>\n",
       "      <td>0.024664</td>\n",
       "      <td>7.399191</td>\n",
       "    </tr>\n",
       "    <tr>\n",
       "      <th>3218</th>\n",
       "      <td>27021</td>\n",
       "      <td>0.003728</td>\n",
       "      <td>1.077053</td>\n",
       "    </tr>\n",
       "    <tr>\n",
       "      <th>3219</th>\n",
       "      <td>27057</td>\n",
       "      <td>0.004002</td>\n",
       "      <td>1.600705</td>\n",
       "    </tr>\n",
       "    <tr>\n",
       "      <th>3220</th>\n",
       "      <td>27169</td>\n",
       "      <td>0.009352</td>\n",
       "      <td>3.429023</td>\n",
       "    </tr>\n",
       "  </tbody>\n",
       "</table>\n",
       "<p>3221 rows × 3 columns</p>\n",
       "</div>"
      ],
      "text/plain": [
       "      geoid  dealer_rate  all_density_land\n",
       "0     02013          NaN          0.019987\n",
       "1     02016     0.000071          0.028336\n",
       "2     28107     0.007091          1.985445\n",
       "3     28101     0.006901          1.552790\n",
       "4     28027     0.001715          0.514445\n",
       "...     ...          ...               ...\n",
       "3216  37077     0.016775          4.473452\n",
       "3217  37111     0.024664          7.399191\n",
       "3218  27021     0.003728          1.077053\n",
       "3219  27057     0.004002          1.600705\n",
       "3220  27169     0.009352          3.429023\n",
       "\n",
       "[3221 rows x 3 columns]"
      ]
     },
     "execution_count": 839,
     "metadata": {},
     "output_type": "execute_result"
    }
   ],
   "source": [
    "compare"
   ]
  },
  {
   "cell_type": "code",
   "execution_count": 843,
   "id": "eecf54d4-b236-4d25-8e41-99b245c4adae",
   "metadata": {
    "tags": []
   },
   "outputs": [],
   "source": [
    "compare[\"all_density_land\"] = compare[\"all_density_land\"] / 100"
   ]
  },
  {
   "cell_type": "code",
   "execution_count": 844,
   "id": "b5a1ca02-b3a3-4aac-b3f3-6c20b1f9f82e",
   "metadata": {
    "tags": []
   },
   "outputs": [
    {
     "data": {
      "text/html": [
       "<div>\n",
       "<style scoped>\n",
       "    .dataframe tbody tr th:only-of-type {\n",
       "        vertical-align: middle;\n",
       "    }\n",
       "\n",
       "    .dataframe tbody tr th {\n",
       "        vertical-align: top;\n",
       "    }\n",
       "\n",
       "    .dataframe thead th {\n",
       "        text-align: right;\n",
       "    }\n",
       "</style>\n",
       "<table border=\"1\" class=\"dataframe\">\n",
       "  <thead>\n",
       "    <tr style=\"text-align: right;\">\n",
       "      <th></th>\n",
       "      <th>dealer_rate</th>\n",
       "      <th>all_density_land</th>\n",
       "    </tr>\n",
       "  </thead>\n",
       "  <tbody>\n",
       "    <tr>\n",
       "      <th>dealer_rate</th>\n",
       "      <td>1.000000</td>\n",
       "      <td>0.845759</td>\n",
       "    </tr>\n",
       "    <tr>\n",
       "      <th>all_density_land</th>\n",
       "      <td>0.845759</td>\n",
       "      <td>1.000000</td>\n",
       "    </tr>\n",
       "  </tbody>\n",
       "</table>\n",
       "</div>"
      ],
      "text/plain": [
       "                  dealer_rate  all_density_land\n",
       "dealer_rate          1.000000          0.845759\n",
       "all_density_land     0.845759          1.000000"
      ]
     },
     "execution_count": 844,
     "metadata": {},
     "output_type": "execute_result"
    }
   ],
   "source": [
    "compare[[\"dealer_rate\",\"all_density_land\"]].corr()"
   ]
  },
  {
   "cell_type": "code",
   "execution_count": 878,
   "id": "2e669575-454d-4ef5-907f-b187f47bd56c",
   "metadata": {
    "tags": []
   },
   "outputs": [],
   "source": [
    "fig = alt.Chart(compare).mark_point().encode(\n",
    "    x=alt.X('dealer_rate:Q', title=\"Gunbroker.com dealers per mile\"),\n",
    "    y=alt.Y('all_density_land:Q', title=\"All FFL dealers per mile\"),\n",
    ").properties(\n",
    "    width=300,\n",
    "    height=250\n",
    ")\n",
    "# making the regression line using transform_regression function and add with the scatter plot\n",
    "final_plot = fig + fig.transform_regression('dealer_rate','all_density_land').mark_line()"
   ]
  },
  {
   "cell_type": "code",
   "execution_count": 879,
   "id": "1c9a38bf-b255-4fc1-86c4-fdf013892aa2",
   "metadata": {
    "tags": []
   },
   "outputs": [
    {
     "data": {
      "text/html": [
       "\n",
       "<div id=\"altair-viz-636a559291964034924f2a1d52362b8a\"></div>\n",
       "<script type=\"text/javascript\">\n",
       "  var VEGA_DEBUG = (typeof VEGA_DEBUG == \"undefined\") ? {} : VEGA_DEBUG;\n",
       "  (function(spec, embedOpt){\n",
       "    let outputDiv = document.currentScript.previousElementSibling;\n",
       "    if (outputDiv.id !== \"altair-viz-636a559291964034924f2a1d52362b8a\") {\n",
       "      outputDiv = document.getElementById(\"altair-viz-636a559291964034924f2a1d52362b8a\");\n",
       "    }\n",
       "    const paths = {\n",
       "      \"vega\": \"https://cdn.jsdelivr.net/npm//vega@5?noext\",\n",
       "      \"vega-lib\": \"https://cdn.jsdelivr.net/npm//vega-lib?noext\",\n",
       "      \"vega-lite\": \"https://cdn.jsdelivr.net/npm//vega-lite@4.17.0?noext\",\n",
       "      \"vega-embed\": \"https://cdn.jsdelivr.net/npm//vega-embed@6?noext\",\n",
       "    };\n",
       "\n",
       "    function maybeLoadScript(lib, version) {\n",
       "      var key = `${lib.replace(\"-\", \"\")}_version`;\n",
       "      return (VEGA_DEBUG[key] == version) ?\n",
       "        Promise.resolve(paths[lib]) :\n",
       "        new Promise(function(resolve, reject) {\n",
       "          var s = document.createElement('script');\n",
       "          document.getElementsByTagName(\"head\")[0].appendChild(s);\n",
       "          s.async = true;\n",
       "          s.onload = () => {\n",
       "            VEGA_DEBUG[key] = version;\n",
       "            return resolve(paths[lib]);\n",
       "          };\n",
       "          s.onerror = () => reject(`Error loading script: ${paths[lib]}`);\n",
       "          s.src = paths[lib];\n",
       "        });\n",
       "    }\n",
       "\n",
       "    function showError(err) {\n",
       "      outputDiv.innerHTML = `<div class=\"error\" style=\"color:red;\">${err}</div>`;\n",
       "      throw err;\n",
       "    }\n",
       "\n",
       "    function displayChart(vegaEmbed) {\n",
       "      vegaEmbed(outputDiv, spec, embedOpt)\n",
       "        .catch(err => showError(`Javascript Error: ${err.message}<br>This usually means there's a typo in your chart specification. See the javascript console for the full traceback.`));\n",
       "    }\n",
       "\n",
       "    if(typeof define === \"function\" && define.amd) {\n",
       "      requirejs.config({paths});\n",
       "      require([\"vega-embed\"], displayChart, err => showError(`Error loading script: ${err.message}`));\n",
       "    } else {\n",
       "      maybeLoadScript(\"vega\", \"5\")\n",
       "        .then(() => maybeLoadScript(\"vega-lite\", \"4.17.0\"))\n",
       "        .then(() => maybeLoadScript(\"vega-embed\", \"6\"))\n",
       "        .catch(showError)\n",
       "        .then(() => displayChart(vegaEmbed));\n",
       "    }\n",
       "  })({\"config\": {\"view\": {\"continuousWidth\": 400, \"continuousHeight\": 300}}, \"layer\": [{\"mark\": \"point\", \"encoding\": {\"x\": {\"field\": \"dealer_rate\", \"title\": \"Gunbroker.com dealers per mile\", \"type\": \"quantitative\"}, \"y\": {\"field\": \"all_density_land\", \"title\": \"All FFL dealers per mile\", \"type\": \"quantitative\"}}, \"height\": 250, \"width\": 300}, {\"mark\": \"line\", \"encoding\": {\"x\": {\"field\": \"dealer_rate\", \"title\": \"Gunbroker.com dealers per mile\", \"type\": \"quantitative\"}, \"y\": {\"field\": \"all_density_land\", \"title\": \"All FFL dealers per mile\", \"type\": \"quantitative\"}}, \"height\": 250, \"transform\": [{\"on\": \"dealer_rate\", \"regression\": \"all_density_land\"}], \"width\": 300}], \"data\": {\"name\": \"data-6e078ceb0a81bea529d193ac6334af07\"}, \"$schema\": \"https://vega.github.io/schema/vega-lite/v4.17.0.json\", \"datasets\": {\"data-6e078ceb0a81bea529d193ac6334af07\": [{\"geoid\": \"02013\", \"dealer_rate\": null, \"all_density_land\": 0.000199867557729913}, {\"geoid\": \"02016\", \"dealer_rate\": 7.083949262520329e-05, \"all_density_land\": 0.000283357970500813}, {\"geoid\": \"28107\", \"dealer_rate\": 0.0070908745576702915, \"all_density_land\": 0.019854448761476812}, {\"geoid\": \"28101\", \"dealer_rate\": 0.006901288133990983, \"all_density_land\": 0.01552789830147971}, {\"geoid\": \"28027\", \"dealer_rate\": 0.0017148175668312037, \"all_density_land\": 0.005144452700493612}, {\"geoid\": \"22065\", \"dealer_rate\": 0.003072670406262821, \"all_density_land\": 0.006145340812525642}, {\"geoid\": \"51540\", \"dealer_rate\": 0.19495338782085025, \"all_density_land\": 0.3899067756417005}, {\"geoid\": \"51510\", \"dealer_rate\": 0.129305142492999, \"all_density_land\": 0.5172205699719961}, {\"geoid\": \"51530\", \"dealer_rate\": null, \"all_density_land\": 0.14727475074057397}, {\"geoid\": \"51600\", \"dealer_rate\": 0.3186791459707427, \"all_density_land\": 0.956037437912228}, {\"geoid\": \"48113\", \"dealer_rate\": 0.12106352751283618, \"all_density_land\": 0.36429116006135254}, {\"geoid\": \"48227\", \"dealer_rate\": 0.008847550365687119, \"all_density_land\": 0.017695100731374237}, {\"geoid\": \"48155\", \"dealer_rate\": 0.0014130597940173921, \"all_density_land\": 0.004239179382052176}, {\"geoid\": \"48153\", \"dealer_rate\": 0.0030226018606163505, \"all_density_land\": 0.005037669767693918}, {\"geoid\": \"48043\", \"dealer_rate\": 0.00016149135412360584, \"all_density_land\": 0.0008074567706180289}, {\"geoid\": \"48159\", \"dealer_rate\": 0.0033925009352048356, \"all_density_land\": 0.010177502805614509}, {\"geoid\": \"48231\", \"dealer_rate\": 0.022675144525079318, \"all_density_land\": 0.048751560728920534}, {\"geoid\": \"48351\", \"dealer_rate\": null, \"all_density_land\": 0.004256550421093181}, {\"geoid\": \"48427\", \"dealer_rate\": 0.0032544018972188267, \"all_density_land\": 0.014644808537484719}, {\"geoid\": \"48271\", \"dealer_rate\": null, \"all_density_land\": 0.0014650702011427162}, {\"geoid\": \"48087\", \"dealer_rate\": null, \"all_density_land\": 0.002175519140736287}, {\"geoid\": \"48451\", \"dealer_rate\": 0.001298241402259135, \"all_density_land\": 0.03829812136664448}, {\"geoid\": \"48083\", \"dealer_rate\": 0.002341128607195047, \"all_density_land\": 0.004682257214390093}, {\"geoid\": \"48039\", \"dealer_rate\": 0.02237989443703568, \"all_density_land\": 0.07149132945164176}, {\"geoid\": \"48289\", \"dealer_rate\": 0.007403163840727999, \"all_density_land\": 0.017582514121729}, {\"geoid\": \"48131\", \"dealer_rate\": 0.001113835844820572, \"all_density_land\": 0.0011138358448205719}, {\"geoid\": \"48279\", \"dealer_rate\": 0.002947778199398969, \"all_density_land\": 0.008843334598196907}, {\"geoid\": \"48343\", \"dealer_rate\": null, \"all_density_land\": 0.0154618947925392}, {\"geoid\": \"48423\", \"dealer_rate\": 0.029482326087911525, \"all_density_land\": 0.08739403804630917}, {\"geoid\": \"48239\", \"dealer_rate\": 0.0035011083614819244, \"all_density_land\": 0.0093362889639518}, {\"geoid\": \"48325\", \"dealer_rate\": 0.012738533749307925, \"all_density_land\": 0.02997302058660688}, {\"geoid\": \"48483\", \"dealer_rate\": null, \"all_density_land\": 0.009830897298481562}, {\"geoid\": \"48111\", \"dealer_rate\": 0.003321688114124747, \"all_density_land\": 0.0033216881141247467}, {\"geoid\": \"48059\", \"dealer_rate\": 0.002219106473209127, \"all_density_land\": 0.009985979129441071}, {\"geoid\": \"48277\", \"dealer_rate\": 0.01178862472019478, \"all_density_land\": 0.03322248784782165}, {\"geoid\": \"48099\", \"dealer_rate\": 0.011355508728318918, \"all_density_land\": 0.02838877182079729}, {\"geoid\": \"48165\", \"dealer_rate\": 0.004657777985315155, \"all_density_land\": 0.00931555597063031}, {\"geoid\": \"48259\", \"dealer_rate\": 0.022623348817784068, \"all_density_land\": 0.06485359994431433}, {\"geoid\": \"48347\", \"dealer_rate\": 0.016306824882764505, \"all_density_land\": 0.050958827758639066}, {\"geoid\": \"48331\", \"dealer_rate\": 0.004893461185921322, \"all_density_land\": 0.01565907579494823}, {\"geoid\": \"48209\", \"dealer_rate\": 0.03529810734023731, \"all_density_land\": 0.10736507649322183}, {\"geoid\": \"48489\", \"dealer_rate\": null, \"all_density_land\": 0.002550148119336531}, {\"geoid\": \"34017\", \"dealer_rate\": 0.06419212377430501, \"all_density_land\": 0.14443227849218626}, {\"geoid\": \"34011\", \"dealer_rate\": 0.014757497612295495, \"all_density_land\": 0.02066049665721369}, {\"geoid\": \"23019\", \"dealer_rate\": 0.006466055481098955, \"all_density_land\": 0.017711369361271052}, {\"geoid\": \"50009\", \"dealer_rate\": 0.0014808368444376458, \"all_density_land\": 0.005923347377750583}, {\"geoid\": \"50011\", \"dealer_rate\": 0.024567125498239962, \"all_density_land\": 0.06647575134817872}, {\"geoid\": \"56001\", \"dealer_rate\": 0.0030171144618400298, \"all_density_land\": 0.007890914746350846}, {\"geoid\": \"56015\", \"dealer_rate\": 0.0022399775881735036, \"all_density_land\": 0.005375946211616409}, {\"geoid\": \"56045\", \"dealer_rate\": 0.003749964711034436, \"all_density_land\": 0.006249941185057392}, {\"geoid\": \"56017\", \"dealer_rate\": 0.000996809625720572, \"all_density_land\": 0.003987238502882287}, {\"geoid\": \"56039\", \"dealer_rate\": 0.0007115251491058654, \"all_density_land\": 0.003320450695827371}, {\"geoid\": \"56003\", \"dealer_rate\": 0.003165617468639006, \"all_density_land\": 0.0060146731904141115}, {\"geoid\": \"56027\", \"dealer_rate\": 0.0003805252238075074, \"all_density_land\": 0.0011415756714225219}, {\"geoid\": \"56033\", \"dealer_rate\": 0.0035614670642016653, \"all_density_land\": 0.010684401192604996}, {\"geoid\": \"56043\", \"dealer_rate\": 0.003567123140837001, \"all_density_land\": 0.007580136674278628}, {\"geoid\": \"56005\", \"dealer_rate\": 0.0035367371617585617, \"all_density_land\": 0.011650428297557615}, {\"geoid\": \"56025\", \"dealer_rate\": 0.004836614152059979, \"all_density_land\": 0.01339370072878148}, {\"geoid\": \"50005\", \"dealer_rate\": 0.013687452889933522, \"all_density_land\": 0.022812421483222538}, {\"geoid\": \"56031\", \"dealer_rate\": 0.004263700668374979, \"all_density_land\": 0.00900114585545829}, {\"geoid\": \"56009\", \"dealer_rate\": 0.003751412355144669, \"all_density_land\": 0.00797175125468242}, {\"geoid\": \"56011\", \"dealer_rate\": 0.0027920379492712218, \"all_density_land\": 0.006980094873178054}, {\"geoid\": \"50001\", \"dealer_rate\": 0.01609391941785395, \"all_density_land\": 0.03094984503433452}, {\"geoid\": \"56019\", \"dealer_rate\": 0.0009581762912593503, \"all_density_land\": 0.003593161092222564}, {\"geoid\": \"56021\", \"dealer_rate\": 0.008930017248370154, \"all_density_land\": 0.029022556057203}, {\"geoid\": \"50021\", \"dealer_rate\": 0.02434427612249542, \"all_density_land\": 0.06562370085194418}, {\"geoid\": \"50025\", \"dealer_rate\": 0.008771181955523436, \"all_density_land\": 0.023807493879277896}, {\"geoid\": \"56029\", \"dealer_rate\": 0.004162271026641307, \"all_density_land\": 0.011625653557170544}, {\"geoid\": \"50027\", \"dealer_rate\": 0.012285211020567904, \"all_density_land\": 0.03071302755141976}, {\"geoid\": \"50023\", \"dealer_rate\": 0.014379849257833612, \"all_density_land\": 0.04170156284771747}, {\"geoid\": \"50013\", \"dealer_rate\": 0.01541052859896887, \"all_density_land\": 0.03082105719793775}, {\"geoid\": \"50015\", \"dealer_rate\": 0.015096443887182806, \"all_density_land\": 0.03881942713847007}, {\"geoid\": \"29099\", \"dealer_rate\": 0.04967750895748911, \"all_density_land\": 0.1746239708808708}, {\"geoid\": \"29079\", \"dealer_rate\": 0.006848898915161366, \"all_density_land\": 0.009131865220215151}, {\"geoid\": \"29510\", \"dealer_rate\": 0.06057522546155674, \"all_density_land\": 0.24230090184622696}, {\"geoid\": \"29093\", \"dealer_rate\": 0.0036227650655836, \"all_density_land\": 0.0144910602623344}, {\"geoid\": \"29185\", \"dealer_rate\": 0.005697589590618735, \"all_density_land\": 0.008546384385928103}, {\"geoid\": \"29037\", \"dealer_rate\": 0.029893754311934095, \"all_density_land\": 0.058363996513776085}, {\"geoid\": \"29229\", \"dealer_rate\": 0.010246866624487901, \"all_density_land\": 0.02195757133818836}, {\"geoid\": \"29153\", \"dealer_rate\": 0.006620480518915, \"all_density_land\": 0.017213249349178998}, {\"geoid\": \"29083\", \"dealer_rate\": 0.0054620222897615485, \"all_density_land\": 0.010924044579523097}, {\"geoid\": \"17009\", \"dealer_rate\": 0.003255154043027791, \"all_density_land\": 0.016275770215138957}, {\"geoid\": \"17033\", \"dealer_rate\": 0.011215322879490027, \"all_density_land\": 0.015701452031286037}, {\"geoid\": \"17085\", \"dealer_rate\": 0.004848655732359411, \"all_density_land\": 0.008081092887265684}, {\"geoid\": \"17065\", \"dealer_rate\": 0.006882455315836235, \"all_density_land\": 0.009176607087781646}, {\"geoid\": \"17109\", \"dealer_rate\": 0.001694385386837432, \"all_density_land\": 0.018638239255211755}, {\"geoid\": \"17135\", \"dealer_rate\": 0.00704546783857797, \"all_density_land\": 0.01409093567715594}, {\"geoid\": \"17041\", \"dealer_rate\": 0.004793587928594494, \"all_density_land\": 0.009587175857188988}, {\"geoid\": \"17181\", \"dealer_rate\": 0.009475351678935167, \"all_density_land\": 0.01895070335787033}, {\"geoid\": \"17115\", \"dealer_rate\": 0.018775660740050038, \"all_density_land\": 0.030723808483718237}, {\"geoid\": \"17201\", \"dealer_rate\": 0.007703413657403549, \"all_density_land\": 0.04622048194442129}, {\"geoid\": \"17133\", \"dealer_rate\": 0.010049347432709887, \"all_density_land\": 0.03768505287266208}, {\"geoid\": \"17129\", \"dealer_rate\": 0.019020023238609077, \"all_density_land\": 0.01902002323860908}, {\"geoid\": \"17083\", \"dealer_rate\": 0.005303239170690236, \"all_density_land\": 0.01060647834138047}, {\"geoid\": \"17171\", \"dealer_rate\": 0.003956149759010502, \"all_density_land\": 0.003956149759010502}, {\"geoid\": \"17131\", \"dealer_rate\": 0.0035168306750772, \"all_density_land\": 0.008792076687693}, {\"geoid\": \"17047\", \"dealer_rate\": 0.004489936335029945, \"all_density_land\": 0.00897987267005989}, {\"geoid\": \"17035\", \"dealer_rate\": 0.0028818168944721636, \"all_density_land\": 0.011527267577888654}, {\"geoid\": \"17197\", \"dealer_rate\": 0.03768137096862343, \"all_density_land\": 0.08242799899386374}, {\"geoid\": \"06059\", \"dealer_rate\": 0.08332759664621604, \"all_density_land\": 0.24892801023426567}, {\"geoid\": \"06103\", \"dealer_rate\": 0.0016879490791545581, \"all_density_land\": 0.003713487974140028}, {\"geoid\": \"06011\", \"dealer_rate\": 0.0008647839419292415, \"all_density_land\": 0.004323919709646207}, {\"geoid\": \"06083\", \"dealer_rate\": 0.004486543645289121, \"all_density_land\": 0.011612230611336549}, {\"geoid\": \"06051\", \"dealer_rate\": 0.0006385938141234084, \"all_density_land\": 0.0012771876282468158}, {\"geoid\": \"06053\", \"dealer_rate\": 0.0005303322985320968, \"all_density_land\": 0.0063639875823851624}, {\"geoid\": \"49003\", \"dealer_rate\": 0.0020804561765186322, \"all_density_land\": 0.006241368529555897}, {\"geoid\": \"06061\", \"dealer_rate\": 0.007321362339541108, \"all_density_land\": 0.026623135780149486}, {\"geoid\": \"06005\", \"dealer_rate\": 0.009901802535790009, \"all_density_land\": 0.028055107184738356}, {\"geoid\": \"06009\", \"dealer_rate\": 0.004821937995280391, \"all_density_land\": 0.012537038787729016}, {\"geoid\": \"06025\", \"dealer_rate\": 0.00022313014685590923, \"all_density_land\": 0.001561911027991364}, {\"geoid\": \"37069\", \"dealer_rate\": 0.026289250155438124, \"all_density_land\": 0.04853400028696269}, {\"geoid\": \"37031\", \"dealer_rate\": 0.009696828069818959, \"all_density_land\": 0.025360934951834203}, {\"geoid\": \"37057\", \"dealer_rate\": 0.04056308466300772, \"all_density_land\": 0.08465339407932043}, {\"geoid\": \"42021\", \"dealer_rate\": 0.024508647313325256, \"all_density_land\": 0.06487583112350803}, {\"geoid\": \"37163\", \"dealer_rate\": 0.008451339050270026, \"all_density_land\": 0.023241182388242573}, {\"geoid\": \"37101\", \"dealer_rate\": 0.03771193461503708, \"all_density_land\": 0.08045212717874577}, {\"geoid\": \"37027\", \"dealer_rate\": 0.01686649278037826, \"all_density_land\": 0.05692441313377662}, {\"geoid\": \"42003\", \"dealer_rate\": 0.08596119400589047, \"all_density_land\": 0.21221669770204207}, {\"geoid\": \"37153\", \"dealer_rate\": 0.016669506526041815, \"all_density_land\": 0.0312553247363284}, {\"geoid\": \"37123\", \"dealer_rate\": 0.009964245391421949, \"all_density_land\": 0.023914188939412672}, {\"geoid\": \"37179\", \"dealer_rate\": 0.05629163056226796, \"all_density_land\": 0.11414691752904335}, {\"geoid\": \"37051\", \"dealer_rate\": 0.03341600161184059, \"all_density_land\": 0.10936145982056919}, {\"geoid\": \"42001\", \"dealer_rate\": 0.0325802918168149, \"all_density_land\": 0.09774087545044469}, {\"geoid\": \"42061\", \"dealer_rate\": 0.010120704359724194, \"all_density_land\": 0.03373568119908065}, {\"geoid\": \"37023\", \"dealer_rate\": 0.01941463161623283, \"all_density_land\": 0.05824389484869849}, {\"geoid\": \"37097\", \"dealer_rate\": 0.053610089122090344, \"all_density_land\": 0.12062270052470328}, {\"geoid\": \"37063\", \"dealer_rate\": 0.020143255488419706, \"all_density_land\": 0.09735906819402858}, {\"geoid\": \"42039\", \"dealer_rate\": 0.011566104797381202, \"all_density_land\": 0.03662599852504047}, {\"geoid\": \"42045\", \"dealer_rate\": 0.16264117115463042, \"all_density_land\": 0.3672542574459397}, {\"geoid\": \"37079\", \"dealer_rate\": 0.007507524121344376, \"all_density_land\": 0.01876881030336094}, {\"geoid\": \"42035\", \"dealer_rate\": 0.012264005110113562, \"all_density_land\": 0.018953462442902774}, {\"geoid\": \"37143\", \"dealer_rate\": 0.012159302751240721, \"all_density_land\": 0.01823895412686108}, {\"geoid\": \"37083\", \"dealer_rate\": 0.004102959282754993, \"all_density_land\": 0.017779490225271637}, {\"geoid\": \"37037\", \"dealer_rate\": 0.02113178182638088, \"all_density_land\": 0.053533847293498235}, {\"geoid\": \"37171\", \"dealer_rate\": 0.031698460043705703, \"all_density_land\": 0.06153230479072283}, {\"geoid\": \"42073\", \"dealer_rate\": 0.04686871738064595, \"all_density_land\": 0.09098045138595982}, {\"geoid\": \"42093\", \"dealer_rate\": 0.022670527502870175, \"all_density_land\": 0.0604547400076538}, {\"geoid\": \"37155\", \"dealer_rate\": 0.004206156999108928, \"all_density_land\": 0.02734002049420803}, {\"geoid\": \"37121\", \"dealer_rate\": 0.013508234804195633, \"all_density_land\": 0.0405247044125869}, {\"geoid\": \"42117\", \"dealer_rate\": 0.014952077577581888, \"all_density_land\": 0.03518135900607504}, {\"geoid\": \"42009\", \"dealer_rate\": 0.014750636846432859, \"all_density_land\": 0.03343477685191448}, {\"geoid\": \"37013\", \"dealer_rate\": 0.0020872249172663522, \"all_density_land\": 0.021915861631296704}, {\"geoid\": \"42089\", \"dealer_rate\": 0.03726784660206061, \"all_density_land\": 0.09884081055329115}, {\"geoid\": \"42131\", \"dealer_rate\": 0.0024688878172752053, \"all_density_land\": 0.022219990355476848}, {\"geoid\": \"37127\", \"dealer_rate\": 0.023951269370020404, \"all_density_land\": 0.05527216008466247}, {\"geoid\": \"42083\", \"dealer_rate\": 0.008128267831415719, \"all_density_land\": 0.02235273653639323}, {\"geoid\": \"42133\", \"dealer_rate\": 0.0790581048619586, \"all_density_land\": 0.16909650206585589}, {\"geoid\": \"42049\", \"dealer_rate\": 0.017327344441210493, \"all_density_land\": 0.04043047036282449}, {\"geoid\": \"37067\", \"dealer_rate\": 0.06784650576479957, \"all_density_land\": 0.15992390644559898}, {\"geoid\": \"42051\", \"dealer_rate\": 0.01753705261864946, \"all_density_land\": 0.058874390934037464}, {\"geoid\": \"42099\", \"dealer_rate\": 0.0396013225033922, \"all_density_land\": 0.07020234443783163}, {\"geoid\": \"42085\", \"dealer_rate\": 0.027834530937402388, \"all_density_land\": 0.07324876562474313}, {\"geoid\": \"42033\", \"dealer_rate\": 0.008665790407868043, \"all_density_land\": 0.025997371223604123}, {\"geoid\": \"39049\", \"dealer_rate\": 0.08463533506891403, \"all_density_land\": 0.21342823626073976}, {\"geoid\": \"37107\", \"dealer_rate\": 0.027307574652694584, \"all_density_land\": 0.05213264251878057}, {\"geoid\": \"42037\", \"dealer_rate\": 0.026521985665208508, \"all_density_land\": 0.0795659569956255}, {\"geoid\": \"42059\", \"dealer_rate\": 0.013841368744067176, \"all_density_land\": 0.036333592953176334}, {\"geoid\": \"42053\", \"dealer_rate\": 0.0023228998564921674, \"all_density_land\": 0.006968699569476502}, {\"geoid\": \"37119\", \"dealer_rate\": 0.07693585069178921, \"all_density_land\": 0.1886760147917688}, {\"geoid\": \"37089\", \"dealer_rate\": 0.0612955449964605, \"all_density_land\": 0.13325118477491413}, {\"geoid\": \"37081\", \"dealer_rate\": 0.047139117995545064, \"all_density_land\": 0.14902043753430377}, {\"geoid\": \"42017\", \"dealer_rate\": 0.09165842372041645, \"all_density_land\": 0.23155812308315732}, {\"geoid\": \"36053\", \"dealer_rate\": 0.015122122505588908, \"all_density_land\": 0.03780530626397227}, {\"geoid\": \"42011\", \"dealer_rate\": 0.06699348386822616, \"all_density_land\": 0.12474648720290388}, {\"geoid\": \"02240\", \"dealer_rate\": null, \"all_density_land\": 0.000558676143626701}, {\"geoid\": \"02070\", \"dealer_rate\": 0.00014343686374001475, \"all_density_land\": 0.00019124915165335198}, {\"geoid\": \"02164\", \"dealer_rate\": null, \"all_density_land\": 3.0374561421208e-05}, {\"geoid\": \"02185\", \"dealer_rate\": null, \"all_density_land\": 6.3293753946564e-05}, {\"geoid\": \"02105\", \"dealer_rate\": 0.00036649865573517947, \"all_density_land\": 0.000641372647536564}, {\"geoid\": \"02150\", \"dealer_rate\": 0.0002495459006250009, \"all_density_land\": 0.0009150016356250031}, {\"geoid\": \"02230\", \"dealer_rate\": null, \"all_density_land\": 0.002155070518985838}, {\"geoid\": \"02188\", \"dealer_rate\": 0.00012270235490479908, \"all_density_land\": 0.000220864238828638}, {\"geoid\": \"02130\", \"dealer_rate\": 0.0009017703253271232, \"all_density_land\": 0.002254425813317808}, {\"geoid\": \"02270\", \"dealer_rate\": 5.083140946830817e-05, \"all_density_land\": null}, {\"geoid\": \"28145\", \"dealer_rate\": 0.011993108210420215, \"all_density_land\": 0.03118208134709256}, {\"geoid\": \"28053\", \"dealer_rate\": 0.0023189287194167016, \"all_density_land\": 0.004637857438833403}, {\"geoid\": \"28141\", \"dealer_rate\": 0.008998491104631329, \"all_density_land\": 0.017996982209262654}, {\"geoid\": \"28087\", \"dealer_rate\": 0.015489922166260802, \"all_density_land\": 0.04646976649878241}, {\"geoid\": \"22089\", \"dealer_rate\": 0.00974106914779572, \"all_density_land\": 0.03896427659118288}, {\"geoid\": \"22073\", \"dealer_rate\": 0.039572582614540816, \"all_density_land\": 0.11396903792987753}, {\"geoid\": \"22007\", \"dealer_rate\": 0.00822976448357951, \"all_density_land\": 0.013716274139299186}, {\"geoid\": \"22027\", \"dealer_rate\": 0.003909220866359122, \"all_density_land\": 0.009121515354837953}, {\"geoid\": \"22019\", \"dealer_rate\": 0.0164492636038785, \"all_density_land\": 0.043864702943676004}, {\"geoid\": \"22001\", \"dealer_rate\": 0.01368915954410462, \"all_density_land\": 0.031941372269577446}, {\"geoid\": \"22079\", \"dealer_rate\": 0.012484785894922808, \"all_density_land\": 0.037454357684768416}, {\"geoid\": \"22127\", \"dealer_rate\": 0.0020902507393866115, \"all_density_land\": 0.013586629806012974}, {\"geoid\": \"22021\", \"dealer_rate\": 0.0018493558659026484, \"all_density_land\": 0.005548067597707945}, {\"geoid\": \"22029\", \"dealer_rate\": 0.006690738229325062, \"all_density_land\": 0.01605777175038015}, {\"geoid\": \"51610\", \"dealer_rate\": 0.5003047712714557, \"all_density_land\": 1.500914313814367}, {\"geoid\": \"51185\", \"dealer_rate\": 0.01923182307901481, \"all_density_land\": 0.046156375389635546}, {\"geoid\": \"51683\", \"dealer_rate\": 0.20124708337150593, \"all_density_land\": 0.5031177084287648}, {\"geoid\": \"51820\", \"dealer_rate\": 0.19735804082044017, \"all_density_land\": 0.6578601360681339}, {\"geoid\": \"51790\", \"dealer_rate\": 0.19964946219818944, \"all_density_land\": 0.3992989243963789}, {\"geoid\": \"51183\", \"dealer_rate\": null, \"all_density_land\": 0.002029104051048846}, {\"geoid\": \"51171\", \"dealer_rate\": 0.01952460902755324, \"all_density_land\": 0.04295413986061713}, {\"geoid\": \"51750\", \"dealer_rate\": 0.19595034320402122, \"all_density_land\": 0.7838013728160849}, {\"geoid\": \"48251\", \"dealer_rate\": 0.06263073700123996, \"all_density_land\": 0.1415999271332382}, {\"geoid\": \"48383\", \"dealer_rate\": null, \"all_density_land\": 0.000850335764879394}, {\"geoid\": \"48479\", \"dealer_rate\": 0.006221131622159725, \"all_density_land\": 0.02014461668127911}, {\"geoid\": \"48417\", \"dealer_rate\": 0.00109224208742224, \"all_density_land\": 0.00436896834968896}, {\"geoid\": \"48037\", \"dealer_rate\": 0.013001546449713223, \"all_density_land\": 0.040088101553282435}, {\"geoid\": \"48415\", \"dealer_rate\": 0.0033056243771709464, \"all_density_land\": 0.014324372301074102}, {\"geoid\": \"48261\", \"dealer_rate\": null, \"all_density_land\": null}, {\"geoid\": \"48425\", \"dealer_rate\": 0.031257409816975765, \"all_density_land\": 0.0677243879367808}, {\"geoid\": \"48359\", \"dealer_rate\": 0.0006660288719907149, \"all_density_land\": null}, {\"geoid\": \"48441\", \"dealer_rate\": 0.022843345322975602, \"all_density_land\": 0.062003365876648085}, {\"geoid\": \"48269\", \"dealer_rate\": null, \"all_density_land\": 0.0010948800754371519}, {\"geoid\": \"48033\", \"dealer_rate\": 0.0011036897809826836, \"all_density_land\": 0.003311069342948051}, {\"geoid\": \"48471\", \"dealer_rate\": 0.016219509083227952, \"all_density_land\": 0.05115383633941124}, {\"geoid\": \"48429\", \"dealer_rate\": 0.003255601046533964, \"all_density_land\": 0.014107604534980509}, {\"geoid\": \"48117\", \"dealer_rate\": 0.0006673886264106015, \"all_density_land\": 0.002002165879231804}, {\"geoid\": \"48393\", \"dealer_rate\": null, \"all_density_land\": null}, {\"geoid\": \"48457\", \"dealer_rate\": 0.00427522661793291, \"all_density_land\": 0.008550453235865818}, {\"geoid\": \"48465\", \"dealer_rate\": 0.001856051119410661, \"all_density_land\": 0.004021444092056432}, {\"geoid\": \"48049\", \"dealer_rate\": 0.011494803666720755, \"all_density_land\": 0.026124553788001718}, {\"geoid\": \"48367\", \"dealer_rate\": 0.045050268999111194, \"all_density_land\": 0.1131750660221574}, {\"geoid\": \"48201\", \"dealer_rate\": 0.12602092771304324, \"all_density_land\": 0.41406876248571345}, {\"geoid\": \"48505\", \"dealer_rate\": null, \"all_density_land\": 0.0028354975433447648}, {\"geoid\": \"48387\", \"dealer_rate\": 0.002838931687287551, \"all_density_land\": 0.005677863374575102}, {\"geoid\": \"48255\", \"dealer_rate\": 0.0026541113020275876, \"all_density_land\": 0.015924667812165526}, {\"geoid\": \"48363\", \"dealer_rate\": 0.008117637476601292, \"all_density_land\": 0.02029409369150323}, {\"geoid\": \"48173\", \"dealer_rate\": 0.0011097736321603084, \"all_density_land\": 0.001109773632160308}, {\"geoid\": \"48419\", \"dealer_rate\": 0.00838708117018471, \"all_density_land\": 0.01677416234036942}, {\"geoid\": \"48499\", \"dealer_rate\": 0.017248351090675827, \"all_density_land\": 0.04312087772668957}, {\"geoid\": \"34021\", \"dealer_rate\": 0.004368936761441307, \"all_density_land\": 0.03932043085297176}, {\"geoid\": \"34007\", \"dealer_rate\": 0.01319885409471301, \"all_density_land\": 0.039596562284139034}, {\"geoid\": \"34031\", \"dealer_rate\": 0.06595461711533684, \"all_density_land\": 0.12176237005908339}, {\"geoid\": \"04019\", \"dealer_rate\": 0.01229712925404494, \"all_density_land\": 0.0334090148760336}, {\"geoid\": \"04017\", \"dealer_rate\": 0.001706872645598351, \"all_density_land\": 0.005321426483336035}, {\"geoid\": \"04012\", \"dealer_rate\": 0.0006646364112222095, \"all_density_land\": 0.0013292728224444188}, {\"geoid\": \"23029\", \"dealer_rate\": 0.0036836122871659917, \"all_density_land\": 0.008288127646123482}, {\"geoid\": \"35021\", \"dealer_rate\": 0.0009407782487893631, \"all_density_land\": 0.001411167373184044}, {\"geoid\": \"35051\", \"dealer_rate\": 0.0009442359803896119, \"all_density_land\": 0.001888471960779223}, {\"geoid\": \"35025\", \"dealer_rate\": 0.005234232563253437, \"all_density_land\": 0.009330588482321343}, {\"geoid\": \"56023\", \"dealer_rate\": 0.004639480929372534, \"all_density_land\": 0.009767328272363228}, {\"geoid\": \"35019\", \"dealer_rate\": null, \"all_density_land\": 0.000989570194471471}, {\"geoid\": \"56037\", \"dealer_rate\": 0.001906379055196943, \"all_density_land\": 0.004956585543512051}, {\"geoid\": \"35057\", \"dealer_rate\": 0.001195539224100141, \"all_density_land\": 0.0026899632542253162}, {\"geoid\": \"23003\", \"dealer_rate\": 0.005126283982997298, \"all_density_land\": 0.008202054372795677}, {\"geoid\": \"56041\", \"dealer_rate\": 0.0033531719249928157, \"all_density_land\": 0.00862244209283867}, {\"geoid\": \"56035\", \"dealer_rate\": 0.0014182519134774603, \"all_density_land\": 0.005470400237698776}, {\"geoid\": \"35017\", \"dealer_rate\": 0.001512268734654487, \"all_density_land\": 0.002772492680199892}, {\"geoid\": \"35035\", \"dealer_rate\": 0.002414180841653469, \"all_density_land\": 0.004828361683306937}, {\"geoid\": \"35045\", \"dealer_rate\": 0.004513947989373148, \"all_density_land\": 0.009750127657045998}, {\"geoid\": \"56007\", \"dealer_rate\": 0.0011300887426963192, \"all_density_land\": 0.003515831643944104}, {\"geoid\": \"35041\", \"dealer_rate\": 0.002444194440740142, \"all_density_land\": 0.003666291661110213}, {\"geoid\": \"35009\", \"dealer_rate\": 0.003551254778601444, \"all_density_land\": 0.016335771981566643}, {\"geoid\": \"35055\", \"dealer_rate\": 0.0036291040666914846, \"all_density_land\": 0.004990018091700792}, {\"geoid\": \"35023\", \"dealer_rate\": null, \"all_density_land\": 0.0014509593862344842}, {\"geoid\": \"35015\", \"dealer_rate\": 0.0023823576438552407, \"all_density_land\": 0.005717658345252578}, {\"geoid\": \"35011\", \"dealer_rate\": 0.001285411951910908, \"all_density_land\": 0.001713882602547877}, {\"geoid\": \"35006\", \"dealer_rate\": 0.0008807286406239817, \"all_density_land\": 0.001100910800779977}, {\"geoid\": \"35037\", \"dealer_rate\": 0.0013881408115271488, \"all_density_land\": 0.00485849284034502}, {\"geoid\": \"35007\", \"dealer_rate\": 0.00132685804431438, \"all_density_land\": 0.003715202524080264}, {\"geoid\": \"35028\", \"dealer_rate\": 0.018305726828588605, \"all_density_land\": 0.1372929512144145}, {\"geoid\": \"35001\", \"dealer_rate\": 0.05054888561552112, \"all_density_land\": 0.13451144138367485}, {\"geoid\": \"23009\", \"dealer_rate\": 0.002132259303360632, \"all_density_land\": 0.01066129651680316}, {\"geoid\": \"56013\", \"dealer_rate\": 0.002158488957812797, \"all_density_land\": 0.006475466873438391}, {\"geoid\": \"29071\", \"dealer_rate\": 0.021489543679655266, \"all_density_land\": 0.06554310822294857}, {\"geoid\": \"24029\", \"dealer_rate\": 0.009674794385445835, \"all_density_land\": 0.02418698596361459}, {\"geoid\": \"44003\", \"dealer_rate\": 0.04784112149351789, \"all_density_land\": 0.08505088265514292}, {\"geoid\": \"24017\", \"dealer_rate\": 0.031107290143094782, \"all_density_land\": 0.05599312225757061}, {\"geoid\": \"24011\", \"dealer_rate\": 0.012273631225380355, \"all_density_land\": 0.03375248586979598}, {\"geoid\": \"29141\", \"dealer_rate\": 0.014657487265468595, \"all_density_land\": 0.03420080361942672}, {\"geoid\": \"44009\", \"dealer_rate\": 0.014215563556250557, \"all_density_land\": 0.03376196344609507}, {\"geoid\": \"44001\", \"dealer_rate\": 0.022346477538936954, \"all_density_land\": 0.06703943261681086}, {\"geoid\": \"29137\", \"dealer_rate\": 0.002984346673438877, \"all_density_land\": 0.007460866683597192}, {\"geoid\": \"29215\", \"dealer_rate\": 0.010176184313271225, \"all_density_land\": 0.02204839934542098}, {\"geoid\": \"29095\", \"dealer_rate\": 0.06328634292790188, \"all_density_land\": 0.16551812765758953}, {\"geoid\": \"41049\", \"dealer_rate\": 0.0009763084590134375, \"all_density_land\": 0.004393388065560468}, {\"geoid\": \"53077\", \"dealer_rate\": 0.0023194128071958088, \"all_density_land\": 0.009277651228783235}, {\"geoid\": \"41007\", \"dealer_rate\": 0.0073774634394438016, \"all_density_land\": 0.018443658598609504}, {\"geoid\": \"41003\", \"dealer_rate\": 0.005894379951186384, \"all_density_land\": 0.03241908973152511}, {\"geoid\": \"41027\", \"dealer_rate\": 0.0037513641980976963, \"all_density_land\": 0.01688113889143963}, {\"geoid\": \"53007\", \"dealer_rate\": 0.004008112410693444, \"all_density_land\": 0.010688299761849184}, {\"geoid\": \"53035\", \"dealer_rate\": 0.03357372273026918, \"all_density_land\": 0.09542005407550189}, {\"geoid\": \"53043\", \"dealer_rate\": 0.0008549365848892987, \"all_density_land\": 0.0029922780471125458}, {\"geoid\": \"17143\", \"dealer_rate\": 0.02378690393869496, \"all_density_land\": 0.045988014281476926}, {\"geoid\": \"17195\", \"dealer_rate\": 0.001435695580790812, \"all_density_land\": 0.012921260227117308}, {\"geoid\": \"17005\", \"dealer_rate\": 0.015675600046443746, \"all_density_land\": 0.020900800061924997}, {\"geoid\": \"17099\", \"dealer_rate\": 0.013935631441685624, \"all_density_land\": 0.0270002859182659}, {\"geoid\": \"17043\", \"dealer_rate\": 0.10998436358773768, \"all_density_land\": 0.19916087460482226}, {\"geoid\": \"17091\", \"dealer_rate\": 0.019079391887392508, \"all_density_land\": 0.03815878377478501}, {\"geoid\": \"72091\", \"dealer_rate\": null, \"all_density_land\": null}, {\"geoid\": \"72049\", \"dealer_rate\": null, \"all_density_land\": null}, {\"geoid\": \"72005\", \"dealer_rate\": null, \"all_density_land\": null}, {\"geoid\": \"72043\", \"dealer_rate\": null, \"all_density_land\": null}, {\"geoid\": \"72083\", \"dealer_rate\": null, \"all_density_land\": null}, {\"geoid\": \"72013\", \"dealer_rate\": null, \"all_density_land\": null}, {\"geoid\": \"72015\", \"dealer_rate\": null, \"all_density_land\": null}, {\"geoid\": \"72053\", \"dealer_rate\": null, \"all_density_land\": null}, {\"geoid\": \"72033\", \"dealer_rate\": null, \"all_density_land\": null}, {\"geoid\": \"72045\", \"dealer_rate\": null, \"all_density_land\": null}, {\"geoid\": \"72027\", \"dealer_rate\": null, \"all_density_land\": null}, {\"geoid\": \"72059\", \"dealer_rate\": null, \"all_density_land\": null}, {\"geoid\": \"72113\", \"dealer_rate\": null, \"all_density_land\": null}, {\"geoid\": \"72077\", \"dealer_rate\": null, \"all_density_land\": null}, {\"geoid\": \"55011\", \"dealer_rate\": 0.004227768446556918, \"all_density_land\": 0.012683305339670754}, {\"geoid\": \"55051\", \"dealer_rate\": null, \"all_density_land\": 0.005439725272384348}, {\"geoid\": \"42047\", \"dealer_rate\": 0.002402948718272607, \"all_density_land\": 0.01802211538704455}, {\"geoid\": \"55019\", \"dealer_rate\": 0.007384392453441029, \"all_density_land\": 0.015589272957264392}, {\"geoid\": \"42107\", \"dealer_rate\": 0.029381154119028603, \"all_density_land\": 0.061317191204929254}, {\"geoid\": \"42057\", \"dealer_rate\": 0.011414080560709567, \"all_density_land\": 0.031959425569986794}, {\"geoid\": \"42029\", \"dealer_rate\": 0.05795309716155628, \"all_density_land\": 0.12644312107975914}, {\"geoid\": \"55049\", \"dealer_rate\": 0.009115356259702532, \"all_density_land\": 0.023439487524949367}, {\"geoid\": \"42121\", \"dealer_rate\": 0.014644815188443013, \"all_density_land\": 0.03954100100879614}, {\"geoid\": \"42113\", \"dealer_rate\": 0.00441994368482571, \"all_density_land\": 0.013259831054477129}, {\"geoid\": \"55047\", \"dealer_rate\": null, \"all_density_land\": 0.01840661744604773}, {\"geoid\": \"55055\", \"dealer_rate\": 0.01887646645730289, \"all_density_land\": 0.049765229751071255}, {\"geoid\": \"55015\", \"dealer_rate\": 0.007555205116265866, \"all_density_land\": 0.02014721364337564}, {\"geoid\": \"55031\", \"dealer_rate\": 0.0040549446220190626, \"all_density_land\": 0.013516482073396875}, {\"geoid\": \"55083\", \"dealer_rate\": 0.005222837831893574, \"all_density_land\": 0.02176182429955656}, {\"geoid\": \"55061\", \"dealer_rate\": 0.0018445204696141842, \"all_density_land\": 0.00830034211326383}, {\"geoid\": \"55057\", \"dealer_rate\": 0.012437375936729316, \"all_density_land\": 0.024874751873458632}, {\"geoid\": \"42105\", \"dealer_rate\": 0.006472259953327135, \"all_density_land\": 0.018492171295220385}, {\"geoid\": \"55063\", \"dealer_rate\": 0.020836546390892552, \"all_density_land\": 0.05209136597723138}, {\"geoid\": \"55085\", \"dealer_rate\": 0.0072816069101635135, \"all_density_land\": 0.02427202303387838}, {\"geoid\": \"55095\", \"dealer_rate\": 0.012546952907215211, \"all_density_land\": 0.028230644041234227}, {\"geoid\": \"55059\", \"dealer_rate\": 0.014588573267365311, \"all_density_land\": 0.04907065553568332}, {\"geoid\": \"55093\", \"dealer_rate\": 0.010137303090204329, \"all_density_land\": 0.03210145978564704}, {\"geoid\": \"55037\", \"dealer_rate\": null, \"all_density_land\": 0.004019909028645282}, {\"geoid\": \"55023\", \"dealer_rate\": 0.0033377272552202737, \"all_density_land\": 0.016688636276101367}, {\"geoid\": \"42081\", \"dealer_rate\": 0.020099123089000283, \"all_density_land\": 0.049041860337160695}, {\"geoid\": \"42015\", \"dealer_rate\": 0.012919685283168954, \"all_density_land\": 0.03531380644066181}, {\"geoid\": \"42007\", \"dealer_rate\": 0.03603251494565586, \"all_density_land\": 0.10809754483696761}, {\"geoid\": \"42013\", \"dealer_rate\": 0.024664731129917655, \"all_density_land\": 0.08158334142972762}, {\"geoid\": \"42077\", \"dealer_rate\": 0.054560165719758844, \"all_density_land\": 0.15793732182035453}, {\"geoid\": \"39069\", \"dealer_rate\": 0.007147101134839144, \"all_density_land\": 0.011911835224731906}, {\"geoid\": \"42025\", \"dealer_rate\": 0.023232585293003646, \"all_density_land\": 0.04904656895189659}, {\"geoid\": \"42087\", \"dealer_rate\": 0.01446772145847342, \"all_density_land\": 0.05304831201440254}, {\"geoid\": \"42119\", \"dealer_rate\": 0.01258745155813858, \"all_density_land\": 0.03776235467441574}, {\"geoid\": \"42123\", \"dealer_rate\": 0.012241771737839047, \"all_density_land\": 0.031160873514499393}, {\"geoid\": \"42075\", \"dealer_rate\": 0.030344966934514758, \"all_density_land\": 0.09379353416122743}, {\"geoid\": \"42125\", \"dealer_rate\": 0.026716019984565485, \"all_density_land\": 0.08711745647140919}, {\"geoid\": \"42069\", \"dealer_rate\": 0.04086811728767105, \"all_density_land\": 0.11400053769718768}, {\"geoid\": \"42043\", \"dealer_rate\": 0.02687314792972699, \"all_density_land\": 0.10032641893764743}, {\"geoid\": \"42097\", \"dealer_rate\": 0.027223736859714916, \"all_density_land\": 0.07538880976536438}, {\"geoid\": \"42079\", \"dealer_rate\": 0.03641321171231394, \"all_density_land\": 0.07282642342462789}, {\"geoid\": \"42101\", \"dealer_rate\": null, \"all_density_land\": 0.11912483518974615}, {\"geoid\": \"42091\", \"dealer_rate\": 0.0944180980884276, \"all_density_land\": 0.24220294727031422}, {\"geoid\": \"42041\", \"dealer_rate\": 0.04361242281534083, \"all_density_land\": 0.11084824132232461}, {\"geoid\": \"42111\", \"dealer_rate\": 0.010176406516201083, \"all_density_land\": 0.03885537033458596}, {\"geoid\": \"42023\", \"dealer_rate\": 0.0025099368995929383, \"all_density_land\": 0.010039747598371751}, {\"geoid\": \"42055\", \"dealer_rate\": 0.04011279228744864, \"all_density_land\": 0.08540142874101969}, {\"geoid\": \"42067\", \"dealer_rate\": 0.012705996386971492, \"all_density_land\": 0.03811798916091448}, {\"geoid\": \"42027\", \"dealer_rate\": 0.020665173439018247, \"all_density_land\": 0.0413303468780365}, {\"geoid\": \"42005\", \"dealer_rate\": 0.019582961671232493, \"all_density_land\": 0.045191450010536524}, {\"geoid\": \"39145\", \"dealer_rate\": 0.029213771384539008, \"all_density_land\": 0.05518156817079591}, {\"geoid\": \"42071\", \"dealer_rate\": 0.03354330024386907, \"all_density_land\": 0.08741587336281029}, {\"geoid\": \"42127\", \"dealer_rate\": 0.018651392902604758, \"all_density_land\": 0.045296239906325836}, {\"geoid\": \"42115\", \"dealer_rate\": 0.013218891310931409, \"all_density_land\": 0.039656673932794234}, {\"geoid\": \"42129\", \"dealer_rate\": 0.0453635264197549, \"all_density_land\": 0.13126467219333332}, {\"geoid\": \"42103\", \"dealer_rate\": 0.03528273085085413, \"all_density_land\": 0.06703718861662285}, {\"geoid\": \"42063\", \"dealer_rate\": 0.017979271413036617, \"all_density_land\": 0.049143341862300086}, {\"geoid\": \"42031\", \"dealer_rate\": 0.011478337879200225, \"all_density_land\": 0.036074776191772136}, {\"geoid\": \"39103\", \"dealer_rate\": 0.06146346463687395, \"all_density_land\": 0.13711080572841114}, {\"geoid\": \"42095\", \"dealer_rate\": 0.08744136215782843, \"all_density_land\": 0.19608063029331219}, {\"geoid\": \"02090\", \"dealer_rate\": null, \"all_density_land\": 0.011150397947507728}, {\"geoid\": \"02110\", \"dealer_rate\": 0.0024585409327447824, \"all_density_land\": 0.0064536699484550545}, {\"geoid\": \"02180\", \"dealer_rate\": 0.0001060912917707833, \"all_density_land\": 0.000495092694930322}, {\"geoid\": \"02198\", \"dealer_rate\": null, \"all_density_land\": 0.00104120367794722}, {\"geoid\": \"02220\", \"dealer_rate\": 0.0008313382033823513, \"all_density_land\": 0.001247007305073526}, {\"geoid\": \"28049\", \"dealer_rate\": 0.01937781425510781, \"all_density_land\": 0.05243408563146819}, {\"geoid\": \"22085\", \"dealer_rate\": 0.0029656869586058856, \"all_density_land\": 0.012851310153958836}, {\"geoid\": \"22081\", \"dealer_rate\": 0.012427175091221555, \"all_density_land\": 0.019883480145954483}, {\"geoid\": \"51001\", \"dealer_rate\": null, \"all_density_land\": 0.013740059959584223}, {\"geoid\": \"51073\", \"dealer_rate\": 0.02430721216966897, \"all_density_land\": 0.0381970476951941}, {\"geoid\": \"51690\", \"dealer_rate\": 0.09084414671677742, \"all_density_land\": 0.18168829343355483}, {\"geoid\": \"51193\", \"dealer_rate\": 0.003953094169257988, \"all_density_land\": 0.02767165918480591}, {\"geoid\": \"51660\", \"dealer_rate\": 0.286107167243336, \"all_density_land\": 0.858321501730008}, {\"geoid\": \"48107\", \"dealer_rate\": 0.0011090235706946866, \"all_density_land\": 0.001109023570694686}, {\"geoid\": \"48391\", \"dealer_rate\": 0.0024442692866983454, \"all_density_land\": 0.007332807860095036}, {\"geoid\": \"48053\", \"dealer_rate\": 0.013708525221741768, \"all_density_land\": 0.04504229715715154}, {\"geoid\": \"48431\", \"dealer_rate\": null, \"all_density_land\": 0.001082820524167949}, {\"geoid\": \"48339\", \"dealer_rate\": 0.08450347431818221, \"all_density_land\": 0.21265160020729365}, {\"geoid\": \"48405\", \"dealer_rate\": null, \"all_density_land\": 0.001688344655088}, {\"geoid\": \"48379\", \"dealer_rate\": 0.019317874898545716, \"all_density_land\": 0.03477217481738229}, {\"geoid\": \"48355\", \"dealer_rate\": 0.020589461583746017, \"all_density_land\": 0.05833680782061371}, {\"geoid\": \"48237\", \"dealer_rate\": 0.003260422161563246, \"all_density_land\": 0.008694459097501989}, {\"geoid\": \"48437\", \"dealer_rate\": 0.0022205157508594434, \"all_density_land\": 0.00666154725257833}, {\"geoid\": \"48063\", \"dealer_rate\": 0.014761362567500255, \"all_density_land\": 0.019681816756667005}, {\"geoid\": \"48041\", \"dealer_rate\": 0.030444597962766995, \"all_density_land\": 0.10317335976271036}, {\"geoid\": \"48361\", \"dealer_rate\": 0.050061953611362404, \"all_density_land\": 0.12120262453277211}, {\"geoid\": \"48089\", \"dealer_rate\": 0.004108101799079435, \"all_density_land\": 0.02156753444516703}, {\"geoid\": \"48371\", \"dealer_rate\": null, \"all_density_land\": 0.001049359190970197}, {\"geoid\": \"48079\", \"dealer_rate\": null, \"all_density_land\": 0.001289926013182342}, {\"geoid\": \"48369\", \"dealer_rate\": 0.0033892258103834683, \"all_density_land\": 0.012427161304739386}, {\"geoid\": \"48161\", \"dealer_rate\": 0.0067265171000679335, \"all_density_land\": 0.011210861833446557}, {\"geoid\": \"48495\", \"dealer_rate\": 0.0023773262560820413, \"all_density_land\": 0.0035659893841230622}, {\"geoid\": \"48485\", \"dealer_rate\": 0.02527181834301488, \"all_density_land\": 0.07107698908972934}, {\"geoid\": \"48179\", \"dealer_rate\": null, \"all_density_land\": 0.015064561521079513}, {\"geoid\": \"48413\", \"dealer_rate\": 0.0007629654020855025, \"all_density_land\": 0.002288896206256508}, {\"geoid\": \"48197\", \"dealer_rate\": null, \"all_density_land\": null}, {\"geoid\": \"38029\", \"dealer_rate\": null, \"all_density_land\": 0.001929232961804141}, {\"geoid\": \"38039\", \"dealer_rate\": 0.0013957827564222791, \"all_density_land\": 0.006978913782111396}, {\"geoid\": \"38097\", \"dealer_rate\": 0.0011594017378200867, \"all_density_land\": 0.005797008689100433}, {\"geoid\": \"34029\", \"dealer_rate\": 0.022940773413895627, \"all_density_land\": 0.034957369011650474}, {\"geoid\": \"38025\", \"dealer_rate\": 0.0004802978603840394, \"all_density_land\": 0.002401489301920197}, {\"geoid\": \"38065\", \"dealer_rate\": 0.0013676357359450892, \"all_density_land\": 0.005470542943780357}, {\"geoid\": \"38087\", \"dealer_rate\": null, \"all_density_land\": 0.000820236635180943}, {\"geoid\": \"38035\", \"dealer_rate\": 0.009030896870754326, \"all_density_land\": 0.021535215614875706}, {\"geoid\": \"38041\", \"dealer_rate\": 0.0008820054165338228, \"all_density_land\": 0.001764010833067645}, {\"geoid\": \"38037\", \"dealer_rate\": 0.0012005378105959183, \"all_density_land\": 0.003601613431787754}, {\"geoid\": \"38013\", \"dealer_rate\": null, \"all_density_land\": 0.000885799289660117}, {\"geoid\": \"38027\", \"dealer_rate\": null, \"all_density_land\": null}, {\"geoid\": \"38073\", \"dealer_rate\": 0.003473268829880642, \"all_density_land\": 0.010419806489641923}, {\"geoid\": \"38103\", \"dealer_rate\": 0.002324910190181041, \"all_density_land\": 0.006199760507149444}, {\"geoid\": \"38067\", \"dealer_rate\": 0.001783492971247087, \"all_density_land\": 0.008025718370611891}, {\"geoid\": \"38007\", \"dealer_rate\": null, \"all_density_land\": null}, {\"geoid\": \"38019\", \"dealer_rate\": null, \"all_density_land\": 0.003311350872145734}, {\"geoid\": \"38079\", \"dealer_rate\": 0.0021291527499135445, \"all_density_land\": 0.006387458249740635}, {\"geoid\": \"38071\", \"dealer_rate\": 0.0038434504432229683, \"all_density_land\": 0.009224281063735124}, {\"geoid\": \"38011\", \"dealer_rate\": 0.00171371720991307, \"all_density_land\": 0.0034274344198261405}, {\"geoid\": \"32013\", \"dealer_rate\": 0.0005177167247204366, \"all_density_land\": 0.001863780208993571}, {\"geoid\": \"04007\", \"dealer_rate\": 0.003545011485665482, \"all_density_land\": 0.009800914107428095}, {\"geoid\": \"04027\", \"dealer_rate\": 0.0030802054818597126, \"all_density_land\": 0.008153485099040417}, {\"geoid\": \"32009\", \"dealer_rate\": null, \"all_density_land\": 0.000557250182655012}, {\"geoid\": \"32019\", \"dealer_rate\": 0.006916153631719638, \"all_density_land\": 0.01976043894777039}, {\"geoid\": \"32031\", \"dealer_rate\": 0.007795541064796439, \"all_density_land\": 0.02460945316533778}, {\"geoid\": \"04025\", \"dealer_rate\": 0.010334794601522071, \"all_density_land\": 0.026452152849133874}, {\"geoid\": \"32021\", \"dealer_rate\": 0.0007867870268293576, \"all_density_land\": 0.0007867870268293569}, {\"geoid\": \"32005\", \"dealer_rate\": 0.01897935834921603, \"all_density_land\": 0.07862877030389498}, {\"geoid\": \"32011\", \"dealer_rate\": 0.00047847366970616827, \"all_density_land\": 0.0014354210091185049}, {\"geoid\": \"32015\", \"dealer_rate\": 0.0003623514843477953, \"all_density_land\": 0.000905878710869488}, {\"geoid\": \"04021\", \"dealer_rate\": 0.010047926207120713, \"all_density_land\": 0.02437552468764469}, {\"geoid\": \"32017\", \"dealer_rate\": 0.00037604668595131387, \"all_density_land\": 0.000846105043390456}, {\"geoid\": \"32033\", \"dealer_rate\": 0.0002248018816758623, \"all_density_land\": 0.001236410349217242}, {\"geoid\": \"32003\", \"dealer_rate\": 0.011909348652645417, \"all_density_land\": 0.036968603109253484}, {\"geoid\": \"35013\", \"dealer_rate\": 0.007602267794954766, \"all_density_land\": 0.014942388424566265}, {\"geoid\": \"35005\", \"dealer_rate\": 0.0008230285951179307, \"all_density_land\": 0.002469085785353792}, {\"geoid\": \"35061\", \"dealer_rate\": 0.011232847217908343, \"all_density_land\": 0.02340176503730905}, {\"geoid\": \"35039\", \"dealer_rate\": 0.0011872129858057567, \"all_density_land\": 0.001865620406266189}, {\"geoid\": \"35047\", \"dealer_rate\": 0.0006334982783373754, \"all_density_land\": 0.0016893287422330011}, {\"geoid\": \"35003\", \"dealer_rate\": null, \"all_density_land\": 0.0005772701484457251}, {\"geoid\": \"35043\", \"dealer_rate\": 0.005920545113453701, \"all_density_land\": 0.013455784348758408}, {\"geoid\": \"35049\", \"dealer_rate\": 0.009419765770622833, \"all_density_land\": 0.016222929938294876}, {\"geoid\": \"35053\", \"dealer_rate\": 0.0007520246064945041, \"all_density_land\": 0.0015040492129890079}, {\"geoid\": \"35027\", \"dealer_rate\": 0.000620948430046906, \"all_density_land\": 0.0035187077702657998}, {\"geoid\": \"35031\", \"dealer_rate\": 0.001099851647468602, \"all_density_land\": 0.00458271519778584}, {\"geoid\": \"35029\", \"dealer_rate\": 0.002697848533029887, \"all_density_land\": 0.003372310666287358}, {\"geoid\": \"35033\", \"dealer_rate\": null, \"all_density_land\": 0.001551506547696974}, {\"geoid\": \"35059\", \"dealer_rate\": 0.0007831116036933272, \"all_density_land\": 0.001566223207386654}, {\"geoid\": \"24001\", \"dealer_rate\": 0.01628166036969128, \"all_density_land\": 0.03488927222076703}, {\"geoid\": \"24510\", \"dealer_rate\": 0.04345407045302049, \"all_density_land\": 0.11949869374580632}, {\"geoid\": \"24021\", \"dealer_rate\": 0.019479205247878648, \"all_density_land\": 0.07342161978046567}, {\"geoid\": \"44005\", \"dealer_rate\": 0.012755267255020972, \"all_density_land\": 0.03826580176506292}, {\"geoid\": \"44007\", \"dealer_rate\": 0.04590783588509987, \"all_density_land\": 0.12395115688976963}, {\"geoid\": \"24047\", \"dealer_rate\": null, \"all_density_land\": 0.02302624364740538}, {\"geoid\": \"41053\", \"dealer_rate\": 0.01881937982160137, \"all_density_land\": 0.044359966722346086}, {\"geoid\": \"41039\", \"dealer_rate\": 0.0004235660924920642, \"all_density_land\": 0.02626109773450798}, {\"geoid\": \"41063\", \"dealer_rate\": 0.0019037566478278933, \"all_density_land\": 0.002538342197103858}, {\"geoid\": \"41025\", \"dealer_rate\": 0.0013689998145303963, \"all_density_land\": 0.0012712141134925109}, {\"geoid\": \"41013\", \"dealer_rate\": 0.003012739369239792, \"all_density_land\": 0.006025478738479584}, {\"geoid\": \"41071\", \"dealer_rate\": 0.02505768024370097, \"all_density_land\": 0.06264420060925242}, {\"geoid\": \"41041\", \"dealer_rate\": null, \"all_density_land\": 0.019266536450815896}, {\"geoid\": \"41059\", \"dealer_rate\": 0.005570342795878857, \"all_density_land\": 0.016711028387636568}, {\"geoid\": \"41029\", \"dealer_rate\": 0.01249264557151743, \"all_density_land\": 0.032123945755330535}, {\"geoid\": \"41015\", \"dealer_rate\": 0.0035204877296358865, \"all_density_land\": 0.009555609551868835}, {\"geoid\": \"41057\", \"dealer_rate\": 0.003001300702423211, \"all_density_land\": 0.006002601404846422}, {\"geoid\": \"41009\", \"dealer_rate\": 0.023244667107360582, \"all_density_land\": 0.042130959132091056}, {\"geoid\": \"41011\", \"dealer_rate\": 0.0005535985886920032, \"all_density_land\": 0.019375950604220114}, {\"geoid\": \"41051\", \"dealer_rate\": 0.02792075699487755, \"all_density_land\": 0.1610812903550628}, {\"geoid\": \"41045\", \"dealer_rate\": 0.0012085001321788683, \"all_density_land\": 0.001812750198268302}, {\"geoid\": \"41019\", \"dealer_rate\": 0.0035062079436021885, \"all_density_land\": 0.012271727802607659}, {\"geoid\": \"41065\", \"dealer_rate\": 0.0033397510829531775, \"all_density_land\": 0.005427095509798915}, {\"geoid\": \"41043\", \"dealer_rate\": 0.007795683676384046, \"all_density_land\": 0.02728489286734416}, {\"geoid\": \"41055\", \"dealer_rate\": 0.0012031072223227378, \"all_density_land\": 0.0036093216669682133}, {\"geoid\": \"41031\", \"dealer_rate\": 0.006141398114878593, \"all_density_land\": 0.007816324873481845}, {\"geoid\": \"41037\", \"dealer_rate\": 0.0009571331661665187, \"all_density_land\": 0.002033907978103852}, {\"geoid\": \"41061\", \"dealer_rate\": 0.011773131293279034, \"all_density_land\": 0.01716914980269859}, {\"geoid\": \"41021\", \"dealer_rate\": null, \"all_density_land\": 0.0032711108844349964}, {\"geoid\": \"17121\", \"dealer_rate\": 0.010416014883708294, \"all_density_land\": 0.019096027286798534}, {\"geoid\": \"17127\", \"dealer_rate\": 0.024812469718256687, \"all_density_land\": 0.037218704577385034}, {\"geoid\": \"17019\", \"dealer_rate\": 0.012019317433505672, \"all_density_land\": 0.03104990336988965}, {\"geoid\": \"17069\", \"dealer_rate\": null, \"all_density_land\": 0.005507266879373118}, {\"geoid\": \"17111\", \"dealer_rate\": 0.03601757367260803, \"all_density_land\": 0.08840677174185607}, {\"geoid\": \"17149\", \"dealer_rate\": 0.004712064400900121, \"all_density_land\": 0.00942412880180024}, {\"geoid\": \"17049\", \"dealer_rate\": 0.010416525391640797, \"all_density_land\": 0.010416525391640796}, {\"geoid\": \"72105\", \"dealer_rate\": null, \"all_density_land\": null}, {\"geoid\": \"72145\", \"dealer_rate\": null, \"all_density_land\": null}, {\"geoid\": \"72117\", \"dealer_rate\": null, \"all_density_land\": null}, {\"geoid\": \"72129\", \"dealer_rate\": null, \"all_density_land\": null}, {\"geoid\": \"72097\", \"dealer_rate\": null, \"all_density_land\": null}, {\"geoid\": \"72147\", \"dealer_rate\": null, \"all_density_land\": null}, {\"geoid\": \"72039\", \"dealer_rate\": null, \"all_density_land\": null}, {\"geoid\": \"72111\", \"dealer_rate\": null, \"all_density_land\": null}, {\"geoid\": \"72007\", \"dealer_rate\": null, \"all_density_land\": null}, {\"geoid\": \"72011\", \"dealer_rate\": null, \"all_density_land\": null}, {\"geoid\": \"72115\", \"dealer_rate\": null, \"all_density_land\": null}, {\"geoid\": \"72079\", \"dealer_rate\": null, \"all_density_land\": null}, {\"geoid\": \"72137\", \"dealer_rate\": null, \"all_density_land\": null}, {\"geoid\": \"72019\", \"dealer_rate\": null, \"all_density_land\": null}, {\"geoid\": \"72133\", \"dealer_rate\": null, \"all_density_land\": null}, {\"geoid\": \"72123\", \"dealer_rate\": null, \"all_density_land\": null}, {\"geoid\": \"72089\", \"dealer_rate\": null, \"all_density_land\": null}, {\"geoid\": \"72037\", \"dealer_rate\": null, \"all_density_land\": null}, {\"geoid\": \"72054\", \"dealer_rate\": null, \"all_density_land\": null}, {\"geoid\": \"72041\", \"dealer_rate\": null, \"all_density_land\": null}, {\"geoid\": \"72031\", \"dealer_rate\": null, \"all_density_land\": null}, {\"geoid\": \"72069\", \"dealer_rate\": null, \"all_density_land\": null}, {\"geoid\": \"72003\", \"dealer_rate\": null, \"all_density_land\": null}, {\"geoid\": \"72103\", \"dealer_rate\": null, \"all_density_land\": null}, {\"geoid\": \"72125\", \"dealer_rate\": null, \"all_density_land\": null}, {\"geoid\": \"72135\", \"dealer_rate\": null, \"all_density_land\": null}, {\"geoid\": \"72139\", \"dealer_rate\": null, \"all_density_land\": null}, {\"geoid\": \"72087\", \"dealer_rate\": null, \"all_density_land\": null}, {\"geoid\": \"72061\", \"dealer_rate\": null, \"all_density_land\": null}, {\"geoid\": \"72047\", \"dealer_rate\": null, \"all_density_land\": null}, {\"geoid\": \"72151\", \"dealer_rate\": null, \"all_density_land\": null}, {\"geoid\": \"72057\", \"dealer_rate\": null, \"all_density_land\": null}, {\"geoid\": \"72017\", \"dealer_rate\": null, \"all_density_land\": null}, {\"geoid\": \"72149\", \"dealer_rate\": null, \"all_density_land\": null}, {\"geoid\": \"72081\", \"dealer_rate\": null, \"all_density_land\": null}, {\"geoid\": \"72065\", \"dealer_rate\": null, \"all_density_land\": null}, {\"geoid\": \"72071\", \"dealer_rate\": null, \"all_density_land\": null}, {\"geoid\": \"72029\", \"dealer_rate\": null, \"all_density_land\": null}, {\"geoid\": \"72095\", \"dealer_rate\": null, \"all_density_land\": null}, {\"geoid\": \"06093\", \"dealer_rate\": 0.001102818146035611, \"all_density_land\": 0.0022056362920712218}, {\"geoid\": \"06097\", \"dealer_rate\": 0.00791879267631608, \"all_density_land\": 0.018665725594173618}, {\"geoid\": \"06085\", \"dealer_rate\": 0.010735768356883394, \"all_density_land\": 0.047544117009055024}, {\"geoid\": \"13173\", \"dealer_rate\": null, \"all_density_land\": 0.01001058786732379}, {\"geoid\": \"13029\", \"dealer_rate\": 0.022004338096391296, \"all_density_land\": 0.039607808573504336}, {\"geoid\": \"13001\", \"dealer_rate\": 0.007808510732958289, \"all_density_land\": 0.029281915248593582}, {\"geoid\": \"13241\", \"dealer_rate\": 0.013266685184122311, \"all_density_land\": 0.02918670740506908}, {\"geoid\": \"13023\", \"dealer_rate\": 0.01825389473376254, \"all_density_land\": 0.027380842100643815}, {\"geoid\": \"13113\", \"dealer_rate\": 0.08027225023704276, \"all_density_land\": 0.19064659431297654}, {\"geoid\": \"13163\", \"dealer_rate\": 0.005663936450696263, \"all_density_land\": 0.01699180935208879}, {\"geoid\": \"13253\", \"dealer_rate\": 0.007795568936834595, \"all_density_land\": 0.01948892234208649}, {\"geoid\": \"13039\", \"dealer_rate\": 0.012789956136679303, \"all_density_land\": 0.02046392981868689}, {\"geoid\": \"13127\", \"dealer_rate\": 0.01879545585203414, \"all_density_land\": 0.06151240097029355}, {\"geoid\": \"13233\", \"dealer_rate\": 0.019222097542370285, \"all_density_land\": 0.04805524385592572}, {\"geoid\": \"13211\", \"dealer_rate\": 0.016919487232628982, \"all_density_land\": 0.02537923084894348}, {\"geoid\": \"13263\", \"dealer_rate\": 0.010132687276842132, \"all_density_land\": 0.01773220273447373}, {\"geoid\": \"13249\", \"dealer_rate\": 0.011917299713664913, \"all_density_land\": 0.023834599427329826}, {\"geoid\": \"13291\", \"dealer_rate\": 0.02127628833588048, \"all_density_land\": 0.04559204643402961}, {\"geoid\": \"13315\", \"dealer_rate\": 0.0026169573616726173, \"all_density_land\": 0.010467829446690469}, {\"geoid\": \"13299\", \"dealer_rate\": 0.0033040123499604186, \"all_density_land\": 0.01982407409976251}, {\"geoid\": \"13059\", \"dealer_rate\": 0.049572355475790905, \"all_density_land\": 0.14045500718140758}, {\"geoid\": \"13169\", \"dealer_rate\": 0.015173866631569699, \"all_density_land\": 0.02781875549121112}, {\"geoid\": \"13045\", \"dealer_rate\": 0.017862973717230703, \"all_density_land\": 0.07542144458386296}, {\"geoid\": \"13247\", \"dealer_rate\": 0.04542090635604883, \"all_density_land\": 0.12869256800880502}, {\"geoid\": \"13083\", \"dealer_rate\": 0.017225524149288705, \"all_density_land\": 0.051676572447866116}, {\"geoid\": \"13213\", \"dealer_rate\": 0.008652947115406378, \"all_density_land\": 0.02595884134621913}, {\"geoid\": \"06029\", \"dealer_rate\": 0.005880442423159733, \"all_density_land\": 0.01555867057794346}, {\"geoid\": \"55001\", \"dealer_rate\": 0.0072616211306705805, \"all_density_land\": 0.014523242261341161}, {\"geoid\": \"55121\", \"dealer_rate\": 0.010781838327541347, \"all_density_land\": 0.020215946864140025}, {\"geoid\": \"55123\", \"dealer_rate\": 0.008574165554884666, \"all_density_land\": 0.01959809269687924}, {\"geoid\": \"55141\", \"dealer_rate\": 0.008647942397245742, \"all_density_land\": 0.03582718993144665}, {\"geoid\": \"55107\", \"dealer_rate\": 0.004296997015813768, \"all_density_land\": 0.01074249253953442}, {\"geoid\": \"55133\", \"dealer_rate\": 0.06028291673652817, \"all_density_land\": 0.17395927401112415}, {\"geoid\": \"55113\", \"dealer_rate\": 0.0014811932424876283, \"all_density_land\": 0.0051841763487067}, {\"geoid\": \"55131\", \"dealer_rate\": 0.039015512300904956, \"all_density_land\": 0.10098132595528339}, {\"geoid\": \"55033\", \"dealer_rate\": 0.009260702776400167, \"all_density_land\": 0.03588522325855065}, {\"geoid\": \"55125\", \"dealer_rate\": 0.008842213518971026, \"all_density_land\": 0.021614299713040287}, {\"geoid\": \"55067\", \"dealer_rate\": 0.002252550713052199, \"all_density_land\": 0.010136478208734897}, {\"geoid\": \"36007\", \"dealer_rate\": 0.030747099145427805, \"all_density_land\": 0.07127736620076446}, {\"geoid\": \"36099\", \"dealer_rate\": 0.015367317239369776, \"all_density_land\": 0.028173414938844586}, {\"geoid\": \"55039\", \"dealer_rate\": 0.01175180714508085, \"all_density_land\": 0.03656117778469597}, {\"geoid\": \"55035\", \"dealer_rate\": 0.01704774656043292, \"all_density_land\": 0.04804364939758368}, {\"geoid\": \"55101\", \"dealer_rate\": 0.030298515099118458, \"all_density_land\": 0.06438434458562672}, {\"geoid\": \"36093\", \"dealer_rate\": 0.042982777281494224, \"all_density_land\": 0.07163796213582371}, {\"geoid\": \"36063\", \"dealer_rate\": 0.02105879146207881, \"all_density_land\": 0.03422053612587807}, {\"geoid\": \"55119\", \"dealer_rate\": 0.004063300514127906, \"all_density_land\": 0.01117407641385174}, {\"geoid\": \"36083\", \"dealer_rate\": 0.021040185590503878, \"all_density_land\": 0.03757175998304264}, {\"geoid\": \"36111\", \"dealer_rate\": 0.03015265425867044, \"all_density_land\": 0.06288982173951262}, {\"geoid\": \"55081\", \"dealer_rate\": 0.009909516299369125, \"all_density_land\": 0.03743595046428336}, {\"geoid\": \"36085\", \"dealer_rate\": 0.01955198602059495, \"all_density_land\": 0.01955198602059495}, {\"geoid\": \"55007\", \"dealer_rate\": 0.0029387703942024396, \"all_density_land\": 0.003918360525603253}, {\"geoid\": \"36075\", \"dealer_rate\": 0.01752952277511405, \"all_density_land\": 0.03201043289368653}, {\"geoid\": \"55075\", \"dealer_rate\": 0.00774189940347366, \"all_density_land\": 0.024516014777666587}, {\"geoid\": \"55017\", \"dealer_rate\": 0.011524257141659389, \"all_density_land\": 0.034572771424978166}, {\"geoid\": \"36113\", \"dealer_rate\": 0.012881024371473641, \"all_density_land\": 0.026835467440570086}, {\"geoid\": \"55078\", \"dealer_rate\": null, \"all_density_land\": null}, {\"geoid\": \"55025\", \"dealer_rate\": 0.020997450350263718, \"all_density_land\": 0.050070843142936555}, {\"geoid\": \"36019\", \"dealer_rate\": 0.009843165698618355, \"all_density_land\": 0.01879149815190777}, {\"geoid\": \"55137\", \"dealer_rate\": 0.01098196453096766, \"all_density_land\": 0.029808189441197938}, {\"geoid\": \"55139\", \"dealer_rate\": 0.024197526828363607, \"all_density_land\": 0.06567900139127264}, {\"geoid\": \"55091\", \"dealer_rate\": 0.012062972765407567, \"all_density_land\": 0.02814693645261765}, {\"geoid\": \"55129\", \"dealer_rate\": 0.007031388630878279, \"all_density_land\": 0.014062777261756558}, {\"geoid\": \"55103\", \"dealer_rate\": 0.0016969318159053175, \"all_density_land\": 0.01527238634314786}, {\"geoid\": \"36013\", \"dealer_rate\": 0.01333171904394462, \"all_density_land\": 0.030662953801072625}, {\"geoid\": \"36035\", \"dealer_rate\": 0.009382989025802214, \"all_density_land\": 0.0262723692722462}, {\"geoid\": \"36055\", \"dealer_rate\": 0.027072416010519365, \"all_density_land\": 0.07975387419315165}, {\"geoid\": \"36033\", \"dealer_rate\": 0.00883685914271022, \"all_density_land\": 0.012371602799794306}, {\"geoid\": \"36015\", \"dealer_rate\": 0.017040789306338167, \"all_density_land\": 0.04868796944668048}, {\"geoid\": \"55053\", \"dealer_rate\": 0.003998896271784751, \"all_density_land\": 0.013996136951246631}, {\"geoid\": \"55135\", \"dealer_rate\": 0.010454733212911925, \"all_density_land\": 0.035284724593577746}, {\"geoid\": \"55045\", \"dealer_rate\": 0.022242575760594192, \"all_density_land\": 0.04106321678878928}, {\"geoid\": \"55105\", \"dealer_rate\": 0.030298604872028113, \"all_density_land\": 0.07023767493061063}, {\"geoid\": \"55029\", \"dealer_rate\": 0.0012656868364877257, \"all_density_land\": 0.005484642958113478}, {\"geoid\": \"55099\", \"dealer_rate\": 0.005475510869421824, \"all_density_land\": 0.00782215838488832}, {\"geoid\": \"55013\", \"dealer_rate\": 0.010224584509190475, \"all_density_land\": 0.019313104072915338}, {\"geoid\": \"55079\", \"dealer_rate\": 0.022697843391743078, \"all_density_land\": 0.048758330248929574}, {\"geoid\": \"55003\", \"dealer_rate\": 0.0026173708003026193, \"all_density_land\": 0.005670970067322342}, {\"geoid\": \"55021\", \"dealer_rate\": 0.010050608335135934, \"all_density_land\": 0.02763917292162382}, {\"geoid\": \"55111\", \"dealer_rate\": 0.025924542307471803, \"all_density_land\": 0.040065201747910964}, {\"geoid\": \"55005\", \"dealer_rate\": 0.012362834641441276, \"all_density_land\": 0.0258495633411954}, {\"geoid\": \"55077\", \"dealer_rate\": 0.0043075716092016245, \"all_density_land\": 0.01292271482760487}, {\"geoid\": \"55087\", \"dealer_rate\": 0.023270651450150667, \"all_density_land\": 0.07291470787713876}, {\"geoid\": \"36009\", \"dealer_rate\": 0.010586123813812888, \"all_density_land\": 0.02722146123551885}, {\"geoid\": \"55109\", \"dealer_rate\": 0.025826309752493153, \"all_density_land\": 0.05573045788695891}, {\"geoid\": \"55043\", \"dealer_rate\": 0.010985819709340674, \"all_density_land\": 0.02112657636411668}, {\"geoid\": \"55115\", \"dealer_rate\": 0.008796312608126097, \"all_density_land\": 0.029687555052425582}, {\"geoid\": \"36061\", \"dealer_rate\": null, \"all_density_land\": 0.1786211754918621}, {\"geoid\": \"55065\", \"dealer_rate\": 0.007879371781039328, \"all_density_land\": 0.017334617918286523}, {\"geoid\": \"55009\", \"dealer_rate\": 0.04060360250591389, \"all_density_land\": 0.08120720501182778}, {\"geoid\": \"55117\", \"dealer_rate\": 0.006293116578327261, \"all_density_land\": 0.02359918716872723}, {\"geoid\": \"55071\", \"dealer_rate\": 0.009370340322181155, \"all_density_land\": 0.012047580414232912}, {\"geoid\": \"55089\", \"dealer_rate\": 0.006271308763762193, \"all_density_land\": 0.016126222535388497}, {\"geoid\": \"55097\", \"dealer_rate\": 0.010940149948933615, \"all_density_land\": 0.03646716649644538}, {\"geoid\": \"36043\", \"dealer_rate\": 0.005486930601867098, \"all_density_land\": 0.02331945505793517}, {\"geoid\": \"55073\", \"dealer_rate\": 0.005709532846874334, \"all_density_land\": 0.02664448661874689}, {\"geoid\": \"55127\", \"dealer_rate\": 0.019078733935965358, \"all_density_land\": 0.06070506252352614}, {\"geoid\": \"55041\", \"dealer_rate\": 0.004778620858432907, \"all_density_land\": 0.009557241716865814}, {\"geoid\": \"55027\", \"dealer_rate\": 0.01433210951126799, \"all_density_land\": 0.04409879849620921}, {\"geoid\": \"55069\", \"dealer_rate\": 0.004410145022711129, \"all_density_land\": 0.009922826301100038}, {\"geoid\": \"28021\", \"dealer_rate\": 0.003990394664131073, \"all_density_land\": 0.007980789328262145}, {\"geoid\": \"28055\", \"dealer_rate\": null, \"all_density_land\": null}, {\"geoid\": \"28023\", \"dealer_rate\": 0.005767553933004633, \"all_density_land\": 0.002883776966502316}, {\"geoid\": \"02195\", \"dealer_rate\": 0.0007037227242551834, \"all_density_land\": 0.001583376129574162}, {\"geoid\": \"02275\", \"dealer_rate\": null, \"all_density_land\": 0.001155380232579484}, {\"geoid\": \"02170\", \"dealer_rate\": 0.0013065404850935373, \"all_density_land\": 0.0042363585425760145}, {\"geoid\": \"02290\", \"dealer_rate\": 6.7656667306639736e-06, \"all_density_land\": 4.7359667114647e-05}, {\"geoid\": \"02282\", \"dealer_rate\": 0.00010567799014333393, \"all_density_land\": 0.00021135598028666698}, {\"geoid\": \"02122\", \"dealer_rate\": 0.0006868076412314145, \"all_density_land\": 0.002545228317504654}, {\"geoid\": \"02261\", \"dealer_rate\": 0.00017352399287579265, \"all_density_land\": null}, {\"geoid\": \"28147\", \"dealer_rate\": 0.009891054715445002, \"all_density_land\": 0.017309345752028756}, {\"geoid\": \"28009\", \"dealer_rate\": 0.0024470541908948127, \"all_density_land\": 0.007341162572684437}, {\"geoid\": \"22055\", \"dealer_rate\": 0.15972740037918848, \"all_density_land\": 0.28602348439994213}, {\"geoid\": \"22093\", \"dealer_rate\": 0.0038765875899771413, \"all_density_land\": 0.0077531751799542825}, {\"geoid\": \"22109\", \"dealer_rate\": 0.0062437804914389945, \"all_density_land\": 0.014889015018046833}, {\"geoid\": \"22099\", \"dealer_rate\": 0.008573284630418097, \"all_density_land\": 0.01837132420803878}, {\"geoid\": \"51775\", \"dealer_rate\": 0.13756753123610768, \"all_density_land\": 0.4814863593263768}, {\"geoid\": \"51810\", \"dealer_rate\": 0.04423597093148101, \"all_density_land\": 0.15884735016304544}, {\"geoid\": \"51179\", \"dealer_rate\": 0.08573619590572634, \"all_density_land\": 0.17147239181145266}, {\"geoid\": \"48453\", \"dealer_rate\": 0.04594273537443065, \"all_density_land\": 0.14858076121092467}, {\"geoid\": \"48171\", \"dealer_rate\": 0.012244740196435296, \"all_density_land\": 0.032024705129138464}, {\"geoid\": \"48501\", \"dealer_rate\": 0.0012504147579701537, \"all_density_land\": 0.003751244273910461}, {\"geoid\": \"48149\", \"dealer_rate\": 0.013544374652126072, \"all_density_land\": 0.03125624919721401}, {\"geoid\": \"48463\", \"dealer_rate\": 0.0038495246664673496, \"all_density_land\": 0.010265399110579599}, {\"geoid\": \"48185\", \"dealer_rate\": 0.01247499658351084, \"all_density_land\": 0.021207494191968424}, {\"geoid\": \"48467\", \"dealer_rate\": 0.013959826405500567, \"all_density_land\": 0.02791965281100113}, {\"geoid\": \"48447\", \"dealer_rate\": 0.0010923216423281714, \"all_density_land\": 0.002184643284656342}, {\"geoid\": \"48145\", \"dealer_rate\": 0.005169020583224943, \"all_density_land\": 0.01679931689548107}, {\"geoid\": \"48181\", \"dealer_rate\": 0.02144658660622409, \"all_density_land\": 0.0592334296743332}, {\"geoid\": \"48139\", \"dealer_rate\": 0.04307864750499394, \"all_density_land\": 0.09141078860815789}, {\"geoid\": \"48191\", \"dealer_rate\": null, \"all_density_land\": 0.0033182286432093372}, {\"geoid\": \"48125\", \"dealer_rate\": null, \"all_density_land\": null}, {\"geoid\": \"48455\", \"dealer_rate\": 0.002801245752941971, \"all_density_land\": 0.007003114382354927}, {\"geoid\": \"48389\", \"dealer_rate\": null, \"all_density_land\": 0.0011354774057929131}, {\"geoid\": \"48315\", \"dealer_rate\": 0.0023791251723252003, \"all_density_land\": 0.0071373755169756}, {\"geoid\": \"48443\", \"dealer_rate\": 0.00042407777330862875, \"all_density_land\": 0.00042407777330862804}, {\"geoid\": \"48305\", \"dealer_rate\": 0.0011192230325075528, \"all_density_land\": 0.003357669097522658}, {\"geoid\": \"48283\", \"dealer_rate\": null, \"all_density_land\": 0.001338477784379113}, {\"geoid\": \"48241\", \"dealer_rate\": 0.0030937477992153653, \"all_density_land\": 0.01959373606169732}, {\"geoid\": \"48253\", \"dealer_rate\": 0.005335398881355883, \"all_density_land\": 0.011737877538982944}, {\"geoid\": \"48069\", \"dealer_rate\": 0.003335954397293554, \"all_density_land\": 0.002223969598195702}, {\"geoid\": \"48469\", \"dealer_rate\": 0.024751485138664958, \"all_density_land\": 0.06075364534035945}, {\"geoid\": \"48273\", \"dealer_rate\": 0.003669047242235435, \"all_density_land\": 0.008255356295029728}, {\"geoid\": \"48045\", \"dealer_rate\": null, \"all_density_land\": null}, {\"geoid\": \"48077\", \"dealer_rate\": 0.004477262884312144, \"all_density_land\": 0.006268168038037001}, {\"geoid\": \"48321\", \"dealer_rate\": 0.0037209027470790747, \"all_density_land\": 0.008682106409851174}, {\"geoid\": \"48047\", \"dealer_rate\": 0.0010597142402574194, \"all_density_land\": 0.0031791427207722577}, {\"geoid\": \"48399\", \"dealer_rate\": 0.0028379656590055225, \"all_density_land\": 0.007567908424014727}, {\"geoid\": \"48065\", \"dealer_rate\": 0.002164253528261047, \"all_density_land\": 0.002164253528261047}, {\"geoid\": \"05107\", \"dealer_rate\": 0.0027497273165862407, \"all_density_land\": 0.010998909266344965}, {\"geoid\": \"05111\", \"dealer_rate\": 0.00130956922690672, \"all_density_land\": 0.00916698458834704}, {\"geoid\": \"05143\", \"dealer_rate\": 0.022049342367247874, \"all_density_land\": 0.07139787052251692}, {\"geoid\": \"05081\", \"dealer_rate\": 0.0035412903028535685, \"all_density_land\": 0.00885322575713392}, {\"geoid\": \"05121\", \"dealer_rate\": 0.006097193890714849, \"all_density_land\": 0.02743737250821682}, {\"geoid\": \"05005\", \"dealer_rate\": 0.020452861830317817, \"all_density_land\": 0.06135858549095346}, {\"geoid\": \"05013\", \"dealer_rate\": null, \"all_density_land\": null}, {\"geoid\": \"05105\", \"dealer_rate\": 0.0017840212972744182, \"all_density_land\": 0.00892010648637209}, {\"geoid\": \"05027\", \"dealer_rate\": 0.007825208158627068, \"all_density_land\": 0.016954617677025316}, {\"geoid\": \"05053\", \"dealer_rate\": 0.011059673619340215, \"all_density_land\": 0.01579953374191459}, {\"geoid\": \"05131\", \"dealer_rate\": 0.02929529434608683, \"all_density_land\": 0.10436448610793433}, {\"geoid\": \"05085\", \"dealer_rate\": 0.021174817189483216, \"all_density_land\": 0.04982309926937227}, {\"geoid\": \"05101\", \"dealer_rate\": 0.0024295845124931844, \"all_density_land\": 0.009718338049972738}, {\"geoid\": \"05109\", \"dealer_rate\": 0.004884962432773499, \"all_density_land\": 0.014654887298320495}, {\"geoid\": \"05031\", \"dealer_rate\": 0.03788545832073972, \"all_density_land\": 0.06875509102652765}, {\"geoid\": \"05079\", \"dealer_rate\": null, \"all_density_land\": 0.006990746500593798}, {\"geoid\": \"05123\", \"dealer_rate\": 0.004669172564671548, \"all_density_land\": 0.014007517694014643}, {\"geoid\": \"05023\", \"dealer_rate\": 0.010136469572990378, \"all_density_land\": 0.03209882031446953}, {\"geoid\": \"05017\", \"dealer_rate\": 0.004342868378021111, \"all_density_land\": 0.007238113963368519}, {\"geoid\": \"05025\", \"dealer_rate\": 0.008350746186910918, \"all_density_land\": 0.010020895424293099}, {\"geoid\": \"05015\", \"dealer_rate\": 0.012523487005312226, \"all_density_land\": 0.045397640394256825}, {\"geoid\": \"05021\", \"dealer_rate\": 0.009354006968531241, \"all_density_land\": 0.02026701509848436}, {\"geoid\": \"38003\", \"dealer_rate\": 0.002643047094474854, \"all_density_land\": 0.006607617736187134}, {\"geoid\": \"38033\", \"dealer_rate\": 0.0019952360706826113, \"all_density_land\": 0.003990472141365223}, {\"geoid\": \"38091\", \"dealer_rate\": null, \"all_density_land\": null}, {\"geoid\": \"38099\", \"dealer_rate\": 0.0007727407431289613, \"all_density_land\": 0.006954666688160653}, {\"geoid\": \"38051\", \"dealer_rate\": 0.002010575917377463, \"all_density_land\": 0.005026439793443658}, {\"geoid\": \"38075\", \"dealer_rate\": 0.0011201382079442448, \"all_density_land\": 0.0022402764158884893}, {\"geoid\": \"38001\", \"dealer_rate\": null, \"all_density_land\": 0.001011415267807696}, {\"geoid\": \"38059\", \"dealer_rate\": 0.00565422760711893, \"all_density_land\": 0.010794434522681595}, {\"geoid\": \"38105\", \"dealer_rate\": 0.0046557669547970535, \"all_density_land\": 0.013036147473431747}, {\"geoid\": \"38005\", \"dealer_rate\": null, \"all_density_land\": 0.002778748174125328}, {\"geoid\": \"38017\", \"dealer_rate\": 0.011312859958636876, \"all_density_land\": 0.02941343589245588}, {\"geoid\": \"38057\", \"dealer_rate\": 0.0044944176831317635, \"all_density_land\": 0.015281020122647997}, {\"geoid\": \"38021\", \"dealer_rate\": 0.0035022253160053004, \"all_density_land\": 0.006128894303009275}, {\"geoid\": \"38023\", \"dealer_rate\": 0.0007726608214264301, \"all_density_land\": 0.00231798246427929}, {\"geoid\": \"38063\", \"dealer_rate\": 0.000991260960856574, \"all_density_land\": 0.0019825219217131478}, {\"geoid\": \"38069\", \"dealer_rate\": 0.001847857625506412, \"all_density_land\": 0.002771786438259618}, {\"geoid\": \"38047\", \"dealer_rate\": null, \"all_density_land\": 0.0019777686130680668}, {\"geoid\": \"38031\", \"dealer_rate\": 0.0030920331313984495, \"all_density_land\": 0.007730082828496124}, {\"geoid\": \"38053\", \"dealer_rate\": 0.0013982190682658442, \"all_density_land\": 0.003845102437731071}, {\"geoid\": \"38093\", \"dealer_rate\": 0.00261107044553674, \"all_density_land\": 0.00913874655937859}, {\"geoid\": \"38055\", \"dealer_rate\": 0.0017182001336119503, \"all_density_land\": 0.0068728005344478}, {\"geoid\": \"38083\", \"dealer_rate\": null, \"all_density_land\": 0.001988785078040854}, {\"geoid\": \"38085\", \"dealer_rate\": null, \"all_density_land\": null}, {\"geoid\": \"38077\", \"dealer_rate\": 0.0083019389977052, \"all_density_land\": 0.014528393245984096}, {\"geoid\": \"38089\", \"dealer_rate\": 0.011938577792703934, \"all_density_land\": 0.023130994473363878}, {\"geoid\": \"38015\", \"dealer_rate\": 0.011988271893130283, \"all_density_land\": 0.03057009332748222}, {\"geoid\": \"38009\", \"dealer_rate\": 0.0017674648350839643, \"all_density_land\": 0.007659014285363846}, {\"geoid\": \"38095\", \"dealer_rate\": null, \"all_density_land\": 0.001920346866258746}, {\"geoid\": \"38081\", \"dealer_rate\": null, \"all_density_land\": 0.003460608126905728}, {\"geoid\": \"38101\", \"dealer_rate\": 0.008268644075067166, \"all_density_land\": 0.017510069806024587}, {\"geoid\": \"20071\", \"dealer_rate\": 0.001284603586788659, \"all_density_land\": 0.002569207173577318}, {\"geoid\": \"20059\", \"dealer_rate\": 0.0069307706106622345, \"all_density_land\": 0.022525004484652264}, {\"geoid\": \"20147\", \"dealer_rate\": 0.002235732285408926, \"all_density_land\": 0.006707196856226777}, {\"geoid\": \"20085\", \"dealer_rate\": 0.0030394272575239765, \"all_density_land\": 0.01215770903009591}, {\"geoid\": \"20145\", \"dealer_rate\": 0.0026502497262397584, \"all_density_land\": 0.007950749178719274}, {\"geoid\": \"20027\", \"dealer_rate\": 0.006101281568847699, \"all_density_land\": 0.010677242745483474}, {\"geoid\": \"20011\", \"dealer_rate\": 0.007823605615410517, \"all_density_land\": 0.012517768984656827}, {\"geoid\": \"20157\", \"dealer_rate\": 0.004164082274820475, \"all_density_land\": 0.00832816454964095}, {\"geoid\": \"20043\", \"dealer_rate\": 0.0025108220995858238, \"all_density_land\": 0.010043288398343295}, {\"geoid\": \"20175\", \"dealer_rate\": 0.009367872793256038, \"all_density_land\": 0.015613121322093394}, {\"geoid\": \"20057\", \"dealer_rate\": 0.010008365081760803, \"all_density_land\": 0.018197027421383277}, {\"geoid\": \"20125\", \"dealer_rate\": 0.01074473662909938, \"all_density_land\": 0.02455939800937001}, {\"geoid\": \"20117\", \"dealer_rate\": 0.00773388826022976, \"all_density_land\": 0.01215325298036105}, {\"geoid\": \"20207\", \"dealer_rate\": 0.00197920679817118, \"all_density_land\": 0.00197920679817118}, {\"geoid\": \"20105\", \"dealer_rate\": null, \"all_density_land\": 0.001388007895953281}, {\"geoid\": \"20055\", \"dealer_rate\": 0.006141303051601096, \"all_density_land\": 0.013817931866102466}, {\"geoid\": \"20187\", \"dealer_rate\": null, \"all_density_land\": null}, {\"geoid\": \"20179\", \"dealer_rate\": 0.0022316268951355603, \"all_density_land\": 0.0055790672378389005}, {\"geoid\": \"20017\", \"dealer_rate\": 0.0012858025792350655, \"all_density_land\": 0.005143210316940262}, {\"geoid\": \"20051\", \"dealer_rate\": 0.01777038074987618, \"all_density_land\": 0.023323624734212487}, {\"geoid\": \"20209\", \"dealer_rate\": 0.012804678897371533, \"all_density_land\": 0.1152421100763438}, {\"geoid\": \"20035\", \"dealer_rate\": 0.007064476156094319, \"all_density_land\": 0.01677813087072401}, {\"geoid\": \"20021\", \"dealer_rate\": 0.00845990811329157, \"all_density_land\": 0.010151889735949883}, {\"geoid\": \"20155\", \"dealer_rate\": 0.00864705074959772, \"all_density_land\": 0.023582865680721057}, {\"geoid\": \"20197\", \"dealer_rate\": 0.006252968742897325, \"all_density_land\": 0.008754156240056255}, {\"geoid\": \"20033\", \"dealer_rate\": 0.0012663209115871482, \"all_density_land\": 0.002532641823174296}, {\"geoid\": \"20109\", \"dealer_rate\": 0.005591275221269743, \"all_density_land\": 0.006523154424814698}, {\"geoid\": \"24041\", \"dealer_rate\": 0.016778267197823073, \"all_density_land\": 0.035653817795374035}, {\"geoid\": \"24023\", \"dealer_rate\": 0.015250002995692099, \"all_density_land\": 0.02592500509267657}, {\"geoid\": \"24015\", \"dealer_rate\": 0.02393275988786411, \"all_density_land\": 0.05265207175330104}, {\"geoid\": \"24039\", \"dealer_rate\": null, \"all_density_land\": 0.014745574174565783}, {\"geoid\": \"24043\", \"dealer_rate\": 0.0449348587766164, \"all_density_land\": 0.10698775899194381}, {\"geoid\": \"24033\", \"dealer_rate\": 0.026060658285284567, \"all_density_land\": 0.07417264281196376}, {\"geoid\": \"24005\", \"dealer_rate\": 0.03520322321528907, \"all_density_land\": 0.08214085416900783}, {\"geoid\": \"31021\", \"dealer_rate\": 0.0020118169438823295, \"all_density_land\": 0.006035450831646989}, {\"geoid\": \"31047\", \"dealer_rate\": 0.0029428126209317977, \"all_density_land\": 0.005885625241863595}, {\"geoid\": \"31155\", \"dealer_rate\": 0.007896608660802712, \"all_density_land\": 0.015793217321605425}, {\"geoid\": \"31171\", \"dealer_rate\": 0.0014012310409992864, \"all_density_land\": 0.001401231040999286}, {\"geoid\": \"31003\", \"dealer_rate\": 0.0011646978612217592, \"all_density_land\": 0.004658791444887036}, {\"geoid\": \"31071\", \"dealer_rate\": 0.0017501336605468948, \"all_density_land\": 0.003500267321093789}, {\"geoid\": \"31165\", \"dealer_rate\": null, \"all_density_land\": 0.001934844342394789}, {\"geoid\": \"31049\", \"dealer_rate\": 0.002269053180114408, \"all_density_land\": 0.004538106360228816}, {\"geoid\": \"41005\", \"dealer_rate\": 0.023371761071742547, \"all_density_land\": 0.0754270470951691}, {\"geoid\": \"41067\", \"dealer_rate\": 0.04267502735379009, \"all_density_land\": 0.16244042670152356}, {\"geoid\": \"41023\", \"dealer_rate\": 0.0011039390373282212, \"all_density_land\": 0.002207878074656442}, {\"geoid\": \"41047\", \"dealer_rate\": 0.03522012742424506, \"all_density_land\": 0.08385744624820253}, {\"geoid\": \"31133\", \"dealer_rate\": 0.00461949096418373, \"all_density_land\": 0.006929236446275595}, {\"geoid\": \"31015\", \"dealer_rate\": null, \"all_density_land\": 0.007345777369709356}, {\"geoid\": \"31169\", \"dealer_rate\": 0.005217617065502721, \"all_density_land\": 0.012174439819506349}, {\"geoid\": \"31087\", \"dealer_rate\": 0.004175500809838366, \"all_density_land\": 0.008351001619676732}, {\"geoid\": \"41035\", \"dealer_rate\": 0.0024447743873348784, \"all_density_land\": 0.006845368284537659}, {\"geoid\": \"41069\", \"dealer_rate\": 0.000582953914560993, \"all_density_land\": 0.001165907829121986}, {\"geoid\": \"31007\", \"dealer_rate\": 0.0013398289984678981, \"all_density_land\": 0.002679657996935796}, {\"geoid\": \"31065\", \"dealer_rate\": 0.002775296852643204, \"all_density_land\": 0.008325890557929611}, {\"geoid\": \"31035\", \"dealer_rate\": 0.0034871245082203446, \"all_density_land\": 0.008717811270550862}, {\"geoid\": \"31121\", \"dealer_rate\": 0.010111275204543548, \"all_density_land\": 0.014155785286360969}, {\"geoid\": \"31017\", \"dealer_rate\": null, \"all_density_land\": 0.0016324347886702108}, {\"geoid\": \"31037\", \"dealer_rate\": null, \"all_density_land\": 0.002400867408345913}, {\"geoid\": \"31043\", \"dealer_rate\": 0.014957715049010084, \"all_density_land\": 0.04861257390928277}, {\"geoid\": \"41017\", \"dealer_rate\": 0.009493357728464989, \"all_density_land\": 0.03699135942470841}, {\"geoid\": \"41001\", \"dealer_rate\": 0.0051807487027914784, \"all_density_land\": 0.0074473262602627495}, {\"geoid\": \"31005\", \"dealer_rate\": 0.001392163661673688, \"all_density_land\": 0.001392163661673688}, {\"geoid\": \"31161\", \"dealer_rate\": 0.0012146688169338289, \"all_density_land\": 0.002834227239512267}, {\"geoid\": \"31159\", \"dealer_rate\": 0.001736454353765692, \"all_density_land\": 0.01910099789142261}, {\"geoid\": \"41033\", \"dealer_rate\": 0.007308823238404929, \"all_density_land\": 0.024971812731216837}, {\"geoid\": \"31179\", \"dealer_rate\": 0.006766896201287113, \"all_density_land\": 0.009022528268382818}, {\"geoid\": \"17011\", \"dealer_rate\": 0.009158518834026944, \"all_density_land\": 0.01946185252230725}, {\"geoid\": \"17039\", \"dealer_rate\": 0.012343111496141878, \"all_density_land\": 0.01974897839382701}, {\"geoid\": \"17157\", \"dealer_rate\": 0.0033489349359698646, \"all_density_land\": 0.050234024039547964}, {\"geoid\": \"17117\", \"dealer_rate\": 0.003457613239243905, \"all_density_land\": 0.01152537746414635}, {\"geoid\": \"17169\", \"dealer_rate\": 0.0022658717582893697, \"all_density_land\": 0.006797615274868108}, {\"geoid\": \"17153\", \"dealer_rate\": 0.004920550950377187, \"all_density_land\": 0.009841101900754372}, {\"geoid\": \"17161\", \"dealer_rate\": 0.02437467790085189, \"all_density_land\": 0.05318111542004049}, {\"geoid\": \"17055\", \"dealer_rate\": 0.011588993271687106, \"all_density_land\": 0.030131382506386483}, {\"geoid\": \"17023\", \"dealer_rate\": 0.009904553615928553, \"all_density_land\": 0.019809107231857102}, {\"geoid\": \"17051\", \"dealer_rate\": 0.00413597392813161, \"all_density_land\": 0.01792255368857031}, {\"geoid\": \"17021\", \"dealer_rate\": 0.009781447987083473, \"all_density_land\": 0.022357595399047935}, {\"geoid\": \"17187\", \"dealer_rate\": 0.0036828899251944974, \"all_density_land\": 0.009207224812986243}, {\"geoid\": \"17139\", \"dealer_rate\": 0.002902951027655756, \"all_density_land\": 0.0029029510276557557}, {\"geoid\": \"17015\", \"dealer_rate\": 0.004288532507984439, \"all_density_land\": 0.017154130031937755}, {\"geoid\": \"17191\", \"dealer_rate\": 0.002795301809838034, \"all_density_land\": 0.008385905429514102}, {\"geoid\": \"17185\", \"dealer_rate\": null, \"all_density_land\": 0.01758199042017785}, {\"geoid\": \"49009\", \"dealer_rate\": null, \"all_density_land\": 0.002775277979852424}, {\"geoid\": \"72085\", \"dealer_rate\": null, \"all_density_land\": null}, {\"geoid\": \"49007\", \"dealer_rate\": 0.005388588310281102, \"all_density_land\": 0.014145044314487891}, {\"geoid\": \"72001\", \"dealer_rate\": null, \"all_density_land\": null}, {\"geoid\": \"72121\", \"dealer_rate\": null, \"all_density_land\": null}, {\"geoid\": \"72153\", \"dealer_rate\": null, \"all_density_land\": null}, {\"geoid\": \"49001\", \"dealer_rate\": 0.0015430518998811196, \"all_density_land\": 0.0030861037997622393}, {\"geoid\": \"72119\", \"dealer_rate\": null, \"all_density_land\": null}, {\"geoid\": \"72101\", \"dealer_rate\": null, \"all_density_land\": null}, {\"geoid\": \"72073\", \"dealer_rate\": null, \"all_density_land\": null}, {\"geoid\": \"72067\", \"dealer_rate\": null, \"all_density_land\": null}, {\"geoid\": \"72023\", \"dealer_rate\": null, \"all_density_land\": null}, {\"geoid\": \"72131\", \"dealer_rate\": null, \"all_density_land\": null}, {\"geoid\": \"72143\", \"dealer_rate\": null, \"all_density_land\": null}, {\"geoid\": \"72075\", \"dealer_rate\": null, \"all_density_land\": null}, {\"geoid\": \"72051\", \"dealer_rate\": null, \"all_density_land\": null}, {\"geoid\": \"72035\", \"dealer_rate\": null, \"all_density_land\": null}, {\"geoid\": \"72099\", \"dealer_rate\": null, \"all_density_land\": null}, {\"geoid\": \"72025\", \"dealer_rate\": null, \"all_density_land\": null}, {\"geoid\": \"72107\", \"dealer_rate\": null, \"all_density_land\": null}, {\"geoid\": \"72055\", \"dealer_rate\": null, \"all_density_land\": null}, {\"geoid\": \"72009\", \"dealer_rate\": null, \"all_density_land\": null}, {\"geoid\": \"72141\", \"dealer_rate\": null, \"all_density_land\": null}, {\"geoid\": \"72063\", \"dealer_rate\": null, \"all_density_land\": null}, {\"geoid\": \"72093\", \"dealer_rate\": null, \"all_density_land\": null}, {\"geoid\": \"72127\", \"dealer_rate\": null, \"all_density_land\": null}, {\"geoid\": \"72021\", \"dealer_rate\": null, \"all_density_land\": null}, {\"geoid\": \"72109\", \"dealer_rate\": null, \"all_density_land\": null}, {\"geoid\": \"06113\", \"dealer_rate\": 0.003908021659841069, \"all_density_land\": 0.015632086639364277}, {\"geoid\": \"13067\", \"dealer_rate\": 0.12771475610443342, \"all_density_land\": 0.30187124170138807}, {\"geoid\": \"13073\", \"dealer_rate\": 0.058516687047969786, \"all_density_land\": 0.11053151997949849}, {\"geoid\": \"13117\", \"dealer_rate\": 0.07282551191679602, \"all_density_land\": 0.21038481220407743}, {\"geoid\": \"13009\", \"dealer_rate\": 0.022437374861428487, \"all_density_land\": 0.06731212458428547}, {\"geoid\": \"13295\", \"dealer_rate\": 0.031318145027468054, \"all_density_land\": 0.06039927969583125}, {\"geoid\": \"13107\", \"dealer_rate\": 0.00434668171938307, \"all_density_land\": 0.014488939064610235}, {\"geoid\": \"13123\", \"dealer_rate\": 0.016232003679747954, \"all_density_land\": 0.03478286502803133}, {\"geoid\": \"13301\", \"dealer_rate\": 0.006976228482803272, \"all_density_land\": 0.006976228482803273}, {\"geoid\": \"13105\", \"dealer_rate\": 0.005344503622948799, \"all_density_land\": 0.0187057626803208}, {\"geoid\": \"13063\", \"dealer_rate\": 0.04157096803835493, \"all_density_land\": 0.12471290411506479}, {\"geoid\": \"13025\", \"dealer_rate\": 0.002236123949523922, \"all_density_land\": 0.008944495798095689}, {\"geoid\": \"13051\", \"dealer_rate\": 0.022142718167181122, \"all_density_land\": 0.08066275903758838}, {\"geoid\": \"13225\", \"dealer_rate\": 0.019828066486909525, \"all_density_land\": 0.03304677747818254}, {\"geoid\": \"13101\", \"dealer_rate\": null, \"all_density_land\": 0.002376879429460268}, {\"geoid\": \"13109\", \"dealer_rate\": 0.026756628159353514, \"all_density_land\": 0.06421590758244844}, {\"geoid\": \"13239\", \"dealer_rate\": 0.006228008024699859, \"all_density_land\": 0.006228008024699858}, {\"geoid\": \"13155\", \"dealer_rate\": null, \"all_density_land\": 0.011026486961238965}, {\"geoid\": \"36067\", \"dealer_rate\": 0.031032070527722323, \"all_density_land\": 0.08316594901429583}, {\"geoid\": \"36001\", \"dealer_rate\": 0.02625154450873376, \"all_density_land\": 0.04687775805131029}, {\"geoid\": \"36109\", \"dealer_rate\": 0.008137392705493856, \"all_density_land\": 0.02441217811648157}, {\"geoid\": \"36045\", \"dealer_rate\": 0.007538133515699577, \"all_density_land\": 0.017230019464456174}, {\"geoid\": \"36069\", \"dealer_rate\": 0.027168720619913125, \"all_density_land\": 0.07395929502087462}, {\"geoid\": \"36047\", \"dealer_rate\": null, \"all_density_land\": 0.0515903503898926}, {\"geoid\": \"36027\", \"dealer_rate\": 0.027867046214510402, \"all_density_land\": 0.08844758146344606}, {\"geoid\": \"36017\", \"dealer_rate\": 0.012240856556658344, \"all_density_land\": 0.024481713113316688}, {\"geoid\": \"36021\", \"dealer_rate\": 0.018510930093249053, \"all_density_land\": 0.03856443769426886}, {\"geoid\": \"36059\", \"dealer_rate\": 0.04853952165665155, \"all_density_land\": 0.11252343656769223}, {\"geoid\": \"36119\", \"dealer_rate\": 0.05000047506382763, \"all_density_land\": 0.12800121616339874}, {\"geoid\": \"36025\", \"dealer_rate\": 0.009540382906705157, \"all_density_land\": 0.02725823687630045}, {\"geoid\": \"36081\", \"dealer_rate\": 0.016834303413142425, \"all_density_land\": 0.03366860682628486}, {\"geoid\": \"36089\", \"dealer_rate\": 0.005670864730742317, \"all_density_land\": 0.01630373610088416}, {\"geoid\": \"36051\", \"dealer_rate\": 0.017180548268730167, \"all_density_land\": 0.04373230468404043}, {\"geoid\": \"36087\", \"dealer_rate\": 0.11537962761286163, \"all_density_land\": 0.26085828851603493}, {\"geoid\": \"36029\", \"dealer_rate\": 0.061131970005570226, \"all_density_land\": 0.11655828947728723}, {\"geoid\": \"36121\", \"dealer_rate\": 0.013416348427567686, \"all_density_land\": 0.03354087106891922}, {\"geoid\": \"36107\", \"dealer_rate\": 0.011474908629794788, \"all_density_land\": 0.0325122411177519}, {\"geoid\": \"36039\", \"dealer_rate\": 0.022794627130982837, \"all_density_land\": 0.04254997064450129}, {\"geoid\": \"36103\", \"dealer_rate\": 0.008849050551743445, \"all_density_land\": 0.03202513533011913}, {\"geoid\": \"36097\", \"dealer_rate\": 0.017527042498732704, \"all_density_land\": 0.03213291124767662}, {\"geoid\": \"36077\", \"dealer_rate\": 0.008860430347612554, \"all_density_land\": 0.0226433219994543}, {\"geoid\": \"36003\", \"dealer_rate\": 0.009667566946498366, \"all_density_land\": 0.023202160671596073}, {\"geoid\": \"36031\", \"dealer_rate\": 0.002609240148703292, \"all_density_land\": 0.007827720446109876}, {\"geoid\": \"36105\", \"dealer_rate\": 0.015049322163425829, \"all_density_land\": 0.051167695355647816}, {\"geoid\": \"36117\", \"dealer_rate\": 0.014460747408278676, \"all_density_land\": 0.029644532186971287}, {\"geoid\": \"36073\", \"dealer_rate\": 0.008563576574697336, \"all_density_land\": 0.01835052123149429}, {\"geoid\": \"36091\", \"dealer_rate\": 0.021331875903518243, \"all_density_land\": 0.0580701066262441}, {\"geoid\": \"28011\", \"dealer_rate\": 0.004415900071319769, \"all_density_land\": 0.015455650249619191}, {\"geoid\": \"28013\", \"dealer_rate\": 0.0034015938268077937, \"all_density_land\": 0.013606375307231175}, {\"geoid\": \"28077\", \"dealer_rate\": 0.0022947913573626993, \"all_density_land\": 0.013768748144176194}, {\"geoid\": \"39165\", \"dealer_rate\": 0.0540125184761011, \"all_density_land\": 0.13257618171406632}, {\"geoid\": \"28045\", \"dealer_rate\": 0.0036199097433974323, \"all_density_land\": 0.014479638973589731}, {\"geoid\": \"28007\", \"dealer_rate\": null, \"all_density_land\": 0.006787123815927038}, {\"geoid\": \"28093\", \"dealer_rate\": 0.0028178311369323524, \"all_density_land\": 0.01127132454772941}, {\"geoid\": \"28043\", \"dealer_rate\": 0.013351027586610172, \"all_density_land\": 0.04005308275983052}, {\"geoid\": \"28003\", \"dealer_rate\": 0.012457633370677193, \"all_density_land\": 0.03986442678616702}, {\"geoid\": \"28029\", \"dealer_rate\": 0.006414659464189805, \"all_density_land\": 0.01154638703554165}, {\"geoid\": \"28025\", \"dealer_rate\": null, \"all_density_land\": 0.01682670048346245}, {\"geoid\": \"28039\", \"dealer_rate\": 0.01447318793306711, \"all_density_land\": 0.03514917069459155}, {\"geoid\": \"28001\", \"dealer_rate\": 0.006153265928343737, \"all_density_land\": 0.024613063713374947}, {\"geoid\": \"28005\", \"dealer_rate\": 0.0041006152904070415, \"all_density_land\": 0.008201230580814083}, {\"geoid\": \"22087\", \"dealer_rate\": 0.0004633765617219317, \"all_density_land\": 0.003243635932053522}, {\"geoid\": \"22123\", \"dealer_rate\": 0.0027734078385542207, \"all_density_land\": 0.022187262708433762}, {\"geoid\": \"22075\", \"dealer_rate\": 0.0007790535351190655, \"all_density_land\": 0.001558107070238131}, {\"geoid\": \"22103\", \"dealer_rate\": 0.022238358393484755, \"all_density_land\": 0.040029045108272564}, {\"geoid\": \"22047\", \"dealer_rate\": 0.0015317262105858825, \"all_density_land\": 0.009190357263515294}, {\"geoid\": \"22059\", \"dealer_rate\": 0.0030193540761491136, \"all_density_land\": 0.010567739266521898}, {\"geoid\": \"22095\", \"dealer_rate\": 0.005753168621748178, \"all_density_land\": 0.014382921554370445}, {\"geoid\": \"22063\", \"dealer_rate\": 0.032724069019123836, \"all_density_land\": 0.06971649486682903}, {\"geoid\": \"48291\", \"dealer_rate\": 0.015301619334946727, \"all_density_land\": 0.03315350855905124}, {\"geoid\": \"48287\", \"dealer_rate\": 0.004731114876082167, \"all_density_land\": 0.012616306336219112}, {\"geoid\": \"48189\", \"dealer_rate\": 0.003980979832353145, \"all_density_land\": 0.010947694538971148}, {\"geoid\": \"48029\", \"dealer_rate\": 0.06846665746254546, \"all_density_land\": 0.2515751599786553}, {\"geoid\": \"48169\", \"dealer_rate\": 0.0011158229705001213, \"all_density_land\": 0.002231645941000242}, {\"geoid\": \"48337\", \"dealer_rate\": 0.01065785145686579, \"all_density_land\": 0.024513058350791313}, {\"geoid\": \"48461\", \"dealer_rate\": 0.0016109516360462517, \"all_density_land\": 0.002416427454069377}, {\"geoid\": \"48193\", \"dealer_rate\": 0.007173665290821934, \"all_density_land\": 0.011956108818036555}, {\"geoid\": \"48151\", \"dealer_rate\": 0.0011089509580736968, \"all_density_land\": 0.001108950958073696}, {\"geoid\": \"48115\", \"dealer_rate\": 0.002216978837705308, \"all_density_land\": 0.009976404769673885}, {\"geoid\": \"48127\", \"dealer_rate\": null, \"all_density_land\": 0.002248012012373903}, {\"geoid\": \"48293\", \"dealer_rate\": 0.007501361805741333, \"all_density_land\": 0.02036083918701219}, {\"geoid\": \"48233\", \"dealer_rate\": 0.007821646043045543, \"all_density_land\": 0.014525914079941723}, {\"geoid\": \"05001\", \"dealer_rate\": 0.0019347051416403135, \"all_density_land\": 0.008706173137381411}, {\"geoid\": \"05119\", \"dealer_rate\": 0.04333487263607583, \"all_density_land\": 0.12009950416283871}, {\"geoid\": \"05061\", \"dealer_rate\": 0.008398929548474017, \"all_density_land\": 0.01847764500664284}, {\"geoid\": \"05139\", \"dealer_rate\": 0.011372246219844761, \"all_density_land\": 0.027482928364624837}, {\"geoid\": \"05099\", \"dealer_rate\": 0.0016112427691194347, \"all_density_land\": 0.004833728307358304}, {\"geoid\": \"05035\", \"dealer_rate\": 0.006285575829850928, \"all_density_land\": 0.018856727489552784}, {\"geoid\": \"05049\", \"dealer_rate\": 0.006448203764171137, \"all_density_land\": 0.0209566622335562}, {\"geoid\": \"05115\", \"dealer_rate\": 0.018055428376082438, \"all_density_land\": 0.046944113777814336}, {\"geoid\": \"05041\", \"dealer_rate\": 0.0036606519487106712, \"all_density_land\": 0.0061010865811844525}, {\"geoid\": \"05051\", \"dealer_rate\": 0.0313085420100546, \"all_density_land\": 0.05989460210619141}, {\"geoid\": \"38049\", \"dealer_rate\": 0.0010462751145670773, \"all_density_land\": 0.002615687786417693}, {\"geoid\": \"05091\", \"dealer_rate\": 0.014114345005768462, \"all_density_land\": 0.0360699927925194}, {\"geoid\": \"05145\", \"dealer_rate\": 0.025908097832260557, \"all_density_land\": 0.05373531402246634}, {\"geoid\": \"05039\", \"dealer_rate\": 0.0029935362080592675, \"all_density_land\": 0.005987072416118535}, {\"geoid\": \"05075\", \"dealer_rate\": null, \"all_density_land\": 0.016882146653740247}, {\"geoid\": \"05137\", \"dealer_rate\": 0.00492262037979269, \"all_density_land\": 0.013126987679447175}, {\"geoid\": \"05095\", \"dealer_rate\": 0.0016095272841266442, \"all_density_land\": 0.003219054568253288}, {\"geoid\": \"05087\", \"dealer_rate\": 0.007167772204567662, \"all_density_land\": 0.020308687912941704}, {\"geoid\": \"05089\", \"dealer_rate\": 0.014055483364734797, \"all_density_land\": 0.034357848224907284}, {\"geoid\": \"40119\", \"dealer_rate\": 0.02008687211485845, \"all_density_land\": 0.0430432973889824}, {\"geoid\": \"40015\", \"dealer_rate\": 0.0023252408929929323, \"all_density_land\": 0.011626204464964662}, {\"geoid\": \"40041\", \"dealer_rate\": 0.012621320081757684, \"all_density_land\": 0.018931980122636527}, {\"geoid\": \"40095\", \"dealer_rate\": 0.0046845547795931865, \"all_density_land\": 0.0327918834571523}, {\"geoid\": \"38043\", \"dealer_rate\": 0.0006978793421934245, \"all_density_land\": 0.002093638026580273}, {\"geoid\": \"40055\", \"dealer_rate\": null, \"all_density_land\": 0.003107363872764608}, {\"geoid\": \"40029\", \"dealer_rate\": 0.0019181111974517528, \"all_density_land\": 0.005754333592355259}, {\"geoid\": \"40133\", \"dealer_rate\": 0.006245374865046211, \"all_density_land\": 0.01561343716261553}, {\"geoid\": \"40099\", \"dealer_rate\": 0.011762089341328798, \"all_density_land\": 0.0235241786826576}, {\"geoid\": \"40067\", \"dealer_rate\": null, \"all_density_land\": 0.00129185301518101}, {\"geoid\": \"40141\", \"dealer_rate\": 0.003412187359362349, \"all_density_land\": 0.007961770505178814}, {\"geoid\": \"40091\", \"dealer_rate\": 0.011231445219945567, \"all_density_land\": 0.025270751744877522}, {\"geoid\": \"40023\", \"dealer_rate\": 0.005002675902293595, \"all_density_land\": 0.015008027706880785}, {\"geoid\": \"40059\", \"dealer_rate\": 0.0009605710817010271, \"all_density_land\": 0.0019211421634020539}, {\"geoid\": \"38061\", \"dealer_rate\": 0.001030094672825894, \"all_density_land\": 0.003605331354890629}, {\"geoid\": \"38045\", \"dealer_rate\": 0.0034755703964385984, \"all_density_land\": 0.009557818590206144}, {\"geoid\": \"40053\", \"dealer_rate\": 0.003985720847630073, \"all_density_land\": 0.00498215105953759}, {\"geoid\": \"40043\", \"dealer_rate\": null, \"all_density_land\": 0.0049591546264231064}, {\"geoid\": \"40109\", \"dealer_rate\": 0.09605040600105219, \"all_density_land\": 0.2839751133944152}, {\"geoid\": \"40079\", \"dealer_rate\": 0.006838350393568915, \"all_density_land\": 0.015541705439929353}, {\"geoid\": \"40105\", \"dealer_rate\": 0.006887238077854575, \"all_density_land\": 0.010330857116781863}, {\"geoid\": \"40139\", \"dealer_rate\": 0.0014643571246168736, \"all_density_land\": 0.006345547540006453}, {\"geoid\": \"54061\", \"dealer_rate\": 0.027331373413303515, \"all_density_land\": 0.10659235631188371}, {\"geoid\": \"54005\", \"dealer_rate\": 0.003974588734100271, \"all_density_land\": 0.02186023803755149}, {\"geoid\": \"54051\", \"dealer_rate\": 0.035239014558120826, \"all_density_land\": 0.07047802911624165}, {\"geoid\": \"54001\", \"dealer_rate\": 0.005833450967446801, \"all_density_land\": 0.03500070580468081}, {\"geoid\": \"32001\", \"dealer_rate\": 0.0007961518459213616, \"all_density_land\": 0.002985569422205105}, {\"geoid\": \"54095\", \"dealer_rate\": 0.019179405879602242, \"all_density_land\": 0.026851168231443137}, {\"geoid\": \"54049\", \"dealer_rate\": 0.038521002264647865, \"all_density_land\": 0.09309242213956567}, {\"geoid\": \"32510\", \"dealer_rate\": 0.09539304818168058, \"all_density_land\": 0.30525775418137785}, {\"geoid\": \"54105\", \"dealer_rate\": 0.012778686820256388, \"all_density_land\": 0.017038249093675184}, {\"geoid\": \"54063\", \"dealer_rate\": 0.00844523811471173, \"all_density_land\": 0.012667857172067596}, {\"geoid\": \"32023\", \"dealer_rate\": 0.0007692898103234694, \"all_density_land\": 0.002472717247468294}, {\"geoid\": \"54043\", \"dealer_rate\": 0.0022800218612547846, \"all_density_land\": 0.009120087445019139}, {\"geoid\": \"54075\", \"dealer_rate\": 0.006370647341622816, \"all_density_land\": 0.007432421898559952}, {\"geoid\": \"32029\", \"dealer_rate\": 0.0151720161157621, \"all_density_land\": 0.03793004028940525}, {\"geoid\": \"54033\", \"dealer_rate\": 0.033612040669431895, \"all_density_land\": 0.09603440191266255}, {\"geoid\": \"54069\", \"dealer_rate\": 0.027516875536418895, \"all_density_land\": 0.1375843776820945}, {\"geoid\": \"54067\", \"dealer_rate\": 0.006112408013020927, \"all_density_land\": 0.029033938061849406}, {\"geoid\": \"54023\", \"dealer_rate\": 0.016656719282686985, \"all_density_land\": 0.03747761838604572}, {\"geoid\": \"54015\", \"dealer_rate\": 0.0029085305404126928, \"all_density_land\": 0.017451183242476156}, {\"geoid\": \"54059\", \"dealer_rate\": 0.004717343410539255, \"all_density_land\": 0.02122804534742665}, {\"geoid\": \"54009\", \"dealer_rate\": 0.054012235395256285, \"all_density_land\": 0.12962936494861507}, {\"geoid\": \"54029\", \"dealer_rate\": 0.045470978533794476, \"all_density_land\": 0.2273548926689724}, {\"geoid\": \"54053\", \"dealer_rate\": 0.011243144621070669, \"all_density_land\": 0.031480804938997874}, {\"geoid\": \"54055\", \"dealer_rate\": 0.03565680308482643, \"all_density_land\": 0.08082208699227325}, {\"geoid\": \"32027\", \"dealer_rate\": 0.0003296277029470055, \"all_density_land\": 0.000659255405894011}, {\"geoid\": \"54021\", \"dealer_rate\": 0.014702473359796712, \"all_density_land\": 0.020583462703715402}, {\"geoid\": \"54031\", \"dealer_rate\": 0.017109047418995774, \"all_density_land\": 0.0376399043217907}, {\"geoid\": \"54037\", \"dealer_rate\": 0.018897236406058303, \"all_density_land\": 0.06141601831968949}, {\"geoid\": \"54065\", \"dealer_rate\": 0.026130833009712605, \"all_density_land\": 0.06968222135923362}, {\"geoid\": \"32007\", \"dealer_rate\": 0.0008138142950288552, \"all_density_land\": 0.002034535737572138}, {\"geoid\": \"20077\", \"dealer_rate\": 0.00622835864361223, \"all_density_land\": 0.0074740303723346765}, {\"geoid\": \"20037\", \"dealer_rate\": 0.006722558230480626, \"all_density_land\": 0.021848314249062032}, {\"geoid\": \"20001\", \"dealer_rate\": 0.00989461852561414, \"all_density_land\": 0.023747084461473934}, {\"geoid\": \"20111\", \"dealer_rate\": 0.002338040646837548, \"all_density_land\": 0.008183142263931418}, {\"geoid\": \"20149\", \"dealer_rate\": 0.006961275159696093, \"all_density_land\": 0.015082762846008202}, {\"geoid\": \"20005\", \"dealer_rate\": 0.0023051062265226213, \"all_density_land\": 0.01613574358565835}, {\"geoid\": \"20137\", \"dealer_rate\": 0.0022693792396785315, \"all_density_land\": 0.00794282733887486}, {\"geoid\": \"20193\", \"dealer_rate\": null, \"all_density_land\": 0.00465203757941296}, {\"geoid\": \"20091\", \"dealer_rate\": 0.11252435801452979, \"all_density_land\": 0.3021487391130892}, {\"geoid\": \"20075\", \"dealer_rate\": 0.004009506033655393, \"all_density_land\": 0.0030071295252415446}, {\"geoid\": \"20141\", \"dealer_rate\": 0.0022362374627820773, \"all_density_land\": 0.004472474925564154}, {\"geoid\": \"20083\", \"dealer_rate\": 0.0011623701832692024, \"all_density_land\": 0.0046494807330768086}, {\"geoid\": \"20195\", \"dealer_rate\": 0.0022231480268452707, \"all_density_land\": 0.005557870067113177}, {\"geoid\": \"20029\", \"dealer_rate\": 0.0027855527405806755, \"all_density_land\": 0.0069638818514516886}, {\"geoid\": \"20013\", \"dealer_rate\": 0.006991709769662954, \"all_density_land\": 0.017479274424157386}, {\"geoid\": \"20087\", \"dealer_rate\": 0.017963732796135785, \"all_density_land\": 0.043112958710725874}, {\"geoid\": \"20041\", \"dealer_rate\": 0.0070426645639853815, \"all_density_land\": 0.01995421626462525}, {\"geoid\": \"20101\", \"dealer_rate\": 0.0027868039694199133, \"all_density_land\": 0.009753813892969697}, {\"geoid\": \"20015\", \"dealer_rate\": 0.009678352239814616, \"all_density_land\": 0.02696112409662643}, {\"geoid\": \"20023\", \"dealer_rate\": null, \"all_density_land\": 0.0009794852112006431}, {\"geoid\": \"20199\", \"dealer_rate\": 0.0010944430189389531, \"all_density_land\": 0.0032833290568168587}, {\"geoid\": \"20019\", \"dealer_rate\": 0.006203796493183783, \"all_density_land\": 0.006203796493183783}, {\"geoid\": \"20097\", \"dealer_rate\": 0.0027667495289561365, \"all_density_land\": 0.006916873822390341}, {\"geoid\": \"20081\", \"dealer_rate\": 0.003460969664677942, \"all_density_land\": 0.008652424161694854}, {\"geoid\": \"20159\", \"dealer_rate\": 0.0027473932875706885, \"all_density_land\": 0.009615876506497409}, {\"geoid\": \"20129\", \"dealer_rate\": 0.0013700007892165343, \"all_density_land\": 0.004110002367649603}, {\"geoid\": \"20165\", \"dealer_rate\": 0.0013928094349530183, \"all_density_land\": 0.004178428304859055}, {\"geoid\": \"24045\", \"dealer_rate\": 0.0049970209209194046, \"all_density_land\": 0.08744786611608958}, {\"geoid\": \"24013\", \"dealer_rate\": 0.046389633152168944, \"all_density_land\": 0.09498829645444117}, {\"geoid\": \"24031\", \"dealer_rate\": 0.03747920807022401, \"all_density_land\": 0.11835539390597054}, {\"geoid\": \"24035\", \"dealer_rate\": 0.03132976871573153, \"all_density_land\": 0.050910874163063745}, {\"geoid\": \"24019\", \"dealer_rate\": 0.011190188632109407, \"all_density_land\": 0.0213630873885725}, {\"geoid\": \"24025\", \"dealer_rate\": 0.039875199573269106, \"all_density_land\": 0.08924449428303087}, {\"geoid\": \"24037\", \"dealer_rate\": 0.02486092012792543, \"all_density_land\": 0.06673194350127352}, {\"geoid\": \"31039\", \"dealer_rate\": 0.006960728274891586, \"all_density_land\": 0.010441092412337379}, {\"geoid\": \"31069\", \"dealer_rate\": null, \"all_density_land\": 0.0005777425354613519}, {\"geoid\": \"31101\", \"dealer_rate\": 0.0018022304940827508, \"all_density_land\": 0.008110037223372378}, {\"geoid\": \"31173\", \"dealer_rate\": 0.0025247585536442236, \"all_density_land\": 0.005049517107288447}, {\"geoid\": \"31139\", \"dealer_rate\": 0.006961448053003065, \"all_density_land\": 0.02262470617225996}, {\"geoid\": \"31147\", \"dealer_rate\": 0.0018031904621419305, \"all_density_land\": 0.014425523697135446}, {\"geoid\": \"31151\", \"dealer_rate\": 0.00867590200856691, \"all_density_land\": 0.01561662361542044}, {\"geoid\": \"31163\", \"dealer_rate\": 0.0034986815759743667, \"all_density_land\": 0.0069973631519487335}, {\"geoid\": \"31057\", \"dealer_rate\": 0.003257843327661021, \"all_density_land\": 0.004343791103548028}, {\"geoid\": \"31167\", \"dealer_rate\": 0.006960522592700981, \"all_density_land\": 0.011600870987834968}, {\"geoid\": \"31033\", \"dealer_rate\": 0.0025075231164130114, \"all_density_land\": 0.009194251426847709}, {\"geoid\": \"31013\", \"dealer_rate\": 0.006494488628573838, \"all_density_land\": 0.015772329526536462}, {\"geoid\": \"31183\", \"dealer_rate\": null, \"all_density_land\": 0.001737340195814023}, {\"geoid\": \"31095\", \"dealer_rate\": 0.0017371088714957558, \"all_density_land\": 0.010422653228974534}, {\"geoid\": \"31131\", \"dealer_rate\": 0.012923679920834747, \"all_density_land\": 0.016154599901043436}, {\"geoid\": \"31111\", \"dealer_rate\": 0.005436645376614267, \"all_density_land\": 0.009708295315382618}, {\"geoid\": \"31091\", \"dealer_rate\": 0.0013859989536768433, \"all_density_land\": 0.001385998953676843}, {\"geoid\": \"31145\", \"dealer_rate\": 0.004178237591691015, \"all_density_land\": 0.015320204502867061}, {\"geoid\": \"31075\", \"dealer_rate\": null, \"all_density_land\": 0.001276773179548733}, {\"geoid\": \"31053\", \"dealer_rate\": 0.012891356973633106, \"all_density_land\": 0.03867407092089932}, {\"geoid\": \"31029\", \"dealer_rate\": 0.002228414674689428, \"all_density_land\": 0.005571036686723571}, {\"geoid\": \"31153\", \"dealer_rate\": 0.07272049436801395, \"all_density_land\": 0.18584126338492454}, {\"geoid\": \"31157\", \"dealer_rate\": 0.013416311274199493, \"all_density_land\": 0.02549099142097904}, {\"geoid\": \"31177\", \"dealer_rate\": 0.007629777147335756, \"all_density_land\": 0.02034607239289535}, {\"geoid\": \"31077\", \"dealer_rate\": null, \"all_density_land\": 0.0017523684709027328}, {\"geoid\": \"31181\", \"dealer_rate\": null, \"all_density_land\": 0.0034779988780820007}, {\"geoid\": \"31055\", \"dealer_rate\": 0.06188358474278952, \"all_density_land\": 0.2003849410718899}, {\"geoid\": \"31025\", \"dealer_rate\": 0.010602742541407898, \"all_density_land\": 0.02297260883971711}, {\"geoid\": \"31031\", \"dealer_rate\": 0.0006656203387380441, \"all_density_land\": 0.0016640508468451101}, {\"geoid\": \"31011\", \"dealer_rate\": 0.0014551438903335882, \"all_density_land\": 0.008730863342001528}, {\"geoid\": \"31097\", \"dealer_rate\": null, \"all_density_land\": null}, {\"geoid\": \"31045\", \"dealer_rate\": 0.002854967292797856, \"all_density_land\": 0.00856490187839357}, {\"geoid\": \"31063\", \"dealer_rate\": null, \"all_density_land\": 0.0020406514236611033}, {\"geoid\": \"31129\", \"dealer_rate\": 0.005209972600668654, \"all_density_land\": 0.006946630134224871}, {\"geoid\": \"31099\", \"dealer_rate\": 0.003873348367872525, \"all_density_land\": 0.013556719287553838}, {\"geoid\": \"31051\", \"dealer_rate\": 0.008283284523739215, \"all_density_land\": 0.012424926785608824}, {\"geoid\": \"31093\", \"dealer_rate\": 0.0034746800874004774, \"all_density_land\": 0.005212020131100717}, {\"geoid\": \"31103\", \"dealer_rate\": null, \"all_density_land\": 0.003876378851115574}, {\"geoid\": \"31113\", \"dealer_rate\": 0.001750932222283613, \"all_density_land\": null}, {\"geoid\": \"31027\", \"dealer_rate\": null, \"all_density_land\": 0.005363033010832652}, {\"geoid\": \"31115\", \"dealer_rate\": 0.003502161052398421, \"all_density_land\": 0.003502161052398421}, {\"geoid\": \"31143\", \"dealer_rate\": 0.006808249272626271, \"all_density_land\": 0.004538832848417514}, {\"geoid\": \"31009\", \"dealer_rate\": null, \"all_density_land\": null}, {\"geoid\": \"31105\", \"dealer_rate\": 0.0010499734062314372, \"all_density_land\": 0.003149920218694311}, {\"geoid\": \"31073\", \"dealer_rate\": 0.00432223658167741, \"all_density_land\": 0.01296670974503223}, {\"geoid\": \"31083\", \"dealer_rate\": 0.013935811218283531, \"all_density_land\": 0.012193834815998091}, {\"geoid\": \"31137\", \"dealer_rate\": 0.007401577695901899, \"all_density_land\": 0.009251972119877374}, {\"geoid\": \"31081\", \"dealer_rate\": 0.0073123318679320405, \"all_density_land\": 0.01096849780189806}, {\"geoid\": \"31023\", \"dealer_rate\": 0.00338517642614835, \"all_density_land\": 0.01692588213074175}, {\"geoid\": \"17077\", \"dealer_rate\": 0.008300417800629624, \"all_density_land\": 0.023241169841762954}, {\"geoid\": \"17107\", \"dealer_rate\": 0.008078506466895464, \"all_density_land\": 0.01615701293379093}, {\"geoid\": \"17067\", \"dealer_rate\": 0.008595325233468377, \"all_density_land\": 0.017190650466936755}, {\"geoid\": \"17037\", \"dealer_rate\": 0.009453882766409004, \"all_density_land\": 0.012605177021878671}, {\"geoid\": \"17119\", \"dealer_rate\": 0.024305889893525848, \"all_density_land\": 0.06076472473381462}, {\"geoid\": \"17137\", \"dealer_rate\": 0.006989385824117404, \"all_density_land\": 0.029704889752498968}, {\"geoid\": \"17155\", \"dealer_rate\": null, \"all_density_land\": 0.01741922405893082}, {\"geoid\": \"17203\", \"dealer_rate\": 0.018428362238334356, \"all_density_land\": 0.02948537958133497}, {\"geoid\": \"17053\", \"dealer_rate\": 0.006169772029489897, \"all_density_land\": 0.010282953382483162}, {\"geoid\": \"17045\", \"dealer_rate\": 0.0016025739590821155, \"all_density_land\": 0.011218017713574809}, {\"geoid\": \"17165\", \"dealer_rate\": 0.007756352693353494, \"all_density_land\": 0.02068360718227598}, {\"geoid\": \"17147\", \"dealer_rate\": 0.006826527358689603, \"all_density_land\": 0.015928563836942407}, {\"geoid\": \"17095\", \"dealer_rate\": 0.006946262605395458, \"all_density_land\": 0.0166710302529491}, {\"geoid\": \"17189\", \"dealer_rate\": 0.0017733447400630766, \"all_density_land\": 0.012413413180441537}, {\"geoid\": \"17105\", \"dealer_rate\": 0.002868267833583021, \"all_density_land\": 0.00669262494502705}, {\"geoid\": \"17079\", \"dealer_rate\": 0.004015102640969844, \"all_density_land\": 0.01204530792290953}, {\"geoid\": \"49035\", \"dealer_rate\": 0.12138198654941519, \"all_density_land\": 0.39511075213534125}, {\"geoid\": \"49053\", \"dealer_rate\": 0.01275795424988609, \"all_density_land\": 0.03909695657223157}, {\"geoid\": \"49005\", \"dealer_rate\": 0.01193494627353309, \"all_density_land\": 0.053707258230898905}, {\"geoid\": \"49023\", \"dealer_rate\": 0.0008807108414445392, \"all_density_land\": 0.001467851402407565}, {\"geoid\": \"06045\", \"dealer_rate\": 0.0018049821841245506, \"all_density_land\": 0.005672801150105731}, {\"geoid\": \"06067\", \"dealer_rate\": 0.016096298994290995, \"all_density_land\": 0.07947547628431179}, {\"geoid\": \"06039\", \"dealer_rate\": 0.0032508419212092985, \"all_density_land\": 0.006966089831162783}, {\"geoid\": \"06115\", \"dealer_rate\": 0.0031065203770448756, \"all_density_land\": 0.023298902827836566}, {\"geoid\": \"06107\", \"dealer_rate\": 0.0031000241585108683, \"all_density_land\": 0.010746750416171008}, {\"geoid\": \"13033\", \"dealer_rate\": 0.001197629654099707, \"all_density_land\": 0.00838340757869795}, {\"geoid\": \"13151\", \"dealer_rate\": 0.03368584111895765, \"all_density_land\": 0.10411987254950547}, {\"geoid\": \"13179\", \"dealer_rate\": 0.013277403335802374, \"all_density_land\": 0.029874157505555343}, {\"geoid\": \"13195\", \"dealer_rate\": 0.01400620123794941, \"all_density_land\": 0.05602480495179763}, {\"geoid\": \"13279\", \"dealer_rate\": 0.021563765427705172, \"all_density_land\": 0.05390941356926294}, {\"geoid\": \"13207\", \"dealer_rate\": 0.010055023016167512, \"all_density_land\": 0.022623801786376897}, {\"geoid\": \"13065\", \"dealer_rate\": 0.0012136022337792883, \"all_density_land\": 0.003640806701337865}, {\"geoid\": \"13219\", \"dealer_rate\": 0.04829049859600366, \"all_density_land\": 0.05902172050622669}, {\"geoid\": \"13019\", \"dealer_rate\": 0.008735860891466447, \"all_density_land\": 0.02839154789726595}, {\"geoid\": \"13049\", \"dealer_rate\": 0.008947085902195066, \"all_density_land\": 0.01661601667550512}, {\"geoid\": \"13075\", \"dealer_rate\": 0.008576222299362347, \"all_density_land\": 0.04288111149681175}, {\"geoid\": \"13229\", \"dealer_rate\": 0.014567497803203109, \"all_density_land\": 0.032048495167046845}, {\"geoid\": \"13099\", \"dealer_rate\": 0.005810060294179445, \"all_density_land\": 0.013556807353085372}, {\"geoid\": \"13167\", \"dealer_rate\": null, \"all_density_land\": 0.016308270634457157}, {\"geoid\": \"13269\", \"dealer_rate\": 0.002633665143697177, \"all_density_land\": 0.00790099543109153}, {\"geoid\": \"13093\", \"dealer_rate\": 0.010068359998731157, \"all_density_land\": 0.012585449998413944}, {\"geoid\": \"13085\", \"dealer_rate\": 0.03264796594234372, \"all_density_land\": 0.06529593188468744}, {\"geoid\": \"13177\", \"dealer_rate\": 0.011057886336262254, \"all_density_land\": 0.024880244256590068}, {\"geoid\": \"13015\", \"dealer_rate\": 0.04254294514669184, \"all_density_land\": 0.07870444852137991}, {\"geoid\": \"13317\", \"dealer_rate\": null, \"all_density_land\": 0.008437139202679082}, {\"geoid\": \"13171\", \"dealer_rate\": 0.016143412838544976, \"all_density_land\": 0.03766796328993826}, {\"geoid\": \"13143\", \"dealer_rate\": 0.01765692245703369, \"all_density_land\": 0.04943938287969432}, {\"geoid\": \"13069\", \"dealer_rate\": 0.006637348972172338, \"all_density_land\": 0.0215713841595601}, {\"geoid\": \"13125\", \"dealer_rate\": 0.006922661765699071, \"all_density_land\": 0.027690647062796284}, {\"geoid\": \"13245\", \"dealer_rate\": 0.02130307458261966, \"all_density_land\": 0.08521229833047864}, {\"geoid\": \"13289\", \"dealer_rate\": 0.0027575991543775298, \"all_density_land\": 0.01103039661751012}, {\"geoid\": \"13311\", \"dealer_rate\": 0.012386065070103576, \"all_density_land\": 0.06193032535051788}, {\"geoid\": \"13201\", \"dealer_rate\": 0.003525312957864527, \"all_density_land\": 0.010575938873593583}, {\"geoid\": \"13199\", \"dealer_rate\": 0.009893034535344541, \"all_density_land\": 0.0237432828848269}, {\"geoid\": \"13217\", \"dealer_rate\": 0.025071820751847843, \"all_density_land\": 0.08237883961321434}, {\"geoid\": \"13205\", \"dealer_rate\": 0.0019461926272308233, \"all_density_land\": 0.013623348390615762}, {\"geoid\": \"13135\", \"dealer_rate\": 0.10531730930487175, \"all_density_land\": 0.2610037665381604}, {\"geoid\": \"13133\", \"dealer_rate\": 0.0024617752927235657, \"all_density_land\": 0.014770651756341392}, {\"geoid\": \"13261\", \"dealer_rate\": 0.008119291426609427, \"all_density_land\": 0.02029822856652357}, {\"geoid\": \"13243\", \"dealer_rate\": null, \"all_density_land\": 0.009283469599653772}, {\"geoid\": \"13119\", \"dealer_rate\": 0.03002426506090671, \"all_density_land\": 0.04128336445874673}, {\"geoid\": \"13235\", \"dealer_rate\": 0.007961574026465409, \"all_density_land\": 0.0039807870132327035}, {\"geoid\": \"13027\", \"dealer_rate\": 0.0020088374630988846, \"all_density_land\": 0.006026512389296654}, {\"geoid\": \"13055\", \"dealer_rate\": 0.019135190474631504, \"all_density_land\": 0.028702785711947256}, {\"geoid\": \"36057\", \"dealer_rate\": 0.012184565891828822, \"all_density_land\": 0.024369131783657648}, {\"geoid\": \"26123\", \"dealer_rate\": 0.010444605129415344, \"all_density_land\": 0.034815350431384486}, {\"geoid\": \"26157\", \"dealer_rate\": 0.0032825996131375062, \"all_density_land\": 0.015318798194641698}, {\"geoid\": \"26141\", \"dealer_rate\": 0.00038869348254850643, \"all_density_land\": 0.003886934825485064}, {\"geoid\": \"26025\", \"dealer_rate\": 0.02644939315240867, \"all_density_land\": 0.055682932952439305}, {\"geoid\": \"26111\", \"dealer_rate\": 0.03408652346224812, \"all_density_land\": 0.0643856554286909}, {\"geoid\": \"26019\", \"dealer_rate\": 0.002326752038665447, \"all_density_land\": 0.012797136212659956}, {\"geoid\": \"26069\", \"dealer_rate\": 0.0026453005575090565, \"all_density_land\": 0.007406841561025357}, {\"geoid\": \"26001\", \"dealer_rate\": 0.0022339227410929008, \"all_density_land\": 0.003909364796912576}, {\"geoid\": \"26045\", \"dealer_rate\": 0.025887392814556272, \"all_density_land\": 0.07248469988075756}, {\"geoid\": \"36079\", \"dealer_rate\": 0.04873078802937589, \"all_density_land\": 0.10964427306609575}, {\"geoid\": \"26053\", \"dealer_rate\": 0.0020320230862900792, \"all_density_land\": 0.0027093641150534383}, {\"geoid\": \"36023\", \"dealer_rate\": 0.011963667233263614, \"all_density_land\": 0.0319031126220363}, {\"geoid\": \"26011\", \"dealer_rate\": 0.0073454944878809545, \"all_density_land\": 0.014690988975761909}, {\"geoid\": \"26063\", \"dealer_rate\": 0.001872032255094627, \"all_density_land\": 0.0051480887015102235}, {\"geoid\": \"26137\", \"dealer_rate\": 0.001900457294436664, \"all_density_land\": 0.017104115649929977}, {\"geoid\": \"26153\", \"dealer_rate\": null, \"all_density_land\": 0.004777107089754481}, {\"geoid\": \"26081\", \"dealer_rate\": 0.05849000182846173, \"all_density_land\": 0.1376235337140276}, {\"geoid\": \"26051\", \"dealer_rate\": 0.007752995315169296, \"all_density_land\": 0.02325898594550789}, {\"geoid\": \"26027\", \"dealer_rate\": 0.013770936538632244, \"all_density_land\": 0.04328008626427278}, {\"geoid\": \"26071\", \"dealer_rate\": 0.0033024848306088877, \"all_density_land\": 0.005779348453565553}, {\"geoid\": \"26033\", \"dealer_rate\": null, \"all_density_land\": 0.0070412024805378845}, {\"geoid\": \"36041\", \"dealer_rate\": 0.0011063140102674906, \"all_density_land\": 0.0038720990359362166}, {\"geoid\": \"26023\", \"dealer_rate\": 0.011545660772235577, \"all_density_land\": 0.030788428725961537}, {\"geoid\": \"26103\", \"dealer_rate\": 0.00438016253332019, \"all_density_land\": 0.0084683142310857}, {\"geoid\": \"26155\", \"dealer_rate\": 0.01663747982355478, \"all_density_land\": 0.06470131042493525}, {\"geoid\": \"26005\", \"dealer_rate\": 0.010909363765652996, \"all_density_land\": 0.02454606847271924}, {\"geoid\": \"26131\", \"dealer_rate\": 0.0005346363636165177, \"all_density_land\": 0.001069272727233035}, {\"geoid\": \"26099\", \"dealer_rate\": 0.1278793553354604, \"all_density_land\": 0.3380919942430666}, {\"geoid\": \"26159\", \"dealer_rate\": 0.0036700702194991442, \"all_density_land\": 0.015597798432871367}, {\"geoid\": \"26147\", \"dealer_rate\": 0.021518066673174508, \"all_density_land\": 0.06933599261356231}, {\"geoid\": \"26085\", \"dealer_rate\": 0.0017413111628856095, \"all_density_land\": 0.012189178140199269}, {\"geoid\": \"26113\", \"dealer_rate\": 0.0052280340998181185, \"all_density_land\": 0.02265481443254518}, {\"geoid\": \"26003\", \"dealer_rate\": 0.00019810908507188668, \"all_density_land\": 0.000990545425359433}, {\"geoid\": \"36071\", \"dealer_rate\": 0.053658022377361364, \"all_density_land\": 0.10373884326289864}, {\"geoid\": \"36005\", \"dealer_rate\": null, \"all_density_land\": 0.05219397017129983}, {\"geoid\": \"26073\", \"dealer_rate\": 0.008655300795497227, \"all_density_land\": 0.041545443818386686}, {\"geoid\": \"26009\", \"dealer_rate\": 0.00498529311539546, \"all_density_land\": 0.013294114974387893}, {\"geoid\": \"36011\", \"dealer_rate\": 0.01852557481209699, \"all_density_land\": 0.03241975592116973}, {\"geoid\": \"26047\", \"dealer_rate\": 0.007936525299430877, \"all_density_land\": 0.015873050598861755}, {\"geoid\": \"26095\", \"dealer_rate\": null, \"all_density_land\": 0.0036601647031797168}, {\"geoid\": \"26143\", \"dealer_rate\": 0.008620223263550554, \"all_density_land\": 0.02068853583252133}, {\"geoid\": \"36123\", \"dealer_rate\": 0.010644254844431395, \"all_density_land\": 0.018627445977754942}, {\"geoid\": \"26075\", \"dealer_rate\": 0.02487919370113417, \"all_density_land\": 0.064962339108517}, {\"geoid\": \"26083\", \"dealer_rate\": null, \"all_density_land\": null}, {\"geoid\": \"26061\", \"dealer_rate\": 0.007326012268639223, \"all_density_land\": 0.018648031229263475}, {\"geoid\": \"26109\", \"dealer_rate\": 0.004483764913151631, \"all_density_land\": 0.01046211813068714}, {\"geoid\": \"26041\", \"dealer_rate\": 0.0045196004580924706, \"all_density_land\": 0.017074046175015997}, {\"geoid\": \"26149\", \"dealer_rate\": 0.0019192670224818652, \"all_density_land\": 0.023031204269782383}, {\"geoid\": \"26031\", \"dealer_rate\": 0.0022589056193023263, \"all_density_land\": 0.010165075286860469}, {\"geoid\": \"26139\", \"dealer_rate\": 0.02329280751784618, \"all_density_land\": 0.04597264641680167}, {\"geoid\": \"26091\", \"dealer_rate\": 0.01970033102904606, \"all_density_land\": 0.04202737286196492}, {\"geoid\": \"36095\", \"dealer_rate\": 0.011176261211389866, \"all_density_land\": 0.0191593049338112}, {\"geoid\": \"36037\", \"dealer_rate\": 0.012113689197620943, \"all_density_land\": 0.054511601389294236}, {\"geoid\": \"26043\", \"dealer_rate\": 0.002573834823422285, \"all_density_land\": 0.016729926352244854}, {\"geoid\": \"26007\", \"dealer_rate\": 0.007669969142084049, \"all_density_land\": 0.010619957273654841}, {\"geoid\": \"26049\", \"dealer_rate\": 0.04618319160581289, \"all_density_land\": 0.12161573789530729}, {\"geoid\": \"26129\", \"dealer_rate\": 0.012174923977643613, \"all_density_land\": 0.024349847955287225}, {\"geoid\": \"36101\", \"dealer_rate\": 0.011395334971058314, \"all_density_land\": 0.025639503684881205}, {\"geoid\": \"26115\", \"dealer_rate\": 0.013234923233153895, \"all_density_land\": 0.05588078698442756}, {\"geoid\": \"26165\", \"dealer_rate\": 0.01390178572491815, \"all_density_land\": 0.041705357174754445}, {\"geoid\": \"26037\", \"dealer_rate\": 0.019145162187437198, \"all_density_land\": 0.04873314011347649}, {\"geoid\": \"26015\", \"dealer_rate\": 0.017329787695330594, \"all_density_land\": 0.04159149046879343}, {\"geoid\": \"26119\", \"dealer_rate\": 0.005331890800048792, \"all_density_land\": 0.014218375466796778}, {\"geoid\": \"26107\", \"dealer_rate\": 0.012255024774852736, \"all_density_land\": 0.02275933172472651}, {\"geoid\": \"26013\", \"dealer_rate\": 0.0018713063355245837, \"all_density_land\": 0.004678265838811459}, {\"geoid\": \"26055\", \"dealer_rate\": 0.019956273343313076, \"all_density_land\": 0.05321672891550154}, {\"geoid\": \"26017\", \"dealer_rate\": 0.012684000839835969, \"all_density_land\": 0.03171000209958992}, {\"geoid\": \"26151\", \"dealer_rate\": 0.007547457018857315, \"all_density_land\": 0.016352823540857514}, {\"geoid\": \"26127\", \"dealer_rate\": 0.00536006573737847, \"all_density_land\": 0.012251578828293646}, {\"geoid\": \"26067\", \"dealer_rate\": 0.020688003239595246, \"all_density_land\": 0.04137600647919049}, {\"geoid\": \"26093\", \"dealer_rate\": 0.051246661918676766, \"all_density_land\": 0.10420154590130942}, {\"geoid\": \"26163\", \"dealer_rate\": 0.07581641866205198, \"all_density_land\": 0.20366371287649254}, {\"geoid\": \"36065\", \"dealer_rate\": 0.023853804877611004, \"all_density_land\": 0.05247837073074421}, {\"geoid\": \"26021\", \"dealer_rate\": 0.011381836524783612, \"all_density_land\": 0.027189942809205295}, {\"geoid\": \"36115\", \"dealer_rate\": 0.017732850269999826, \"all_density_land\": 0.03783008057599963}, {\"geoid\": \"26089\", \"dealer_rate\": 0.0011847453243859368, \"all_density_land\": 0.0027644057569005194}, {\"geoid\": \"28105\", \"dealer_rate\": 0.006494458732127286, \"all_density_land\": 0.03247229366063644}, {\"geoid\": \"28059\", \"dealer_rate\": 0.01150091424295685, \"all_density_land\": 0.03258592368837774}, {\"geoid\": \"28095\", \"dealer_rate\": 0.010361408870228876, \"all_density_land\": 0.02331316995801497}, {\"geoid\": \"28071\", \"dealer_rate\": 0.016195691451952147, \"all_density_land\": 0.03680838966352761}, {\"geoid\": \"28079\", \"dealer_rate\": 0.010248056473945812, \"all_density_land\": 0.025620141184864532}, {\"geoid\": \"28069\", \"dealer_rate\": null, \"all_density_land\": 0.001303738495541123}, {\"geoid\": \"28081\", \"dealer_rate\": 0.02647985552735555, \"all_density_land\": 0.06840629344566851}, {\"geoid\": \"28109\", \"dealer_rate\": 0.014653657375349146, \"all_density_land\": 0.028086176636085865}, {\"geoid\": \"28051\", \"dealer_rate\": 0.0013078434530697065, \"all_density_land\": 0.002615686906139413}, {\"geoid\": \"22051\", \"dealer_rate\": 0.03306173662876138, \"all_density_land\": 0.0886655664134964}, {\"geoid\": \"22113\", \"dealer_rate\": 0.007781750203857817, \"all_density_land\": 0.01815741714233491}, {\"geoid\": \"22083\", \"dealer_rate\": 0.008857150376923363, \"all_density_land\": 0.0194857308292314}, {\"geoid\": \"22097\", \"dealer_rate\": 0.013844783458444185, \"all_density_land\": 0.04046936703237531}, {\"geoid\": \"48299\", \"dealer_rate\": 0.004141401327118221, \"all_density_land\": 0.01345955431313422}, {\"geoid\": \"48377\", \"dealer_rate\": null, \"all_density_land\": 0.0005186809480781001}, {\"geoid\": \"48133\", \"dealer_rate\": 0.0021461199025977137, \"all_density_land\": 0.01394977936688514}, {\"geoid\": \"48403\", \"dealer_rate\": 0.0017342201839776886, \"all_density_land\": 0.005202660551933066}, {\"geoid\": \"48481\", \"dealer_rate\": 0.004568840443512017, \"all_density_land\": 0.01553405750794086}, {\"geoid\": \"48401\", \"dealer_rate\": 0.01385326984308186, \"all_density_land\": 0.033034720395041364}, {\"geoid\": \"48439\", \"dealer_rate\": 0.23162902230767607, \"all_density_land\": 0.6372568795546111}, {\"geoid\": \"48285\", \"dealer_rate\": 0.008243718409264925, \"all_density_land\": 0.02163976082432043}, {\"geoid\": \"48075\", \"dealer_rate\": null, \"all_density_land\": 0.011208943600762385}, {\"geoid\": \"05047\", \"dealer_rate\": 0.006455336716054224, \"all_density_land\": 0.01936601014816267}, {\"geoid\": \"05117\", \"dealer_rate\": 0.0029602695668704696, \"all_density_land\": 0.0074006739171761735}, {\"geoid\": \"05057\", \"dealer_rate\": 0.004047614862178899, \"all_density_land\": 0.0202380743108945}, {\"geoid\": \"05077\", \"dealer_rate\": null, \"all_density_land\": 0.003228399345746936}, {\"geoid\": \"05029\", \"dealer_rate\": 0.012352920074428998, \"all_density_land\": 0.02647054301663357}, {\"geoid\": \"05067\", \"dealer_rate\": 0.0015588433898959181, \"all_density_land\": 0.010911903729271427}, {\"geoid\": \"05043\", \"dealer_rate\": 0.00598330070452858, \"all_density_land\": 0.015556581831774309}, {\"geoid\": \"05037\", \"dealer_rate\": 0.00964154741629981, \"all_density_land\": 0.019283094832599615}, {\"geoid\": \"05019\", \"dealer_rate\": 0.005663607500409376, \"all_density_land\": 0.014725379501064374}, {\"geoid\": \"05033\", \"dealer_rate\": 0.013239718869165615, \"all_density_land\": 0.05461384033530817}, {\"geoid\": \"05065\", \"dealer_rate\": 0.011985935428209084, \"all_density_land\": 0.018835041387185704}, {\"geoid\": \"05127\", \"dealer_rate\": 0.003340483867310618, \"all_density_land\": 0.008907956979494982}, {\"geoid\": \"05073\", \"dealer_rate\": 0.0018345969331292, \"all_density_land\": 0.0036691938662584}, {\"geoid\": \"05093\", \"dealer_rate\": 0.005435892860837108, \"all_density_land\": 0.0152205000103439}, {\"geoid\": \"05055\", \"dealer_rate\": 0.015528954717906555, \"all_density_land\": 0.031057909435813113}, {\"geoid\": \"05045\", \"dealer_rate\": 0.025599612319739, \"all_density_land\": 0.07981055605565689}, {\"geoid\": \"05069\", \"dealer_rate\": 0.007660522716139502, \"all_density_land\": 0.01750976620831886}, {\"geoid\": \"05113\", \"dealer_rate\": 0.00927576869868891, \"all_density_land\": 0.015073124135369481}, {\"geoid\": \"05009\", \"dealer_rate\": 0.028247104797696067, \"all_density_land\": 0.056494209595392135}, {\"geoid\": \"05071\", \"dealer_rate\": 0.01171742304034884, \"all_density_land\": 0.019040812440566865}, {\"geoid\": \"05103\", \"dealer_rate\": 0.002703606524237392, \"all_density_land\": 0.01757344240754305}, {\"geoid\": \"05007\", \"dealer_rate\": 0.05204171178405415, \"all_density_land\": 0.11652818073386038}, {\"geoid\": \"05125\", \"dealer_rate\": 0.024640994482067514, \"all_density_land\": 0.06434037448095406}, {\"geoid\": \"05129\", \"dealer_rate\": 0.0029917261670914033, \"all_density_land\": 0.0074793154177285074}, {\"geoid\": \"05011\", \"dealer_rate\": 0.003063176233990335, \"all_density_land\": 0.007657940584975837}, {\"geoid\": \"05149\", \"dealer_rate\": 0.002107799705741866, \"all_density_land\": 0.013700698087322131}, {\"geoid\": \"05135\", \"dealer_rate\": 0.006595914526749149, \"all_density_land\": 0.029681615370371173}, {\"geoid\": \"40107\", \"dealer_rate\": 0.0015901528825874812, \"all_density_land\": 0.004770458647762443}, {\"geoid\": \"40123\", \"dealer_rate\": 0.009652262941187095, \"all_density_land\": 0.02895678882356129}, {\"geoid\": \"40129\", \"dealer_rate\": null, \"all_density_land\": 0.005233667211319293}, {\"geoid\": \"40075\", \"dealer_rate\": 0.003880849074846207, \"all_density_land\": 0.007761698149692414}, {\"geoid\": \"40143\", \"dealer_rate\": 0.13287495511623007, \"all_density_land\": 0.3407050131185387}, {\"geoid\": \"40009\", \"dealer_rate\": null, \"all_density_land\": 0.021019107945636044}, {\"geoid\": \"40005\", \"dealer_rate\": 0.007071321014461477, \"all_density_land\": 0.012122264596219673}, {\"geoid\": \"40001\", \"dealer_rate\": 0.005198831094231695, \"all_density_land\": 0.019062380678849543}, {\"geoid\": \"40103\", \"dealer_rate\": 0.005386941358083565, \"all_density_land\": 0.00942714737664624}, {\"geoid\": \"40057\", \"dealer_rate\": 0.0018564530592086546, \"all_density_land\": 0.011138718355251926}, {\"geoid\": \"40093\", \"dealer_rate\": 0.0010439041106359104, \"all_density_land\": 0.00208780822127182}, {\"geoid\": \"40003\", \"dealer_rate\": 0.002269278177760315, \"all_density_land\": 0.0022692781777603147}, {\"geoid\": \"40035\", \"dealer_rate\": 0.003932974064063833, \"all_density_land\": 0.0117989221921915}, {\"geoid\": \"40085\", \"dealer_rate\": null, \"all_density_land\": 0.007513237623476859}, {\"geoid\": \"40007\", \"dealer_rate\": 0.0005502037104917772, \"all_density_land\": 0.0033012222629506633}, {\"geoid\": \"40127\", \"dealer_rate\": 0.0007028104761280435, \"all_density_land\": 0.007028104761280435}, {\"geoid\": \"40137\", \"dealer_rate\": 0.012340639354665025, \"all_density_land\": 0.033656289149086444}, {\"geoid\": \"40097\", \"dealer_rate\": 0.01024122708682972, \"all_density_land\": 0.02340851905561079}, {\"geoid\": \"40013\", \"dealer_rate\": 0.009534491098186049, \"all_density_land\": 0.01589081849697675}, {\"geoid\": \"40071\", \"dealer_rate\": 0.009524182867943575, \"all_density_land\": 0.025397820981182862}, {\"geoid\": \"40101\", \"dealer_rate\": 0.010717093843986749, \"all_density_land\": 0.04167758717105958}, {\"geoid\": \"40065\", \"dealer_rate\": 0.013677519214250911, \"all_density_land\": 0.024868216753183472}, {\"geoid\": \"40025\", \"dealer_rate\": 0.0005432168415701002, \"all_density_land\": 0.0010864336831402}, {\"geoid\": \"40045\", \"dealer_rate\": null, \"all_density_land\": 0.004870598132449445}, {\"geoid\": \"40115\", \"dealer_rate\": 0.02888929697069653, \"all_density_land\": 0.05158803030481523}, {\"geoid\": \"40087\", \"dealer_rate\": 0.01723385380691743, \"all_density_land\": 0.03446770761383486}, {\"geoid\": \"54093\", \"dealer_rate\": 0.011873882106704729, \"all_density_land\": 0.02137298779206851}, {\"geoid\": \"54011\", \"dealer_rate\": 0.04166422255269217, \"all_density_land\": 0.11457661201990348}, {\"geoid\": \"54057\", \"dealer_rate\": 0.033412523946786024, \"all_density_land\": 0.07593755442451369}, {\"geoid\": \"54027\", \"dealer_rate\": 0.013961890267096122, \"all_density_land\": 0.03878302851971145}, {\"geoid\": \"54039\", \"dealer_rate\": 0.021955815529893324, \"all_density_land\": 0.07574756357813195}, {\"geoid\": \"54041\", \"dealer_rate\": 0.010265710341243423, \"all_density_land\": 0.05132855170621711}, {\"geoid\": \"54013\", \"dealer_rate\": 0.0071255616570274835, \"all_density_land\": 0.014251123314054967}, {\"geoid\": \"54107\", \"dealer_rate\": 0.026541641958696047, \"all_density_land\": 0.09024158265956655}, {\"geoid\": \"54073\", \"dealer_rate\": null, \"all_density_land\": 0.029729344307451683}, {\"geoid\": \"54017\", \"dealer_rate\": 0.0031203571252224594, \"all_density_land\": 0.012481428500889836}, {\"geoid\": \"54081\", \"dealer_rate\": 0.01312880756964737, \"all_density_land\": 0.041027523655148036}, {\"geoid\": \"54091\", \"dealer_rate\": 0.02846092351276576, \"all_density_land\": 0.06830621643063782}, {\"geoid\": \"08069\", \"dealer_rate\": 0.0227795103437761, \"all_density_land\": 0.05505048333079225}, {\"geoid\": \"08071\", \"dealer_rate\": 0.0016752424019000577, \"all_density_land\": 0.004188106004750144}, {\"geoid\": \"54019\", \"dealer_rate\": 0.004488681196285305, \"all_density_land\": 0.02393963304685496}, {\"geoid\": \"54083\", \"dealer_rate\": 0.014423661894114545, \"all_density_land\": 0.03365521108626727}, {\"geoid\": \"08043\", \"dealer_rate\": 0.010430618997586641, \"all_density_land\": 0.022816979057220778}, {\"geoid\": \"54099\", \"dealer_rate\": 0.00976348283118551, \"all_density_land\": 0.02733775192731943}, {\"geoid\": \"54003\", \"dealer_rate\": 0.07463686015530946, \"all_density_land\": 0.2083612346002389}, {\"geoid\": \"54045\", \"dealer_rate\": 0.013168986341500776, \"all_density_land\": 0.02414314162608476}, {\"geoid\": \"54035\", \"dealer_rate\": 0.012721859634801911, \"all_density_land\": 0.036045268965272076}, {\"geoid\": \"54025\", \"dealer_rate\": 0.007808611721886095, \"all_density_land\": 0.028306217491837097}, {\"geoid\": \"08051\", \"dealer_rate\": 0.0024542653969652703, \"all_density_land\": 0.0036813980954479046}, {\"geoid\": \"54109\", \"dealer_rate\": 0.001992751511539355, \"all_density_land\": 0.011956509069236131}, {\"geoid\": \"54079\", \"dealer_rate\": 0.022831114279588897, \"all_density_land\": 0.05993167498392085}, {\"geoid\": \"08021\", \"dealer_rate\": null, \"all_density_land\": 0.005422413223134087}, {\"geoid\": \"54077\", \"dealer_rate\": 0.016887004100795286, \"all_density_land\": 0.041449919156497525}, {\"geoid\": \"54101\", \"dealer_rate\": 0.005393465054801586, \"all_density_land\": 0.010786930109603172}, {\"geoid\": \"54071\", \"dealer_rate\": 0.008594196150532774, \"all_density_land\": 0.020053124351243137}, {\"geoid\": \"54085\", \"dealer_rate\": 0.00440821480396198, \"all_density_land\": 0.011020537009904952}, {\"geoid\": \"54103\", \"dealer_rate\": 0.011070227900382137, \"all_density_land\": 0.027675569750955344}, {\"geoid\": \"08037\", \"dealer_rate\": 0.005319798281371423, \"all_density_land\": 0.010639596562742847}, {\"geoid\": \"54087\", \"dealer_rate\": 0.004134631877340918, \"all_density_land\": 0.03307705501872735}, {\"geoid\": \"54007\", \"dealer_rate\": 0.011621756159213358, \"all_density_land\": 0.032928309117771185}, {\"geoid\": \"54097\", \"dealer_rate\": 0.01973196196975027, \"all_density_land\": 0.03382622051957189}, {\"geoid\": \"54047\", \"dealer_rate\": null, \"all_density_land\": 0.011217085509255577}, {\"geoid\": \"54089\", \"dealer_rate\": 0.005438819702868353, \"all_density_land\": 0.01903586896003924}, {\"geoid\": \"20201\", \"dealer_rate\": 0.0022255093328558853, \"all_density_land\": 0.005563773332139712}, {\"geoid\": \"20131\", \"dealer_rate\": 0.009729824726489377, \"all_density_land\": 0.012509774648343486}, {\"geoid\": \"20113\", \"dealer_rate\": 0.0033311024239795414, \"all_density_land\": 0.00777257232261893}, {\"geoid\": \"20135\", \"dealer_rate\": 0.002790709428124973, \"all_density_land\": 0.004651182380208288}, {\"geoid\": \"20067\", \"dealer_rate\": 0.012170855401386809, \"all_density_land\": 0.02086432354523453}, {\"geoid\": \"20139\", \"dealer_rate\": 0.00833512252749392, \"all_density_land\": 0.01667024505498784}, {\"geoid\": \"20099\", \"dealer_rate\": 0.004593353214980936, \"all_density_land\": 0.013780059644942808}, {\"geoid\": \"20047\", \"dealer_rate\": 0.003215567436827982, \"all_density_land\": 0.004823351155241973}, {\"geoid\": \"20103\", \"dealer_rate\": 0.0255878711246478, \"all_density_land\": 0.0810282585613847}, {\"geoid\": \"20107\", \"dealer_rate\": 0.0032981791085565934, \"all_density_land\": 0.014841805988504674}, {\"geoid\": \"20127\", \"dealer_rate\": 0.009958903040844755, \"all_density_land\": 0.012804303909657542}, {\"geoid\": \"20163\", \"dealer_rate\": null, \"all_density_land\": 0.004468515838857052}, {\"geoid\": \"20007\", \"dealer_rate\": 0.001760306521965357, \"all_density_land\": 0.004400766304913392}, {\"geoid\": \"20003\", \"dealer_rate\": 0.003426219970316273, \"all_density_land\": 0.006852439940632547}, {\"geoid\": \"20039\", \"dealer_rate\": null, \"all_density_land\": 0.002236767725067326}, {\"geoid\": \"20181\", \"dealer_rate\": 0.0037868819339894845, \"all_density_land\": 0.004733602417486856}, {\"geoid\": \"20069\", \"dealer_rate\": 0.00345106335078119, \"all_density_land\": 0.005751772251301984}, {\"geoid\": \"20009\", \"dealer_rate\": 0.012213613354857664, \"all_density_land\": 0.018875584275689118}, {\"geoid\": \"20025\", \"dealer_rate\": null, \"all_density_land\": 0.001023350172193907}, {\"geoid\": \"20169\", \"dealer_rate\": 0.006931835365920074, \"all_density_land\": 0.03188644268323234}, {\"geoid\": \"20095\", \"dealer_rate\": 0.003461570457526018, \"all_density_land\": 0.005769284095876697}, {\"geoid\": \"20079\", \"dealer_rate\": 0.011096265647273318, \"all_density_land\": 0.02959004172606218}, {\"geoid\": \"20061\", \"dealer_rate\": 0.012361393006482823, \"all_density_land\": 0.0346119004181519}, {\"geoid\": \"20171\", \"dealer_rate\": 0.006967066800675528, \"all_density_land\": 0.013934133601351055}, {\"geoid\": \"20089\", \"dealer_rate\": 0.0021873222459446707, \"all_density_land\": 0.004374644491889341}, {\"geoid\": \"20205\", \"dealer_rate\": 0.005216721308592778, \"all_density_land\": 0.008694535514321297}, {\"geoid\": \"24003\", \"dealer_rate\": 0.03572641873105679, \"all_density_land\": 0.08336164370579917}, {\"geoid\": \"31107\", \"dealer_rate\": 0.0026322217645716696, \"all_density_land\": 0.00877407254857223}, {\"geoid\": \"31127\", \"dealer_rate\": 0.004882760367342216, \"all_density_land\": 0.012206900918355544}, {\"geoid\": \"31123\", \"dealer_rate\": 0.0006993689607621887, \"all_density_land\": 0.002797475843048754}, {\"geoid\": \"31079\", \"dealer_rate\": 0.01086672365052438, \"all_density_land\": 0.03803353277683533}, {\"geoid\": \"31175\", \"dealer_rate\": 0.0035059535501247123, \"all_density_land\": 0.01402381420049885}, {\"geoid\": \"31119\", \"dealer_rate\": 0.015639917398267207, \"all_density_land\": 0.03649314059595682}, {\"geoid\": \"31061\", \"dealer_rate\": 0.003472196884924345, \"all_density_land\": 0.003472196884924345}, {\"geoid\": \"31125\", \"dealer_rate\": 0.004461987100362411, \"all_density_land\": 0.00446198710036241}, {\"geoid\": \"31085\", \"dealer_rate\": null, \"all_density_land\": null}, {\"geoid\": \"31067\", \"dealer_rate\": 0.008139932844034158, \"all_density_land\": 0.018605560786363783}, {\"geoid\": \"31185\", \"dealer_rate\": 0.012156395767416539, \"all_density_land\": 0.02083953560128549}, {\"geoid\": \"31117\", \"dealer_rate\": 0.0011627781149243738, \"all_density_land\": 0.001162778114924373}, {\"geoid\": \"31135\", \"dealer_rate\": 0.0033920071735798855, \"all_density_land\": 0.0056533452892998095}, {\"geoid\": \"31149\", \"dealer_rate\": 0.0019769198472268283, \"all_density_land\": 0.003953839694453657}, {\"geoid\": \"31109\", \"dealer_rate\": 0.01772250928653916, \"all_density_land\": 0.06261953281243837}, {\"geoid\": \"31001\", \"dealer_rate\": 0.005316975574340906, \"all_density_land\": 0.03721882902038635}, {\"geoid\": \"17183\", \"dealer_rate\": 0.011095361040331044, \"all_density_land\": 0.026628866496794502}, {\"geoid\": \"17177\", \"dealer_rate\": 0.010618377443590935, \"all_density_land\": 0.021236754887181866}, {\"geoid\": \"17159\", \"dealer_rate\": 0.005526440170417142, \"all_density_land\": 0.013816100426042855}, {\"geoid\": \"17081\", \"dealer_rate\": 0.008564807431238837, \"all_density_land\": 0.02398146080746874}, {\"geoid\": \"17179\", \"dealer_rate\": 0.013679139717587604, \"all_density_land\": 0.033437897087436365}, {\"geoid\": \"17173\", \"dealer_rate\": 0.003905896196884829, \"all_density_land\": 0.011717688590654484}, {\"geoid\": \"17087\", \"dealer_rate\": 0.002866450433829033, \"all_density_land\": 0.005732900867658066}, {\"geoid\": \"17175\", \"dealer_rate\": 0.0034679734570358606, \"all_density_land\": 0.00346797345703586}, {\"geoid\": \"17193\", \"dealer_rate\": 0.005977750658972334, \"all_density_land\": 0.00996291776495389}, {\"geoid\": \"17167\", \"dealer_rate\": 0.03306654162396629, \"all_density_land\": 0.06841353439441301}, {\"geoid\": \"17061\", \"dealer_rate\": 0.009152941152036555, \"all_density_land\": 0.014644705843258488}, {\"geoid\": \"17141\", \"dealer_rate\": 0.00655320427930029, \"all_density_land\": 0.01441704941446064}, {\"geoid\": \"17093\", \"dealer_rate\": 0.0527425908447312, \"all_density_land\": 0.07756263359519294}, {\"geoid\": \"49027\", \"dealer_rate\": 0.000878749308650049, \"all_density_land\": 0.00292916436216683}, {\"geoid\": \"49057\", \"dealer_rate\": 0.04853118085051801, \"all_density_land\": 0.14559354255155404}, {\"geoid\": \"49047\", \"dealer_rate\": 0.0013329310154622936, \"all_density_land\": 0.004887413723361743}, {\"geoid\": \"49041\", \"dealer_rate\": 0.0046914349947518525, \"all_density_land\": 0.014595575539227983}, {\"geoid\": \"49051\", \"dealer_rate\": 0.005804443089580694, \"all_density_land\": 0.0165841231130877}, {\"geoid\": \"49019\", \"dealer_rate\": 0.0008143940133075387, \"all_density_land\": 0.002171717368820103}, {\"geoid\": \"49025\", \"dealer_rate\": 0.0009735917420965713, \"all_density_land\": 0.001703785548668999}, {\"geoid\": \"49021\", \"dealer_rate\": 0.005148616171418838, \"all_density_land\": 0.01302297031594177}, {\"geoid\": \"49043\", \"dealer_rate\": 0.0031881618681751014, \"all_density_land\": 0.010095845915887823}, {\"geoid\": \"49013\", \"dealer_rate\": 0.0021499224178387513, \"all_density_land\": 0.0058355037055623235}, {\"geoid\": \"49031\", \"dealer_rate\": null, \"all_density_land\": null}, {\"geoid\": \"49055\", \"dealer_rate\": 0.001216321501471404, \"all_density_land\": 0.0012163215014714028}, {\"geoid\": \"49011\", \"dealer_rate\": 0.07255951175818608, \"all_density_land\": 0.18613092146665122}, {\"geoid\": \"49039\", \"dealer_rate\": 0.006864136872572495, \"all_density_land\": 0.017472348402911807}, {\"geoid\": \"49049\", \"dealer_rate\": 0.03684508361340292, \"all_density_land\": 0.11053525084020877}, {\"geoid\": \"06073\", \"dealer_rate\": 0.007070845577467114, \"all_density_land\": 0.02960916585564354}, {\"geoid\": \"06063\", \"dealer_rate\": 0.0003826368278264639, \"all_density_land\": 0.001530547311305855}, {\"geoid\": \"06069\", \"dealer_rate\": null, \"all_density_land\": 0.005034254653532564}, {\"geoid\": \"06089\", \"dealer_rate\": 0.003898740840971502, \"all_density_land\": 0.01221605463504404}, {\"geoid\": \"06099\", \"dealer_rate\": 0.011224032844881687, \"all_density_land\": 0.031031149629967017}, {\"geoid\": \"13005\", \"dealer_rate\": 0.010496025496309338, \"all_density_land\": 0.024490726158055122}, {\"geoid\": \"13287\", \"dealer_rate\": 0.0034485087143908233, \"all_density_land\": 0.017242543571954115}, {\"geoid\": \"13185\", \"dealer_rate\": 0.021544318348506276, \"all_density_land\": 0.05679865746424381}, {\"geoid\": \"13003\", \"dealer_rate\": 0.0029024753977066713, \"all_density_land\": 0.002902475397706671}, {\"geoid\": \"13281\", \"dealer_rate\": 0.01744369889916023, \"all_density_land\": 0.052331096697480685}, {\"geoid\": \"13251\", \"dealer_rate\": 0.001524694768460786, \"all_density_land\": 0.009148168610764717}, {\"geoid\": \"13285\", \"dealer_rate\": 0.01569640792089258, \"all_density_land\": 0.03811984780788198}, {\"geoid\": \"13175\", \"dealer_rate\": 0.004887165485888059, \"all_density_land\": 0.013439705086192162}, {\"geoid\": \"13111\", \"dealer_rate\": 0.028063930870359872, \"all_density_land\": 0.056127861740719744}, {\"geoid\": \"13275\", \"dealer_rate\": 0.012676151034449842, \"all_density_land\": 0.028974059507313927}, {\"geoid\": \"13121\", \"dealer_rate\": 0.056145639901170975, \"all_density_land\": 0.11977736512249808}, {\"geoid\": \"13043\", \"dealer_rate\": 0.00803671370885101, \"all_density_land\": 0.02009178427212753}, {\"geoid\": \"13037\", \"dealer_rate\": null, \"all_density_land\": 0.010579108647367727}, {\"geoid\": \"13007\", \"dealer_rate\": 0.005728388360500474, \"all_density_land\": 0.014320970901251184}, {\"geoid\": \"13181\", \"dealer_rate\": null, \"all_density_land\": 0.011659647377280844}, {\"geoid\": \"13081\", \"dealer_rate\": 0.010678010690526596, \"all_density_land\": 0.02491535827789539}, {\"geoid\": \"13153\", \"dealer_rate\": 0.03684977497142331, \"all_density_land\": 0.10791719813059682}, {\"geoid\": \"13227\", \"dealer_rate\": 0.03008008086260511, \"all_density_land\": 0.07734877936098455}, {\"geoid\": \"13307\", \"dealer_rate\": null, \"all_density_land\": 0.014267822777045643}, {\"geoid\": \"13305\", \"dealer_rate\": 0.010789215047208584, \"all_density_land\": 0.03390896157694126}, {\"geoid\": \"13103\", \"dealer_rate\": 0.020706915536886642, \"all_density_land\": 0.04969659728852794}, {\"geoid\": \"13139\", \"dealer_rate\": 0.046588040571444035, \"all_density_land\": 0.10482309128574908}, {\"geoid\": \"13271\", \"dealer_rate\": 0.004504414837479853, \"all_density_land\": 0.01351324451243956}, {\"geoid\": \"39159\", \"dealer_rate\": 0.011444998438695406, \"all_density_land\": 0.04120199437930347}, {\"geoid\": \"39031\", \"dealer_rate\": 0.012335173135483801, \"all_density_land\": 0.0334811842248846}, {\"geoid\": \"26087\", \"dealer_rate\": 0.022629736833475564, \"all_density_land\": 0.06939785962265839}, {\"geoid\": \"26097\", \"dealer_rate\": null, \"all_density_land\": 0.002380235253903174}, {\"geoid\": \"39149\", \"dealer_rate\": 0.026784044246018813, \"all_density_land\": 0.053568088492037626}, {\"geoid\": \"39027\", \"dealer_rate\": 0.01697813836692462, \"all_density_land\": 0.03395627673384924}, {\"geoid\": \"39107\", \"dealer_rate\": 0.019010415778119887, \"all_density_land\": 0.03802083155623978}, {\"geoid\": \"26065\", \"dealer_rate\": 0.023184793645966265, \"all_density_land\": 0.06598748960775014}, {\"geoid\": \"39075\", \"dealer_rate\": 0.01886884721318723, \"all_density_land\": 0.049530723934616466}, {\"geoid\": \"39143\", \"dealer_rate\": 0.011970110858920564, \"all_density_land\": 0.040698376920329925}, {\"geoid\": \"39105\", \"dealer_rate\": 0.011547293941669671, \"all_density_land\": 0.027713505460007212}, {\"geoid\": \"39007\", \"dealer_rate\": 0.008041494566881732, \"all_density_land\": 0.023393438740019586}, {\"geoid\": \"26039\", \"dealer_rate\": 0.0017754361195332776, \"all_density_land\": 0.012428052836732944}, {\"geoid\": \"39111\", \"dealer_rate\": 0.013115959721615151, \"all_density_land\": 0.02841791273016616}, {\"geoid\": \"39015\", \"dealer_rate\": 0.028371580878314553, \"all_density_land\": 0.05674316175662911}, {\"geoid\": \"39113\", \"dealer_rate\": 0.06245495050309898, \"all_density_land\": 0.2045938033722208}, {\"geoid\": \"39067\", \"dealer_rate\": 0.009737876921275257, \"all_density_land\": 0.02191022307286933}, {\"geoid\": \"26077\", \"dealer_rate\": 0.02929533461972063, \"all_density_land\": 0.06203717919470251}, {\"geoid\": \"39003\", \"dealer_rate\": 0.0442424600817802, \"all_density_land\": 0.08602700571457261}, {\"geoid\": \"39053\", \"dealer_rate\": 0.010611287446565962, \"all_density_land\": 0.031833862339697885}, {\"geoid\": \"42019\", \"dealer_rate\": 0.03774763905378418, \"all_density_land\": 0.099402116174965}, {\"geoid\": \"39139\", \"dealer_rate\": 0.035994436296919695, \"all_density_land\": 0.07598825440460825}, {\"geoid\": \"39093\", \"dealer_rate\": 0.04007204317359657, \"all_density_land\": 0.08555922731659807}, {\"geoid\": \"39023\", \"dealer_rate\": 0.029811676545553504, \"all_density_land\": 0.07204488498508764}, {\"geoid\": \"39061\", \"dealer_rate\": 0.08966844514435782, \"all_density_land\": 0.26415839245229733}, {\"geoid\": \"39161\", \"dealer_rate\": 0.009745984376285094, \"all_density_land\": 0.02436496094071273}, {\"geoid\": \"39047\", \"dealer_rate\": 0.004913824200494441, \"all_density_land\": 0.03193985730321386}, {\"geoid\": \"39051\", \"dealer_rate\": 0.022100709242979952, \"all_density_land\": 0.044201418485959904}, {\"geoid\": \"39175\", \"dealer_rate\": 0.009814661866545608, \"all_density_land\": 0.034351316532909626}, {\"geoid\": \"39087\", \"dealer_rate\": 0.010934358512354247, \"all_density_land\": 0.04811117745435869}, {\"geoid\": \"39039\", \"dealer_rate\": 0.01448613246112371, \"all_density_land\": 0.026557909512060135}, {\"geoid\": \"39085\", \"dealer_rate\": 0.02655237401731786, \"all_density_land\": 0.06740218019780687}, {\"geoid\": \"26059\", \"dealer_rate\": 0.013179434727512264, \"all_density_land\": 0.029653728136902594}, {\"geoid\": \"26121\", \"dealer_rate\": 0.019177669265697774, \"all_density_land\": 0.03904025529088476}, {\"geoid\": \"39073\", \"dealer_rate\": 0.01180280601461971, \"all_density_land\": 0.018884489623391537}, {\"geoid\": \"39115\", \"dealer_rate\": 0.004741773852299896, \"all_density_land\": 0.009483547704599792}, {\"geoid\": \"26125\", \"dealer_rate\": 0.07935684539943595, \"all_density_land\": 0.23145746574835488}, {\"geoid\": \"26057\", \"dealer_rate\": 0.005248328411853524, \"all_density_land\": 0.01924387084346292}, {\"geoid\": \"39155\", \"dealer_rate\": 0.05026962657606245, \"all_density_land\": 0.11781943728764638}, {\"geoid\": \"39013\", \"dealer_rate\": 0.025864921222528894, \"all_density_land\": 0.06096731431024668}, {\"geoid\": \"26133\", \"dealer_rate\": 0.01046944372388546, \"all_density_land\": 0.02442870202239941}, {\"geoid\": \"26145\", \"dealer_rate\": 0.01593204234482697, \"all_density_land\": 0.039217335002651}, {\"geoid\": \"39125\", \"dealer_rate\": 0.011937523208348427, \"all_density_land\": 0.026262551058366543}, {\"geoid\": \"39091\", \"dealer_rate\": 0.025708450332680984, \"all_density_land\": 0.05355927152641873}, {\"geoid\": \"39151\", \"dealer_rate\": 0.0792376103848909, \"all_density_land\": 0.1601977775172794}, {\"geoid\": \"39077\", \"dealer_rate\": 0.006062793919709641, \"all_density_land\": 0.022230244372268684}, {\"geoid\": \"26135\", \"dealer_rate\": 0.008747655064558938, \"all_density_land\": 0.012246717090382513}, {\"geoid\": \"26029\", \"dealer_rate\": 0.003595925716615749, \"all_density_land\": 0.006472666289908348}, {\"geoid\": \"26117\", \"dealer_rate\": 0.012485663431419733, \"all_density_land\": 0.04161887810473244}, {\"geoid\": \"26105\", \"dealer_rate\": 0.005634085264118973, \"all_density_land\": 0.016902255792356914}, {\"geoid\": \"39029\", \"dealer_rate\": 0.04301568923219029, \"all_density_land\": 0.08229088374853795}, {\"geoid\": \"39045\", \"dealer_rate\": 0.027528628873318632, \"all_density_land\": 0.06292258028187116}, {\"geoid\": \"39117\", \"dealer_rate\": 0.014734007070937489, \"all_density_land\": 0.058936028283749956}, {\"geoid\": \"26035\", \"dealer_rate\": 0.012166728363911791, \"all_density_land\": 0.024333456727823582}, {\"geoid\": \"26079\", \"dealer_rate\": 0.0035044310896246776, \"all_density_land\": 0.01401772435849871}, {\"geoid\": \"39135\", \"dealer_rate\": 0.01875901435856076, \"all_density_land\": 0.04455265910158181}, {\"geoid\": \"42109\", \"dealer_rate\": 0.024131191778751525, \"all_density_land\": 0.06334437841922275}, {\"geoid\": \"26101\", \"dealer_rate\": 0.002342718754936526, \"all_density_land\": 0.008589968768100595}, {\"geoid\": \"26161\", \"dealer_rate\": 0.020763566168818158, \"all_density_land\": 0.05398527203892721}, {\"geoid\": \"39123\", \"dealer_rate\": 0.011964525549233083, \"all_density_land\": 0.041021230454513426}, {\"geoid\": \"02100\", \"dealer_rate\": 0.000366910412890521, \"all_density_land\": 0.001100731238671563}, {\"geoid\": \"02060\", \"dealer_rate\": 0.0022532387282496982, \"all_density_land\": 0.0033798580923745467}, {\"geoid\": \"28083\", \"dealer_rate\": 0.006596530838560805, \"all_density_land\": 0.018140459806042213}, {\"geoid\": \"28073\", \"dealer_rate\": 0.017984404307497915, \"all_density_land\": 0.04995667863193865}, {\"geoid\": \"28153\", \"dealer_rate\": 0.0024584592145607824, \"all_density_land\": 0.011063066465523524}, {\"geoid\": \"28149\", \"dealer_rate\": 0.0097000475508609, \"all_density_land\": 0.0452668885706842}, {\"geoid\": \"28117\", \"dealer_rate\": 0.004782406406050205, \"all_density_land\": 0.021520828827225925}, {\"geoid\": \"28091\", \"dealer_rate\": 0.00911377528917699, \"all_density_land\": 0.029164080925366365}, {\"geoid\": \"28143\", \"dealer_rate\": null, \"all_density_land\": 0.008320737670357844}, {\"geoid\": \"28031\", \"dealer_rate\": 0.0072301225071763515, \"all_density_land\": 0.026510449192979953}, {\"geoid\": \"28061\", \"dealer_rate\": 0.004428256072773737, \"all_density_land\": 0.008856512145547474}, {\"geoid\": \"28129\", \"dealer_rate\": 0.0015691898962493654, \"all_density_land\": 0.004707569688748096}, {\"geoid\": \"28133\", \"dealer_rate\": 0.0042437150744325716, \"all_density_land\": 0.01131657353182019}, {\"geoid\": \"28125\", \"dealer_rate\": null, \"all_density_land\": 0.004596431521337138}, {\"geoid\": \"22009\", \"dealer_rate\": 0.00462039701994956, \"all_density_land\": 0.01963668733478563}, {\"geoid\": \"22053\", \"dealer_rate\": 0.01062932909875491, \"all_density_land\": 0.021258658197509817}, {\"geoid\": \"22061\", \"dealer_rate\": 0.012699093043824173, \"all_density_land\": 0.04021379463877654}, {\"geoid\": \"22077\", \"dealer_rate\": 0.013542968016565491, \"all_density_land\": 0.02200732302691892}, {\"geoid\": \"22105\", \"dealer_rate\": 0.021863899720511875, \"all_density_land\": 0.06316237697036764}, {\"geoid\": \"22069\", \"dealer_rate\": 0.006158618013781036, \"all_density_land\": 0.014626717782729962}, {\"geoid\": \"51143\", \"dealer_rate\": 0.010223116965458254, \"all_density_land\": 0.02146854562746233}, {\"geoid\": \"51680\", \"dealer_rate\": 0.14099593837137517, \"all_density_land\": 0.3827032612937325}, {\"geoid\": \"51005\", \"dealer_rate\": 0.008913619785718209, \"all_density_land\": 0.015598834625006863}, {\"geoid\": \"51011\", \"dealer_rate\": 0.011949896942370447, \"all_density_land\": 0.04481211353388917}, {\"geoid\": \"51169\", \"dealer_rate\": 0.0037130599027082275, \"all_density_land\": 0.016708769562187024}, {\"geoid\": \"51595\", \"dealer_rate\": null, \"all_density_land\": 0.5740633496211273}, {\"geoid\": \"51079\", \"dealer_rate\": 0.02549309037154679, \"all_density_land\": 0.07010599852175367}, {\"geoid\": \"51101\", \"dealer_rate\": 0.0035009769474496776, \"all_density_land\": 0.010502930842349035}, {\"geoid\": \"48215\", \"dealer_rate\": 0.014530217577356877, \"all_density_land\": 0.049908138635269286}, {\"geoid\": \"48257\", \"dealer_rate\": 0.03466803771745131, \"all_density_land\": 0.08667009429362828}, {\"geoid\": \"48341\", \"dealer_rate\": 0.0010993591841110806, \"all_density_land\": 0.006596155104666482}, {\"geoid\": \"48327\", \"dealer_rate\": 0.0022166397913173258, \"all_density_land\": 0.006649919373951976}, {\"geoid\": \"48137\", \"dealer_rate\": 0.0009434504513439765, \"all_density_land\": 0.00047172522567198803}, {\"geoid\": \"48409\", \"dealer_rate\": 0.012712854910288925, \"all_density_land\": 0.031075867558484037}, {\"geoid\": \"48445\", \"dealer_rate\": 0.0022448169266288376, \"all_density_land\": 0.006734450779886514}, {\"geoid\": \"48105\", \"dealer_rate\": null, \"all_density_land\": 0.000712416956197718}, {\"geoid\": \"48225\", \"dealer_rate\": 0.0016173707421287518, \"all_density_land\": 0.010512909823836888}, {\"geoid\": \"48473\", \"dealer_rate\": 0.011587072619191903, \"all_density_land\": 0.040554754167171664}, {\"geoid\": \"48081\", \"dealer_rate\": 0.0010775967960082213, \"all_density_land\": 0.005387983980041106}, {\"geoid\": \"48475\", \"dealer_rate\": 0.0011963957803967841, \"all_density_land\": 0.002392791560793568}, {\"geoid\": \"48449\", \"dealer_rate\": 0.009397534917112416, \"all_density_land\": 0.03759013966844967}, {\"geoid\": \"48281\", \"dealer_rate\": 0.011205516544010112, \"all_density_land\": 0.030815170496027805}, {\"geoid\": \"48207\", \"dealer_rate\": null, \"all_density_land\": 0.0010985835227076191}, {\"geoid\": \"48317\", \"dealer_rate\": 0.0032761760948932894, \"all_density_land\": 0.006552352189786578}, {\"geoid\": \"05083\", \"dealer_rate\": 0.008201727541488485, \"all_density_land\": 0.01777040967322505}, {\"geoid\": \"34001\", \"dealer_rate\": 0.02232717213306591, \"all_density_land\": 0.03423499727070106}, {\"geoid\": \"10001\", \"dealer_rate\": 0.012526108913027356, \"all_density_land\": 0.027557439608660184}, {\"geoid\": \"34041\", \"dealer_rate\": 0.016535429230999255, \"all_density_land\": 0.027559048718332094}, {\"geoid\": \"05063\", \"dealer_rate\": 0.011665311333334047, \"all_density_land\": 0.034995934000002143}, {\"geoid\": \"34033\", \"dealer_rate\": 0.008057396136211347, \"all_density_land\": 0.018800590984493146}, {\"geoid\": \"05147\", \"dealer_rate\": 0.0033669249012607625, \"all_density_land\": 0.006733849802521525}, {\"geoid\": \"42065\", \"dealer_rate\": 0.013702786871112937, \"all_density_land\": 0.04415342436247502}, {\"geoid\": \"05003\", \"dealer_rate\": 0.006379405121921243, \"all_density_land\": 0.01701174699178998}, {\"geoid\": \"10005\", \"dealer_rate\": 0.016716955378655522, \"all_density_land\": 0.05015086613596656}, {\"geoid\": \"05097\", \"dealer_rate\": 0.007497288419378988, \"all_density_land\": 0.01249548069896498}, {\"geoid\": \"10003\", \"dealer_rate\": 0.04655847001273315, \"all_density_land\": 0.10931119046467783}, {\"geoid\": \"05133\", \"dealer_rate\": 0.0034406982177367968, \"all_density_land\": 0.008601745544341993}, {\"geoid\": \"05141\", \"dealer_rate\": 0.002761346035190678, \"all_density_land\": 0.015187403193548728}, {\"geoid\": \"05059\", \"dealer_rate\": 0.0016072706540337094, \"all_density_land\": 0.02732360111857306}, {\"geoid\": \"40051\", \"dealer_rate\": 0.009050595602786543, \"all_density_land\": 0.02986696548919559}, {\"geoid\": \"30069\", \"dealer_rate\": null, \"all_density_land\": 0.000597441281726782}, {\"geoid\": \"40011\", \"dealer_rate\": null, \"all_density_land\": 0.005325994533494495}, {\"geoid\": \"30073\", \"dealer_rate\": 0.0018294519131795744, \"all_density_land\": 0.004268721130752341}, {\"geoid\": \"40121\", \"dealer_rate\": 0.0043546869352982815, \"all_density_land\": 0.014515623117660938}, {\"geoid\": \"40153\", \"dealer_rate\": null, \"all_density_land\": 0.013642109159543168}, {\"geoid\": \"40147\", \"dealer_rate\": 0.037711973093597424, \"all_density_land\": 0.07542394618719485}, {\"geoid\": \"40073\", \"dealer_rate\": 0.005518657200116486, \"all_density_land\": 0.014348508720302864}, {\"geoid\": \"40031\", \"dealer_rate\": 0.01937799842682107, \"all_density_land\": 0.04244704417303663}, {\"geoid\": \"40033\", \"dealer_rate\": 0.0015577356937690984, \"all_density_land\": 0.0031154713875381967}, {\"geoid\": \"40039\", \"dealer_rate\": 0.0029938061857379757, \"all_density_land\": 0.01995870790491984}, {\"geoid\": \"40047\", \"dealer_rate\": 0.011320064512493995, \"all_density_land\": 0.033016854828107484}, {\"geoid\": \"40077\", \"dealer_rate\": 0.005486117232345084, \"all_density_land\": 0.012343763772776437}, {\"geoid\": \"40149\", \"dealer_rate\": 0.001982561985979491, \"all_density_land\": 0.011895371915876949}, {\"geoid\": \"40037\", \"dealer_rate\": 0.01134224883039081, \"all_density_land\": 0.034026746491172426}, {\"geoid\": \"40063\", \"dealer_rate\": 0.0012271738750111063, \"all_density_land\": 0.011044564875099956}, {\"geoid\": \"40135\", \"dealer_rate\": 0.012602356115955698, \"all_density_land\": 0.03640680655720535}, {\"geoid\": \"40061\", \"dealer_rate\": 0.006397208770068803, \"all_density_land\": 0.012794417540137605}, {\"geoid\": \"40083\", \"dealer_rate\": 0.0120188295674196, \"all_density_land\": 0.03338563768727667}, {\"geoid\": \"40113\", \"dealer_rate\": 0.0047743586873545225, \"all_density_land\": 0.012152913022356967}, {\"geoid\": \"40021\", \"dealer_rate\": 0.010305423613051716, \"all_density_land\": 0.024475381080997824}, {\"geoid\": \"40145\", \"dealer_rate\": 0.022008676688198434, \"all_density_land\": 0.0761838808437638}, {\"geoid\": \"40049\", \"dealer_rate\": 0.006144854668631049, \"all_density_land\": 0.015976622138440727}, {\"geoid\": \"40081\", \"dealer_rate\": 0.011390954828006736, \"all_density_land\": 0.028995157744017144}, {\"geoid\": \"40027\", \"dealer_rate\": 0.04479593322372747, \"all_density_land\": 0.12722045035538598}, {\"geoid\": \"40017\", \"dealer_rate\": 0.024293272363367386, \"all_density_land\": 0.056316222296897124}, {\"geoid\": \"40111\", \"dealer_rate\": 0.01566204297411295, \"all_density_land\": 0.024204975505447292}, {\"geoid\": \"40151\", \"dealer_rate\": 0.0007752152320308621, \"all_density_land\": 0.007752152320308621}, {\"geoid\": \"40019\", \"dealer_rate\": 0.0047975156865785904, \"all_density_land\": 0.01439254705973577}, {\"geoid\": \"40069\", \"dealer_rate\": null, \"all_density_land\": 0.009115150754882204}, {\"geoid\": \"40117\", \"dealer_rate\": 0.008406690093757564, \"all_density_land\": 0.01849471820626664}, {\"geoid\": \"40131\", \"dealer_rate\": 0.021082307963815033, \"all_density_land\": 0.07308533427455878}, {\"geoid\": \"40125\", \"dealer_rate\": 0.01512473347007632, \"all_density_land\": 0.05419696160110681}, {\"geoid\": \"40089\", \"dealer_rate\": 0.004730928314697925, \"all_density_land\": 0.013141467540827569}, {\"geoid\": \"08089\", \"dealer_rate\": 0.0015751707541358988, \"all_density_land\": 0.005513097639475646}, {\"geoid\": \"08067\", \"dealer_rate\": 0.010001626178067732, \"all_density_land\": 0.02412156901769277}, {\"geoid\": \"08117\", \"dealer_rate\": 0.011303815816855564, \"all_density_land\": 0.02422246246469049}, {\"geoid\": \"08027\", \"dealer_rate\": 0.005405955659374432, \"all_density_land\": 0.017569355892966904}, {\"geoid\": \"08097\", \"dealer_rate\": null, \"all_density_land\": 0.0051376869006301}, {\"geoid\": \"08025\", \"dealer_rate\": null, \"all_density_land\": 0.002498962042345288}, {\"geoid\": \"08017\", \"dealer_rate\": 0.000561347010244507, \"all_density_land\": 0.002245388040978028}, {\"geoid\": \"08011\", \"dealer_rate\": 0.0006488926722601332, \"all_density_land\": 0.001946678016780399}, {\"geoid\": \"08001\", \"dealer_rate\": 0.03632074201581974, \"all_density_land\": 0.11994291549410235}, {\"geoid\": \"08039\", \"dealer_rate\": 0.007023179064564027, \"all_density_land\": 0.025931738084544097}, {\"geoid\": \"08125\", \"dealer_rate\": 0.0021108648416825306, \"all_density_land\": 0.0037995567150285545}, {\"geoid\": \"08065\", \"dealer_rate\": 0.005209523428706269, \"all_density_land\": 0.005209523428706269}, {\"geoid\": \"08029\", \"dealer_rate\": 0.00957681721913509, \"all_density_land\": 0.029601071404599374}, {\"geoid\": \"08023\", \"dealer_rate\": 0.0008127689998660767, \"all_density_land\": 0.0016255379997321532}, {\"geoid\": \"08045\", \"dealer_rate\": 0.0033831782444860145, \"all_density_land\": 0.008119627786766434}, {\"geoid\": \"08087\", \"dealer_rate\": 0.012367216434451756, \"all_density_land\": 0.01623197157021793}, {\"geoid\": \"08099\", \"dealer_rate\": 0.003648919957509201, \"all_density_land\": 0.006689686588766868}, {\"geoid\": \"08083\", \"dealer_rate\": 0.0058819441950584035, \"all_density_land\": 0.015685184520155743}, {\"geoid\": \"08079\", \"dealer_rate\": null, \"all_density_land\": 0.0011392418185045509}, {\"geoid\": \"08073\", \"dealer_rate\": 0.0007732531199631786, \"all_density_land\": 0.004252892159797482}, {\"geoid\": \"08059\", \"dealer_rate\": 0.09301982018898657, \"all_density_land\": 0.2183381890547046}, {\"geoid\": \"08103\", \"dealer_rate\": 0.0024823267741240548, \"all_density_land\": 0.0043440718547170945}, {\"geoid\": \"08115\", \"dealer_rate\": null, \"all_density_land\": 0.001820154060193642}, {\"geoid\": \"08113\", \"dealer_rate\": 0.0015520937327516235, \"all_density_land\": 0.003104187465503247}, {\"geoid\": \"08003\", \"dealer_rate\": 0.00553023800707719, \"all_density_land\": 0.013825595017692977}, {\"geoid\": \"20203\", \"dealer_rate\": 0.001391610611366058, \"all_density_land\": 0.004174831834098174}, {\"geoid\": \"20189\", \"dealer_rate\": 0.0013746231243189227, \"all_density_land\": 0.005498492497275691}, {\"geoid\": \"20065\", \"dealer_rate\": 0.002225304759373143, \"all_density_land\": 0.0055632618984328575}, {\"geoid\": \"20093\", \"dealer_rate\": 0.0022962608149793666, \"all_density_land\": 0.004592521629958733}, {\"geoid\": \"20063\", \"dealer_rate\": 0.0009330450946938818, \"all_density_land\": 0.004665225473469409}, {\"geoid\": \"20133\", \"dealer_rate\": 0.008653596943181505, \"all_density_land\": 0.02249935205227191}, {\"geoid\": \"20183\", \"dealer_rate\": 0.0033446133502776287, \"all_density_land\": 0.007804097817314467}, {\"geoid\": \"20167\", \"dealer_rate\": 0.003335422070700885, \"all_density_land\": 0.005559036784501476}, {\"geoid\": \"20153\", \"dealer_rate\": 0.0009349491397702399, \"all_density_land\": 0.001869898279540479}, {\"geoid\": \"20177\", \"dealer_rate\": 0.04138723648394485, \"all_density_land\": 0.10256836867760245}, {\"geoid\": \"20161\", \"dealer_rate\": 0.009646984864795894, \"all_density_land\": 0.01768613891879247}, {\"geoid\": \"20031\", \"dealer_rate\": 0.004586498811491847, \"all_density_land\": 0.013759496434475544}, {\"geoid\": \"20185\", \"dealer_rate\": 0.0012579931915125088, \"all_density_land\": 0.008805952340587562}, {\"geoid\": \"20049\", \"dealer_rate\": 0.0015373600823874773, \"all_density_land\": 0.004612080247162431}, {\"geoid\": \"20143\", \"dealer_rate\": 0.0027726342194523395, \"all_density_land\": 0.004158951329178509}, {\"geoid\": \"20173\", \"dealer_rate\": 0.05945769167934215, \"all_density_land\": 0.14368942155841022}, {\"geoid\": \"20073\", \"dealer_rate\": 0.0017351676657343857, \"all_density_land\": 0.001735167665734385}, {\"geoid\": \"20119\", \"dealer_rate\": 0.003063269982075422, \"all_density_land\": 0.008168719952201125}, {\"geoid\": \"53045\", \"dealer_rate\": 0.005708746574027378, \"all_density_land\": 0.018077697484420032}, {\"geoid\": \"53051\", \"dealer_rate\": 0.0014032607033891127, \"all_density_land\": 0.003508151758472782}, {\"geoid\": \"53057\", \"dealer_rate\": 0.005208023052957237, \"all_density_land\": 0.015624069158871707}, {\"geoid\": \"53009\", \"dealer_rate\": 0.006365544507486796, \"all_density_land\": 0.011982201425857495}, {\"geoid\": \"53019\", \"dealer_rate\": 0.0017720848936147418, \"all_density_land\": 0.003987191010633168}, {\"geoid\": \"24009\", \"dealer_rate\": 0.06665284658072787, \"all_density_land\": 0.09273439524275179}, {\"geoid\": \"53003\", \"dealer_rate\": 0.009365836934631893, \"all_density_land\": 0.01404875540194784}, {\"geoid\": \"53021\", \"dealer_rate\": 0.0023708887580176615, \"all_density_land\": 0.007902962526725538}, {\"geoid\": \"53011\", \"dealer_rate\": 0.039620066039164493, \"all_density_land\": 0.12647944158656357}, {\"geoid\": \"53037\", \"dealer_rate\": 0.004285908362758472, \"all_density_land\": 0.007714635052965251}, {\"geoid\": \"24027\", \"dealer_rate\": 0.03551777451997088, \"all_density_land\": 0.05130345208440239}, {\"geoid\": \"53039\", \"dealer_rate\": 0.005776847111689359, \"all_density_land\": 0.006827182950178335}, {\"geoid\": \"31089\", \"dealer_rate\": 0.0028955580585415747, \"all_density_land\": 0.005791116117083149}, {\"geoid\": \"31141\", \"dealer_rate\": 0.007303649080733624, \"all_density_land\": 0.02191094724220088}, {\"geoid\": \"09001\", \"dealer_rate\": 0.047786989529382345, \"all_density_land\": 0.1469449928028507}, {\"geoid\": \"31059\", \"dealer_rate\": 0.00693812105808927, \"all_density_land\": 0.008672651322611587}, {\"geoid\": \"09011\", \"dealer_rate\": 0.03239603959848824, \"all_density_land\": 0.07386297028455319}, {\"geoid\": \"31041\", \"dealer_rate\": 0.002717439393419226, \"all_density_land\": 0.0065994956697324044}, {\"geoid\": \"31019\", \"dealer_rate\": 0.009226991477987856, \"all_density_land\": 0.0256305318832996}, {\"geoid\": \"17125\", \"dealer_rate\": 0.005324211113836618, \"all_density_land\": 0.014197896303564318}, {\"geoid\": \"17031\", \"dealer_rate\": 0.015291924189447737, \"all_density_land\": 0.03670061805467457}, {\"geoid\": \"17163\", \"dealer_rate\": 0.023737697455375278, \"all_density_land\": 0.053409819274594386}, {\"geoid\": \"17199\", \"dealer_rate\": 0.011252347906711374, \"all_density_land\": 0.04725986120818777}, {\"geoid\": \"49017\", \"dealer_rate\": 0.0003840109448447241, \"all_density_land\": 0.001344038306956534}, {\"geoid\": \"49033\", \"dealer_rate\": null, \"all_density_land\": 0.002761544612537074}, {\"geoid\": \"06043\", \"dealer_rate\": 0.0013672213075803794, \"all_density_land\": 0.0034180532689509478}, {\"geoid\": \"06019\", \"dealer_rate\": 0.0031608325651162916, \"all_density_land\": 0.013641487912607154}, {\"geoid\": \"06003\", \"dealer_rate\": null, \"all_density_land\": null}, {\"geoid\": \"06041\", \"dealer_rate\": 0.0036223490640648753, \"all_density_land\": 0.013281946568237876}, {\"geoid\": \"06021\", \"dealer_rate\": 0.0015071854363402088, \"all_density_land\": 0.002260778154510313}, {\"geoid\": \"49015\", \"dealer_rate\": 0.0013417213262373459, \"all_density_land\": 0.002459822431435134}, {\"geoid\": \"06035\", \"dealer_rate\": 0.0010592961584479019, \"all_density_land\": 0.002754170011964544}, {\"geoid\": \"06015\", \"dealer_rate\": 0.0016263501555246716, \"all_density_land\": 0.003252700311049343}, {\"geoid\": \"13221\", \"dealer_rate\": 0.004524494628582639, \"all_density_land\": 0.013573483885747917}, {\"geoid\": \"25023\", \"dealer_rate\": 0.031099918760165476, \"all_density_land\": 0.060370430534438885}, {\"geoid\": \"25003\", \"dealer_rate\": 0.007396228851992897, \"all_density_land\": 0.019018874190838878}, {\"geoid\": \"13303\", \"dealer_rate\": 0.004383685531797588, \"all_density_land\": 0.007306142552995979}, {\"geoid\": \"13021\", \"dealer_rate\": 0.03915955301647578, \"all_density_land\": 0.14489034616096036}, {\"geoid\": \"13255\", \"dealer_rate\": 0.025051306243285318, \"all_density_land\": 0.10020522497314126}, {\"geoid\": \"13091\", \"dealer_rate\": 0.003975245033161701, \"all_density_land\": 0.013913357616065956}, {\"geoid\": \"25001\", \"dealer_rate\": 0.008425650236581178, \"all_density_land\": 0.020681141489790156}, {\"geoid\": \"13265\", \"dealer_rate\": null, \"all_density_land\": null}, {\"geoid\": \"21217\", \"dealer_rate\": 0.021674922523895922, \"all_density_land\": 0.05418730630973981}, {\"geoid\": \"21121\", \"dealer_rate\": 0.02063195537757905, \"all_density_land\": 0.04126391075515809}, {\"geoid\": \"13087\", \"dealer_rate\": 0.009628224199236925, \"all_density_land\": 0.02888467259771078}, {\"geoid\": \"21071\", \"dealer_rate\": 0.010108532693080222, \"all_density_land\": 0.050542663465401115}, {\"geoid\": \"21125\", \"dealer_rate\": 0.022538011251429627, \"all_density_land\": 0.058598829253717045}, {\"geoid\": \"21035\", \"dealer_rate\": 0.024348887664816986, \"all_density_land\": 0.06330710792852416}, {\"geoid\": \"13187\", \"dealer_rate\": 0.017593438173465637, \"all_density_land\": 0.04926162688570377}, {\"geoid\": \"13047\", \"dealer_rate\": 0.055398106300822675, \"all_density_land\": 0.12310690289071706}, {\"geoid\": \"25021\", \"dealer_rate\": 0.03600789669391533, \"all_density_land\": 0.09001974173478831}, {\"geoid\": \"13031\", \"dealer_rate\": 0.015973851919261216, \"all_density_land\": 0.037756377263708334}, {\"geoid\": \"25005\", \"dealer_rate\": 0.031827539986096595, \"all_density_land\": 0.07088861178721514}, {\"geoid\": \"21107\", \"dealer_rate\": 0.01262591604624837, \"all_density_land\": 0.03607404584642392}, {\"geoid\": \"21005\", \"dealer_rate\": 0.029372867621860234, \"all_density_land\": 0.0783276469916273}, {\"geoid\": \"21097\", \"dealer_rate\": 0.022590716732763142, \"all_density_land\": 0.022590716732763142}, {\"geoid\": \"21103\", \"dealer_rate\": 0.006869966168688885, \"all_density_land\": 0.02060989850606666}, {\"geoid\": \"13165\", \"dealer_rate\": 0.0028370957597702857, \"all_density_land\": 0.008511287279310858}, {\"geoid\": \"13141\", \"dealer_rate\": 0.002089076578466866, \"all_density_land\": 0.004178153156933732}, {\"geoid\": \"25025\", \"dealer_rate\": null, \"all_density_land\": 0.041590624412865485}, {\"geoid\": \"13293\", \"dealer_rate\": 0.0061058674505776326, \"all_density_land\": 0.03052933725288816}, {\"geoid\": \"13095\", \"dealer_rate\": 0.020918462191648706, \"all_density_land\": 0.047813627866625616}, {\"geoid\": \"13215\", \"dealer_rate\": 0.03167327843504981, \"all_density_land\": 0.13121786780234923}, {\"geoid\": \"21013\", \"dealer_rate\": 0.022153507951362176, \"all_density_land\": 0.04430701590272435}, {\"geoid\": \"21137\", \"dealer_rate\": 0.011884395147056507, \"all_density_land\": 0.038624284227933646}, {\"geoid\": \"13061\", \"dealer_rate\": null, \"all_density_land\": null}, {\"geoid\": \"13197\", \"dealer_rate\": 0.002721234268077612, \"all_density_land\": 0.01360617134038806}, {\"geoid\": \"13097\", \"dealer_rate\": 0.05969374098468751, \"all_density_land\": 0.08954061147703127}, {\"geoid\": \"13077\", \"dealer_rate\": 0.03813225832822012, \"all_density_land\": 0.09645218283020382}, {\"geoid\": \"13259\", \"dealer_rate\": 0.002156974032247122, \"all_density_land\": 0.01294184419348273}, {\"geoid\": \"13149\", \"dealer_rate\": 0.0033212172161448325, \"all_density_land\": 0.016606086080724166}, {\"geoid\": \"21111\", \"dealer_rate\": 0.0854953383842677, \"all_density_land\": 0.2916899780169134}, {\"geoid\": \"13319\", \"dealer_rate\": null, \"all_density_land\": 0.002212634979908105}, {\"geoid\": \"13309\", \"dealer_rate\": null, \"all_density_land\": null}, {\"geoid\": \"25011\", \"dealer_rate\": 0.005520480934390543, \"all_density_land\": 0.027602404671952713}, {\"geoid\": \"25015\", \"dealer_rate\": 0.003668316206029505, \"all_density_land\": 0.025678213442206537}, {\"geoid\": \"13191\", \"dealer_rate\": 0.0017424823346511061, \"all_density_land\": 0.015682341011859953}, {\"geoid\": \"25009\", \"dealer_rate\": 0.006035189580842011, \"all_density_land\": 0.04345336498206248}, {\"geoid\": \"13321\", \"dealer_rate\": 0.0034797413609973247, \"all_density_land\": 0.017398706804986622}, {\"geoid\": \"13035\", \"dealer_rate\": 0.01595395162028271, \"all_density_land\": 0.04786185486084813}, {\"geoid\": \"21117\", \"dealer_rate\": 0.05476226358056795, \"all_density_land\": 0.20079496646208247}, {\"geoid\": \"13159\", \"dealer_rate\": 0.002677630453204316, \"all_density_land\": 0.01338815226602158}, {\"geoid\": \"13193\", \"dealer_rate\": 0.0024631053432268165, \"all_density_land\": 0.002463105343226816}, {\"geoid\": \"13145\", \"dealer_rate\": 0.008457445712147179, \"all_density_land\": 0.021143614280367946}, {\"geoid\": \"21227\", \"dealer_rate\": 0.021915231953336726, \"all_density_land\": 0.06391942653056545}, {\"geoid\": \"21015\", \"dealer_rate\": 0.07798358883452619, \"all_density_land\": 0.18326143376113657}, {\"geoid\": \"13277\", \"dealer_rate\": 0.02232233660599105, \"all_density_land\": 0.055805841514977625}, {\"geoid\": \"13161\", \"dealer_rate\": 0.002981532025669853, \"all_density_land\": 0.03279685228236838}, {\"geoid\": \"21101\", \"dealer_rate\": 0.012867809904809083, \"all_density_land\": 0.0364587947302924}, {\"geoid\": \"21063\", \"dealer_rate\": null, \"all_density_land\": 0.012748421531604034}, {\"geoid\": \"21233\", \"dealer_rate\": 0.005958494686293341, \"all_density_land\": 0.017875484058880023}, {\"geoid\": \"21019\", \"dealer_rate\": 0.07406398527958066, \"all_density_land\": 0.1851599631989517}, {\"geoid\": \"13257\", \"dealer_rate\": 0.027144733227005998, \"all_density_land\": 0.08143419968101798}, {\"geoid\": \"21073\", \"dealer_rate\": 0.02830079663516331, \"all_density_land\": 0.08490238990548991}, {\"geoid\": \"13071\", \"dealer_rate\": 0.00538948834774876, \"all_density_land\": 0.03054043397057631}, {\"geoid\": \"21051\", \"dealer_rate\": 0.01061376448898253, \"all_density_land\": 0.019104776080168556}, {\"geoid\": \"21129\", \"dealer_rate\": 0.004733573671972311, \"all_density_land\": 0.004733573671972311}, {\"geoid\": \"21157\", \"dealer_rate\": 0.023517608836880758, \"all_density_land\": 0.06467342430142209}, {\"geoid\": \"21095\", \"dealer_rate\": 0.006408195265801542, \"all_density_land\": 0.023496715974605654}, {\"geoid\": \"21053\", \"dealer_rate\": 0.019472551030517767, \"all_density_land\": 0.04381323981866499}, {\"geoid\": \"21087\", \"dealer_rate\": 0.024239113507040673, \"all_density_land\": 0.038090035511063915}, {\"geoid\": \"21171\", \"dealer_rate\": 0.012046137195351568, \"all_density_land\": 0.02710380868954103}, {\"geoid\": \"21191\", \"dealer_rate\": 0.007094263016737184, \"all_density_land\": 0.0390184465920545}, {\"geoid\": \"21061\", \"dealer_rate\": 0.006493423982444065, \"all_density_land\": 0.03571383190344236}, {\"geoid\": \"21135\", \"dealer_rate\": 0.00403728907988406, \"all_density_land\": 0.00807457815976812}, {\"geoid\": \"13283\", \"dealer_rate\": 0.01975799814972184, \"all_density_land\": 0.03457649676201322}, {\"geoid\": \"13189\", \"dealer_rate\": 0.011261775291826861, \"all_density_land\": 0.030031400778204966}, {\"geoid\": \"21139\", \"dealer_rate\": 0.008763376195985809, \"all_density_land\": 0.020447877790633555}, {\"geoid\": \"21231\", \"dealer_rate\": 0.008261692429866024, \"all_density_land\": 0.014457961752265542}, {\"geoid\": \"21169\", \"dealer_rate\": 0.010302555858544152, \"all_density_land\": 0.04464440872035799}, {\"geoid\": \"21079\", \"dealer_rate\": 0.0213724845632447, \"all_density_land\": 0.0427449691264894}, {\"geoid\": \"13089\", \"dealer_rate\": 0.059009700872527264, \"all_density_land\": 0.16965289000851588}, {\"geoid\": \"21075\", \"dealer_rate\": 0.01300848812072136, \"all_density_land\": 0.026016976241442724}, {\"geoid\": \"21237\", \"dealer_rate\": 0.013467903166127783, \"all_density_land\": 0.02244650527687964}, {\"geoid\": \"21109\", \"dealer_rate\": 0.005771798117465524, \"all_density_land\": 0.014429495293663809}, {\"geoid\": \"21205\", \"dealer_rate\": 0.013973014686830359, \"all_density_land\": 0.02445277570195313}, {\"geoid\": \"21127\", \"dealer_rate\": 0.004761133018997345, \"all_density_land\": 0.011902832547493365}, {\"geoid\": \"21181\", \"dealer_rate\": 0.010160877129965263, \"all_density_land\": 0.0152413156949479}, {\"geoid\": \"21183\", \"dealer_rate\": 0.006708855261175067, \"all_density_land\": 0.01677213815293767}, {\"geoid\": \"21187\", \"dealer_rate\": 0.0056457795545324764, \"all_density_land\": 0.01693733866359743}, {\"geoid\": \"21185\", \"dealer_rate\": 0.03054452202539839, \"all_density_land\": 0.08145205873439569}, {\"geoid\": \"21215\", \"dealer_rate\": 0.010435281717371589, \"all_density_land\": 0.015652922576057382}, {\"geoid\": \"21153\", \"dealer_rate\": 0.00646919812442538, \"all_density_land\": 0.02587679249770152}, {\"geoid\": \"21007\", \"dealer_rate\": 0.003653774646896889, \"all_density_land\": 0.010961323940690668}, {\"geoid\": \"21115\", \"dealer_rate\": 0.022715634579976256, \"all_density_land\": 0.03407345186996438}, {\"geoid\": \"21089\", \"dealer_rate\": 0.028212766219316184, \"all_density_land\": 0.05642553243863237}, {\"geoid\": \"21141\", \"dealer_rate\": 0.00718093056656626, \"all_density_land\": 0.02154279169969878}, {\"geoid\": \"21151\", \"dealer_rate\": 0.033840408999917845, \"all_density_land\": 0.07444889979981925}, {\"geoid\": \"13115\", \"dealer_rate\": 0.025074011083483574, \"all_density_land\": 0.06364941275038137}, {\"geoid\": \"21123\", \"dealer_rate\": null, \"all_density_land\": 0.018966095486581246}, {\"geoid\": \"21143\", \"dealer_rate\": null, \"all_density_land\": 0.015592804873476234}, {\"geoid\": \"13237\", \"dealer_rate\": 0.011089963818359342, \"all_density_land\": 0.030497400500488193}, {\"geoid\": \"13273\", \"dealer_rate\": 0.002961180914019027, \"all_density_land\": 0.014805904570095134}, {\"geoid\": \"21179\", \"dealer_rate\": 0.009432270125089357, \"all_density_land\": 0.04008714803162977}, {\"geoid\": \"21085\", \"dealer_rate\": 0.00978414736901794, \"all_density_land\": 0.02739561263325023}, {\"geoid\": \"21017\", \"dealer_rate\": 0.013717790786951537, \"all_density_land\": 0.027435581573903082}, {\"geoid\": \"21093\", \"dealer_rate\": 0.023804378628873735, \"all_density_land\": 0.06030442585981346}, {\"geoid\": \"21057\", \"dealer_rate\": 0.006432778797894106, \"all_density_land\": 0.016081946994735266}, {\"geoid\": \"21173\", \"dealer_rate\": 0.035201181870261125, \"all_density_land\": 0.0653736234733421}, {\"geoid\": \"21161\", \"dealer_rate\": 0.016232934168009947, \"all_density_land\": 0.040582335420024866}, {\"geoid\": \"13267\", \"dealer_rate\": 0.016381733770250616, \"all_density_land\": 0.03890661770434521}, {\"geoid\": \"21145\", \"dealer_rate\": 0.037289755922434706, \"all_density_land\": 0.10814029217506065}, {\"geoid\": \"21229\", \"dealer_rate\": null, \"all_density_land\": 0.00996011720169626}, {\"geoid\": \"13079\", \"dealer_rate\": 0.009189666584993221, \"all_density_land\": 0.02144255536498418}, {\"geoid\": \"13183\", \"dealer_rate\": 0.0074291746520418755, \"all_density_land\": 0.022287523956125623}, {\"geoid\": \"21043\", \"dealer_rate\": 0.00970586606839293, \"all_density_land\": 0.02669113168808056}, {\"geoid\": \"21003\", \"dealer_rate\": 0.014210044444150085, \"all_density_land\": 0.03694611555479022}, {\"geoid\": \"21219\", \"dealer_rate\": 0.005304245924404207, \"all_density_land\": 0.01856486073541472}, {\"geoid\": \"21011\", \"dealer_rate\": 0.01408428979929772, \"all_density_land\": 0.017605362249122146}, {\"geoid\": \"21049\", \"dealer_rate\": 0.015676678399113395, \"all_density_land\": 0.047030035197340184}, {\"geoid\": \"25013\", \"dealer_rate\": 0.022073275695353507, \"all_density_land\": 0.11351970357610376}, {\"geoid\": \"25007\", \"dealer_rate\": null, \"all_density_land\": 0.006110458314148133}, {\"geoid\": \"13147\", \"dealer_rate\": 0.02724287336505276, \"all_density_land\": 0.038918390521503934}, {\"geoid\": \"13057\", \"dealer_rate\": 0.07366394265686042, \"all_density_land\": 0.14732788531372085}, {\"geoid\": \"13053\", \"dealer_rate\": 0.00398143494024268, \"all_density_land\": 0.00796286988048536}, {\"geoid\": \"13209\", \"dealer_rate\": 0.008173512284551184, \"all_density_land\": 0.028607292995929134}, {\"geoid\": \"25019\", \"dealer_rate\": null, \"all_density_land\": null}, {\"geoid\": \"25017\", \"dealer_rate\": 0.09444434112897607, \"all_density_land\": 0.20541644195552292}, {\"geoid\": \"21083\", \"dealer_rate\": 0.01257211616789709, \"all_density_land\": 0.03053228212203579}, {\"geoid\": \"21039\", \"dealer_rate\": 0.005025635805502425, \"all_density_land\": 0.005025635805502424}, {\"geoid\": \"21091\", \"dealer_rate\": 0.010055987815547725, \"all_density_land\": 0.015083981723321588}, {\"geoid\": \"13297\", \"dealer_rate\": 0.018181825018718546, \"all_density_land\": 0.0484848667165828}, {\"geoid\": \"25027\", \"dealer_rate\": 0.01773056472005041, \"all_density_land\": 0.05065875634300117}, {\"geoid\": \"13231\", \"dealer_rate\": 0.01823112803041234, \"all_density_land\": 0.0319044740532216}, {\"geoid\": \"13017\", \"dealer_rate\": 0.015753794727514703, \"all_density_land\": 0.023630692091272058}, {\"geoid\": \"13013\", \"dealer_rate\": 0.049097403290102946, \"all_density_land\": 0.12274350822525737}, {\"geoid\": \"13011\", \"dealer_rate\": 0.008551153570914172, \"all_density_land\": 0.021377883927285436}, {\"geoid\": \"13223\", \"dealer_rate\": 0.06998752859736432, \"all_density_land\": 0.1813313240931712}, {\"geoid\": \"13131\", \"dealer_rate\": 0.004345333059253242, \"all_density_land\": 0.017381332237012968}, {\"geoid\": \"21223\", \"dealer_rate\": 0.025605429934899834, \"all_density_land\": 0.04480950238607471}, {\"geoid\": \"21029\", \"dealer_rate\": 0.039964732329575356, \"all_density_land\": 0.08659025338074659}, {\"geoid\": \"21225\", \"dealer_rate\": 0.0027519622705989653, \"all_density_land\": 0.013759811352994826}, {\"geoid\": \"21065\", \"dealer_rate\": 0.011736632688885276, \"all_density_land\": 0.027385476274065644}, {\"geoid\": \"13129\", \"dealer_rate\": 0.011171849149800218, \"all_density_land\": 0.04189443431175082}, {\"geoid\": \"21167\", \"dealer_rate\": 0.01973852736912988, \"all_density_land\": 0.035529349264433796}, {\"geoid\": \"21105\", \"dealer_rate\": 0.007903892241051678, \"all_density_land\": 0.015807784482103352}, {\"geoid\": \"21133\", \"dealer_rate\": 0.005899130813280081, \"all_density_land\": 0.03834435028632053}, {\"geoid\": \"13157\", \"dealer_rate\": 0.03788990363292423, \"all_density_land\": 0.07577980726584846}, {\"geoid\": \"21193\", \"dealer_rate\": 0.008756329980608263, \"all_density_land\": 0.04086287324283856}, {\"geoid\": \"21177\", \"dealer_rate\": 0.00417187849814418, \"all_density_land\": 0.02294533173979299}, {\"geoid\": \"21067\", \"dealer_rate\": 0.04202414943331117, \"all_density_land\": 0.16109257282769282}, {\"geoid\": \"13313\", \"dealer_rate\": 0.04466519671995562, \"all_density_land\": 0.09276617780298477}, {\"geoid\": \"13137\", \"dealer_rate\": 0.035839058867482745, \"all_density_land\": 0.06451030596146896}, {\"geoid\": \"21199\", \"dealer_rate\": 0.004430305289427308, \"all_density_land\": 0.0502101266135095}, {\"geoid\": \"21069\", \"dealer_rate\": 0.014232195729354948, \"all_density_land\": 0.014232195729354948}, {\"geoid\": \"21077\", \"dealer_rate\": 0.00954946779815276, \"all_density_land\": 0.028648403394458278}, {\"geoid\": \"39021\", \"dealer_rate\": 0.020938348589452864, \"all_density_land\": 0.039550214002299855}, {\"geoid\": \"39131\", \"dealer_rate\": 0.006757124418795841, \"all_density_land\": 0.02702849767518336}, {\"geoid\": \"39081\", \"dealer_rate\": 0.009733476491466601, \"all_density_land\": 0.058400858948799615}, {\"geoid\": \"12017\", \"dealer_rate\": 0.043967748325792706, \"all_density_land\": 0.07888331317274573}, {\"geoid\": \"39147\", \"dealer_rate\": 0.007235976406448912, \"all_density_land\": 0.02532591742257119}, {\"geoid\": \"39109\", \"dealer_rate\": 0.019528574579932696, \"all_density_land\": 0.06102679556228967}, {\"geoid\": \"12009\", \"dealer_rate\": 0.036608223255259406, \"all_density_land\": 0.11303591741974833}, {\"geoid\": \"12037\", \"dealer_rate\": 0.0019483802727022976, \"all_density_land\": 0.003896760545404596}, {\"geoid\": \"12011\", \"dealer_rate\": 0.07937628906121141, \"all_density_land\": 0.18672327045827827}, {\"geoid\": \"39033\", \"dealer_rate\": 0.022349314410350055, \"all_density_land\": 0.03973211450728898}, {\"geoid\": \"39169\", \"dealer_rate\": 0.02514293533372056, \"all_density_land\": 0.059265490429484174}, {\"geoid\": \"39141\", \"dealer_rate\": 0.02020130155393421, \"all_density_land\": 0.03895965299687312}, {\"geoid\": \"39043\", \"dealer_rate\": 0.011182419202208986, \"all_density_land\": 0.027157303776793252}, {\"geoid\": \"39157\", \"dealer_rate\": 0.03324870713983345, \"all_density_land\": 0.07874693796276343}, {\"geoid\": \"39041\", \"dealer_rate\": 0.06997149414282401, \"all_density_land\": 0.13338316070975823}, {\"geoid\": \"39017\", \"dealer_rate\": 0.051049477799396455, \"all_density_land\": 0.13613194079839053}, {\"geoid\": \"12047\", \"dealer_rate\": 0.0038531466199455116, \"all_density_land\": 0.007706293239891023}, {\"geoid\": \"12063\", \"dealer_rate\": 0.009428386618901429, \"all_density_land\": 0.027237561343493023}, {\"geoid\": \"12093\", \"dealer_rate\": 0.006727209108166354, \"all_density_land\": 0.021302828842526787}, {\"geoid\": \"12087\", \"dealer_rate\": 0.0042812407011566305, \"all_density_land\": 0.0069570161393795234}, {\"geoid\": \"12031\", \"dealer_rate\": 0.04355111864084664, \"all_density_land\": 0.15351769320898445}, {\"geoid\": \"39009\", \"dealer_rate\": 0.02950194958237892, \"all_density_land\": 0.05113671260945679}, {\"geoid\": \"39097\", \"dealer_rate\": 0.017144213466449072, \"all_density_land\": 0.030002373566285878}, {\"geoid\": \"39089\", \"dealer_rate\": 0.030545842659469764, \"all_density_land\": 0.09018296404224406}, {\"geoid\": \"12081\", \"dealer_rate\": 0.035847174921523, \"all_density_land\": 0.0907381615201051}, {\"geoid\": \"39057\", \"dealer_rate\": 0.036035561984435374, \"all_density_land\": 0.10810668595330611}, {\"geoid\": \"39167\", \"dealer_rate\": 0.021875106971627027, \"all_density_land\": 0.057812782710728566}, {\"geoid\": \"12071\", \"dealer_rate\": 0.05278903192774429, \"all_density_land\": 0.12289946495677968}, {\"geoid\": \"12029\", \"dealer_rate\": 0.0011578764042074821, \"all_density_land\": 0.0057893820210374106}, {\"geoid\": \"39137\", \"dealer_rate\": 0.006194510831375864, \"all_density_land\": 0.03303739110067128}, {\"geoid\": \"12069\", \"dealer_rate\": 0.033708918179872455, \"all_density_land\": 0.08816178600889721}, {\"geoid\": \"12065\", \"dealer_rate\": 0.00628399933161209, \"all_density_land\": 0.007854999164515113}, {\"geoid\": \"39173\", \"dealer_rate\": 0.02739768468966108, \"all_density_land\": 0.05318374086816563}, {\"geoid\": \"39059\", \"dealer_rate\": 0.02839282557203812, \"all_density_land\": 0.04353566587712512}, {\"geoid\": \"39119\", \"dealer_rate\": 0.028249293539544702, \"all_density_land\": 0.06690622154102692}, {\"geoid\": \"39095\", \"dealer_rate\": 0.04698952708638281, \"all_density_land\": 0.1124392255281303}, {\"geoid\": \"39055\", \"dealer_rate\": 0.036738298012418756, \"all_density_land\": 0.11021489403725626}, {\"geoid\": \"39101\", \"dealer_rate\": 0.019796677021864863, \"all_density_land\": 0.03464418478826351}, {\"geoid\": \"39025\", \"dealer_rate\": 0.05437545033624095, \"all_density_land\": 0.12832606279352865}, {\"geoid\": \"39071\", \"dealer_rate\": 0.01254947795663231, \"all_density_land\": 0.04302678156559649}, {\"geoid\": \"39099\", \"dealer_rate\": 0.05643263476258996, \"all_density_land\": 0.129324787997602}, {\"geoid\": \"39127\", \"dealer_rate\": 0.016970235150728905, \"all_density_land\": 0.026667512379716853}, {\"geoid\": \"39121\", \"dealer_rate\": 0.004943512161188304, \"all_density_land\": 0.01483053648356491}, {\"geoid\": \"39065\", \"dealer_rate\": 0.012748381441321732, \"all_density_land\": 0.01699784192176231}, {\"geoid\": \"39153\", \"dealer_rate\": 0.0714191356787675, \"all_density_land\": 0.2047348556124668}, {\"geoid\": \"39011\", \"dealer_rate\": 0.012440735859108737, \"all_density_land\": 0.034834060405504456}, {\"geoid\": \"39083\", \"dealer_rate\": 0.00944049854171158, \"all_density_land\": 0.03209769504181938}, {\"geoid\": \"39129\", \"dealer_rate\": 0.021715413942087883, \"all_density_land\": 0.053301470585124806}, {\"geoid\": \"39171\", \"dealer_rate\": 0.023635536188854625, \"all_density_land\": 0.04490751875882379}, {\"geoid\": \"39133\", \"dealer_rate\": 0.04761302758070002, \"all_density_land\": 0.10911318820577089}, {\"geoid\": \"39001\", \"dealer_rate\": 0.0034115264216069267, \"all_density_land\": 0.02046915852964156}, {\"geoid\": \"39037\", \"dealer_rate\": 0.008336709923932449, \"all_density_land\": 0.030012155726156814}, {\"geoid\": \"39019\", \"dealer_rate\": 0.015040221049797487, \"all_density_land\": 0.02506703508299581}, {\"geoid\": \"39079\", \"dealer_rate\": 0.018978324497204182, \"all_density_land\": 0.03795664899440837}, {\"geoid\": \"39005\", \"dealer_rate\": 0.011715115850983423, \"all_density_land\": 0.032802324382753587}, {\"geoid\": \"39163\", \"dealer_rate\": null, \"all_density_land\": 0.007229286805205325}, {\"geoid\": \"39063\", \"dealer_rate\": 0.014990850512524372, \"all_density_land\": 0.037477126281310925}, {\"geoid\": \"39035\", \"dealer_rate\": 0.030507736125833813, \"all_density_land\": 0.08590336224905837}, {\"geoid\": \"12033\", \"dealer_rate\": 0.02400811165819872, \"all_density_land\": 0.06516487450082512}, {\"geoid\": \"28057\", \"dealer_rate\": 0.003700620502631455, \"all_density_land\": 0.029604964021051637}, {\"geoid\": \"48013\", \"dealer_rate\": 0.009005536812499161, \"all_density_land\": 0.02210449944886158}, {\"geoid\": \"28139\", \"dealer_rate\": 0.008696508663063582, \"all_density_land\": 0.02174127165765896}, {\"geoid\": \"28097\", \"dealer_rate\": 0.00490329658626191, \"all_density_land\": 0.002451648293130955}, {\"geoid\": \"28063\", \"dealer_rate\": null, \"all_density_land\": 0.005689744147713212}, {\"geoid\": \"28123\", \"dealer_rate\": 0.006553184279603472, \"all_density_land\": 0.02457444104851302}, {\"geoid\": \"28157\", \"dealer_rate\": null, \"all_density_land\": 0.0029079648358637826}, {\"geoid\": \"28111\", \"dealer_rate\": 0.0030759697450262915, \"all_density_land\": 0.004613954617539437}, {\"geoid\": \"28119\", \"dealer_rate\": null, \"all_density_land\": 0.00246043830943953}, {\"geoid\": \"28113\", \"dealer_rate\": 0.017044345065844832, \"all_density_land\": 0.04139340944562316}, {\"geoid\": \"51059\", \"dealer_rate\": 0.13538602981726652, \"all_density_land\": 0.3667730625958675}, {\"geoid\": \"28115\", \"dealer_rate\": 0.011975537973606074, \"all_density_land\": 0.021955152951611136}, {\"geoid\": \"28121\", \"dealer_rate\": 0.021089568930277743, \"all_density_land\": 0.08435827572111097}, {\"geoid\": \"28085\", \"dealer_rate\": 0.01190122816676152, \"all_density_land\": 0.028902982690706548}, {\"geoid\": \"22101\", \"dealer_rate\": 0.008039858255944249, \"all_density_land\": 0.01875966926386992}, {\"geoid\": \"22117\", \"dealer_rate\": 0.013315883947158639, \"all_density_land\": 0.026631767894317274}, {\"geoid\": \"22111\", \"dealer_rate\": 0.0044179204322019865, \"all_density_land\": 0.008835840864403975}, {\"geoid\": \"22057\", \"dealer_rate\": 0.006104573975662788, \"all_density_land\": 0.02102686591617182}, {\"geoid\": \"22045\", \"dealer_rate\": 0.006792630514876196, \"all_density_land\": 0.014555636817591849}, {\"geoid\": \"22015\", \"dealer_rate\": 0.03228707780257399, \"all_density_land\": 0.08187080442795548}, {\"geoid\": \"22031\", \"dealer_rate\": 0.004471330190299625, \"all_density_land\": 0.01229615802332397}, {\"geoid\": \"11001\", \"dealer_rate\": 0.014632731922723137, \"all_density_land\": 0.05853092769089255}, {\"geoid\": \"51620\", \"dealer_rate\": 0.11978089599017362, \"all_density_land\": 0.23956179198034724}, {\"geoid\": \"51141\", \"dealer_rate\": 0.010290981028013582, \"all_density_land\": 0.026756550672835316}, {\"geoid\": \"51181\", \"dealer_rate\": null, \"all_density_land\": null}, {\"geoid\": \"51117\", \"dealer_rate\": 0.016194849725549913, \"all_density_land\": 0.02944518131918166}, {\"geoid\": \"51053\", \"dealer_rate\": 0.01577312617393234, \"all_density_land\": 0.019716407717415427}, {\"geoid\": \"51069\", \"dealer_rate\": 0.04572728908369708, \"all_density_land\": 0.11070817357105607}, {\"geoid\": \"51023\", \"dealer_rate\": 0.007327204215235714, \"all_density_land\": 0.02747701580713393}, {\"geoid\": \"51027\", \"dealer_rate\": 0.003969491051924732, \"all_density_land\": 0.023816946311548393}, {\"geoid\": \"51071\", \"dealer_rate\": 0.008323598352647834, \"all_density_land\": 0.030519860626375395}, {\"geoid\": \"51570\", \"dealer_rate\": 0.25600943836282225, \"all_density_land\": 0.6400235959070557}, {\"geoid\": \"51650\", \"dealer_rate\": 0.07336808862483632, \"all_density_land\": 0.15407298611215628}, {\"geoid\": \"51147\", \"dealer_rate\": 0.01695697371214202, \"all_density_land\": 0.02543546056821303}, {\"geoid\": \"51075\", \"dealer_rate\": 0.0172470440393326, \"all_density_land\": 0.037943496886531716}, {\"geoid\": \"51133\", \"dealer_rate\": null, \"all_density_land\": 0.02800913986511701}, {\"geoid\": \"51167\", \"dealer_rate\": 0.006292561737343445, \"all_density_land\": 0.02517024694937378}, {\"geoid\": \"51520\", \"dealer_rate\": 0.07602698953538058, \"all_density_land\": 0.22808096860614172}, {\"geoid\": \"51149\", \"dealer_rate\": 0.007096204807792264, \"all_density_land\": 0.028384819231169055}, {\"geoid\": \"51139\", \"dealer_rate\": 0.012735802184288414, \"all_density_land\": 0.041391357098937355}, {\"geoid\": \"51083\", \"dealer_rate\": 0.010848163037227333, \"all_density_land\": 0.02049097462587385}, {\"geoid\": \"51003\", \"dealer_rate\": 0.005508750584779263, \"all_density_land\": 0.023412189985311863}, {\"geoid\": \"51031\", \"dealer_rate\": 0.023653380782431812, \"all_density_land\": 0.059133451956079525}, {\"geoid\": \"51153\", \"dealer_rate\": 0.06600190859650543, \"all_density_land\": 0.2295718559878449}, {\"geoid\": \"51175\", \"dealer_rate\": null, \"all_density_land\": 0.00830110851438176}, {\"geoid\": \"51127\", \"dealer_rate\": 0.017899362106927927, \"all_density_land\": 0.0492232457940518}, {\"geoid\": \"51111\", \"dealer_rate\": 0.006938401544484207, \"all_density_land\": 0.02081520463345262}, {\"geoid\": \"51065\", \"dealer_rate\": 0.003446509940835238, \"all_density_land\": 0.027572079526681902}, {\"geoid\": \"51109\", \"dealer_rate\": 0.009787197080494829, \"all_density_land\": 0.029361591241484485}, {\"geoid\": \"51107\", \"dealer_rate\": 0.067160655119687, \"all_density_land\": 0.1880498343351236}, {\"geoid\": \"51155\", \"dealer_rate\": 0.021238272436702503, \"all_density_land\": 0.05764673947104965}, {\"geoid\": \"51041\", \"dealer_rate\": 0.06865702603172166, \"all_density_land\": 0.13731405206344335}, {\"geoid\": \"51099\", \"dealer_rate\": 0.07456414087712974, \"all_density_land\": 0.11717222137834671}, {\"geoid\": \"51159\", \"dealer_rate\": null, \"all_density_land\": 0.013865949939628636}, {\"geoid\": \"51057\", \"dealer_rate\": null, \"all_density_land\": 0.013985987043247968}, {\"geoid\": \"51035\", \"dealer_rate\": 0.01256168550692414, \"all_density_land\": 0.03349782801846437}, {\"geoid\": \"51161\", \"dealer_rate\": 0.023880928353935925, \"all_density_land\": 0.051742011433527836}, {\"geoid\": \"51720\", \"dealer_rate\": 0.26612421978444495, \"all_density_land\": 0.9314347692455571}, {\"geoid\": \"51043\", \"dealer_rate\": 0.028032826154189998, \"all_density_land\": 0.067278782770056}, {\"geoid\": \"51630\", \"dealer_rate\": 0.1902836773453949, \"all_density_land\": 1.1417020640723696}, {\"geoid\": \"51125\", \"dealer_rate\": 0.006325041803500174, \"all_density_land\": 0.016866778142667134}, {\"geoid\": \"51067\", \"dealer_rate\": 0.012648471513571541, \"all_density_land\": 0.03372925736952411}, {\"geoid\": \"51685\", \"dealer_rate\": 1.1835399530120188, \"all_density_land\": 0.7890266353413459}, {\"geoid\": \"51195\", \"dealer_rate\": 0.014806446975371056, \"all_density_land\": 0.03701611743842764}, {\"geoid\": \"48211\", \"dealer_rate\": null, \"all_density_land\": 0.007674117956885731}, {\"geoid\": \"48205\", \"dealer_rate\": 0.001366866555921168, \"all_density_land\": 0.002050299833881752}, {\"geoid\": \"48503\", \"dealer_rate\": 0.006445664497312473, \"all_density_land\": 0.0118170515784062}, {\"geoid\": \"48051\", \"dealer_rate\": 0.007387574448040723, \"all_density_land\": 0.01920769356490588}, {\"geoid\": \"48199\", \"dealer_rate\": 0.0233969587801893, \"all_density_land\": 0.044565635771789146}, {\"geoid\": \"48177\", \"dealer_rate\": 0.0037388277002624714, \"all_density_land\": 0.009347069250656181}, {\"geoid\": \"48311\", \"dealer_rate\": null, \"all_density_land\": 0.000864466958547113}, {\"geoid\": \"48143\", \"dealer_rate\": 0.008258344782915919, \"all_density_land\": 0.02569262821351619}, {\"geoid\": \"48167\", \"dealer_rate\": 0.04348767442595008, \"all_density_land\": 0.11444124848934231}, {\"geoid\": \"48223\", \"dealer_rate\": 0.00504558831695819, \"all_density_land\": 0.023966544505551402}, {\"geoid\": \"48309\", \"dealer_rate\": 0.03584124453784586, \"all_density_land\": 0.08865992069888186}, {\"geoid\": \"48313\", \"dealer_rate\": 0.0063501025604751835, \"all_density_land\": 0.012700205120950367}, {\"geoid\": \"48307\", \"dealer_rate\": 0.0037263709614824103, \"all_density_land\": 0.010247520144076629}, {\"geoid\": \"48129\", \"dealer_rate\": 0.0010717587454232356, \"all_density_land\": 0.002143517490846471}, {\"geoid\": \"48263\", \"dealer_rate\": 0.0011075200679585197, \"all_density_land\": 0.00110752006795852}, {\"geoid\": \"48385\", \"dealer_rate\": 0.00428511431977781, \"all_density_land\": 0.00857022863955562}, {\"geoid\": \"48435\", \"dealer_rate\": 0.0013751107045295915, \"all_density_land\": 0.004125332113588774}, {\"geoid\": \"48329\", \"dealer_rate\": 0.03658334158129465, \"all_density_land\": 0.09866416365864315}, {\"geoid\": \"48229\", \"dealer_rate\": null, \"all_density_land\": 0.00021873852061225999}, {\"geoid\": \"48507\", \"dealer_rate\": 0.0007682058116118684, \"all_density_land\": 0.000768205811611868}, {\"geoid\": \"48203\", \"dealer_rate\": 0.026207925066937435, \"all_density_land\": 0.04367987511156239}, {\"geoid\": \"48093\", \"dealer_rate\": 0.006331227854259544, \"all_density_land\": 0.008441637139012727}, {\"geoid\": \"48335\", \"dealer_rate\": null, \"all_density_land\": 0.00545903863409997}, {\"geoid\": \"48349\", \"dealer_rate\": 0.009208643485987803, \"all_density_land\": 0.022100744366370727}, {\"geoid\": \"48103\", \"dealer_rate\": 0.0012727119315051828, \"all_density_land\": 0.0038181357945155482}, {\"geoid\": \"48303\", \"dealer_rate\": 0.04885088376277284, \"all_density_land\": 0.11213498318272858}, {\"geoid\": \"34013\", \"dealer_rate\": 0.023142642603861306, \"all_density_land\": 0.03857107100643551}, {\"geoid\": \"34035\", \"dealer_rate\": 0.016401130233275083, \"all_density_land\": 0.03608248651320518}, {\"geoid\": \"34025\", \"dealer_rate\": 0.027054683319667455, \"all_density_land\": 0.043588100903908675}, {\"geoid\": \"16061\", \"dealer_rate\": null, \"all_density_land\": 0.01250680202390701}, {\"geoid\": \"16049\", \"dealer_rate\": 0.0035280446645201153, \"all_density_land\": 0.0034104431757027783}, {\"geoid\": \"30039\", \"dealer_rate\": null, \"all_density_land\": 0.002885020877876555}, {\"geoid\": \"16025\", \"dealer_rate\": null, \"all_density_land\": 0.0009268246294506941}, {\"geoid\": \"30067\", \"dealer_rate\": 0.002488033649404828, \"all_density_land\": 0.010663001354592121}, {\"geoid\": \"16077\", \"dealer_rate\": 0.00207948227250238, \"all_density_land\": 0.004852125302505552}, {\"geoid\": \"30089\", \"dealer_rate\": 0.002867452612117465, \"all_density_land\": 0.00896078941286708}, {\"geoid\": \"30041\", \"dealer_rate\": 0.0017146630087767902, \"all_density_land\": 0.006515719433351803}, {\"geoid\": \"30035\", \"dealer_rate\": 0.0006585600929916738, \"all_density_land\": 0.001317120185983347}, {\"geoid\": \"16007\", \"dealer_rate\": 0.005717453453838232, \"all_density_land\": 0.007623271271784307}, {\"geoid\": \"30015\", \"dealer_rate\": 0.00025019940861940073, \"all_density_land\": 0.0025019940861940072}, {\"geoid\": \"30059\", \"dealer_rate\": 0.0008351450466036497, \"all_density_land\": 0.001670290093207299}, {\"geoid\": \"16057\", \"dealer_rate\": 0.0065000583707595155, \"all_density_land\": 0.020428754879529904}, {\"geoid\": \"16087\", \"dealer_rate\": 0.004071989925404599, \"all_density_land\": 0.0101799748135115}, {\"geoid\": \"16027\", \"dealer_rate\": 0.12592207216718285, \"all_density_land\": 0.22202049566319082}, {\"geoid\": \"30055\", \"dealer_rate\": 0.0011182884229111968, \"all_density_land\": 0.001863814038185327}, {\"geoid\": \"30111\", \"dealer_rate\": 0.013967196556033033, \"all_density_land\": 0.03850416347879377}, {\"geoid\": \"30071\", \"dealer_rate\": 0.0001918663101586381, \"all_density_land\": 0.0015349304812691039}, {\"geoid\": \"30011\", \"dealer_rate\": 0.0002986597455435471, \"all_density_land\": 0.000298659745543547}, {\"geoid\": \"30077\", \"dealer_rate\": 0.0004286854004124217, \"all_density_land\": 0.003000797802886952}, {\"geoid\": \"16045\", \"dealer_rate\": 0.03888973365977533, \"all_density_land\": 0.0441928791588356}, {\"geoid\": \"16029\", \"dealer_rate\": 0.001112012386772597, \"all_density_land\": 0.003892043353704089}, {\"geoid\": \"30093\", \"dealer_rate\": 0.019470569280883324, \"all_density_land\": 0.0417226484590357}, {\"geoid\": \"30063\", \"dealer_rate\": 0.007638522760776015, \"all_density_land\": 0.02902638649094885}, {\"geoid\": \"16033\", \"dealer_rate\": 0.0005665309399407502, \"all_density_land\": 0.0011330618798815}, {\"geoid\": \"30079\", \"dealer_rate\": 0.0005738829488061046, \"all_density_land\": 0.0028694147440305228}, {\"geoid\": \"30105\", \"dealer_rate\": 0.00019755897408073433, \"all_density_land\": 0.002370707688968811}, {\"geoid\": \"30009\", \"dealer_rate\": 0.0019396698379653974, \"all_density_land\": 0.004849174594913493}, {\"geoid\": \"30013\", \"dealer_rate\": 0.009220059012905126, \"all_density_land\": 0.02839778175974779}, {\"geoid\": \"30101\", \"dealer_rate\": 0.0025696883690443707, \"all_density_land\": 0.0051393767380887405}, {\"geoid\": \"30065\", \"dealer_rate\": 0.0010690175698098937, \"all_density_land\": 0.004810579064144522}, {\"geoid\": \"30047\", \"dealer_rate\": 0.006046987024983511, \"all_density_land\": 0.022373851992439}, {\"geoid\": \"16059\", \"dealer_rate\": 0.0010943917272812369, \"all_density_land\": 0.005690836981862432}, {\"geoid\": \"16043\", \"dealer_rate\": 0.0031651042196424667, \"all_density_land\": 0.0073852431791657566}, {\"geoid\": \"30075\", \"dealer_rate\": 0.0006064487065683202, \"all_density_land\": 0.00181934611970496}, {\"geoid\": \"30033\", \"dealer_rate\": 0.00020629009939720347, \"all_density_land\": 0.00041258019879440597}, {\"geoid\": \"30001\", \"dealer_rate\": 0.0007178903696387711, \"all_density_land\": 0.003230506663374469}, {\"geoid\": \"30031\", \"dealer_rate\": 0.012537676313381067, \"all_density_land\": 0.03799295852539717}, {\"geoid\": \"30007\", \"dealer_rate\": 0.0056507861999117595, \"all_density_land\": 0.017759613771151244}, {\"geoid\": \"30085\", \"dealer_rate\": 0.0012660925926223062, \"all_density_land\": 0.0046423395062817905}, {\"geoid\": \"30083\", \"dealer_rate\": 0.0019018502227949093, \"all_density_land\": 0.005705550668384728}, {\"geoid\": \"30095\", \"dealer_rate\": 0.0016624326902371595, \"all_density_land\": 0.007758019221106744}, {\"geoid\": \"16017\", \"dealer_rate\": 0.011461259495435505, \"all_density_land\": 0.028132182397887145}, {\"geoid\": \"30051\", \"dealer_rate\": 0.002072990630279719, \"all_density_land\": 0.004145981260559437}, {\"geoid\": \"30099\", \"dealer_rate\": 0.0013085816456988868, \"all_density_land\": 0.004361938818996288}, {\"geoid\": \"30049\", \"dealer_rate\": 0.006289749903145121, \"all_density_land\": 0.020870533769526998}, {\"geoid\": \"16083\", \"dealer_rate\": 0.01192745889458142, \"all_density_land\": 0.025929258466481343}, {\"geoid\": \"30103\", \"dealer_rate\": null, \"all_density_land\": null}, {\"geoid\": \"30025\", \"dealer_rate\": 0.0006161193951131937, \"all_density_land\": 0.006161193951131936}, {\"geoid\": \"30023\", \"dealer_rate\": 0.0013491676575096965, \"all_density_land\": 0.014840844232606665}, {\"geoid\": \"16019\", \"dealer_rate\": 0.012627326372923912, \"all_density_land\": 0.03419900892666893}, {\"geoid\": \"30091\", \"dealer_rate\": 0.0011722729406840765, \"all_density_land\": 0.004689091762736306}, {\"geoid\": \"30087\", \"dealer_rate\": 0.0011935978895660326, \"all_density_land\": 0.0025861287607264038}, {\"geoid\": \"30003\", \"dealer_rate\": 0.00019941839804074198, \"all_density_land\": 0.000598255194122225}, {\"geoid\": \"30005\", \"dealer_rate\": 0.0007077520023670642, \"all_density_land\": 0.001651421338856483}, {\"geoid\": \"30053\", \"dealer_rate\": 0.003537500179845711, \"all_density_land\": 0.010340385141087465}, {\"geoid\": \"30029\", \"dealer_rate\": 0.0011414626120616386, \"all_density_land\": 0.022829252241232768}, {\"geoid\": \"30057\", \"dealer_rate\": 0.0013878371213748664, \"all_density_land\": 0.0027756742427497328}, {\"geoid\": \"30045\", \"dealer_rate\": 0.000534581334495033, \"all_density_land\": 0.0037420693414652313}, {\"geoid\": \"30107\", \"dealer_rate\": null, \"all_density_land\": 0.002100492090411154}, {\"geoid\": \"30081\", \"dealer_rate\": 0.01666521627573495, \"all_density_land\": 0.03749673662040364}, {\"geoid\": \"30037\", \"dealer_rate\": 0.0008500945723264807, \"all_density_land\": 0.001700189144652961}, {\"geoid\": \"30021\", \"dealer_rate\": 0.0016784484948528288, \"all_density_land\": 0.005874569731984901}, {\"geoid\": \"30019\", \"dealer_rate\": 0.0014020380343635888, \"all_density_land\": 0.002103057051545383}, {\"geoid\": \"16067\", \"dealer_rate\": 0.005242964008454738, \"all_density_land\": 0.013107410021136846}, {\"geoid\": \"30017\", \"dealer_rate\": 0.000263633891736896, \"all_density_land\": 0.00263633891736896}, {\"geoid\": \"30109\", \"dealer_rate\": 0.0011236254175759394, \"all_density_land\": null}, {\"geoid\": \"30061\", \"dealer_rate\": 0.0008174465117070969, \"all_density_land\": 0.004904679070242581}, {\"geoid\": \"16021\", \"dealer_rate\": 0.010173208538150229, \"all_density_land\": 0.01799875356749656}, {\"geoid\": \"30043\", \"dealer_rate\": 0.0018084587437698359, \"all_density_land\": 0.010247932881362404}, {\"geoid\": \"30027\", \"dealer_rate\": 0.001379128226631098, \"all_density_land\": 0.0048269487932088425}, {\"geoid\": \"30097\", \"dealer_rate\": 0.001074116342292193, \"all_density_land\": 0.004833523540314868}, {\"geoid\": \"16015\", \"dealer_rate\": 0.006818081087665332, \"all_density_land\": 0.008391484415588102}, {\"geoid\": \"16037\", \"dealer_rate\": 0.0006076159893942544, \"all_density_land\": 0.002227925294445599}, {\"geoid\": \"08095\", \"dealer_rate\": 0.008720365683931305, \"all_density_land\": 0.011627154245241739}, {\"geoid\": \"08091\", \"dealer_rate\": 0.0018443022665864425, \"all_density_land\": 0.009221511332932211}, {\"geoid\": \"08077\", \"dealer_rate\": 0.010774787407652342, \"all_density_land\": 0.03022926467146907}, {\"geoid\": \"08109\", \"dealer_rate\": 0.0003154289205731776, \"all_density_land\": 0.001577144602865888}, {\"geoid\": \"08035\", \"dealer_rate\": 0.07355814848367595, \"all_density_land\": 0.18864105820813676}, {\"geoid\": \"08033\", \"dealer_rate\": 0.002808647790389143, \"all_density_land\": 0.007489727441037715}, {\"geoid\": \"08105\", \"dealer_rate\": 0.007672611311624761, \"all_density_land\": 0.012056960632553196}, {\"geoid\": \"08101\", \"dealer_rate\": 0.009175112481314711, \"all_density_land\": 0.03044469141527154}, {\"geoid\": \"08063\", \"dealer_rate\": 0.0023130037820805575, \"all_density_land\": 0.003700806051328892}, {\"geoid\": \"08009\", \"dealer_rate\": 0.000782062992741354, \"all_density_land\": 0.0027372204745947392}, {\"geoid\": \"08049\", \"dealer_rate\": 0.0026744119075509513, \"all_density_land\": 0.006953470959632475}, {\"geoid\": \"08075\", \"dealer_rate\": 0.002710108180944208, \"all_density_land\": 0.011924475996154517}, {\"geoid\": \"08019\", \"dealer_rate\": 0.007566903626366991, \"all_density_land\": 0.015133807252733982}, {\"geoid\": \"08081\", \"dealer_rate\": 0.0014733946251938976, \"all_density_land\": 0.003788729036212879}, {\"geoid\": \"08119\", \"dealer_rate\": 0.019679686486894936, \"all_density_land\": 0.04114843538168941}, {\"geoid\": \"08013\", \"dealer_rate\": 0.02431183432004596, \"all_density_land\": 0.07833813280903698}, {\"geoid\": \"08061\", \"dealer_rate\": 0.0005599346109726285, \"all_density_land\": 0.001119869221945257}, {\"geoid\": \"08015\", \"dealer_rate\": 0.004926338583303364, \"all_density_land\": 0.01477901574991009}, {\"geoid\": \"08053\", \"dealer_rate\": 0.001780709664449858, \"all_density_land\": 0.0017807096644498579}, {\"geoid\": \"08057\", \"dealer_rate\": 0.001850749267349615, \"all_density_land\": 0.001850749267349614}, {\"geoid\": \"29045\", \"dealer_rate\": 0.009768965084453825, \"all_density_land\": 0.021491723185798416}, {\"geoid\": \"29025\", \"dealer_rate\": 0.011637731797888006, \"all_density_land\": 0.018620370876620808}, {\"geoid\": \"29149\", \"dealer_rate\": 0.0012633534349569746, \"all_density_land\": 0.011370180914612772}, {\"geoid\": \"29115\", \"dealer_rate\": 0.00482799207440408, \"all_density_land\": 0.016093306914680267}, {\"geoid\": \"29165\", \"dealer_rate\": 0.021086933222865912, \"all_density_land\": 0.049202844186687134}, {\"geoid\": \"20121\", \"dealer_rate\": 0.013553447976052816, \"all_density_land\": 0.03388361994013204}, {\"geoid\": \"20123\", \"dealer_rate\": 0.006952566906305776, \"all_density_land\": 0.009733593668828087}, {\"geoid\": \"29007\", \"dealer_rate\": 0.004305259173773205, \"all_density_land\": 0.021526295868866025}, {\"geoid\": \"29207\", \"dealer_rate\": 0.007237452102595304, \"all_density_land\": 0.02171235630778591}, {\"geoid\": \"29087\", \"dealer_rate\": 0.006378188332997703, \"all_density_land\": 0.012756376665995404}, {\"geoid\": \"29085\", \"dealer_rate\": 0.004857810125181403, \"all_density_land\": 0.012144525312953508}, {\"geoid\": \"29219\", \"dealer_rate\": 0.020558743863226606, \"all_density_land\": 0.04797040234752875}, {\"geoid\": \"29013\", \"dealer_rate\": 0.005872814496054951, \"all_density_land\": 0.014094754790531884}, {\"geoid\": \"29089\", \"dealer_rate\": 0.006362271335686424, \"all_density_land\": 0.010603785559477372}, {\"geoid\": \"29197\", \"dealer_rate\": 0.006490154159333668, \"all_density_land\": 0.006490154159333668}, {\"geoid\": \"29133\", \"dealer_rate\": 0.002332292964029993, \"all_density_land\": 0.004664585928059985}, {\"geoid\": \"29187\", \"dealer_rate\": 0.026392583233902034, \"all_density_land\": 0.06378207614859659}, {\"geoid\": \"29179\", \"dealer_rate\": 0.0036836344689839453, \"all_density_land\": 0.009823025250623854}, {\"geoid\": \"29067\", \"dealer_rate\": 0.003682806069505611, \"all_density_land\": 0.00859321416217976}, {\"geoid\": \"29119\", \"dealer_rate\": 0.011117677512300328, \"all_density_land\": 0.024088301276650716}, {\"geoid\": \"29101\", \"dealer_rate\": 0.01800306094960888, \"all_density_land\": 0.03840653002583228}, {\"geoid\": \"29125\", \"dealer_rate\": 0.007548202296195459, \"all_density_land\": 0.020757556314537514}, {\"geoid\": \"29075\", \"dealer_rate\": 0.006101080258423791, \"all_density_land\": 0.016269547355796776}, {\"geoid\": \"29033\", \"dealer_rate\": 0.014257379559483946, \"all_density_land\": 0.025663283207071102}, {\"geoid\": \"20115\", \"dealer_rate\": 0.004194058165915297, \"all_density_land\": 0.009436630873309416}, {\"geoid\": \"29039\", \"dealer_rate\": 0.010026984411124177, \"all_density_land\": 0.014037778175573848}, {\"geoid\": \"29155\", \"dealer_rate\": 0.007790688342554213, \"all_density_land\": 0.01752904877074698}, {\"geoid\": \"20053\", \"dealer_rate\": 0.005530307958949592, \"all_density_land\": 0.01382576989737398}, {\"geoid\": \"20191\", \"dealer_rate\": 0.004219570455922206, \"all_density_land\": 0.01350262545895106}, {\"geoid\": \"20151\", \"dealer_rate\": 0.012232883745427178, \"all_density_land\": 0.019028930270664497}, {\"geoid\": \"29055\", \"dealer_rate\": 0.009411720616600977, \"all_density_land\": 0.02689063033314565}, {\"geoid\": \"29015\", \"dealer_rate\": 0.006644102990285664, \"all_density_land\": 0.02258995016697125}, {\"geoid\": \"29109\", \"dealer_rate\": 0.011412223583648042, \"all_density_land\": 0.02445476482210295}, {\"geoid\": \"29129\", \"dealer_rate\": 0.0021972701496420694, \"all_density_land\": 0.008789080598568278}, {\"geoid\": \"29111\", \"dealer_rate\": 0.009788652871776176, \"all_density_land\": 0.027408228040973294}, {\"geoid\": \"29105\", \"dealer_rate\": 0.015624744789682996, \"all_density_land\": 0.035155675776786736}, {\"geoid\": \"29017\", \"dealer_rate\": 0.003219582594468003, \"all_density_land\": 0.006439165188936006}, {\"geoid\": \"29049\", \"dealer_rate\": 0.01652962401805601, \"all_density_land\": 0.0377819977555566}, {\"geoid\": \"20045\", \"dealer_rate\": 0.029496258482739814, \"all_density_land\": 0.07584752181275953}, {\"geoid\": \"29135\", \"dealer_rate\": 0.011936843048794388, \"all_density_land\": 0.016711580268312144}, {\"geoid\": \"53015\", \"dealer_rate\": 0.008574803894222376, \"all_density_land\": 0.026581892072089365}, {\"geoid\": \"53049\", \"dealer_rate\": 0.0024522152467222162, \"all_density_land\": 0.008991455904648126}, {\"geoid\": \"53067\", \"dealer_rate\": 0.018099479246336453, \"all_density_land\": 0.08015483666234716}, {\"geoid\": \"53041\", \"dealer_rate\": 0.0036941998972830807, \"all_density_land\": 0.015597732899639677}, {\"geoid\": \"53017\", \"dealer_rate\": 0.0010818673418340854, \"all_density_land\": 0.006491204051004512}, {\"geoid\": \"53073\", \"dealer_rate\": 0.005592257850673453, \"all_density_land\": 0.015977879573352723}, {\"geoid\": \"53031\", \"dealer_rate\": 0.0022903105501291834, \"all_density_land\": 0.003664496880206693}, {\"geoid\": \"53005\", \"dealer_rate\": 0.010795420013790967, \"all_density_land\": 0.030113540038469538}, {\"geoid\": \"53075\", \"dealer_rate\": 0.004132999169592371, \"all_density_land\": 0.005510665559456494}, {\"geoid\": \"53065\", \"dealer_rate\": 0.005116654829830992, \"all_density_land\": 0.012988431491109443}, {\"geoid\": \"09005\", \"dealer_rate\": 0.03493682528824979, \"all_density_land\": 0.07834318397971164}, {\"geoid\": \"09015\", \"dealer_rate\": 0.028766507207490462, \"all_density_land\": 0.04602641153198474}, {\"geoid\": \"09013\", \"dealer_rate\": 0.045558416916307125, \"all_density_land\": 0.09591245666590971}, {\"geoid\": \"09003\", \"dealer_rate\": 0.03996678479581402, \"all_density_land\": 0.17585385310158166}, {\"geoid\": \"06055\", \"dealer_rate\": 0.005072402360218097, \"all_density_land\": 0.02155771003092691}, {\"geoid\": \"06079\", \"dealer_rate\": 0.0005531679725073345, \"all_density_land\": 0.011616527422654024}, {\"geoid\": \"06081\", \"dealer_rate\": 0.004048792391891218, \"all_density_land\": 0.024292754351347316}, {\"geoid\": \"06057\", \"dealer_rate\": 0.0061614478278540705, \"all_density_land\": 0.015403619569635174}, {\"geoid\": \"06077\", \"dealer_rate\": 0.014020366582152175, \"all_density_land\": 0.04206109974645653}, {\"geoid\": \"06071\", \"dealer_rate\": 0.0017408425136862886, \"all_density_land\": 0.007013108412279049}, {\"geoid\": \"45015\", \"dealer_rate\": 0.018710801377527217, \"all_density_land\": 0.043116194478649665}, {\"geoid\": \"21235\", \"dealer_rate\": 0.00673977859114662, \"all_density_land\": 0.02471252150087094}, {\"geoid\": \"45007\", \"dealer_rate\": 0.02904534443396566, \"all_density_land\": 0.06469190351201443}, {\"geoid\": \"45021\", \"dealer_rate\": 0.027695380884393626, \"all_density_land\": 0.07301509505885592}, {\"geoid\": \"45079\", \"dealer_rate\": 0.027212243680345447, \"all_density_land\": 0.08163673104103636}, {\"geoid\": \"45035\", \"dealer_rate\": 0.027787130485542124, \"all_density_land\": 0.05383756531573787}, {\"geoid\": \"45067\", \"dealer_rate\": 0.006071207501040191, \"all_density_land\": 0.01821362250312057}, {\"geoid\": \"45075\", \"dealer_rate\": 0.004433009247271367, \"all_density_land\": 0.013299027741814103}, {\"geoid\": \"45087\", \"dealer_rate\": 0.007751544143011293, \"all_density_land\": 0.01744097432177541}, {\"geoid\": \"15003\", \"dealer_rate\": 0.007988444663441095, \"all_density_land\": 0.024905151009551648}, {\"geoid\": \"01005\", \"dealer_rate\": 0.0044222580827784795, \"all_density_land\": 0.008844516165556959}, {\"geoid\": \"01027\", \"dealer_rate\": 0.008250803234096247, \"all_density_land\": 0.018151767115011742}, {\"geoid\": \"01091\", \"dealer_rate\": 0.0020352683853861065, \"all_density_land\": 0.004070536770772213}, {\"geoid\": \"45073\", \"dealer_rate\": 0.02524081683759526, \"all_density_land\": 0.05345114153843702}, {\"geoid\": \"45055\", \"dealer_rate\": 0.010805035631513395, \"all_density_land\": 0.03376573634847936}, {\"geoid\": \"45089\", \"dealer_rate\": 0.005335935888488805, \"all_density_land\": 0.009604684599279848}, {\"geoid\": \"15001\", \"dealer_rate\": 0.0029491762996769182, \"all_density_land\": 0.0047186820794830695}, {\"geoid\": \"45047\", \"dealer_rate\": 0.015121204033310527, \"all_density_land\": 0.05400430011896616}, {\"geoid\": \"45083\", \"dealer_rate\": 0.045163661687121374, \"all_density_land\": 0.12084331100067609}, {\"geoid\": \"21037\", \"dealer_rate\": 0.04390909849086848, \"all_density_land\": 0.11918183876092873}, {\"geoid\": \"01069\", \"dealer_rate\": 0.02578851345314585, \"all_density_land\": 0.058453963827130605}, {\"geoid\": \"21201\", \"dealer_rate\": null, \"all_density_land\": 0.03996073738641546}, {\"geoid\": \"21239\", \"dealer_rate\": null, \"all_density_land\": 0.02082940943749875}, {\"geoid\": \"21195\", \"dealer_rate\": 0.008875707469076323, \"all_density_land\": 0.02789508061709702}, {\"geoid\": \"21055\", \"dealer_rate\": null, \"all_density_land\": 0.01886077991724371}, {\"geoid\": \"21119\", \"dealer_rate\": null, \"all_density_land\": 0.002834053285758919}, {\"geoid\": \"45027\", \"dealer_rate\": 0.007187405903152363, \"all_density_land\": 0.014374811806304726}, {\"geoid\": \"15007\", \"dealer_rate\": null, \"all_density_land\": 0.01737326254024897}, {\"geoid\": \"15005\", \"dealer_rate\": null, \"all_density_land\": null}, {\"geoid\": \"21197\", \"dealer_rate\": null, \"all_density_land\": 0.016655403422277275}, {\"geoid\": \"21165\", \"dealer_rate\": null, \"all_density_land\": 0.004855916295524001}, {\"geoid\": \"01019\", \"dealer_rate\": 0.010000372349115603, \"all_density_land\": 0.025000930872789005}, {\"geoid\": \"01003\", \"dealer_rate\": 0.012824862031562908, \"all_density_land\": 0.03107562723032551}, {\"geoid\": \"45013\", \"dealer_rate\": 0.012995504481247843, \"all_density_land\": 0.03898651344374353}, {\"geoid\": \"21001\", \"dealer_rate\": 0.009699339076685262, \"all_density_land\": 0.0315228519992271}, {\"geoid\": \"01035\", \"dealer_rate\": null, \"all_density_land\": 0.002345430339547587}, {\"geoid\": \"01029\", \"dealer_rate\": 0.007129951839704828, \"all_density_land\": 0.014259903679409656}, {\"geoid\": \"01073\", \"dealer_rate\": 0.03559305696089667, \"all_density_land\": 0.1058893444586676}, {\"geoid\": \"01067\", \"dealer_rate\": 0.007038426653316925, \"all_density_land\": 0.01407685330663385}, {\"geoid\": \"01041\", \"dealer_rate\": 0.0032737738746073637, \"all_density_land\": 0.016368869373036818}, {\"geoid\": \"01089\", \"dealer_rate\": 0.06890483252224322, \"all_density_land\": 0.14765321254766403}, {\"geoid\": \"01083\", \"dealer_rate\": 0.03458565267355269, \"all_density_land\": 0.07575904871349637}, {\"geoid\": \"01047\", \"dealer_rate\": null, \"all_density_land\": 0.00603740363404998}, {\"geoid\": \"33011\", \"dealer_rate\": 0.06612758868882081, \"all_density_land\": 0.13113437078969548}, {\"geoid\": \"01039\", \"dealer_rate\": 0.004790249392360518, \"all_density_land\": 0.014370748177081553}, {\"geoid\": \"01117\", \"dealer_rate\": 0.0358234622775361, \"all_density_land\": 0.07535279996309317}, {\"geoid\": \"01007\", \"dealer_rate\": null, \"all_density_land\": 0.004791039799211969}, {\"geoid\": \"01013\", \"dealer_rate\": 0.0038566286580737187, \"all_density_land\": 0.0064277144301228654}, {\"geoid\": \"21031\", \"dealer_rate\": 0.006952922365221757, \"all_density_land\": 0.02549404867247977}, {\"geoid\": \"01087\", \"dealer_rate\": 0.0016307701293303669, \"all_density_land\": 0.0016307701293303669}, {\"geoid\": \"01001\", \"dealer_rate\": 0.014891093006833231, \"all_density_land\": 0.03474588368261088}, {\"geoid\": \"01059\", \"dealer_rate\": 0.009280419053991963, \"all_density_land\": 0.017014101598985268}, {\"geoid\": \"01095\", \"dealer_rate\": 0.0208607815059501, \"all_density_land\": 0.0609776690173926}, {\"geoid\": \"01121\", \"dealer_rate\": 0.009206818038111205, \"all_density_land\": 0.03419675271298448}, {\"geoid\": \"45061\", \"dealer_rate\": null, \"all_density_land\": 0.00243171365962154}, {\"geoid\": \"21045\", \"dealer_rate\": 0.004486961815850883, \"all_density_land\": 0.01570436635547809}, {\"geoid\": \"01127\", \"dealer_rate\": 0.012419377013498524, \"all_density_land\": 0.0260806917283469}, {\"geoid\": \"21131\", \"dealer_rate\": 0.012362559056769964, \"all_density_land\": 0.019780094490831943}, {\"geoid\": \"01077\", \"dealer_rate\": 0.023578691033470198, \"all_density_land\": 0.03883549111395091}, {\"geoid\": \"33007\", \"dealer_rate\": 0.006011798174464577, \"all_density_land\": 0.01257012345569866}, {\"geoid\": \"01103\", \"dealer_rate\": 0.02337020324454041, \"all_density_land\": 0.055086907647845254}, {\"geoid\": \"45049\", \"dealer_rate\": 0.0017771310320856147, \"all_density_land\": 0.017771310320856146}, {\"geoid\": \"21009\", \"dealer_rate\": 0.0200000311318695, \"all_density_land\": 0.03400005292417815}, {\"geoid\": \"01107\", \"dealer_rate\": 0.0022468732324052378, \"all_density_land\": 0.003370309848607856}, {\"geoid\": \"21163\", \"dealer_rate\": 0.012326554717869406, \"all_density_land\": 0.024653109435738813}, {\"geoid\": \"21025\", \"dealer_rate\": null, \"all_density_land\": 0.008076441890061464}, {\"geoid\": \"01055\", \"dealer_rate\": 0.018227260621384443, \"all_density_land\": 0.051036329739876436}, {\"geoid\": \"21207\", \"dealer_rate\": 0.014140493303931748, \"all_density_land\": 0.03181610993384643}, {\"geoid\": \"21203\", \"dealer_rate\": 0.0031437038766122796, \"all_density_land\": 0.02200592713628596}, {\"geoid\": \"01125\", \"dealer_rate\": 0.014801096568215502, \"all_density_land\": 0.025901918994377125}, {\"geoid\": \"21211\", \"dealer_rate\": 0.025928790882583545, \"all_density_land\": 0.06482197720645885}, {\"geoid\": \"21047\", \"dealer_rate\": 0.01243021410027033, \"all_density_land\": 0.03867177720084103}, {\"geoid\": \"21027\", \"dealer_rate\": 0.003415177904425576, \"all_density_land\": 0.022198656378766245}, {\"geoid\": \"45039\", \"dealer_rate\": 0.002817371708083277, \"all_density_land\": 0.00845211512424983}, {\"geoid\": \"45053\", \"dealer_rate\": 0.005719495713222169, \"all_density_land\": 0.01858836106797205}, {\"geoid\": \"01045\", \"dealer_rate\": 0.010662865442442297, \"all_density_land\": 0.035542884808140995}, {\"geoid\": \"01123\", \"dealer_rate\": 0.003915150524794507, \"all_density_land\": 0.014355551924246526}, {\"geoid\": \"45011\", \"dealer_rate\": 0.007177946283807429, \"all_density_land\": 0.016150379138566717}, {\"geoid\": \"45063\", \"dealer_rate\": 0.07258532489344514, \"all_density_land\": 0.15176931568629437}, {\"geoid\": \"21221\", \"dealer_rate\": 0.01038789158933321, \"all_density_land\": 0.024930939814399703}, {\"geoid\": \"15009\", \"dealer_rate\": 0.0025017418247137795, \"all_density_land\": 0.006254354561784447}, {\"geoid\": \"21021\", \"dealer_rate\": 0.021898337347248678, \"all_density_land\": 0.07664418071537038}, {\"geoid\": \"21113\", \"dealer_rate\": 0.0515758531425296, \"all_density_land\": 0.1146130069833991}, {\"geoid\": \"01061\", \"dealer_rate\": 0.0017272624396373565, \"all_density_land\": 0.013818099517098852}, {\"geoid\": \"01097\", \"dealer_rate\": 0.018248037534438915, \"all_density_land\": 0.04926970134298507}, {\"geoid\": \"01131\", \"dealer_rate\": 0.0011020357031510284, \"all_density_land\": 0.0033061071094530846}, {\"geoid\": \"45019\", \"dealer_rate\": 0.014727608836243898, \"all_density_land\": 0.05228301136866584}, {\"geoid\": \"21041\", \"dealer_rate\": 0.029130136556189498, \"all_density_land\": 0.050977738973331625}, {\"geoid\": \"01119\", \"dealer_rate\": 0.0021898074245504397, \"all_density_land\": 0.003284711136825659}, {\"geoid\": \"21099\", \"dealer_rate\": 0.004786405795355277, \"all_density_land\": 0.019145623181421108}, {\"geoid\": \"21189\", \"dealer_rate\": 0.005043116234605647, \"all_density_land\": 0.010086232469211295}, {\"geoid\": \"01079\", \"dealer_rate\": 0.004182943341325944, \"all_density_land\": 0.009760201129760537}, {\"geoid\": \"01015\", \"dealer_rate\": 0.024498342602031258, \"all_density_land\": 0.06369569076528127}, {\"geoid\": \"01071\", \"dealer_rate\": 0.007987429266066853, \"all_density_land\": 0.02307479565752647}, {\"geoid\": \"33017\", \"dealer_rate\": 0.03385402777107772, \"all_density_land\": 0.11458286322518613}, {\"geoid\": \"21213\", \"dealer_rate\": 0.012686838433907228, \"all_density_land\": 0.029602623012450202}, {\"geoid\": \"01093\", \"dealer_rate\": 0.01210375343245816, \"all_density_land\": 0.02689722984990702}, {\"geoid\": \"01049\", \"dealer_rate\": 0.01926323347687882, \"all_density_land\": 0.0423791136491334}, {\"geoid\": \"21147\", \"dealer_rate\": 0.0023204708561391663, \"all_density_land\": 0.01624329599297417}, {\"geoid\": \"01109\", \"dealer_rate\": 0.005943480193172346, \"all_density_land\": 0.017830440579517035}, {\"geoid\": \"01105\", \"dealer_rate\": null, \"all_density_land\": 0.002762891207643966}, {\"geoid\": \"01033\", \"dealer_rate\": 0.012859056901023307, \"all_density_land\": 0.025718113802046614}, {\"geoid\": \"45069\", \"dealer_rate\": 0.004121381678017053, \"all_density_land\": 0.014424835873059684}, {\"geoid\": \"21155\", \"dealer_rate\": 0.005766044866119811, \"all_density_land\": 0.014415112165299528}, {\"geoid\": \"01051\", \"dealer_rate\": 0.016741707825171967, \"all_density_land\": 0.0471811765982119}, {\"geoid\": \"45065\", \"dealer_rate\": 0.002538892977826985, \"all_density_land\": 0.00507778595565397}, {\"geoid\": \"01129\", \"dealer_rate\": 0.0009186396525260565, \"all_density_land\": 0.004593198262630282}, {\"geoid\": \"01017\", \"dealer_rate\": 0.003316123960587363, \"all_density_land\": 0.018238681783230497}, {\"geoid\": \"01025\", \"dealer_rate\": 0.00399177937568071, \"all_density_land\": 0.010378626376769845}, {\"geoid\": \"33005\", \"dealer_rate\": 0.024688013068379835, \"all_density_land\": 0.06857781407883287}, {\"geoid\": \"21081\", \"dealer_rate\": 0.023009155041209702, \"all_density_land\": 0.05752288760302424}, {\"geoid\": \"01115\", \"dealer_rate\": 0.029067993105967985, \"all_density_land\": 0.05354630308994104}, {\"geoid\": \"21149\", \"dealer_rate\": 0.007805385802999809, \"all_density_land\": 0.023416157408999425}, {\"geoid\": \"21209\", \"dealer_rate\": 0.024524142668939923, \"all_density_land\": 0.05605518324329126}, {\"geoid\": \"01021\", \"dealer_rate\": 0.008561613844867979, \"all_density_land\": 0.021404034612169946}, {\"geoid\": \"01011\", \"dealer_rate\": null, \"all_density_land\": 0.004798900241525703}, {\"geoid\": \"01063\", \"dealer_rate\": null, \"all_density_land\": 0.0015152876576366961}, {\"geoid\": \"45091\", \"dealer_rate\": 0.04598973257555704, \"all_density_land\": 0.11066279400993412}, {\"geoid\": \"45059\", \"dealer_rate\": 0.016578281019943367, \"all_density_land\": 0.03591960887654396}, {\"geoid\": \"21175\", \"dealer_rate\": 0.010422427861996873, \"all_density_land\": 0.018239248758494527}, {\"geoid\": \"01009\", \"dealer_rate\": 0.013832784568794852, \"all_density_land\": 0.03535044945358685}, {\"geoid\": \"45029\", \"dealer_rate\": 0.007059119290681923, \"all_density_land\": 0.015883018404034326}, {\"geoid\": \"45077\", \"dealer_rate\": 0.029295245335000424, \"all_density_land\": 0.08202668693800119}, {\"geoid\": \"21023\", \"dealer_rate\": 0.009571800916166894, \"all_density_land\": 0.01914360183233379}, {\"geoid\": \"01037\", \"dealer_rate\": null, \"all_density_land\": 0.004502140533615161}, {\"geoid\": \"45009\", \"dealer_rate\": 0.0050560948911194436, \"all_density_land\": 0.0050560948911194436}, {\"geoid\": \"45005\", \"dealer_rate\": 0.0024247267132981557, \"all_density_land\": 0.0048494534265963105}, {\"geoid\": \"45043\", \"dealer_rate\": 0.005799079215369738, \"all_density_land\": 0.024162830064040578}, {\"geoid\": \"45037\", \"dealer_rate\": 0.009867775003524861, \"all_density_land\": 0.02565621500916464}, {\"geoid\": \"45051\", \"dealer_rate\": 0.021513898884622254, \"all_density_land\": 0.054979963816256874}, {\"geoid\": \"45081\", \"dealer_rate\": 0.004330685788454162, \"all_density_land\": 0.01732274315381665}, {\"geoid\": \"21059\", \"dealer_rate\": 0.02308139300554176, \"all_density_land\": 0.05875263674137903}, {\"geoid\": \"01133\", \"dealer_rate\": 0.00474782657879932, \"all_density_land\": 0.01424347973639796}, {\"geoid\": \"01113\", \"dealer_rate\": 0.009270822218386722, \"all_density_land\": 0.029357603691557953}, {\"geoid\": \"01031\", \"dealer_rate\": 0.014695188517454246, \"all_density_land\": 0.02939037703490849}, {\"geoid\": \"45033\", \"dealer_rate\": 0.014756796856536782, \"all_density_land\": 0.017216262999292912}, {\"geoid\": \"01099\", \"dealer_rate\": 0.0019334559555620997, \"all_density_land\": 0.005800367866686299}, {\"geoid\": \"21159\", \"dealer_rate\": 0.004336399021657324, \"all_density_land\": 0.008672798043314648}, {\"geoid\": \"45025\", \"dealer_rate\": 0.008687610160594949, \"all_density_land\": 0.013651958823792063}, {\"geoid\": \"45017\", \"dealer_rate\": 0.02802665170637852, \"all_density_land\": 0.04331391627349408}, {\"geoid\": \"45001\", \"dealer_rate\": 0.007827907832394766, \"all_density_land\": 0.023483723497184302}, {\"geoid\": \"45071\", \"dealer_rate\": 0.012359293296997599, \"all_density_land\": 0.0324431449046187}, {\"geoid\": \"45023\", \"dealer_rate\": 0.005118024853127892, \"all_density_land\": 0.0187660911281356}, {\"geoid\": \"45057\", \"dealer_rate\": 0.023418276839198237, \"all_density_land\": 0.03963093003556625}, {\"geoid\": \"45003\", \"dealer_rate\": 0.019433730166987895, \"all_density_land\": 0.052748696167538564}, {\"geoid\": \"45041\", \"dealer_rate\": 0.014930478374430142, \"all_density_land\": 0.05847770696651805}, {\"geoid\": \"01075\", \"dealer_rate\": 0.0033032499673973396, \"all_density_land\": 0.008258124918493348}, {\"geoid\": \"01023\", \"dealer_rate\": 0.0032578269588159053, \"all_density_land\": 0.005429711598026509}, {\"geoid\": \"01043\", \"dealer_rate\": 0.014569132440358694, \"all_density_land\": 0.04105846415010177}, {\"geoid\": \"01101\", \"dealer_rate\": 0.023752617847125526, \"all_density_land\": 0.06375702685281064}, {\"geoid\": \"01053\", \"dealer_rate\": 0.004196656943496627, \"all_density_land\": 0.012589970830489884}, {\"geoid\": \"21033\", \"dealer_rate\": 0.01148926132559657, \"all_density_land\": 0.02585083798259228}, {\"geoid\": \"01111\", \"dealer_rate\": 0.008559669308450679, \"all_density_land\": 0.0239670740636619}, {\"geoid\": \"01057\", \"dealer_rate\": 0.003177851812006461, \"all_density_land\": 0.006355703624012922}, {\"geoid\": \"45031\", \"dealer_rate\": 0.015878480459865788, \"all_density_land\": 0.04763544137959737}, {\"geoid\": \"45085\", \"dealer_rate\": 0.011728743375595839, \"all_density_land\": 0.04105060181458544}, {\"geoid\": \"45045\", \"dealer_rate\": 0.055355274107942366, \"all_density_land\": 0.13964625968140007}, {\"geoid\": \"01081\", \"dealer_rate\": 0.027604177357690655, \"all_density_land\": 0.06170345527013206}, {\"geoid\": \"01085\", \"dealer_rate\": 0.0027583535408280584, \"all_density_land\": 0.004137530311242087}, {\"geoid\": \"01065\", \"dealer_rate\": 0.0030464535381638643, \"all_density_land\": 0.006092907076327728}, {\"geoid\": \"12045\", \"dealer_rate\": 0.006617598448547356, \"all_density_land\": 0.01985279534564207}, {\"geoid\": \"12103\", \"dealer_rate\": 0.139773514826384, \"all_density_land\": 0.3716331100089739}, {\"geoid\": \"12067\", \"dealer_rate\": 0.0036502494162087905, \"all_density_land\": 0.005475374124313186}, {\"geoid\": \"12023\", \"dealer_rate\": 0.012479452217381256, \"all_density_land\": 0.028702740099976885}, {\"geoid\": \"12129\", \"dealer_rate\": 0.004077593157785177, \"all_density_land\": 0.01631037263114071}, {\"geoid\": \"12013\", \"dealer_rate\": null, \"all_density_land\": 0.008706052349291024}, {\"geoid\": \"12086\", \"dealer_rate\": 0.03578510758035374, \"all_density_land\": 0.09707224585015496}, {\"geoid\": \"12057\", \"dealer_rate\": 0.049773733313823953, \"all_density_land\": 0.14221066661092555}, {\"geoid\": \"12117\", \"dealer_rate\": 0.11873936783381182, \"all_density_land\": 0.37069851421287603}, {\"geoid\": \"12085\", \"dealer_rate\": 0.039849742447405676, \"all_density_land\": 0.08368445913955191}, {\"geoid\": \"12083\", \"dealer_rate\": 0.027667356922912213, \"all_density_land\": 0.06134935665515317}, {\"geoid\": \"12003\", \"dealer_rate\": 0.011885154424799366, \"all_density_land\": 0.022072429646055967}, {\"geoid\": \"12073\", \"dealer_rate\": 0.041322952413152626, \"all_density_land\": 0.09262041058120415}, {\"geoid\": \"12109\", \"dealer_rate\": 0.03408290432009739, \"all_density_land\": 0.09372798688026783}, {\"geoid\": \"12101\", \"dealer_rate\": 0.06563387921131002, \"all_density_land\": 0.1450854172039485}, {\"geoid\": \"12121\", \"dealer_rate\": 0.01589006951549505, \"all_density_land\": 0.0418920014499415}, {\"geoid\": \"12007\", \"dealer_rate\": 0.009983740976598042, \"all_density_land\": 0.0232953956120621}, {\"geoid\": \"12115\", \"dealer_rate\": 0.057903876505630024, \"all_density_land\": 0.14475969126407506}, {\"geoid\": \"12019\", \"dealer_rate\": 0.03107770138096966, \"all_density_land\": 0.08857144893576355}, {\"geoid\": \"12123\", \"dealer_rate\": 0.0024346761622309862, \"all_density_land\": 0.004869352324461972}, {\"geoid\": \"12055\", \"dealer_rate\": 0.01898674684016749, \"all_density_land\": 0.04249414768989867}, {\"geoid\": \"12051\", \"dealer_rate\": 0.004202274032869762, \"all_density_land\": 0.010085457678887428}, {\"geoid\": \"12039\", \"dealer_rate\": 0.013244334661733666, \"all_density_land\": 0.032164812749924616}, {\"geoid\": \"12015\", \"dealer_rate\": 0.030293848522738222, \"all_density_land\": 0.05942254902537113}, {\"geoid\": \"12043\", \"dealer_rate\": null, \"all_density_land\": 0.005066435640471126}, {\"geoid\": \"12131\", \"dealer_rate\": 0.011294017470607334, \"all_density_land\": 0.02339475047482948}, {\"geoid\": \"12125\", \"dealer_rate\": null, \"all_density_land\": 0.008007923217350364}, {\"geoid\": \"12027\", \"dealer_rate\": 0.0031275446669543736, \"all_density_land\": 0.01407395100129468}, {\"geoid\": \"12097\", \"dealer_rate\": 0.014609089374033537, \"all_density_land\": 0.04382726812210061}, {\"geoid\": \"12059\", \"dealer_rate\": 0.00613437668963763, \"all_density_land\": 0.018403130068912893}, {\"geoid\": \"12041\", \"dealer_rate\": 0.005630015722321012, \"all_density_land\": 0.019705055028123544}, {\"geoid\": \"12053\", \"dealer_rate\": 0.04414109599644697, \"all_density_land\": 0.09337539537709937}, {\"geoid\": \"12001\", \"dealer_rate\": 0.028901484352293578, \"all_density_land\": 0.07328590675045872}, {\"geoid\": \"12079\", \"dealer_rate\": null, \"all_density_land\": 0.004191742951249061}, {\"geoid\": \"12035\", \"dealer_rate\": 0.019270369585067674, \"all_density_land\": 0.03503703560921396}, {\"geoid\": \"12005\", \"dealer_rate\": 0.025165684567942485, \"all_density_land\": 0.06291421141985622}, {\"geoid\": \"12061\", \"dealer_rate\": 0.032419752610832735, \"all_density_land\": 0.07294444337437364}, {\"geoid\": \"12075\", \"dealer_rate\": 0.003539082888612071, \"all_density_land\": 0.012032881821281045}, {\"geoid\": \"12105\", \"dealer_rate\": 0.028847674837207286, \"all_density_land\": 0.07162181338892844}, {\"geoid\": \"12099\", \"dealer_rate\": 0.03482715139723664, \"all_density_land\": 0.09273253564806382}, {\"geoid\": \"12095\", \"dealer_rate\": 0.06777870397763486, \"all_density_land\": 0.19237190981887545}, {\"geoid\": \"12107\", \"dealer_rate\": 0.010883742402317568, \"all_density_land\": 0.02781400836147823}, {\"geoid\": \"12111\", \"dealer_rate\": 0.06685000709767609, \"all_density_land\": 0.12498044805217705}, {\"geoid\": \"12021\", \"dealer_rate\": 0.00824304156702504, \"all_density_land\": 0.019956837478060624}, {\"geoid\": \"12119\", \"dealer_rate\": 0.017246568082197277, \"all_density_land\": 0.041391763397273455}, {\"geoid\": \"12091\", \"dealer_rate\": 0.02772442591831699, \"all_density_land\": 0.07023521232640305}, {\"geoid\": \"12049\", \"dealer_rate\": 0.006266274499112081, \"all_density_land\": 0.014099117623002182}, {\"geoid\": \"12089\", \"dealer_rate\": 0.016530735770287325, \"all_density_land\": 0.03168391022638404}, {\"geoid\": \"12127\", \"dealer_rate\": 0.038396194715123566, \"all_density_land\": 0.0991319936281372}, {\"geoid\": \"36049\", \"dealer_rate\": 0.007752317800452348, \"all_density_land\": 0.020156026281176104}, {\"geoid\": \"12077\", \"dealer_rate\": 0.0011860647565137721, \"all_density_land\": 0.003558194269541316}, {\"geoid\": \"12113\", \"dealer_rate\": 0.021298758817664392, \"all_density_land\": 0.05537677292592744}, {\"geoid\": \"12133\", \"dealer_rate\": 0.012987976754670697, \"all_density_land\": 0.01623497094333837}, {\"geoid\": \"02050\", \"dealer_rate\": null, \"all_density_land\": 0.00043951818632497397}, {\"geoid\": \"02068\", \"dealer_rate\": null, \"all_density_land\": 0.000234794571230588}, {\"geoid\": \"02020\", \"dealer_rate\": 0.021927321950140827, \"all_density_land\": 0.07802047112491968}, {\"geoid\": \"28099\", \"dealer_rate\": 0.0017494341240860177, \"all_density_land\": 0.010496604744516106}, {\"geoid\": \"28127\", \"dealer_rate\": 0.010161404530828136, \"all_density_land\": 0.01693567421804689}, {\"geoid\": \"28103\", \"dealer_rate\": null, \"all_density_land\": 0.0014286123401995579}, {\"geoid\": \"28161\", \"dealer_rate\": 0.006060552894231818, \"all_density_land\": 0.010100921490386362}, {\"geoid\": \"28017\", \"dealer_rate\": 0.001983159038639173, \"all_density_land\": 0.007932636154556692}, {\"geoid\": \"28033\", \"dealer_rate\": 0.04426461312985034, \"all_density_land\": 0.07846908691200742}, {\"geoid\": \"28075\", \"dealer_rate\": 0.013983013688710294, \"all_density_land\": 0.043347342435001913}, {\"geoid\": \"28131\", \"dealer_rate\": null, \"all_density_land\": 0.01339057357537486}, {\"geoid\": \"28067\", \"dealer_rate\": 0.015720840957975626, \"all_density_land\": 0.04716252287392688}, {\"geoid\": \"28135\", \"dealer_rate\": 0.0030668192502870447, \"all_density_land\": 0.006133638500574089}, {\"geoid\": \"28089\", \"dealer_rate\": 0.01887351998133891, \"all_density_land\": 0.04988001709353855}, {\"geoid\": \"28159\", \"dealer_rate\": 0.004917340510647342, \"all_density_land\": 0.016391135035491142}, {\"geoid\": \"28155\", \"dealer_rate\": 0.007088290632641031, \"all_density_land\": 0.009451054176854708}, {\"geoid\": \"28137\", \"dealer_rate\": 0.009733021306977117, \"all_density_land\": 0.02433255326744279}, {\"geoid\": \"22025\", \"dealer_rate\": 0.0027048204063861445, \"all_density_land\": 0.008114461219158433}, {\"geoid\": \"22125\", \"dealer_rate\": 0.0046948055603362035, \"all_density_land\": 0.0046948055603362035}, {\"geoid\": \"22011\", \"dealer_rate\": 0.007719782131069824, \"all_density_land\": 0.017155071402377386}, {\"geoid\": \"22037\", \"dealer_rate\": 0.004388103981283817, \"all_density_land\": 0.008776207962567634}, {\"geoid\": \"22013\", \"dealer_rate\": 0.0012164407097017492, \"all_density_land\": 0.002432881419403498}, {\"geoid\": \"22119\", \"dealer_rate\": 0.01138508069418892, \"all_density_land\": 0.02764948168588738}, {\"geoid\": \"22107\", \"dealer_rate\": 0.0015595989397260174, \"all_density_land\": 0.007797994698630088}, {\"geoid\": \"22067\", \"dealer_rate\": 0.003721694271949708, \"all_density_land\": 0.013646212330482264}, {\"geoid\": \"22091\", \"dealer_rate\": 0.0024420744624712993, \"all_density_land\": 0.004884148924942598}, {\"geoid\": \"51710\", \"dealer_rate\": 0.0934084046127502, \"all_density_land\": 0.17643809760186147}, {\"geoid\": \"51580\", \"dealer_rate\": 0.35272963202201, \"all_density_land\": 1.234553712077035}, {\"geoid\": \"51025\", \"dealer_rate\": 0.0017562818589740286, \"all_density_land\": 0.005268845576922085}, {\"geoid\": \"51047\", \"dealer_rate\": 0.03921123437460954, \"all_density_land\": 0.08103655104085972}, {\"geoid\": \"51033\", \"dealer_rate\": 0.005587950662574076, \"all_density_land\": 0.01862650220858025}, {\"geoid\": \"51119\", \"dealer_rate\": null, \"all_density_land\": 0.023723480384677663}, {\"geoid\": \"51165\", \"dealer_rate\": 0.009374746564326063, \"all_density_land\": 0.03281161297514122}, {\"geoid\": \"51730\", \"dealer_rate\": 0.08628876180186675, \"all_density_land\": 0.04314438090093338}, {\"geoid\": \"51013\", \"dealer_rate\": 0.15344061556973926, \"all_density_land\": 0.3836015389243481}, {\"geoid\": \"51145\", \"dealer_rate\": 0.019058750926727513, \"all_density_land\": 0.030494001482764023}, {\"geoid\": \"51173\", \"dealer_rate\": 0.011054870161166179, \"all_density_land\": 0.03537558451573177}, {\"geoid\": \"51760\", \"dealer_rate\": 0.032019637770609406, \"all_density_land\": 0.08004909442652351}, {\"geoid\": \"51700\", \"dealer_rate\": 0.03347928321023328, \"all_density_land\": 0.10880767043325816}, {\"geoid\": \"51735\", \"dealer_rate\": 0.03825287545541162, \"all_density_land\": 0.08925670939596046}, {\"geoid\": \"51095\", \"dealer_rate\": 0.033474627229497844, \"all_density_land\": 0.10042388168849352}, {\"geoid\": \"51678\", \"dealer_rate\": null, \"all_density_land\": 0.7926063826299193}, {\"geoid\": \"51037\", \"dealer_rate\": 0.012564895092577948, \"all_density_land\": 0.018847342638866924}, {\"geoid\": \"51051\", \"dealer_rate\": 0.005994080580511817, \"all_density_land\": 0.011988161161023634}, {\"geoid\": \"51187\", \"dealer_rate\": 0.009227615681157136, \"all_density_land\": 0.07382092544925709}, {\"geoid\": \"51045\", \"dealer_rate\": null, \"all_density_land\": 0.015123336632042371}, {\"geoid\": \"51019\", \"dealer_rate\": 0.015599527349300332, \"all_density_land\": 0.04029877898569252}, {\"geoid\": \"48497\", \"dealer_rate\": 0.026013892387292094, \"all_density_land\": 0.05853125787140721}, {\"geoid\": \"48477\", \"dealer_rate\": 0.019300342961850635, \"all_density_land\": 0.046642495491139045}, {\"geoid\": \"48243\", \"dealer_rate\": null, \"all_density_land\": null}, {\"geoid\": \"48141\", \"dealer_rate\": 0.04729253020498745, \"all_density_land\": 0.1379365464312134}, {\"geoid\": \"48183\", \"dealer_rate\": 0.047141886760463055, \"all_density_land\": 0.17768865009712997}, {\"geoid\": \"48491\", \"dealer_rate\": 0.05729702280461987, \"all_density_land\": 0.1718910684138596}, {\"geoid\": \"34039\", \"dealer_rate\": 0.056925263766553644, \"all_density_land\": 0.09487543961092271}, {\"geoid\": \"34019\", \"dealer_rate\": 0.022860423550535112, \"all_density_land\": 0.03886272003590969}, {\"geoid\": \"34015\", \"dealer_rate\": 0.032623762018978146, \"all_density_land\": 0.05931593094359664}, {\"geoid\": \"46049\", \"dealer_rate\": 0.0009941406075754636, \"all_density_land\": 0.002982421822726391}, {\"geoid\": \"46073\", \"dealer_rate\": null, \"all_density_land\": 0.003754678312624638}, {\"geoid\": \"46099\", \"dealer_rate\": 0.025802854008494244, \"all_density_land\": 0.0810946840266962}, {\"geoid\": \"46033\", \"dealer_rate\": 0.003848329811484114, \"all_density_land\": 0.010903601132538323}, {\"geoid\": \"46129\", \"dealer_rate\": 0.001342965767952045, \"all_density_land\": 0.004028897303856135}, {\"geoid\": \"46011\", \"dealer_rate\": 0.0037270090684207217, \"all_density_land\": 0.014908036273682888}, {\"geoid\": \"46017\", \"dealer_rate\": null, \"all_density_land\": null}, {\"geoid\": \"16073\", \"dealer_rate\": 0.0006496315055246142, \"all_density_land\": 0.0012992630110492279}, {\"geoid\": \"16081\", \"dealer_rate\": 0.0022194659415108045, \"all_density_land\": 0.01997519347359724}, {\"geoid\": \"16075\", \"dealer_rate\": 0.03899846367923892, \"all_density_land\": 0.041435867659191356}, {\"geoid\": \"46039\", \"dealer_rate\": 0.003141623601947175, \"all_density_land\": 0.00628324720389435}, {\"geoid\": \"46115\", \"dealer_rate\": 0.0006623653750852519, \"all_density_land\": 0.00993548062627878}, {\"geoid\": \"46127\", \"dealer_rate\": 0.0149851571414302, \"all_density_land\": 0.029970314282860403}, {\"geoid\": \"16013\", \"dealer_rate\": 0.002255040670660614, \"all_density_land\": 0.005261761564874766}, {\"geoid\": \"16051\", \"dealer_rate\": 0.003618032860318661, \"all_density_land\": 0.01718565608651364}, {\"geoid\": \"46025\", \"dealer_rate\": 0.0031007807334510334, \"all_density_land\": 0.006201561466902067}, {\"geoid\": \"16069\", \"dealer_rate\": 0.023356785397483055, \"all_density_land\": 0.05488844568408518}, {\"geoid\": \"46085\", \"dealer_rate\": 0.0005858623742839572, \"all_density_land\": 0.0017575871228518712}, {\"geoid\": \"46135\", \"dealer_rate\": 0.0056367945102495645, \"all_density_land\": 0.026305041047831303}, {\"geoid\": \"46035\", \"dealer_rate\": 0.011443749094790956, \"all_density_land\": 0.04806374619812201}, {\"geoid\": \"46071\", \"dealer_rate\": null, \"all_density_land\": null}, {\"geoid\": \"46119\", \"dealer_rate\": null, \"all_density_land\": 0.001868657312214404}, {\"geoid\": \"16047\", \"dealer_rate\": 0.008177527340558264, \"all_density_land\": 0.021806739574822032}, {\"geoid\": \"46043\", \"dealer_rate\": 0.006917734495821899, \"all_density_land\": 0.011529557493036495}, {\"geoid\": \"46109\", \"dealer_rate\": 0.0026413789781400262, \"all_density_land\": 0.005282757956280052}, {\"geoid\": \"46007\", \"dealer_rate\": 0.0008399790542435324, \"all_density_land\": 0.002519937162730598}, {\"geoid\": \"46111\", \"dealer_rate\": null, \"all_density_land\": null}, {\"geoid\": \"46097\", \"dealer_rate\": 0.0017484622208642421, \"all_density_land\": 0.003496924441728484}, {\"geoid\": \"16053\", \"dealer_rate\": 0.01494640959311372, \"all_density_land\": 0.03321424354025272}, {\"geoid\": \"16003\", \"dealer_rate\": 0.0058404213347549175, \"all_density_land\": 0.0073005266684436475}, {\"geoid\": \"46053\", \"dealer_rate\": 0.0018983821456687586, \"all_density_land\": 0.0075935285826750345}, {\"geoid\": \"16035\", \"dealer_rate\": 0.003215403862108268, \"all_density_land\": 0.007234658689743603}, {\"geoid\": \"16039\", \"dealer_rate\": 0.0012900071140296687, \"all_density_land\": 0.0061275337916409265}, {\"geoid\": \"16071\", \"dealer_rate\": 0.0008322216601398531, \"all_density_land\": 0.002496664980419559}, {\"geoid\": \"16085\", \"dealer_rate\": 0.0026788275587827895, \"all_density_land\": 0.004286124094052463}, {\"geoid\": \"46047\", \"dealer_rate\": 0.0005717201774571153, \"all_density_land\": 0.002858600887285576}, {\"geoid\": \"46093\", \"dealer_rate\": 0.00488105402765781, \"all_density_land\": 0.012920437132035379}, {\"geoid\": \"16055\", \"dealer_rate\": 0.03496442058175272, \"all_density_land\": 0.10185287734684488}, {\"geoid\": \"16001\", \"dealer_rate\": 0.10184244282761894, \"all_density_land\": 0.19614100100134016}, {\"geoid\": \"16009\", \"dealer_rate\": 0.008929162664221934, \"all_density_land\": 0.014031541329491607}, {\"geoid\": \"16063\", \"dealer_rate\": 0.0024877962633489364, \"all_density_land\": 0.004146327105581561}, {\"geoid\": \"16031\", \"dealer_rate\": 0.0023253288839814516, \"all_density_land\": 0.006588431837947446}, {\"geoid\": \"16041\", \"dealer_rate\": 0.011970087812143072, \"all_density_land\": 0.022443914647768258}, {\"geoid\": \"16023\", \"dealer_rate\": 0.0022384086501440166, \"all_density_land\": 0.003581453840230427}, {\"geoid\": \"16065\", \"dealer_rate\": 0.014791998969887372, \"all_density_land\": 0.05282856774959776}, {\"geoid\": \"16079\", \"dealer_rate\": 0.003035445268387646, \"all_density_land\": 0.00531202921967838}, {\"geoid\": \"16011\", \"dealer_rate\": 0.005188306305741888, \"all_density_land\": 0.013678262078774069}, {\"geoid\": \"46079\", \"dealer_rate\": 0.003477280421529384, \"all_density_land\": 0.019125042318411608}, {\"geoid\": \"46063\", \"dealer_rate\": 0.000746798555569833, \"all_density_land\": 0.000746798555569832}, {\"geoid\": \"16005\", \"dealer_rate\": 0.011329631946624777, \"all_density_land\": 0.04357550748701836}, {\"geoid\": \"46117\", \"dealer_rate\": 0.0006591230666674078, \"all_density_land\": 0.001318246133334815}, {\"geoid\": \"08123\", \"dealer_rate\": 0.015684144345294686, \"all_density_land\": 0.03908588352716295}, {\"geoid\": \"08111\", \"dealer_rate\": null, \"all_density_land\": null}, {\"geoid\": \"08085\", \"dealer_rate\": 0.006242832305998427, \"all_density_land\": 0.01471524757842486}, {\"geoid\": \"08014\", \"dealer_rate\": 0.23809494826001254, \"all_density_land\": 0.684522976247536}, {\"geoid\": \"08121\", \"dealer_rate\": 0.0003962034777655882, \"all_density_land\": 0.003565831299890293}, {\"geoid\": \"08107\", \"dealer_rate\": 0.002533641983802621, \"all_density_land\": 0.007600925951407863}, {\"geoid\": \"08007\", \"dealer_rate\": 0.0007377426364262179, \"all_density_land\": 0.010328396909967053}, {\"geoid\": \"08047\", \"dealer_rate\": 0.01331028320408617, \"all_density_land\": 0.01331028320408617}, {\"geoid\": \"08031\", \"dealer_rate\": 0.05820285337561811, \"all_density_land\": 0.1875425275436584}, {\"geoid\": \"08093\", \"dealer_rate\": 0.0045234429589277895, \"all_density_land\": 0.00949923021374836}, {\"geoid\": \"29063\", \"dealer_rate\": 0.018787251800819242, \"all_density_land\": 0.03757450360163849}, {\"geoid\": \"29011\", \"dealer_rate\": 0.011730755267163467, \"all_density_land\": 0.015082399629210173}, {\"geoid\": \"29035\", \"dealer_rate\": 0.003929113538541815, \"all_density_land\": 0.009822783846354538}, {\"geoid\": \"29205\", \"dealer_rate\": 0.005972324002607546, \"all_density_land\": 0.0059723240026075455}, {\"geoid\": \"29225\", \"dealer_rate\": 0.026946751811036833, \"all_density_land\": 0.053893503622073666}, {\"geoid\": \"29163\", \"dealer_rate\": 0.01314414304999757, \"all_density_land\": 0.023367365422217904}, {\"geoid\": \"29021\", \"dealer_rate\": 0.028939551064528994, \"all_density_land\": 0.06752561915056766}, {\"geoid\": \"29031\", \"dealer_rate\": 0.027288650276912997, \"all_density_land\": 0.081865950830739}, {\"geoid\": \"29203\", \"dealer_rate\": 0.005976102026617392, \"all_density_land\": 0.006972119031053624}, {\"geoid\": \"29183\", \"dealer_rate\": 0.05568610330047027, \"all_density_land\": 0.14005898708906162}, {\"geoid\": \"29169\", \"dealer_rate\": 0.014506418510763812, \"all_density_land\": 0.029012837021527623}, {\"geoid\": \"29001\", \"dealer_rate\": 0.00878063207512265, \"all_density_land\": 0.014049011320196241}, {\"geoid\": \"29173\", \"dealer_rate\": 0.022735078877651783, \"all_density_land\": 0.03513603099273457}, {\"geoid\": \"29117\", \"dealer_rate\": 0.007427118409806686, \"all_density_land\": 0.011140677614710028}, {\"geoid\": \"29127\", \"dealer_rate\": 0.027008542038448564, \"all_density_land\": 0.051766372240359744}, {\"geoid\": \"29189\", \"dealer_rate\": 0.09368706342230967, \"all_density_land\": 0.2600294005190636}, {\"geoid\": \"29069\", \"dealer_rate\": 0.020102917517737018, \"all_density_land\": 0.04934352481626359}, {\"geoid\": \"29047\", \"dealer_rate\": 0.06606776828705319, \"all_density_land\": 0.14681726286011818}, {\"geoid\": \"29091\", \"dealer_rate\": 0.016157294210376563, \"all_density_land\": 0.03016028252603625}, {\"geoid\": \"29199\", \"dealer_rate\": 0.006829115742935981, \"all_density_land\": 0.006829115742935982}, {\"geoid\": \"29177\", \"dealer_rate\": 0.02265060660699692, \"all_density_land\": 0.03136237837891881}, {\"geoid\": \"29019\", \"dealer_rate\": 0.03183879052991746, \"all_density_land\": 0.08828028283295296}, {\"geoid\": \"29121\", \"dealer_rate\": 0.0036928936938418638, \"all_density_land\": 0.01600253933998141}, {\"geoid\": \"53033\", \"dealer_rate\": 0.035979572166345584, \"all_density_land\": 0.09536754068187983}, {\"geoid\": \"17063\", \"dealer_rate\": 0.020908494214125425, \"all_density_land\": 0.037170656380667425}, {\"geoid\": \"17003\", \"dealer_rate\": null, \"all_density_land\": null}, {\"geoid\": \"17007\", \"dealer_rate\": 0.02127473153375399, \"all_density_land\": 0.046095251656466975}, {\"geoid\": \"17017\", \"dealer_rate\": 0.01563457041315538, \"all_density_land\": 0.018240332148681274}, {\"geoid\": \"17025\", \"dealer_rate\": 0.0063885275747766635, \"all_density_land\": 0.01064754595796111}, {\"geoid\": \"17073\", \"dealer_rate\": 0.013322943834000551, \"all_density_land\": 0.03875765478981979}, {\"geoid\": \"17057\", \"dealer_rate\": 0.002266100422427622, \"all_density_land\": 0.012463552323351921}, {\"geoid\": \"17075\", \"dealer_rate\": 0.008937132708370626, \"all_density_land\": 0.012511985791718874}, {\"geoid\": \"09007\", \"dealer_rate\": 0.04099630525678235, \"all_density_land\": 0.11387862571328428}, {\"geoid\": \"17001\", \"dealer_rate\": 0.008033615900072285, \"all_density_land\": 0.02639616652880893}, {\"geoid\": \"17097\", \"dealer_rate\": 0.026306811281609513, \"all_density_land\": 0.054075112078864}, {\"geoid\": \"06101\", \"dealer_rate\": 0.008217057788181882, \"all_density_land\": 0.02629458492218202}, {\"geoid\": \"06065\", \"dealer_rate\": 0.010132717876127115, \"all_density_land\": 0.028344224329166386}, {\"geoid\": \"06105\", \"dealer_rate\": 0.0006235170079367985, \"all_density_land\": 0.001870551023810395}, {\"geoid\": \"06013\", \"dealer_rate\": 0.0049765494276547756, \"all_density_land\": 0.04976549427654775}, {\"geoid\": \"47051\", \"dealer_rate\": 0.01042117114284306, \"all_density_land\": 0.02431606599996714}, {\"geoid\": \"18083\", \"dealer_rate\": 0.017174108389715472, \"all_density_land\": 0.040072919576002765}, {\"geoid\": \"19127\", \"dealer_rate\": 0.010467603520285324, \"all_density_land\": 0.0331474111475702}, {\"geoid\": \"47021\", \"dealer_rate\": 0.022797114121848754, \"all_density_land\": 0.058621150599039655}, {\"geoid\": \"18175\", \"dealer_rate\": 0.013550148778058482, \"all_density_land\": 0.029036033095839603}, {\"geoid\": \"18081\", \"dealer_rate\": 0.046614259980148544, \"all_density_land\": 0.1180894586163763}, {\"geoid\": \"47029\", \"dealer_rate\": 0.01579712034313137, \"all_density_land\": 0.03385097216385293}, {\"geoid\": \"47007\", \"dealer_rate\": 0.014751123991966392, \"all_density_land\": 0.01720964465729412}, {\"geoid\": \"47155\", \"dealer_rate\": 0.026768345870938237, \"all_density_land\": 0.051863670124942834}, {\"geoid\": \"47045\", \"dealer_rate\": 0.00759693812369704, \"all_density_land\": 0.022790814371091123}, {\"geoid\": \"47061\", \"dealer_rate\": 0.00830744482324993, \"all_density_land\": 0.02769148274416643}, {\"geoid\": \"18075\", \"dealer_rate\": 0.00520721662288999, \"all_density_land\": 0.023432474803004963}, {\"geoid\": \"47023\", \"dealer_rate\": 0.0034970178091920942, \"all_density_land\": 0.01748508904596047}, {\"geoid\": \"18039\", \"dealer_rate\": 0.025642644140165736, \"all_density_land\": 0.10257057656066293}, {\"geoid\": \"47173\", \"dealer_rate\": null, \"all_density_land\": 0.016185322809013043}, {\"geoid\": \"47067\", \"dealer_rate\": 0.004474426760740338, \"all_density_land\": 0.008948853521480676}, {\"geoid\": \"47131\", \"dealer_rate\": 0.007200634411856748, \"all_density_land\": 0.028802537647427}, {\"geoid\": \"47139\", \"dealer_rate\": 0.01130366608133427, \"all_density_land\": 0.020346598946401683}, {\"geoid\": \"19011\", \"dealer_rate\": 0.00695904808658813, \"all_density_land\": 0.02366076349439964}, {\"geoid\": \"19041\", \"dealer_rate\": 0.008732223059063857, \"all_density_land\": 0.024450224565378802}, {\"geoid\": \"19165\", \"dealer_rate\": 0.0067641522074263615, \"all_density_land\": 0.020292456622279086}, {\"geoid\": \"19043\", \"dealer_rate\": 0.008830973979600386, \"all_density_land\": 0.02396978651605819}, {\"geoid\": \"47167\", \"dealer_rate\": 0.010563821540427613, \"all_density_land\": 0.033804228929368366}, {\"geoid\": \"18045\", \"dealer_rate\": 0.01759326308210662, \"all_density_land\": 0.030159879569325632}, {\"geoid\": \"19097\", \"dealer_rate\": 0.012315137201909377, \"all_density_land\": 0.023090882253580077}, {\"geoid\": \"19079\", \"dealer_rate\": 0.012121009782635044, \"all_density_land\": 0.02597359239136081}, {\"geoid\": \"19173\", \"dealer_rate\": 0.00561108607912071, \"all_density_land\": 0.01683325823736213}, {\"geoid\": \"19139\", \"dealer_rate\": 0.017812245072681362, \"all_density_land\": 0.05343673521804408}, {\"geoid\": \"47091\", \"dealer_rate\": 0.023123483450873533, \"all_density_land\": 0.046246966901747066}, {\"geoid\": \"47107\", \"dealer_rate\": 0.02776599648772636, \"all_density_land\": 0.05553199297545272}, {\"geoid\": \"47069\", \"dealer_rate\": 0.007458446074668672, \"all_density_land\": 0.008950135289602406}, {\"geoid\": \"47081\", \"dealer_rate\": 0.0032646256325683134, \"all_density_land\": 0.01469081534655741}, {\"geoid\": \"19197\", \"dealer_rate\": 0.0051525276481961205, \"all_density_land\": 0.008587546080326866}, {\"geoid\": \"19045\", \"dealer_rate\": 0.011264827761053385, \"all_density_land\": 0.03379448328316016}, {\"geoid\": \"19095\", \"dealer_rate\": 0.0119150123643603, \"all_density_land\": 0.027234313975680685}, {\"geoid\": \"19021\", \"dealer_rate\": 0.010340782435358709, \"all_density_land\": 0.01895810113149097}, {\"geoid\": \"19193\", \"dealer_rate\": 0.012531706513141568, \"all_density_land\": 0.04556984186596933}, {\"geoid\": \"19109\", \"dealer_rate\": 0.002052705176810669, \"all_density_land\": 0.011289878472458681}, {\"geoid\": \"47111\", \"dealer_rate\": 0.016273981471825225, \"all_density_land\": 0.03254796294365045}, {\"geoid\": \"47105\", \"dealer_rate\": 0.04851035659076652, \"all_density_land\": 0.076808064602047}, {\"geoid\": \"19195\", \"dealer_rate\": 0.0024879233381987324, \"all_density_land\": 0.017415463367391127}, {\"geoid\": \"18137\", \"dealer_rate\": 0.013391015188951624, \"all_density_land\": 0.03347753797237906}, {\"geoid\": \"47079\", \"dealer_rate\": 0.01011094475153211, \"all_density_land\": 0.01853673204447553}, {\"geoid\": \"19183\", \"dealer_rate\": 0.01401247007287213, \"all_density_land\": 0.024521822627526228}, {\"geoid\": \"19161\", \"dealer_rate\": 0.006916456764011967, \"all_density_land\": 0.01037468514601795}, {\"geoid\": \"47071\", \"dealer_rate\": 0.013416188647136503, \"all_density_land\": 0.020124282970704753}, {\"geoid\": \"18131\", \"dealer_rate\": null, \"all_density_land\": null}, {\"geoid\": \"47055\", \"dealer_rate\": 0.013089544752084296, \"all_density_land\": 0.02454289641015805}, {\"geoid\": \"47179\", \"dealer_rate\": 0.060643205290995865, \"all_density_land\": 0.1364472119047407}, {\"geoid\": \"47187\", \"dealer_rate\": 0.0308341237875696, \"all_density_land\": 0.0736592957147496}, {\"geoid\": \"47141\", \"dealer_rate\": 0.01987259739797781, \"all_density_land\": 0.07452224024241678}, {\"geoid\": \"19091\", \"dealer_rate\": 0.018362630758994677, \"all_density_land\": 0.02983927498336635}, {\"geoid\": \"47159\", \"dealer_rate\": 0.01229360204942205, \"all_density_land\": 0.02151380358648859}, {\"geoid\": \"47115\", \"dealer_rate\": 0.007808640310301881, \"all_density_land\": 0.021473760853330172}, {\"geoid\": \"47099\", \"dealer_rate\": 0.012945207979066797, \"all_density_land\": 0.029126717952900293}, {\"geoid\": \"18105\", \"dealer_rate\": 0.029174306555010476, \"all_density_land\": 0.07293576638752619}, {\"geoid\": \"47125\", \"dealer_rate\": 0.027582170795879716, \"all_density_land\": 0.08274651238763915}, {\"geoid\": \"47149\", \"dealer_rate\": 0.022434007497004183, \"all_density_land\": 0.08492874266723012}, {\"geoid\": \"47165\", \"dealer_rate\": 0.047862994896004804, \"all_density_land\": 0.11781660282093491}, {\"geoid\": \"47005\", \"dealer_rate\": 0.002292366249508943, \"all_density_land\": 0.011461831247544714}, {\"geoid\": \"18111\", \"dealer_rate\": null, \"all_density_land\": 0.01735086325882804}, {\"geoid\": \"18067\", \"dealer_rate\": 0.013609078588043324, \"all_density_land\": 0.04763177505815163}, {\"geoid\": \"47129\", \"dealer_rate\": null, \"all_density_land\": 0.00956942064939042}, {\"geoid\": \"47185\", \"dealer_rate\": 0.023720082566916222, \"all_density_land\": 0.05007572986348981}, {\"geoid\": \"19035\", \"dealer_rate\": 0.01039735778580323, \"all_density_land\": 0.029459180393109147}, {\"geoid\": \"47121\", \"dealer_rate\": 0.013840922238453823, \"all_density_land\": 0.04152276671536146}, {\"geoid\": \"18051\", \"dealer_rate\": 0.014023434003851021, \"all_density_land\": 0.04407364972638892}, {\"geoid\": \"47059\", \"dealer_rate\": 0.01922714958306934, \"all_density_land\": 0.049670136422929126}, {\"geoid\": \"47147\", \"dealer_rate\": 0.006296418685310199, \"all_density_land\": 0.03358089965498773}, {\"geoid\": \"18013\", \"dealer_rate\": 0.0031582526498720896, \"all_density_land\": 0.022107768549104626}, {\"geoid\": \"18047\", \"dealer_rate\": 0.020457753883537294, \"all_density_land\": 0.025572192354421618}, {\"geoid\": \"18025\", \"dealer_rate\": 0.012956798396709763, \"all_density_land\": 0.022674397194242087}, {\"geoid\": \"47033\", \"dealer_rate\": 0.0037630923761820733, \"all_density_land\": 0.018815461880910368}, {\"geoid\": \"47013\", \"dealer_rate\": 0.014052993844668089, \"all_density_land\": 0.03412869933705107}, {\"geoid\": \"47039\", \"dealer_rate\": 0.008698601129917445, \"all_density_land\": 0.014497668549862407}, {\"geoid\": \"47101\", \"dealer_rate\": 0.0035399772939541494, \"all_density_land\": 0.010619931881862449}, {\"geoid\": \"47177\", \"dealer_rate\": 0.013823786548096672, \"all_density_land\": 0.03455946637024168}, {\"geoid\": \"19189\", \"dealer_rate\": 0.004978622346668328, \"all_density_land\": 0.017425178213339148}, {\"geoid\": \"47053\", \"dealer_rate\": 0.013252698251654831, \"all_density_land\": 0.02981857106622337}, {\"geoid\": \"19119\", \"dealer_rate\": 0.006805274458782726, \"all_density_land\": 0.018714504761652494}, {\"geoid\": \"18095\", \"dealer_rate\": 0.024287686158450655, \"all_density_land\": 0.057407258192701545}, {\"geoid\": \"18091\", \"dealer_rate\": 0.011414417348633655, \"all_density_land\": 0.03587388309570577}, {\"geoid\": \"19125\", \"dealer_rate\": 0.010516921496025131, \"all_density_land\": 0.01752820249337522}, {\"geoid\": \"19107\", \"dealer_rate\": 0.005173090691514384, \"all_density_land\": 0.017243635638381286}, {\"geoid\": \"19103\", \"dealer_rate\": 0.016047503987251736, \"all_density_land\": 0.04172351036685452}, {\"geoid\": \"47089\", \"dealer_rate\": 0.012726503114593942, \"all_density_land\": 0.050906012458375755}, {\"geoid\": \"18019\", \"dealer_rate\": 0.02922026804304842, \"all_density_land\": 0.07172247610566429}, {\"geoid\": \"18063\", \"dealer_rate\": 0.04403373300657158, \"all_density_land\": 0.11253065101679403}, {\"geoid\": \"18033\", \"dealer_rate\": 0.030232205218299425, \"all_density_land\": 0.06870955731431688}, {\"geoid\": \"47171\", \"dealer_rate\": 0.016086351238062267, \"all_density_land\": 0.04289693663483272}, {\"geoid\": \"18123\", \"dealer_rate\": 0.010354916760919099, \"all_density_land\": 0.023298562712067972}, {\"geoid\": \"19135\", \"dealer_rate\": 0.002302539480408521, \"all_density_land\": 0.011512697402042605}, {\"geoid\": \"18145\", \"dealer_rate\": 0.009690947881232039, \"all_density_land\": 0.02907284364369612}, {\"geoid\": \"47127\", \"dealer_rate\": 0.007667713713656096, \"all_density_land\": 0.030670854854624383}, {\"geoid\": \"47047\", \"dealer_rate\": 0.008495714236636967, \"all_density_land\": 0.01982333321881959}, {\"geoid\": \"18099\", \"dealer_rate\": 0.0044469847794185915, \"all_density_land\": 0.022234923897092963}, {\"geoid\": \"18179\", \"dealer_rate\": 0.010803572316343867, \"all_density_land\": 0.0162053584745158}, {\"geoid\": \"47137\", \"dealer_rate\": null, \"all_density_land\": 0.02292348324638072}, {\"geoid\": \"47063\", \"dealer_rate\": 0.039817188668374005, \"all_density_land\": 0.10238705657581888}, {\"geoid\": \"18135\", \"dealer_rate\": 0.011029891657149045, \"all_density_land\": 0.024265761645727902}, {\"geoid\": \"18011\", \"dealer_rate\": 0.02126394003011078, \"all_density_land\": 0.05197852007360413}, {\"geoid\": \"47093\", \"dealer_rate\": 0.055147137366448135, \"all_density_land\": 0.16163816124648592}, {\"geoid\": \"18041\", \"dealer_rate\": 0.013942956889702802, \"all_density_land\": 0.023238261482838002}, {\"geoid\": \"47003\", \"dealer_rate\": 0.004212413142149372, \"all_density_land\": 0.01684965256859749}, {\"geoid\": \"47049\", \"dealer_rate\": 0.014029983212032743, \"all_density_land\": 0.03407281637207952}, {\"geoid\": \"18153\", \"dealer_rate\": 0.011010405397254324, \"all_density_land\": 0.03523329727121383}, {\"geoid\": \"18101\", \"dealer_rate\": 0.0029376654548047883, \"all_density_land\": 0.011750661819219153}, {\"geoid\": \"18169\", \"dealer_rate\": 0.014252601385747438, \"all_density_land\": 0.03800693702865984}, {\"geoid\": \"47163\", \"dealer_rate\": 0.0535248640531209, \"all_density_land\": 0.13032140812933785}, {\"geoid\": \"18059\", \"dealer_rate\": 0.013028248702376387, \"all_density_land\": 0.042341808282723256}, {\"geoid\": \"47161\", \"dealer_rate\": 0.010141724467089195, \"all_density_land\": 0.024340138721014065}, {\"geoid\": \"47143\", \"dealer_rate\": 0.014863011199804668, \"all_density_land\": 0.04161643135945306}, {\"geoid\": \"18151\", \"dealer_rate\": 0.015505510314537434, \"all_density_land\": 0.04031432681779733}, {\"geoid\": \"19141\", \"dealer_rate\": 0.012211975017726166, \"all_density_land\": 0.02267938217577716}, {\"geoid\": \"47001\", \"dealer_rate\": 0.03770346312868218, \"all_density_land\": 0.09860905741347649}, {\"geoid\": \"19061\", \"dealer_rate\": 0.01297369108683359, \"all_density_land\": 0.048651341575625964}, {\"geoid\": \"19177\", \"dealer_rate\": 0.014270608120251839, \"all_density_land\": 0.024463899634717443}, {\"geoid\": \"19069\", \"dealer_rate\": 0.003433334942631611, \"all_density_land\": 0.005150002413947416}, {\"geoid\": \"19077\", \"dealer_rate\": 0.006744520321368484, \"all_density_land\": 0.01854743088376333}, {\"geoid\": \"19101\", \"dealer_rate\": 0.0045779596676554495, \"all_density_land\": 0.011444899169138625}, {\"geoid\": \"19059\", \"dealer_rate\": 0.024754839559055365, \"all_density_land\": 0.04455871120629966}, {\"geoid\": \"19067\", \"dealer_rate\": 0.0059834604002761286, \"all_density_land\": 0.017950381200828387}, {\"geoid\": \"19007\", \"dealer_rate\": 0.005811207436774654, \"all_density_land\": 0.017433622310323964}, {\"geoid\": \"33001\", \"dealer_rate\": 0.023475086075866305, \"all_density_land\": 0.0768275544301079}, {\"geoid\": \"33015\", \"dealer_rate\": 0.05533827194039733, \"all_density_land\": 0.14086105584828412}, {\"geoid\": \"19051\", \"dealer_rate\": 0.005942311063707862, \"all_density_land\": 0.01980770354569288}, {\"geoid\": \"19039\", \"dealer_rate\": 0.006948381619027818, \"all_density_land\": 0.01621289044439824}, {\"geoid\": \"19013\", \"dealer_rate\": 0.03317734870451407, \"all_density_land\": 0.08032410738987615}, {\"geoid\": \"33013\", \"dealer_rate\": 0.024047334843045106, \"all_density_land\": 0.054367887471232404}, {\"geoid\": \"19163\", \"dealer_rate\": 0.04485160461742906, \"all_density_land\": 0.0982463720191303}, {\"geoid\": \"19149\", \"dealer_rate\": 0.009262117656089456, \"all_density_land\": 0.015050941191145367}, {\"geoid\": \"19131\", \"dealer_rate\": 0.017037048990159422, \"all_density_land\": 0.02768520460900906}, {\"geoid\": \"19049\", \"dealer_rate\": 0.01690049744496791, \"all_density_land\": 0.0388711441234262}, {\"geoid\": \"19147\", \"dealer_rate\": 0.007024509351489162, \"all_density_land\": 0.017561273378722906}, {\"geoid\": \"19071\", \"dealer_rate\": null, \"all_density_land\": 0.015484720605059793}, {\"geoid\": \"19159\", \"dealer_rate\": 0.007423001152171424, \"all_density_land\": 0.014846002304342848}, {\"geoid\": \"19023\", \"dealer_rate\": 0.010313589234632882, \"all_density_land\": 0.017189315391054803}, {\"geoid\": \"19137\", \"dealer_rate\": 0.014116733737735088, \"all_density_land\": 0.01882231165031345}, {\"geoid\": \"19181\", \"dealer_rate\": 0.013953076448322553, \"all_density_land\": 0.03837096023288702}, {\"geoid\": \"19053\", \"dealer_rate\": null, \"all_density_land\": 0.00937241341817042}, {\"geoid\": \"19187\", \"dealer_rate\": 0.012527341874759696, \"all_density_land\": 0.02227082999957279}, {\"geoid\": \"19025\", \"dealer_rate\": 0.0052437062724642915, \"all_density_land\": 0.008739510454107152}, {\"geoid\": \"19123\", \"dealer_rate\": 0.0017439910865123484, \"all_density_land\": 0.022671884124660528}, {\"geoid\": \"19015\", \"dealer_rate\": 0.019175778168182767, \"all_density_land\": 0.03486505121487776}, {\"geoid\": \"19113\", \"dealer_rate\": 0.02484455144801595, \"all_density_land\": 0.07177314862760163}, {\"geoid\": \"19099\", \"dealer_rate\": 0.019100762130124623, \"all_density_land\": 0.03274416365164221}, {\"geoid\": \"19145\", \"dealer_rate\": 0.013072696745952942, \"all_density_land\": 0.02427786538534117}, {\"geoid\": \"19093\", \"dealer_rate\": 0.002314543349278386, \"all_density_land\": 0.01157271674639193}, {\"geoid\": \"19047\", \"dealer_rate\": 0.0013985290638035474, \"all_density_land\": 0.009789703446624833}, {\"geoid\": \"19003\", \"dealer_rate\": 0.0023501459245354487, \"all_density_land\": 0.002350145924535448}, {\"geoid\": \"19031\", \"dealer_rate\": 0.012029533825741711, \"all_density_land\": 0.029214582148229876}, {\"geoid\": \"33009\", \"dealer_rate\": 0.010859961659374617, \"all_density_land\": 0.03257988497812385}, {\"geoid\": \"19027\", \"dealer_rate\": 0.014028557041086562, \"all_density_land\": 0.04383924075339551}, {\"geoid\": \"19009\", \"dealer_rate\": 0.002255268524284935, \"all_density_land\": 0.00451053704856987}, {\"geoid\": \"19055\", \"dealer_rate\": 0.0051818288558702855, \"all_density_land\": 0.017272762852900952}, {\"geoid\": \"19083\", \"dealer_rate\": 0.007017641686072547, \"all_density_land\": 0.024561745901253915}, {\"geoid\": \"19167\", \"dealer_rate\": 0.006502027975032793, \"all_density_land\": 0.018205678330091818}, {\"geoid\": \"33003\", \"dealer_rate\": 0.017129602162197805, \"all_density_land\": 0.0382896989507951}, {\"geoid\": \"33019\", \"dealer_rate\": 0.02898582227281361, \"all_density_land\": 0.06884132789793232}, {\"geoid\": \"19001\", \"dealer_rate\": 0.005260631626034275, \"all_density_land\": 0.014028351002758066}, {\"geoid\": \"19175\", \"dealer_rate\": 0.01409118996271221, \"all_density_land\": 0.028182379925424425}, {\"geoid\": \"19129\", \"dealer_rate\": 0.01361643129764577, \"all_density_land\": 0.031771673027840126}, {\"geoid\": \"19185\", \"dealer_rate\": 0.0037939768458198986, \"all_density_land\": 0.007587953691639797}, {\"geoid\": \"19133\", \"dealer_rate\": 0.005723002824671343, \"all_density_land\": 0.01287675635551052}, {\"geoid\": \"19085\", \"dealer_rate\": 0.004275682228019733, \"all_density_land\": 0.012827046684059198}, {\"geoid\": \"19117\", \"dealer_rate\": 0.0069061160218338545, \"all_density_land\": 0.018416309391556945}, {\"geoid\": \"19063\", \"dealer_rate\": 0.012421654319445034, \"all_density_land\": 0.022358977775001055}, {\"geoid\": \"19153\", \"dealer_rate\": 0.06593022494263039, \"all_density_land\": 0.14031304282662363}, {\"geoid\": \"19019\", \"dealer_rate\": 0.013958790037242224, \"all_density_land\": 0.024427882565173892}, {\"geoid\": \"19037\", \"dealer_rate\": 0.005932863995859555, \"all_density_land\": 0.013843349323672292}, {\"geoid\": \"19057\", \"dealer_rate\": 0.02326930909171762, \"all_density_land\": 0.060500203638465824}, {\"geoid\": \"19029\", \"dealer_rate\": 0.007080292510940608, \"all_density_land\": 0.015930658149616368}, {\"geoid\": \"19005\", \"dealer_rate\": 0.007589887641939597, \"all_density_land\": 0.01821573034065503}, {\"geoid\": \"19121\", \"dealer_rate\": 0.012452009190267121, \"all_density_land\": 0.032019452203544026}, {\"geoid\": \"19033\", \"dealer_rate\": 0.00521631640472768, \"all_density_land\": 0.036514214833093764}, {\"geoid\": \"19065\", \"dealer_rate\": 0.006836897102873555, \"all_density_land\": 0.0123064147851724}, {\"geoid\": \"19017\", \"dealer_rate\": 0.011379040605207075, \"all_density_land\": 0.03413712181562123}, {\"geoid\": \"19171\", \"dealer_rate\": 0.004154659960286194, \"all_density_land\": 0.008309319920572388}, {\"geoid\": \"19143\", \"dealer_rate\": 0.0050076008345578595, \"all_density_land\": 0.015022802503673579}, {\"geoid\": \"19087\", \"dealer_rate\": 0.016034459460986344, \"all_density_land\": 0.04123146718539346}, {\"geoid\": \"19157\", \"dealer_rate\": 0.0017062890533793363, \"all_density_land\": 0.02730062485406938}, {\"geoid\": \"19081\", \"dealer_rate\": 0.006980344932649821, \"all_density_land\": 0.008725431165812276}, {\"geoid\": \"19191\", \"dealer_rate\": 0.00869391538754907, \"all_density_land\": 0.027530732060572053}, {\"geoid\": \"19105\", \"dealer_rate\": 0.01559781022079437, \"all_density_land\": 0.02599635036799062}, {\"geoid\": \"19151\", \"dealer_rate\": 0.0034562815913146212, \"all_density_land\": 0.005184422386971932}, {\"geoid\": \"19073\", \"dealer_rate\": 0.005251967562059678, \"all_density_land\": 0.014005246832159141}, {\"geoid\": \"19115\", \"dealer_rate\": 0.009580412461109307, \"all_density_land\": 0.016765721806941285}, {\"geoid\": \"19179\", \"dealer_rate\": 0.009173867298800396, \"all_density_land\": 0.02522813507170109}, {\"geoid\": \"19111\", \"dealer_rate\": 0.029691902819368492, \"all_density_land\": 0.051960829933894864}, {\"geoid\": \"19169\", \"dealer_rate\": 0.015689026398929114, \"all_density_land\": 0.043580628885914206}, {\"geoid\": \"19075\", \"dealer_rate\": 0.005977353817901228, \"all_density_land\": 0.00796980509053497}, {\"geoid\": \"19155\", \"dealer_rate\": 0.009383487071387276, \"all_density_land\": 0.029193070888760407}, {\"geoid\": \"19089\", \"dealer_rate\": 0.014780212286919942, \"all_density_land\": 0.027448965675708467}, {\"geoid\": \"28163\", \"dealer_rate\": 0.0053517949691451825, \"all_density_land\": 0.012844307925948435}, {\"geoid\": \"28015\", \"dealer_rate\": 0.0015758328711423352, \"all_density_land\": 0.011030830097996346}, {\"geoid\": \"28037\", \"dealer_rate\": 0.00529321664368828, \"all_density_land\": 0.012350838835272653}, {\"geoid\": \"28041\", \"dealer_rate\": 0.004174225334989317, \"all_density_land\": 0.008348450669978634}, {\"geoid\": \"28019\", \"dealer_rate\": 0.011908864628840351, \"all_density_land\": 0.02143595633191264}, {\"geoid\": \"28035\", \"dealer_rate\": 0.029772464039778228, \"all_density_land\": 0.06592474180236609}, {\"geoid\": \"28151\", \"dealer_rate\": 0.0065683499782568005, \"all_density_land\": 0.01182302996086224}, {\"geoid\": \"22049\", \"dealer_rate\": 0.0068932574001172925, \"all_density_land\": 0.025849715250439845}, {\"geoid\": \"22003\", \"dealer_rate\": 0.003916684707900506, \"all_density_land\": 0.013055615693001687}, {\"geoid\": \"22043\", \"dealer_rate\": 0.007522720884432859, \"all_density_land\": 0.01654998594575229}, {\"geoid\": \"22041\", \"dealer_rate\": 0.003147437617723554, \"all_density_land\": 0.020458344515203102}, {\"geoid\": \"22005\", \"dealer_rate\": 0.052842660432305746, \"all_density_land\": 0.12880398480374528}, {\"geoid\": \"22039\", \"dealer_rate\": 0.007357009136999165, \"all_density_land\": 0.01471401827399833}, {\"geoid\": \"22115\", \"dealer_rate\": 0.0022363277821481906, \"all_density_land\": 0.013417966692889145}, {\"geoid\": \"22071\", \"dealer_rate\": 0.014276908924880625, \"all_density_land\": 0.037119963204689625}, {\"geoid\": \"22121\", \"dealer_rate\": 0.014718605035677037, \"all_density_land\": 0.0392496134284721}, {\"geoid\": \"51770\", \"dealer_rate\": 0.1398503241382721, \"all_density_land\": 0.3962425850584376}, {\"geoid\": \"51015\", \"dealer_rate\": 0.0020600242930308064, \"all_density_land\": 0.012360145758184836}, {\"geoid\": \"51081\", \"dealer_rate\": 0.0033691930818619455, \"all_density_land\": 0.006738386163723891}, {\"geoid\": \"51089\", \"dealer_rate\": 0.01040636199538184, \"all_density_land\": 0.039023857482681897}, {\"geoid\": \"51740\", \"dealer_rate\": 0.06419534264592205, \"all_density_land\": 0.1711875803891255}, {\"geoid\": \"51093\", \"dealer_rate\": 0.008268372814064714, \"all_density_land\": 0.03031736698490396}, {\"geoid\": \"51515\", \"dealer_rate\": 0.14489039762054534, \"all_density_land\": null}, {\"geoid\": \"51049\", \"dealer_rate\": 0.010008308727643378, \"all_density_land\": 0.023352720364501218}, {\"geoid\": \"51097\", \"dealer_rate\": 0.003064796795671644, \"all_density_land\": 0.009194390387014932}, {\"geoid\": \"51061\", \"dealer_rate\": 0.024569075154621936, \"all_density_land\": 0.05528041909789935}, {\"geoid\": \"51036\", \"dealer_rate\": 0.004896150076109221, \"all_density_land\": 0.024480750380546108}, {\"geoid\": \"51197\", \"dealer_rate\": 0.012913178556572653, \"all_density_land\": 0.03873953566971796}, {\"geoid\": \"51103\", \"dealer_rate\": 0.008643117012158301, \"all_density_land\": 0.03025090954255405}, {\"geoid\": \"51177\", \"dealer_rate\": 0.043451379133490564, \"all_density_land\": 0.09173068928181341}, {\"geoid\": \"51063\", \"dealer_rate\": 0.00786798866443434, \"all_density_land\": 0.02360396599330301}, {\"geoid\": \"51199\", \"dealer_rate\": 0.03721648110151497, \"all_density_land\": 0.07443296220302995}, {\"geoid\": \"51840\", \"dealer_rate\": 0.6483962333478124, \"all_density_land\": 1.0806603889130206}, {\"geoid\": \"48295\", \"dealer_rate\": 0.004290489574461567, \"all_density_land\": 0.009653601542538526}, {\"geoid\": \"48319\", \"dealer_rate\": 0.0010727159680483389, \"all_density_land\": 0.00965444371243505}, {\"geoid\": \"48213\", \"dealer_rate\": 0.024253122475701994, \"all_density_land\": 0.054833146466804504}, {\"geoid\": \"48195\", \"dealer_rate\": 0.001086474986911486, \"all_density_land\": 0.0021729499738229723}, {\"geoid\": \"48071\", \"dealer_rate\": 0.005739307143289544, \"all_density_land\": 0.020661505715842358}, {\"geoid\": \"48217\", \"dealer_rate\": 0.01014487100012974, \"all_density_land\": 0.028405638800363276}, {\"geoid\": \"48375\", \"dealer_rate\": 0.019522996390392514, \"all_density_land\": 0.0455536582442492}, {\"geoid\": \"48249\", \"dealer_rate\": 0.0011516223623920278, \"all_density_land\": 0.021880824885448527}, {\"geoid\": \"48119\", \"dealer_rate\": 0.007196007316135521, \"all_density_land\": 0.007196007316135521}, {\"geoid\": \"48433\", \"dealer_rate\": 0.0010866695187053278, \"all_density_land\": 0.001086669518705328}, {\"geoid\": \"48135\", \"dealer_rate\": 0.015525060477036084, \"all_density_land\": 0.05211984588719257}, {\"geoid\": \"48061\", \"dealer_rate\": 0.017235177533422134, \"all_density_land\": 0.05092211543965631}, {\"geoid\": \"48323\", \"dealer_rate\": 0.0007741266373151303, \"all_density_land\": 0.004644759823890782}, {\"geoid\": \"48085\", \"dealer_rate\": 0.1636377689982436, \"all_density_land\": 0.30921895658978443}, {\"geoid\": \"48023\", \"dealer_rate\": 0.004439168849730466, \"all_density_land\": 0.005548961062163083}, {\"geoid\": \"48365\", \"dealer_rate\": 0.012175766943451932, \"all_density_land\": 0.02435153388690386}, {\"geoid\": \"48187\", \"dealer_rate\": 0.025182528312374833, \"all_density_land\": 0.07135049688506204}, {\"geoid\": \"34003\", \"dealer_rate\": 0.05270174189362868, \"all_density_land\": 0.08918756320460237}, {\"geoid\": \"34009\", \"dealer_rate\": 0.01289457972164842, \"all_density_land\": 0.016118224652060524}, {\"geoid\": \"34037\", \"dealer_rate\": 0.020532251067932973, \"all_density_land\": 0.03546479729915695}, {\"geoid\": \"46103\", \"dealer_rate\": 0.00502821569669818, \"all_density_land\": 0.02298612889919168}, {\"geoid\": \"46137\", \"dealer_rate\": null, \"all_density_land\": 0.000507464171991968}, {\"geoid\": \"46091\", \"dealer_rate\": 0.001128382392725741, \"all_density_land\": 0.0022567647854514817}, {\"geoid\": \"46095\", \"dealer_rate\": 0.0007628546137173467, \"all_density_land\": 0.002288563841152039}, {\"geoid\": \"46045\", \"dealer_rate\": 0.0026062765538093402, \"all_density_land\": 0.00347503540507912}, {\"geoid\": \"46021\", \"dealer_rate\": null, \"all_density_land\": 0.0051891659800644245}, {\"geoid\": \"46061\", \"dealer_rate\": 0.006890613991374024, \"all_density_land\": 0.013781227982748048}, {\"geoid\": \"46029\", \"dealer_rate\": 0.00836628864020714, \"all_density_land\": 0.0237044844805869}, {\"geoid\": \"46023\", \"dealer_rate\": 0.0034775471054970582, \"all_density_land\": 0.006085707434619852}, {\"geoid\": \"46105\", \"dealer_rate\": 0.0006920505169646714, \"all_density_land\": 0.001384101033929342}, {\"geoid\": \"46075\", \"dealer_rate\": null, \"all_density_land\": 0.002059959848301247}, {\"geoid\": \"46121\", \"dealer_rate\": null, \"all_density_land\": 0.001438048180977107}, {\"geoid\": \"46055\", \"dealer_rate\": 0.0010947319528179207, \"all_density_land\": 0.00164209792922688}, {\"geoid\": \"46069\", \"dealer_rate\": 0.0011545489548352539, \"all_density_land\": 0.004618195819341015}, {\"geoid\": \"46081\", \"dealer_rate\": 0.013744659907936259, \"all_density_land\": 0.03248737796421298}, {\"geoid\": \"46067\", \"dealer_rate\": null, \"all_density_land\": 0.007367193931716527}, {\"geoid\": \"46015\", \"dealer_rate\": 0.0047254714191633206, \"all_density_land\": 0.010632310693117472}, {\"geoid\": \"04011\", \"dealer_rate\": 0.0005409984287788905, \"all_density_land\": 0.0021639937151155617}, {\"geoid\": \"46107\", \"dealer_rate\": 0.0011127579762369843, \"all_density_land\": 0.003338273928710953}, {\"geoid\": \"46065\", \"dealer_rate\": 0.007493232388884237, \"all_density_land\": 0.01498646477776847}, {\"geoid\": \"46019\", \"dealer_rate\": 0.0013236641682146722, \"all_density_land\": 0.004412213894048907}, {\"geoid\": \"04023\", \"dealer_rate\": 0.005653759868001726, \"all_density_land\": 0.012115199717146554}, {\"geoid\": \"04005\", \"dealer_rate\": 0.0015540156877528386, \"all_density_land\": 0.0033759651147734072}, {\"geoid\": \"46027\", \"dealer_rate\": 0.0047934617771258885, \"all_density_land\": 0.01917384710850355}, {\"geoid\": \"46009\", \"dealer_rate\": 0.001719211113235552, \"all_density_land\": 0.012034477792648865}, {\"geoid\": \"46089\", \"dealer_rate\": 0.0026052174715018262, \"all_density_land\": 0.00434202911916971}, {\"geoid\": \"46003\", \"dealer_rate\": 0.002806035460413131, \"all_density_land\": 0.004209053190619696}, {\"geoid\": \"46005\", \"dealer_rate\": 0.004743784121060203, \"all_density_land\": 0.011859460302650506}, {\"geoid\": \"46013\", \"dealer_rate\": 0.0063548875796830264, \"all_density_land\": 0.018486945686350623}, {\"geoid\": \"46057\", \"dealer_rate\": 0.005575479511599618, \"all_density_land\": 0.007433972682132823}, {\"geoid\": \"46051\", \"dealer_rate\": 0.002908931860696234, \"all_density_land\": 0.007272329651740584}, {\"geoid\": \"46101\", \"dealer_rate\": 0.0038401947867166175, \"all_density_land\": 0.0057602921800749265}, {\"geoid\": \"46031\", \"dealer_rate\": null, \"all_density_land\": 0.001976556602684901}, {\"geoid\": \"46123\", \"dealer_rate\": 0.0012364219680633226, \"all_density_land\": 0.00494568787225329}, {\"geoid\": \"46059\", \"dealer_rate\": 0.0020830730497843723, \"all_density_land\": 0.0055548614660916595}, {\"geoid\": \"46087\", \"dealer_rate\": 0.001733499477823243, \"all_density_land\": 0.0034669989556464858}, {\"geoid\": \"46113\", \"dealer_rate\": null, \"all_density_land\": null}, {\"geoid\": \"46083\", \"dealer_rate\": 0.020770276423438695, \"all_density_land\": 0.034617127372397825}, {\"geoid\": \"46125\", \"dealer_rate\": 0.006475698153506961, \"all_density_land\": 0.011332471768637182}, {\"geoid\": \"46077\", \"dealer_rate\": 0.005788623497885895, \"all_density_land\": 0.01157724699577179}, {\"geoid\": \"46037\", \"dealer_rate\": 0.0009165123252341452, \"all_density_land\": 0.004582561626170726}, {\"geoid\": \"46041\", \"dealer_rate\": 0.0012268521348726543, \"all_density_land\": 0.002862654981369527}, {\"geoid\": \"08041\", \"dealer_rate\": 0.046488461312523564, \"all_density_land\": 0.12349964974943128}, {\"geoid\": \"08005\", \"dealer_rate\": 0.08815088110547534, \"all_density_land\": 0.21851486020512198}, {\"geoid\": \"08055\", \"dealer_rate\": 0.0006276402507050295, \"all_density_land\": 0.005021122005640236}, {\"geoid\": \"29009\", \"dealer_rate\": 0.006321356679842564, \"all_density_land\": 0.03034251206324431}, {\"geoid\": \"29059\", \"dealer_rate\": 0.007368518989215533, \"all_density_land\": 0.03131620570416602}, {\"geoid\": \"29223\", \"dealer_rate\": 0.005167530202719712, \"all_density_land\": 0.007751295304079567}, {\"geoid\": \"29195\", \"dealer_rate\": 0.0026078460764661325, \"all_density_land\": 0.007823538229398398}, {\"geoid\": \"29081\", \"dealer_rate\": 0.009636497169894153, \"all_density_land\": 0.02202627924547235}, {\"geoid\": \"29161\", \"dealer_rate\": 0.014829704421766366, \"all_density_land\": 0.048938024591829006}, {\"geoid\": \"29073\", \"dealer_rate\": 0.026695090235645775, \"all_density_land\": 0.03813584319377968}, {\"geoid\": \"29065\", \"dealer_rate\": 0.007952219149367622, \"all_density_land\": 0.01855517801519112}, {\"geoid\": \"29186\", \"dealer_rate\": 0.005919791268003855, \"all_density_land\": 0.03157222009602056}, {\"geoid\": \"29139\", \"dealer_rate\": 0.007379965799628069, \"all_density_land\": 0.02029490594897719}, {\"geoid\": \"29107\", \"dealer_rate\": 0.01721592528321461, \"all_density_land\": 0.02817151409980573}, {\"geoid\": \"29151\", \"dealer_rate\": 0.011466930096043897, \"all_density_land\": 0.031124524546404866}, {\"geoid\": \"29217\", \"dealer_rate\": 0.008364912041591014, \"all_density_land\": 0.015534836648669026}, {\"geoid\": \"29181\", \"dealer_rate\": 0.009499072401617091, \"all_density_land\": 0.018998144803234186}, {\"geoid\": \"29213\", \"dealer_rate\": 0.01688048778614234, \"all_density_land\": 0.03069179597480425}, {\"geoid\": \"53071\", \"dealer_rate\": 0.0030792364950515527, \"all_density_land\": 0.010007518608917547}, {\"geoid\": \"53023\", \"dealer_rate\": 0.0013923469055094765, \"all_density_land\": 0.002784693811018953}, {\"geoid\": \"53001\", \"dealer_rate\": 0.0015545231673170837, \"all_density_land\": 0.0020726975564227777}, {\"geoid\": \"09009\", \"dealer_rate\": 0.07192092783434643, \"all_density_land\": 0.1554420053193939}, {\"geoid\": \"17089\", \"dealer_rate\": 0.043876313836311166, \"all_density_land\": 0.11255228331923299}, {\"geoid\": \"17059\", \"dealer_rate\": 0.0060941683146826554, \"all_density_land\": 0.0060941683146826554}, {\"geoid\": \"17071\", \"dealer_rate\": null, \"all_density_land\": 0.005060476665424724}, {\"geoid\": \"17029\", \"dealer_rate\": 0.01176294934245485, \"all_density_land\": 0.0470517973698194}, {\"geoid\": \"06111\", \"dealer_rate\": 0.016301529744906083, \"all_density_land\": 0.04754612842264274}, {\"geoid\": \"49029\", \"dealer_rate\": 0.006548127227403281, \"all_density_land\": 0.019644381682209843}, {\"geoid\": \"06109\", \"dealer_rate\": 0.0026379957892109732, \"all_density_land\": 0.009232985262238405}, {\"geoid\": \"06007\", \"dealer_rate\": 0.007751332618227978, \"all_density_land\": 0.02086897243369071}, {\"geoid\": \"49037\", \"dealer_rate\": 0.0005042114935554538, \"all_density_land\": 0.001008422987110907}, {\"geoid\": \"49045\", \"dealer_rate\": 0.0009607192295874205, \"all_density_land\": 0.004803596147937103}, {\"geoid\": \"06091\", \"dealer_rate\": 0.0010393236412557215, \"all_density_land\": 0.001039323641255721}, {\"geoid\": \"06033\", \"dealer_rate\": 0.0022566195736752996, \"all_density_land\": 0.007522065245584333}, {\"geoid\": \"06049\", \"dealer_rate\": 0.00023790229322064255, \"all_density_land\": 0.000713706879661927}, {\"geoid\": \"06017\", \"dealer_rate\": 0.008956823015904714, \"all_density_land\": 0.022951858978255833}, {\"geoid\": \"06037\", \"dealer_rate\": 0.014312942441833744, \"all_density_land\": 0.06861792994173235}, {\"geoid\": \"06001\", \"dealer_rate\": 0.013392937364961303, \"all_density_land\": 0.04626651089713905}, {\"geoid\": \"47035\", \"dealer_rate\": 0.014602394125447608, \"all_density_land\": 0.03212526707598474}, {\"geoid\": \"27061\", \"dealer_rate\": 0.0034154559796433157, \"all_density_land\": 0.01092945913485861}, {\"geoid\": \"47025\", \"dealer_rate\": 0.015852373046668065, \"all_density_land\": 0.03623399553524129}, {\"geoid\": \"47153\", \"dealer_rate\": 0.007517570808372521, \"all_density_land\": 0.03382906863767634}, {\"geoid\": \"18141\", \"dealer_rate\": 0.02384123205328005, \"all_density_land\": 0.07585846562407289}, {\"geoid\": \"18079\", \"dealer_rate\": 0.01850161054495779, \"all_density_land\": 0.03964630831062383}, {\"geoid\": \"47043\", \"dealer_rate\": 0.022388660928710544, \"all_density_land\": 0.04274198904572012}, {\"geoid\": \"18113\", \"dealer_rate\": 0.028747137822971048, \"all_density_land\": 0.050307491190199324}, {\"geoid\": \"18177\", \"dealer_rate\": 0.02473157406295563, \"all_density_land\": 0.06430209256368463}, {\"geoid\": \"18121\", \"dealer_rate\": 0.006666976743067162, \"all_density_land\": 0.022223255810223882}, {\"geoid\": \"47175\", \"dealer_rate\": 0.0036425561382203444, \"all_density_land\": 0.007285112276440689}, {\"geoid\": \"27077\", \"dealer_rate\": 0.000563486850526818, \"all_density_land\": 0.002253947402107272}, {\"geoid\": \"27025\", \"dealer_rate\": 0.01808281299659642, \"all_density_land\": 0.06781054873723658}, {\"geoid\": \"27113\", \"dealer_rate\": 0.004852404668137596, \"all_density_land\": 0.01617468222712532}, {\"geoid\": \"27085\", \"dealer_rate\": 0.005934392674239572, \"all_density_land\": 0.041540748719677015}, {\"geoid\": \"27033\", \"dealer_rate\": 0.00462562464130964, \"all_density_land\": 0.02004437344567511}, {\"geoid\": \"27045\", \"dealer_rate\": 0.0046398883690592085, \"all_density_land\": 0.011599720922648023}, {\"geoid\": \"47015\", \"dealer_rate\": 0.011291113665718864, \"all_density_land\": 0.022582227331437728}, {\"geoid\": \"27005\", \"dealer_rate\": 0.0027678154639552135, \"all_density_land\": 0.00830344639186564}, {\"geoid\": \"47087\", \"dealer_rate\": 0.009388943023278416, \"all_density_land\": 0.012518590697704552}, {\"geoid\": \"18073\", \"dealer_rate\": 0.008906533812540317, \"all_density_land\": 0.01603176086257257}, {\"geoid\": \"27123\", \"dealer_rate\": 0.06467621142805209, \"all_density_land\": 0.25282519012784}, {\"geoid\": \"18027\", \"dealer_rate\": 0.027467865780549706, \"all_density_land\": 0.04806876511596198}, {\"geoid\": \"27133\", \"dealer_rate\": 0.006214724100433121, \"all_density_land\": 0.02071574700144373}, {\"geoid\": \"18119\", \"dealer_rate\": 0.020627835691794015, \"all_density_land\": 0.043834150845062286}, {\"geoid\": \"47009\", \"dealer_rate\": 0.031767958463832596, \"all_density_land\": 0.07765500957825745}, {\"geoid\": \"27091\", \"dealer_rate\": 0.008223955332406278, \"all_density_land\": 0.015077251442744844}, {\"geoid\": \"27167\", \"dealer_rate\": 0.006656283408372299, \"all_density_land\": 0.010650053453395678}, {\"geoid\": \"27151\", \"dealer_rate\": 0.007976730861729037, \"all_density_land\": 0.011965096292593552}, {\"geoid\": \"18053\", \"dealer_rate\": 0.02651255176594451, \"all_density_land\": 0.03615347968083342}, {\"geoid\": \"47183\", \"dealer_rate\": 0.01375079516930581, \"all_density_land\": 0.024063891546285167}, {\"geoid\": \"18087\", \"dealer_rate\": 0.015515799022804772, \"all_density_land\": 0.020687732030406362}, {\"geoid\": \"18021\", \"dealer_rate\": 0.022202398891989373, \"all_density_land\": 0.05273069736847476}, {\"geoid\": \"18023\", \"dealer_rate\": 0.007402873988492593, \"all_density_land\": 0.014805747976985187}, {\"geoid\": \"18107\", \"dealer_rate\": 0.009892270793076944, \"all_density_land\": 0.03956908317230778}, {\"geoid\": \"18017\", \"dealer_rate\": 0.01205261955408774, \"all_density_land\": 0.04579995430553341}, {\"geoid\": \"27139\", \"dealer_rate\": 0.04614766059626074, \"all_density_land\": 0.08686618465178492}, {\"geoid\": \"47011\", \"dealer_rate\": 0.04827291944299165, \"all_density_land\": 0.12369935607266608}, {\"geoid\": \"18171\", \"dealer_rate\": 0.008187641832284855, \"all_density_land\": 0.010916855776379807}, {\"geoid\": \"47027\", \"dealer_rate\": 0.003855883683610072, \"all_density_land\": 0.011567651050830215}, {\"geoid\": \"47145\", \"dealer_rate\": 0.01772255388943786, \"all_density_land\": 0.05063586825553673}, {\"geoid\": \"47019\", \"dealer_rate\": 0.017259521492287076, \"all_density_land\": 0.04890197756148005}, {\"geoid\": \"18049\", \"dealer_rate\": 0.010773964106802087, \"all_density_land\": 0.02962840129370574}, {\"geoid\": \"47041\", \"dealer_rate\": 0.006079282556902518, \"all_density_land\": 0.021277488949158808}, {\"geoid\": \"18165\", \"dealer_rate\": 0.015388738001905752, \"all_density_land\": 0.050013398506193706}, {\"geoid\": \"47037\", \"dealer_rate\": 0.04753360888279092, \"all_density_land\": 0.13879813793774948}, {\"geoid\": \"47017\", \"dealer_rate\": 0.011665111602662327, \"all_density_land\": 0.01999733417599256}, {\"geoid\": \"18029\", \"dealer_rate\": 0.04879391301145904, \"all_density_land\": 0.1171053912275017}, {\"geoid\": \"18147\", \"dealer_rate\": 0.009964467961577681, \"all_density_land\": 0.02242005291354978}, {\"geoid\": \"18015\", \"dealer_rate\": 0.00533306798139624, \"all_density_land\": 0.02133227192558496}, {\"geoid\": \"18069\", \"dealer_rate\": 0.01031666197876473, \"all_density_land\": 0.02837082044160301}, {\"geoid\": \"47083\", \"dealer_rate\": null, \"all_density_land\": null}, {\"geoid\": \"47135\", \"dealer_rate\": 0.009459134134370625, \"all_density_land\": 0.014188701201555938}, {\"geoid\": \"18103\", \"dealer_rate\": 0.010599161046548696, \"all_density_land\": 0.034447273401283264}, {\"geoid\": \"47169\", \"dealer_rate\": 0.017146327519388566, \"all_density_land\": 0.01714632751938857}, {\"geoid\": \"18065\", \"dealer_rate\": 0.017729064582858868, \"all_density_land\": 0.03799085267755472}, {\"geoid\": \"47095\", \"dealer_rate\": 0.005157476247973312, \"all_density_land\": 0.005157476247973313}, {\"geoid\": \"18057\", \"dealer_rate\": 0.05466696090815908, \"all_density_land\": 0.13169767855147416}, {\"geoid\": \"18109\", \"dealer_rate\": 0.03419412003299284, \"all_density_land\": 0.06350336577555814}, {\"geoid\": \"27035\", \"dealer_rate\": 0.008646578231976319, \"all_density_land\": 0.031127681635114746}, {\"geoid\": \"47031\", \"dealer_rate\": 0.01380725876971319, \"all_density_land\": 0.052927825283900554}, {\"geoid\": \"27039\", \"dealer_rate\": 0.009099490238136677, \"all_density_land\": 0.020473853035807524}, {\"geoid\": \"47073\", \"dealer_rate\": 0.018014507472329286, \"all_density_land\": 0.04203385076876834}, {\"geoid\": \"18077\", \"dealer_rate\": 0.0137783309627119, \"all_density_land\": 0.0275566619254238}, {\"geoid\": \"18163\", \"dealer_rate\": 0.05500788067551028, \"all_density_land\": 0.13540401397048685}, {\"geoid\": \"47119\", \"dealer_rate\": 0.027616308331277817, \"all_density_land\": 0.04711017303570922}, {\"geoid\": \"18037\", \"dealer_rate\": 0.020673793724987687, \"all_density_land\": 0.041347587449975375}, {\"geoid\": \"18161\", \"dealer_rate\": 0.00605410390104903, \"all_density_land\": 0.048432831208392244}, {\"geoid\": \"47151\", \"dealer_rate\": 0.01312743193561855, \"all_density_land\": 0.024379516451863023}, {\"geoid\": \"47117\", \"dealer_rate\": 0.029243205148198767, \"all_density_land\": 0.04519404431994355}, {\"geoid\": \"47103\", \"dealer_rate\": 0.012265192844623844, \"all_density_land\": 0.04029991934662121}, {\"geoid\": \"18157\", \"dealer_rate\": 0.01788399149807926, \"all_density_land\": 0.043716423661971524}, {\"geoid\": \"47077\", \"dealer_rate\": 0.015212493385295641, \"all_density_land\": 0.03612967179007715}, {\"geoid\": \"18031\", \"dealer_rate\": 0.013393235194998592, \"all_density_land\": 0.03750105854599606}, {\"geoid\": \"27041\", \"dealer_rate\": 0.006944399286771043, \"all_density_land\": 0.03888863600591784}, {\"geoid\": \"18155\", \"dealer_rate\": 0.01790200487039693, \"all_density_land\": 0.031328508523194624}, {\"geoid\": \"27009\", \"dealer_rate\": 0.01694678336367094, \"all_density_land\": 0.03631453577929488}, {\"geoid\": \"18181\", \"dealer_rate\": 0.009829378609410666, \"all_density_land\": 0.02162463294070347}, {\"geoid\": \"18043\", \"dealer_rate\": 0.03356659140449509, \"all_density_land\": 0.12083972905618232}, {\"geoid\": \"47133\", \"dealer_rate\": 0.013798374472166967, \"all_density_land\": 0.02069756170825045}, {\"geoid\": \"18093\", \"dealer_rate\": 0.03097831972331731, \"all_density_land\": 0.0663821136928228}, {\"geoid\": \"18159\", \"dealer_rate\": null, \"all_density_land\": 0.023026694101416924}, {\"geoid\": \"18183\", \"dealer_rate\": 0.008877987598015584, \"all_density_land\": 0.032552621192723806}, {\"geoid\": \"47075\", \"dealer_rate\": 0.009362235892580995, \"all_density_land\": 0.01872447178516199}, {\"geoid\": \"18089\", \"dealer_rate\": 0.027132439450732817, \"all_density_land\": 0.07660924080206913}, {\"geoid\": \"18001\", \"dealer_rate\": 0.01764878919935244, \"all_density_land\": 0.05000490273149858}, {\"geoid\": \"18035\", \"dealer_rate\": 0.0101033249440104, \"all_density_land\": 0.04546496224804679}, {\"geoid\": \"18085\", \"dealer_rate\": 0.025252843841186985, \"all_density_land\": 0.045094364002119615}, {\"geoid\": \"47085\", \"dealer_rate\": 0.012574040392277238, \"all_density_land\": 0.023351789299943443}, {\"geoid\": \"18129\", \"dealer_rate\": 0.009539136776730652, \"all_density_land\": 0.021463057747643968}, {\"geoid\": \"18117\", \"dealer_rate\": 0.007349483577210537, \"all_density_land\": 0.01714879501349125}, {\"geoid\": \"18061\", \"dealer_rate\": 0.020554112591540535, \"all_density_land\": 0.05549610399715945}, {\"geoid\": \"18143\", \"dealer_rate\": 0.025940543375282867, \"all_density_land\": 0.06744541277573544}, {\"geoid\": \"18173\", \"dealer_rate\": 0.030686358683063658, \"all_density_land\": 0.058815520809205345}, {\"geoid\": \"47057\", \"dealer_rate\": 0.009918682086689376, \"all_density_land\": 0.02314359153560854}, {\"geoid\": \"47181\", \"dealer_rate\": 0.005437343571634889, \"all_density_land\": 0.009515351250361057}, {\"geoid\": \"18003\", \"dealer_rate\": 0.04090773504533018, \"all_density_land\": 0.10454198956028822}, {\"geoid\": \"47097\", \"dealer_rate\": 0.0019701412620568935, \"all_density_land\": 0.013790988834398256}, {\"geoid\": \"18005\", \"dealer_rate\": 0.024418535289756526, \"all_density_land\": 0.04883707057951305}, {\"geoid\": \"18167\", \"dealer_rate\": 0.036545224378108816, \"all_density_land\": 0.08527219021558724}, {\"geoid\": \"47065\", \"dealer_rate\": 0.043411831363543256, \"all_density_land\": 0.14586375338150534}, {\"geoid\": \"18125\", \"dealer_rate\": 0.008795222561922474, \"all_density_land\": 0.01465870426987079}, {\"geoid\": \"18127\", \"dealer_rate\": 0.022997266325469036, \"all_density_land\": 0.04407809379048231}, {\"geoid\": \"18007\", \"dealer_rate\": 0.004919944577803482, \"all_density_land\": 0.017219806022312188}, {\"geoid\": \"18115\", \"dealer_rate\": 0.03431142022479608, \"all_density_land\": 0.0914971205994562}, {\"geoid\": \"47123\", \"dealer_rate\": 0.015323874288988742, \"all_density_land\": 0.04290684800916847}, {\"geoid\": \"18071\", \"dealer_rate\": 0.019458527710202737, \"all_density_land\": 0.04864631927550685}, {\"geoid\": \"18097\", \"dealer_rate\": 0.039701448970041936, \"all_density_land\": 0.17121249868330582}, {\"geoid\": \"18055\", \"dealer_rate\": 0.007327115042342352, \"all_density_land\": 0.025644902648198232}, {\"geoid\": \"47189\", \"dealer_rate\": 0.025720340291590597, \"all_density_land\": 0.06344350605259014}, {\"geoid\": \"18149\", \"dealer_rate\": 0.009609051991468633, \"all_density_land\": 0.01921810398293727}, {\"geoid\": \"47109\", \"dealer_rate\": 0.01064561092442017, \"all_density_land\": 0.026614027311050427}, {\"geoid\": \"47157\", \"dealer_rate\": 0.06241890024228445, \"all_density_land\": 0.14267177198236444}, {\"geoid\": \"18139\", \"dealer_rate\": 0.009792868867408662, \"all_density_land\": 0.02203395495166949}, {\"geoid\": \"18133\", \"dealer_rate\": 0.012430284015889208, \"all_density_land\": 0.02900399603707481}, {\"geoid\": \"18009\", \"dealer_rate\": null, \"all_density_land\": 0.0181177920130882}, {\"geoid\": \"47113\", \"dealer_rate\": 0.010740632540386132, \"all_density_land\": 0.030431792197760706}, {\"geoid\": \"28047\", \"dealer_rate\": 0.011268518401721238, \"all_density_land\": 0.03892760902412791}, {\"geoid\": \"28065\", \"dealer_rate\": 0.007332484586651215, \"all_density_land\": 0.009776646115534951}, {\"geoid\": \"22033\", \"dealer_rate\": 0.04891171282334878, \"all_density_land\": 0.15736811951860044}, {\"geoid\": \"22023\", \"dealer_rate\": null, \"all_density_land\": null}, {\"geoid\": \"22035\", \"dealer_rate\": null, \"all_density_land\": 0.006780706084196152}, {\"geoid\": \"22017\", \"dealer_rate\": 0.02775335958342247, \"all_density_land\": 0.08326007875026739}, {\"geoid\": \"51091\", \"dealer_rate\": null, \"all_density_land\": 0.009618778658913304}, {\"geoid\": \"51029\", \"dealer_rate\": 0.0034272622744335587, \"all_density_land\": 0.011995417960517457}, {\"geoid\": \"51113\", \"dealer_rate\": 0.00621359880549937, \"all_density_land\": 0.024854395221997484}, {\"geoid\": \"51085\", \"dealer_rate\": 0.025326825124633322, \"all_density_land\": 0.0844227504154444}, {\"geoid\": \"51105\", \"dealer_rate\": 0.011430939229511803, \"all_density_land\": 0.020575690613121245}, {\"geoid\": \"51009\", \"dealer_rate\": 0.022971721568256224, \"all_density_land\": 0.03132507486580394}, {\"geoid\": \"51135\", \"dealer_rate\": 0.0031640649641513814, \"all_density_land\": 0.015820324820756907}, {\"geoid\": \"51077\", \"dealer_rate\": 0.011211890072219883, \"all_density_land\": 0.022423780144439766}, {\"geoid\": \"51087\", \"dealer_rate\": 0.04491496398613176, \"all_density_land\": 0.10207946360484493}, {\"geoid\": \"51007\", \"dealer_rate\": 0.019524609036179395, \"all_density_land\": 0.030681528485424762}, {\"geoid\": \"51590\", \"dealer_rate\": 0.04550792251306635, \"all_density_land\": 0.3413094188479976}, {\"geoid\": \"51157\", \"dealer_rate\": 0.011234869672581256, \"all_density_land\": 0.029959652460216684}, {\"geoid\": \"51550\", \"dealer_rate\": 0.014250578722387617, \"all_density_land\": 0.07695312510089314}, {\"geoid\": \"51670\", \"dealer_rate\": 0.18514768814422708, \"all_density_land\": 0.09257384407211354}, {\"geoid\": \"51800\", \"dealer_rate\": 0.025635631661181324, \"all_density_land\": 0.05127126332236265}, {\"geoid\": \"51121\", \"dealer_rate\": 0.017982610836938407, \"all_density_land\": 0.053947832510815225}, {\"geoid\": \"48021\", \"dealer_rate\": 0.013399644920265194, \"all_density_land\": 0.04466548306755065}, {\"geoid\": \"48015\", \"dealer_rate\": 0.013711490894196463, \"all_density_land\": 0.03199347875312508}, {\"geoid\": \"48003\", \"dealer_rate\": 0.002664786102779591, \"all_density_land\": 0.005329572205559182}, {\"geoid\": \"48001\", \"dealer_rate\": 0.005565856295435362, \"all_density_land\": 0.018552854318117876}, {\"geoid\": \"48031\", \"dealer_rate\": 0.011213487540642364, \"all_density_land\": 0.026632032909025615}, {\"geoid\": \"51021\", \"dealer_rate\": 0.005575252530145081, \"all_density_land\": 0.008362878795217622}, {\"geoid\": \"51163\", \"dealer_rate\": 0.0066558268217965285, \"all_density_land\": 0.013311653643593057}, {\"geoid\": \"51115\", \"dealer_rate\": null, \"all_density_land\": 0.003968840108639556}, {\"geoid\": \"48123\", \"dealer_rate\": 0.0054915552437635575, \"all_density_land\": 0.012081421536279826}, {\"geoid\": \"51131\", \"dealer_rate\": null, \"all_density_land\": 0.011317120600191856}, {\"geoid\": \"51017\", \"dealer_rate\": 0.0037412356655803073, \"all_density_land\": 0.007482471331160615}, {\"geoid\": \"51830\", \"dealer_rate\": 0.10889237572907179, \"all_density_land\": null}, {\"geoid\": \"51191\", \"dealer_rate\": 0.0229684461198421, \"all_density_land\": 0.04947049933504452}, {\"geoid\": \"51137\", \"dealer_rate\": 0.008739619492300772, \"all_density_land\": 0.04369809746150386}, {\"geoid\": \"48019\", \"dealer_rate\": 0.012537039667871062, \"all_density_land\": 0.03134259916967766}, {\"geoid\": \"48027\", \"dealer_rate\": 0.03860874551664863, \"all_density_land\": 0.1149069807043114}, {\"geoid\": \"48007\", \"dealer_rate\": 0.005682307336613328, \"all_density_land\": 0.017046922009839982}, {\"geoid\": \"48009\", \"dealer_rate\": 0.0032417787221076144, \"all_density_land\": 0.005402964536846025}, {\"geoid\": \"48011\", \"dealer_rate\": 0.001094298733069911, \"all_density_land\": 0.004377194932279645}, {\"geoid\": \"48025\", \"dealer_rate\": 0.0022718640049240444, \"all_density_land\": 0.010223388022158199}, {\"geoid\": \"48005\", \"dealer_rate\": 0.015034001030815964, \"all_density_land\": 0.03006800206163193}, {\"geoid\": \"51640\", \"dealer_rate\": 0.12077795308378068, \"all_density_land\": 0.48311181233512274}, {\"geoid\": \"48017\", \"dealer_rate\": 0.001208486533233272, \"all_density_land\": 0.006042432666166359}, {\"geoid\": \"48245\", \"dealer_rate\": 0.02516519092092802, \"all_density_land\": 0.06471049093952919}, {\"geoid\": \"48163\", \"dealer_rate\": 0.0017631294174910465, \"all_density_land\": 0.006170952961218663}, {\"geoid\": \"48147\", \"dealer_rate\": 0.008899927804492756, \"all_density_land\": 0.02781227438903986}, {\"geoid\": \"48175\", \"dealer_rate\": 0.0023272959835594774, \"all_density_land\": 0.004654591967118955}, {\"geoid\": \"48301\", \"dealer_rate\": null, \"all_density_land\": null}, {\"geoid\": \"48067\", \"dealer_rate\": 0.005206585268220767, \"all_density_land\": 0.01457843875101815}, {\"geoid\": \"48157\", \"dealer_rate\": 0.07680658792548954, \"all_density_land\": 0.1841099092919823}, {\"geoid\": \"48035\", \"dealer_rate\": 0.0029923906108656655, \"all_density_land\": 0.021944197813014883}, {\"geoid\": \"48219\", \"dealer_rate\": 0.005503189470431652, \"all_density_land\": 0.009905741046776974}, {\"geoid\": \"48411\", \"dealer_rate\": 0.0017568097379048833, \"all_density_land\": 0.003513619475809766}, {\"geoid\": \"48265\", \"dealer_rate\": 0.012643561971395227, \"all_density_land\": 0.03431823963664419}, {\"geoid\": \"48333\", \"dealer_rate\": 0.002667491845388583, \"all_density_land\": 0.00800247553616575}, {\"geoid\": \"48097\", \"dealer_rate\": 0.008904319820682714, \"all_density_land\": 0.02559991948446281}, {\"geoid\": \"48487\", \"dealer_rate\": 0.002045212484076203, \"all_density_land\": 0.00613563745222861}, {\"geoid\": \"48235\", \"dealer_rate\": null, \"all_density_land\": 0.0028527122495360154}, {\"geoid\": \"48055\", \"dealer_rate\": 0.009138068557853402, \"all_density_land\": 0.029241819385130884}, {\"geoid\": \"48247\", \"dealer_rate\": 0.0008801301538105806, \"all_density_land\": 0.001760260307621161}, {\"geoid\": \"48109\", \"dealer_rate\": 0.00026226128907562023, \"all_density_land\": null}, {\"geoid\": \"48459\", \"dealer_rate\": 0.021937270506383662, \"all_density_land\": 0.04218705866612242}, {\"geoid\": \"48073\", \"dealer_rate\": 0.009414499307529767, \"all_density_land\": 0.0244776981995774}, {\"geoid\": \"48121\", \"dealer_rate\": 0.121723766232497, \"all_density_land\": 0.3011613871441952}, {\"geoid\": \"48095\", \"dealer_rate\": 0.0010063465473807384, \"all_density_land\": 0.002012693094761476}, {\"geoid\": \"48381\", \"dealer_rate\": 0.03143874721563513, \"all_density_land\": 0.08781167325746363}, {\"geoid\": \"48267\", \"dealer_rate\": 0.0023977442507420858, \"all_density_land\": 0.0039962404179034764}, {\"geoid\": \"48275\", \"dealer_rate\": 0.0035067998215776806, \"all_density_land\": 0.004675733095436908}, {\"geoid\": \"48373\", \"dealer_rate\": 0.009011770890325933, \"all_density_land\": 0.020727073047749647}, {\"geoid\": \"48221\", \"dealer_rate\": 0.03433841789969859, \"all_density_land\": 0.10072602583911587}, {\"geoid\": \"48407\", \"dealer_rate\": 0.00955550319882444, \"all_density_land\": 0.01751842253117814}, {\"geoid\": \"48395\", \"dealer_rate\": 0.0034667910907167296, \"all_density_land\": 0.011555970302389099}, {\"geoid\": \"48493\", \"dealer_rate\": 0.022265908284124936, \"all_density_land\": 0.04453181656824987}, {\"geoid\": \"48353\", \"dealer_rate\": 0.0032824626181825007, \"all_density_land\": 0.010941542060608333}, {\"geoid\": \"48101\", \"dealer_rate\": 0.0011091205037489327, \"all_density_land\": 0.002218241007497865}, {\"geoid\": \"48057\", \"dealer_rate\": 0.008715317443339764, \"all_density_land\": 0.01355716046741741}, {\"geoid\": \"48397\", \"dealer_rate\": 0.12103533045489755, \"all_density_land\": 0.30931251116251596}, {\"geoid\": \"48297\", \"dealer_rate\": 0.0009268888984009723, \"all_density_land\": 0.01297644457761361}, {\"geoid\": \"48345\", \"dealer_rate\": 0.002020580222214699, \"all_density_land\": 0.002020580222214699}, {\"geoid\": \"48421\", \"dealer_rate\": 0.0021663756179419093, \"all_density_land\": 0.0032495634269128645}, {\"geoid\": \"48357\", \"dealer_rate\": 0.0032674719942560587, \"all_density_land\": 0.009802415982768174}, {\"geoid\": \"48091\", \"dealer_rate\": 0.06088247167495661, \"all_density_land\": 0.14611793201989587}, {\"geoid\": \"34027\", \"dealer_rate\": 0.024915658809058557, \"all_density_land\": 0.05398392741962688}, {\"geoid\": \"34005\", \"dealer_rate\": 0.013417277372925012, \"all_density_land\": 0.021955544792059113}, {\"geoid\": \"34023\", \"dealer_rate\": 0.04026926982950695, \"all_density_land\": 0.05265981439243217}, {\"geoid\": \"04009\", \"dealer_rate\": 0.002801104662677282, \"all_density_land\": 0.006248618093664706}, {\"geoid\": \"04013\", \"dealer_rate\": 0.05106016041075458, \"all_density_land\": 0.14179764292413374}, {\"geoid\": \"04003\", \"dealer_rate\": 0.007075213307153213, \"all_density_land\": 0.014793627824047629}, {\"geoid\": \"04015\", \"dealer_rate\": 0.004903240113249922, \"all_density_land\": 0.01218380876625738}, {\"geoid\": \"04001\", \"dealer_rate\": 0.0005348335502110968, \"all_density_land\": 0.001337083875527742}, {\"geoid\": \"50017\", \"dealer_rate\": 0.01300079186625156, \"all_density_land\": 0.03611331073958767}, {\"geoid\": \"23007\", \"dealer_rate\": 0.006881724477213849, \"all_density_land\": 0.013189971914659877}, {\"geoid\": \"23025\", \"dealer_rate\": 0.003175723166607737, \"all_density_land\": 0.008794310307529116}, {\"geoid\": \"23017\", \"dealer_rate\": 0.008273061558550714, \"all_density_land\": 0.017924966710193214}, {\"geoid\": \"50003\", \"dealer_rate\": 0.014756804940990822, \"all_density_land\": 0.03836769284657614}, {\"geoid\": \"50019\", \"dealer_rate\": 0.00831988269877813, \"all_density_land\": 0.02495964809633439}, {\"geoid\": \"23027\", \"dealer_rate\": 0.00703599892982122, \"all_density_land\": 0.018762663812856583}, {\"geoid\": \"23015\", \"dealer_rate\": 0.018581973420902613, \"all_density_land\": 0.03716394684180522}, {\"geoid\": \"23031\", \"dealer_rate\": 0.02677768559515278, \"all_density_land\": 0.05513052916649101}, {\"geoid\": \"50007\", \"dealer_rate\": 0.017762025617924417, \"all_density_land\": 0.0662039136668092}, {\"geoid\": \"23013\", \"dealer_rate\": 0.0008741687153957327, \"all_density_land\": 0.01311253073093599}, {\"geoid\": \"23023\", \"dealer_rate\": 0.0054048235976081535, \"all_density_land\": 0.03242894158564892}, {\"geoid\": \"23001\", \"dealer_rate\": 0.03218533237694742, \"all_density_land\": 0.06034749820677641}, {\"geoid\": \"23011\", \"dealer_rate\": 0.023129298887524876, \"all_density_land\": 0.06097724252165649}, {\"geoid\": \"23005\", \"dealer_rate\": 0.021355901536743993, \"all_density_land\": 0.05256837301352368}, {\"geoid\": \"23021\", \"dealer_rate\": 0.0015988896747877966, \"all_density_land\": 0.004339843402995448}, {\"geoid\": \"29159\", \"dealer_rate\": 0.01457154085619573, \"all_density_land\": 0.03497169805486975}, {\"geoid\": \"29103\", \"dealer_rate\": 0.0019730486395361643, \"all_density_land\": 0.009865243197680819}, {\"geoid\": \"29145\", \"dealer_rate\": 0.027131143707872427, \"all_density_land\": 0.044686589636495765}, {\"geoid\": \"29171\", \"dealer_rate\": 0.0057735454182085534, \"all_density_land\": 0.009622575697014257}, {\"geoid\": \"29041\", \"dealer_rate\": 0.0026083700465811747, \"all_density_land\": 0.01695440530277764}, {\"geoid\": \"29113\", \"dealer_rate\": 0.023420555341479597, \"all_density_land\": 0.060893443887846954}, {\"geoid\": \"29131\", \"dealer_rate\": 0.01166682081098893, \"all_density_land\": 0.020000264247409597}, {\"geoid\": \"29123\", \"dealer_rate\": 0.012057892195729872, \"all_density_land\": 0.02009648699288312}, {\"geoid\": \"29005\", \"dealer_rate\": 0.00181775887807761, \"all_density_land\": 0.009088794390388047}, {\"geoid\": \"29221\", \"dealer_rate\": 0.003934486958534021, \"all_density_land\": 0.014426452181291412}, {\"geoid\": \"29211\", \"dealer_rate\": 0.001534909932696565, \"all_density_land\": 0.00306981986539313}, {\"geoid\": \"29023\", \"dealer_rate\": 0.011445058148804166, \"all_density_land\": 0.03290454217781197}, {\"geoid\": \"29061\", \"dealer_rate\": 0.008786648488308313, \"all_density_land\": 0.01933062667427829}, {\"geoid\": \"29043\", \"dealer_rate\": 0.030152100311412203, \"all_density_land\": 0.07271977133928825}, {\"geoid\": \"29167\", \"dealer_rate\": 0.014009726605816513, \"all_density_land\": 0.035802634659308864}, {\"geoid\": \"29057\", \"dealer_rate\": 0.003950580291105143, \"all_density_land\": 0.009876450727762855}, {\"geoid\": \"29003\", \"dealer_rate\": 0.016039259766279988, \"all_density_land\": 0.03895248800382284}, {\"geoid\": \"29201\", \"dealer_rate\": 0.023482040932845564, \"all_density_land\": 0.04696408186569113}, {\"geoid\": \"29147\", \"dealer_rate\": 0.010252019090643875, \"all_density_land\": 0.01936492494899399}, {\"geoid\": \"29143\", \"dealer_rate\": 0.007177981349710057, \"all_density_land\": 0.012920366429478105}, {\"geoid\": \"29027\", \"dealer_rate\": 0.014161675218367293, \"all_density_land\": 0.027143210835203976}, {\"geoid\": \"29157\", \"dealer_rate\": 0.01032716090353536, \"all_density_land\": 0.039243211433434365}, {\"geoid\": \"29029\", \"dealer_rate\": 0.015522594021265934, \"all_density_land\": 0.04797892697482197}, {\"geoid\": \"29051\", \"dealer_rate\": 0.052248560954445876, \"all_density_land\": 0.12688936231794}, {\"geoid\": \"29227\", \"dealer_rate\": 0.003747853277971606, \"all_density_land\": 0.003747853277971606}, {\"geoid\": \"29077\", \"dealer_rate\": 0.04573080728041179, \"all_density_land\": 0.12686611051985205}, {\"geoid\": \"29097\", \"dealer_rate\": 0.023390761389288948, \"all_density_land\": 0.06081597961215127}, {\"geoid\": \"29175\", \"dealer_rate\": 0.018449234181635413, \"all_density_land\": 0.03279863854512963}, {\"geoid\": \"29209\", \"dealer_rate\": 0.0215358042765886, \"all_density_land\": 0.0215358042765886}, {\"geoid\": \"29053\", \"dealer_rate\": 0.010541461311328125, \"all_density_land\": 0.02635365327832031}, {\"geoid\": \"53055\", \"dealer_rate\": 0.0016101342340222925, \"all_density_land\": 0.004830402702066877}, {\"geoid\": \"53061\", \"dealer_rate\": 0.030506078903502768, \"all_density_land\": 0.07376096690100668}, {\"geoid\": \"53059\", \"dealer_rate\": 0.0017816785374687293, \"all_density_land\": 0.002375571383291639}, {\"geoid\": \"53025\", \"dealer_rate\": 0.003940804388409751, \"all_density_land\": 0.010389393387625708}, {\"geoid\": \"53029\", \"dealer_rate\": 0.02512684568343426, \"all_density_land\": 0.054119359933550715}, {\"geoid\": \"53027\", \"dealer_rate\": 0.0031469083152175425, \"all_density_land\": 0.009440724945652628}, {\"geoid\": \"53053\", \"dealer_rate\": 0.02989472983664986, \"all_density_land\": 0.09189861394229401}, {\"geoid\": \"53069\", \"dealer_rate\": null, \"all_density_land\": 0.006964231895215934}, {\"geoid\": \"53013\", \"dealer_rate\": 0.0011448185830777637, \"all_density_land\": 0.003434455749233291}, {\"geoid\": \"53063\", \"dealer_rate\": 0.01965515051603023, \"all_density_land\": 0.06570436029644391}, {\"geoid\": \"53047\", \"dealer_rate\": 0.0016933854187557067, \"all_density_land\": 0.0035749247729287142}, {\"geoid\": \"17013\", \"dealer_rate\": null, \"all_density_land\": null}, {\"geoid\": \"17151\", \"dealer_rate\": null, \"all_density_land\": 0.008014909977866715}, {\"geoid\": \"17101\", \"dealer_rate\": 0.00801841783138161, \"all_density_land\": 0.013364029718969349}, {\"geoid\": \"17103\", \"dealer_rate\": 0.009602815410798413, \"all_density_land\": 0.019205630821596823}, {\"geoid\": \"17123\", \"dealer_rate\": 0.0025093209910538234, \"all_density_land\": 0.005018641982107648}, {\"geoid\": \"17027\", \"dealer_rate\": 0.003973999198584372, \"all_density_land\": 0.013908997195045299}, {\"geoid\": \"17113\", \"dealer_rate\": 0.012644679209604954, \"all_density_land\": 0.020231486735367926}, {\"geoid\": \"17145\", \"dealer_rate\": 0.008949491837937704, \"all_density_land\": 0.03356059439226639}, {\"geoid\": \"06027\", \"dealer_rate\": null, \"all_density_land\": 0.0004889057872158619}, {\"geoid\": \"06075\", \"dealer_rate\": null, \"all_density_land\": 0.004312387764014952}, {\"geoid\": \"06087\", \"dealer_rate\": 0.003293984069780089, \"all_density_land\": 0.023057888488460625}, {\"geoid\": \"06031\", \"dealer_rate\": 0.0021558967898721824, \"all_density_land\": 0.007186322632907274}, {\"geoid\": \"06023\", \"dealer_rate\": 0.0019742074713994646, \"all_density_land\": 0.006416174282048259}, {\"geoid\": \"06095\", \"dealer_rate\": 0.006621111574287343, \"all_density_land\": 0.03641611365858039}, {\"geoid\": \"06047\", \"dealer_rate\": 0.004548879681101585, \"all_density_land\": 0.0131412079676268}, {\"geoid\": \"37061\", \"dealer_rate\": 0.013387298533462712, \"all_density_land\": 0.029208651345736823}, {\"geoid\": \"37147\", \"dealer_rate\": 0.03817815329795832, \"all_density_land\": 0.06261217140865163}, {\"geoid\": \"27103\", \"dealer_rate\": 0.0064275310275420305, \"all_density_land\": 0.02785263445268213}, {\"geoid\": \"27119\", \"dealer_rate\": 0.00200221658099886, \"all_density_land\": 0.009009974614494869}, {\"geoid\": \"37191\", \"dealer_rate\": 0.032324542367191275, \"all_density_land\": 0.06464908473438255}, {\"geoid\": \"27055\", \"dealer_rate\": 0.003515946306172881, \"all_density_land\": 0.015821758377777963}, {\"geoid\": \"27105\", \"dealer_rate\": 0.004151918606443668, \"all_density_land\": 0.013839728688145559}, {\"geoid\": \"27141\", \"dealer_rate\": 0.017736657089241405, \"all_density_land\": 0.07759787476543113}, {\"geoid\": \"37185\", \"dealer_rate\": 0.011267304992993893, \"all_density_land\": 0.024788070984586564}, {\"geoid\": \"27069\", \"dealer_rate\": 0.0009061232615587724, \"all_density_land\": 0.004530616307793862}, {\"geoid\": \"27015\", \"dealer_rate\": 0.006467631334999436, \"all_density_land\": 0.009701447002499154}, {\"geoid\": \"37115\", \"dealer_rate\": 0.017723115920439854, \"all_density_land\": 0.03766162133093469}, {\"geoid\": \"27011\", \"dealer_rate\": 0.007574073171907829, \"all_density_land\": 0.011361109757861745}, {\"geoid\": \"27131\", \"dealer_rate\": 0.007752913620768197, \"all_density_land\": 0.03488811129345689}, {\"geoid\": \"27013\", \"dealer_rate\": 0.009143242680530702, \"all_density_land\": 0.03265443814475251}, {\"geoid\": \"37113\", \"dealer_rate\": 0.019242556613319618, \"all_density_land\": 0.05003064719463101}, {\"geoid\": \"37175\", \"dealer_rate\": 0.03153637121478282, \"all_density_land\": 0.057816680560435166}, {\"geoid\": \"37181\", \"dealer_rate\": 0.007412352343430496, \"all_density_land\": 0.025943233202006737}, {\"geoid\": \"37059\", \"dealer_rate\": 0.05616115576933612, \"all_density_land\": 0.10857823448738314}, {\"geoid\": \"27067\", \"dealer_rate\": 0.002319238956952861, \"all_density_land\": 0.01739429217714646}, {\"geoid\": \"37195\", \"dealer_rate\": 0.029432814473640583, \"all_density_land\": 0.06154133935397575}, {\"geoid\": \"27161\", \"dealer_rate\": 0.002309611164103119, \"all_density_land\": 0.009238444656412475}, {\"geoid\": \"37001\", \"dealer_rate\": 0.04370452036317217, \"all_density_land\": 0.1311135610895165}, {\"geoid\": \"37139\", \"dealer_rate\": 0.013819842540284597, \"all_density_land\": 0.03454960635071149}, {\"geoid\": \"37135\", \"dealer_rate\": 0.007473331043115723, \"all_density_land\": 0.037366655215578616}, {\"geoid\": \"37131\", \"dealer_rate\": 0.0036323713957885956, \"all_density_land\": 0.014529485583154382}, {\"geoid\": \"27063\", \"dealer_rate\": 0.0013903662962955704, \"all_density_land\": 0.005561465185182282}, {\"geoid\": \"27137\", \"dealer_rate\": 0.004519272116797179, \"all_density_land\": 0.011516854749257328}, {\"geoid\": \"27129\", \"dealer_rate\": 0.0010130725110048132, \"all_density_land\": 0.01013072511004813}, {\"geoid\": \"27163\", \"dealer_rate\": 0.04257886356950557, \"all_density_land\": 0.11590912860587627}, {\"geoid\": \"27147\", \"dealer_rate\": 0.006939002296499253, \"all_density_land\": 0.018504006123998006}, {\"geoid\": \"27093\", \"dealer_rate\": 0.009305571292698999, \"all_density_land\": 0.020162071134181166}, {\"geoid\": \"27135\", \"dealer_rate\": 0.0023835781429397376, \"all_density_land\": 0.006554839893084279}, {\"geoid\": \"37167\", \"dealer_rate\": 0.04199195122394621, \"all_density_land\": 0.0889241320036508}, {\"geoid\": \"27149\", \"dealer_rate\": 0.003476333375509225, \"all_density_land\": 0.017381666877546127}, {\"geoid\": \"37007\", \"dealer_rate\": 0.009309364382043212, \"all_density_land\": 0.013033110134860495}, {\"geoid\": \"37053\", \"dealer_rate\": 0.017091002802920145, \"all_density_land\": 0.03798000622871143}, {\"geoid\": \"27073\", \"dealer_rate\": 0.001285329793738153, \"all_density_land\": 0.002570659587476306}, {\"geoid\": \"27155\", \"dealer_rate\": 0.0017069134151194093, \"all_density_land\": 0.0017069134151194091}, {\"geoid\": \"27027\", \"dealer_rate\": 0.009499851845249676, \"all_density_land\": 0.01994968887502432}, {\"geoid\": \"37035\", \"dealer_rate\": 0.05079637050809553, \"all_density_land\": 0.12336261409108915}, {\"geoid\": \"37043\", \"dealer_rate\": 0.027194089169908432, \"all_density_land\": 0.04079113375486266}, {\"geoid\": \"27065\", \"dealer_rate\": 0.005621316107183077, \"all_density_land\": 0.01499017628582154}, {\"geoid\": \"37189\", \"dealer_rate\": 0.03509304860919048, \"all_density_land\": 0.057424988633220785}, {\"geoid\": \"27173\", \"dealer_rate\": 0.002620452573357339, \"all_density_land\": 0.007861357720072017}, {\"geoid\": \"27089\", \"dealer_rate\": 0.001654801423166155, \"all_density_land\": 0.007170806167053337}, {\"geoid\": \"27157\", \"dealer_rate\": 0.01455559578974356, \"all_density_land\": 0.030930641053205067}, {\"geoid\": \"27107\", \"dealer_rate\": 0.003421806674395466, \"all_density_land\": 0.006843613348790932}, {\"geoid\": \"37161\", \"dealer_rate\": 0.021207045234357586, \"all_density_land\": 0.04241409046871517}, {\"geoid\": \"37019\", \"dealer_rate\": 0.016193221395241503, \"all_density_land\": 0.04000678227059665}, {\"geoid\": \"37125\", \"dealer_rate\": 0.018417435313223405, \"all_density_land\": 0.06658611228626923}, {\"geoid\": \"37047\", \"dealer_rate\": 0.014680591557188183, \"all_density_land\": 0.02621534206640747}, {\"geoid\": \"27053\", \"dealer_rate\": 0.04781163289538216, \"all_density_land\": 0.19124653158152863}, {\"geoid\": \"37005\", \"dealer_rate\": 0.008454950228183258, \"all_density_land\": 0.02113737557045815}, {\"geoid\": \"37041\", \"dealer_rate\": null, \"all_density_land\": 0.008572732817761199}, {\"geoid\": \"27099\", \"dealer_rate\": 0.004216047793259546, \"all_density_land\": 0.014053492644198489}, {\"geoid\": \"27145\", \"dealer_rate\": 0.009352845063128183, \"all_density_land\": 0.025900186328662665}, {\"geoid\": \"27115\", \"dealer_rate\": 0.0062737079775632395, \"all_density_land\": 0.01742696660434233}, {\"geoid\": \"37065\", \"dealer_rate\": 0.00592124946867955, \"all_density_land\": 0.0236849978747182}, {\"geoid\": \"27153\", \"dealer_rate\": 0.007146503525120677, \"all_density_land\": 0.012251148900206876}, {\"geoid\": \"27031\", \"dealer_rate\": 0.0005988700952967479, \"all_density_land\": 0.001497175238241869}, {\"geoid\": \"37159\", \"dealer_rate\": 0.04200679108281024, \"all_density_land\": 0.10883577689637197}, {\"geoid\": \"37025\", \"dealer_rate\": 0.07682505949583995, \"all_density_land\": 0.18657514448989704}, {\"geoid\": \"27071\", \"dealer_rate\": 0.0012682306685142415, \"all_density_land\": 0.002853519004157043}, {\"geoid\": \"37145\", \"dealer_rate\": 0.009899062109516405, \"all_density_land\": 0.03464671738330741}, {\"geoid\": \"27051\", \"dealer_rate\": 0.0017376719033792441, \"all_density_land\": 0.010426031420275463}, {\"geoid\": \"37117\", \"dealer_rate\": 0.00650042135362989, \"all_density_land\": 0.01950126406088967}, {\"geoid\": \"37091\", \"dealer_rate\": null, \"all_density_land\": 0.01942533426920666}, {\"geoid\": \"37055\", \"dealer_rate\": null, \"all_density_land\": 0.010239599603314562}, {\"geoid\": \"37093\", \"dealer_rate\": 0.015294571996089008, \"all_density_land\": 0.06372738331703753}, {\"geoid\": \"37015\", \"dealer_rate\": 0.0026981489193216262, \"all_density_land\": 0.006745372298304065}, {\"geoid\": \"27029\", \"dealer_rate\": 0.0029133678100022554, \"all_density_land\": 0.006797858223338598}, {\"geoid\": \"27125\", \"dealer_rate\": 0.004624329289396811, \"all_density_land\": 0.006936493934095216}, {\"geoid\": \"37129\", \"dealer_rate\": 0.07007856715000266, \"all_density_land\": 0.19500123033044217}, {\"geoid\": \"37177\", \"dealer_rate\": null, \"all_density_land\": 0.003365767703158424}, {\"geoid\": \"27095\", \"dealer_rate\": 0.00733588142155882, \"all_density_land\": 0.02640917311761175}, {\"geoid\": \"37049\", \"dealer_rate\": 0.02712613191669158, \"all_density_land\": 0.05425226383338316}, {\"geoid\": \"37169\", \"dealer_rate\": 0.008779066843632765, \"all_density_land\": 0.02194766710908191}, {\"geoid\": \"37039\", \"dealer_rate\": 0.01499803428171634, \"all_density_land\": 0.05142183182302745}, {\"geoid\": \"37173\", \"dealer_rate\": 0.005549185252759121, \"all_density_land\": 0.012948098923104617}, {\"geoid\": \"27007\", \"dealer_rate\": 0.0016364343212220914, \"all_density_land\": 0.006545737284888366}, {\"geoid\": \"27143\", \"dealer_rate\": 0.0033304417256468798, \"all_density_land\": 0.00999132517694064}, {\"geoid\": \"37095\", \"dealer_rate\": 0.0007022337529054278, \"all_density_land\": 0.001404467505810855}, {\"geoid\": \"37141\", \"dealer_rate\": 0.010720576080839452, \"all_density_land\": 0.025729382594014683}, {\"geoid\": \"37073\", \"dealer_rate\": null, \"all_density_land\": 0.002892788180108512}, {\"geoid\": \"37187\", \"dealer_rate\": null, \"all_density_land\": 0.007078032183426557}, {\"geoid\": \"37151\", \"dealer_rate\": 0.015202382730939656, \"all_density_land\": 0.05954266569618032}, {\"geoid\": \"37011\", \"dealer_rate\": 0.008089678331239422, \"all_density_land\": 0.036403552490577404}, {\"geoid\": \"37137\", \"dealer_rate\": 0.014115570099117377, \"all_density_land\": 0.017644462623896722}, {\"geoid\": \"27023\", \"dealer_rate\": 0.003402655675181624, \"all_density_land\": 0.010207967025544874}, {\"geoid\": \"37009\", \"dealer_rate\": 0.013977255893470807, \"all_density_land\": 0.03494313973367702}, {\"geoid\": \"37197\", \"dealer_rate\": 0.03555495296411203, \"all_density_land\": 0.06222116768719605}, {\"geoid\": \"27127\", \"dealer_rate\": 0.0011341081671232284, \"all_density_land\": 0.006804649002739371}, {\"geoid\": \"27111\", \"dealer_rate\": 0.005843908804439377, \"all_density_land\": 0.020678446538785488}, {\"geoid\": \"27121\", \"dealer_rate\": 0.0027889959676705477, \"all_density_land\": 0.01115598387068219}, {\"geoid\": \"27081\", \"dealer_rate\": 0.001823379134545329, \"all_density_land\": 0.003646758269090658}, {\"geoid\": \"27017\", \"dealer_rate\": 0.005712445759944431, \"all_density_land\": 0.022849783039777725}, {\"geoid\": \"27001\", \"dealer_rate\": 0.0020047093644425798, \"all_density_land\": 0.008520014798880966}, {\"geoid\": \"27059\", \"dealer_rate\": 0.015498507808640141, \"all_density_land\": 0.04206737833773753}, {\"geoid\": \"27171\", \"dealer_rate\": 0.015400375391774067, \"all_density_land\": 0.060201467440571366}, {\"geoid\": \"37105\", \"dealer_rate\": 0.03474326403913739, \"all_density_land\": 0.09650906677538164}, {\"geoid\": \"37183\", \"dealer_rate\": 0.05832116402937949, \"all_density_land\": 0.15396787303756185}, {\"geoid\": \"37085\", \"dealer_rate\": 0.01829358087067806, \"all_density_land\": 0.06485905945058586}, {\"geoid\": \"37029\", \"dealer_rate\": 0.019341639678352982, \"all_density_land\": 0.035459672743647135}, {\"geoid\": \"37075\", \"dealer_rate\": 0.0066302636939582155, \"all_density_land\": 0.01657565923489554}, {\"geoid\": \"27109\", \"dealer_rate\": 0.015271864412193916, \"all_density_land\": 0.045815593236581756}, {\"geoid\": \"27079\", \"dealer_rate\": 0.012663378139217158, \"all_density_land\": 0.04221126046405719}, {\"geoid\": \"27043\", \"dealer_rate\": 0.0027704489598821586, \"all_density_land\": 0.006926122399705397}, {\"geoid\": \"37017\", \"dealer_rate\": 0.003381608287278949, \"all_density_land\": 0.02028964972367369}, {\"geoid\": \"37087\", \"dealer_rate\": 0.028848346056128477, \"all_density_land\": 0.08834805979689346}, {\"geoid\": \"27165\", \"dealer_rate\": null, \"all_density_land\": 0.009096497200575692}, {\"geoid\": \"27049\", \"dealer_rate\": 0.0025627894398523123, \"all_density_land\": 0.029472078558301598}, {\"geoid\": \"37021\", \"dealer_rate\": 0.04393000041889474, \"all_density_land\": 0.09997862164300182}, {\"geoid\": \"27097\", \"dealer_rate\": 0.0052020676678949974, \"all_density_land\": 0.011271146613772494}, {\"geoid\": \"37165\", \"dealer_rate\": 0.015609195727495395, \"all_density_land\": 0.043705748036987103}, {\"geoid\": \"37045\", \"dealer_rate\": 0.027762883372754163, \"all_density_land\": 0.0811530437049737}, {\"geoid\": \"37103\", \"dealer_rate\": 0.010566010745543414, \"all_density_land\": 0.012679212894652096}, {\"geoid\": \"37109\", \"dealer_rate\": 0.061880975104701565, \"all_density_land\": 0.14330331076878255}, {\"geoid\": \"27087\", \"dealer_rate\": 0.0051465759157149835, \"all_density_land\": 0.013724202441906624}, {\"geoid\": \"27003\", \"dealer_rate\": 0.06052310960596538, \"all_density_land\": 0.1950189087303329}, {\"geoid\": \"27075\", \"dealer_rate\": 0.0003343788190280595, \"all_density_land\": 0.000668757638056119}, {\"geoid\": \"27117\", \"dealer_rate\": 0.004292197714739828, \"all_density_land\": 0.008584395429479657}, {\"geoid\": \"27159\", \"dealer_rate\": 0.009204147777488991, \"all_density_land\": 0.01656746599948019}, {\"geoid\": \"37071\", \"dealer_rate\": 0.05492968032580662, \"all_density_land\": 0.16204255696112957}, {\"geoid\": \"37199\", \"dealer_rate\": 0.015965426661041053, \"all_density_land\": 0.02554468265766568}, {\"geoid\": \"37099\", \"dealer_rate\": 0.01819856051333981, \"all_density_land\": 0.04044124558519956}, {\"geoid\": \"37149\", \"dealer_rate\": 0.012576757964386034, \"all_density_land\": 0.03353802123836276}, {\"geoid\": \"27101\", \"dealer_rate\": 0.002779699572624641, \"all_density_land\": 0.008339098717873923}, {\"geoid\": \"37133\", \"dealer_rate\": 0.03753119836981866, \"all_density_land\": 0.08941256082221505}, {\"geoid\": \"37033\", \"dealer_rate\": 0.023350743749140975, \"all_density_land\": 0.025685818124055078}, {\"geoid\": \"27083\", \"dealer_rate\": 0.008314079887646214, \"all_density_land\": 0.020785199719115532}, {\"geoid\": \"27047\", \"dealer_rate\": 0.005536938183532882, \"all_density_land\": 0.016610814550598648}, {\"geoid\": \"37003\", \"dealer_rate\": 0.037929014752666815, \"all_density_land\": 0.0606864236042669}, {\"geoid\": \"37157\", \"dealer_rate\": 0.03841417040535298, \"all_density_land\": 0.08905103139422738}, {\"geoid\": \"27037\", \"dealer_rate\": 0.051118923626391, \"all_density_land\": 0.1465409143956542}, {\"geoid\": \"27019\", \"dealer_rate\": 0.013293892427450198, \"all_density_land\": 0.04254045576784063}, {\"geoid\": \"37193\", \"dealer_rate\": 0.018496000776943394, \"all_density_land\": 0.046240001942358486}, {\"geoid\": \"37077\", \"dealer_rate\": 0.016775444283875937, \"all_density_land\": 0.04473451809033583}, {\"geoid\": \"37111\", \"dealer_rate\": 0.024663970188105785, \"all_density_land\": 0.07399191056431735}, {\"geoid\": \"27021\", \"dealer_rate\": 0.003728261743527804, \"all_density_land\": 0.01077053392574699}, {\"geoid\": \"27057\", \"dealer_rate\": 0.004001763418801488, \"all_density_land\": 0.01600705367520595}, {\"geoid\": \"27169\", \"dealer_rate\": 0.009351880583219408, \"all_density_land\": 0.03429022880513783}]}}, {\"mode\": \"vega-lite\"});\n",
       "</script>"
      ],
      "text/plain": [
       "alt.LayerChart(...)"
      ]
     },
     "execution_count": 879,
     "metadata": {},
     "output_type": "execute_result"
    }
   ],
   "source": [
    "final_plot"
   ]
  },
  {
   "cell_type": "code",
   "execution_count": null,
   "id": "e1a74696-dbc0-417f-a1a2-4df8aef6b95b",
   "metadata": {},
   "outputs": [],
   "source": []
  }
 ],
 "metadata": {
  "kernelspec": {
   "display_name": "gun-dealers-2023-analysis",
   "language": "python",
   "name": "python3"
  },
  "language_info": {
   "codemirror_mode": {
    "name": "ipython",
    "version": 3
   },
   "file_extension": ".py",
   "mimetype": "text/x-python",
   "name": "python",
   "nbconvert_exporter": "python",
   "pygments_lexer": "ipython3",
   "version": "3.11.2"
  }
 },
 "nbformat": 4,
 "nbformat_minor": 5
}
