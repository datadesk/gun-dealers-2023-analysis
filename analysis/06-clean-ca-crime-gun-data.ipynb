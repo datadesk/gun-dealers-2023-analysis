{
 "cells": [
  {
   "cell_type": "markdown",
   "id": "574d148a-fca4-4581-b9dc-8e14541ab90f",
   "metadata": {},
   "source": [
    "# Clean 2023 CA crime gun report data\n",
    "The table at the end of [this report](https://oag.ca.gov/system/files/attachments/press-docs/AB%201191%20Crime%20Gun%20Report.pdf) contains data about the number of guns sold and the number that were later recovered by California law enforcement (crime guns) for all California-based dealers with at least one crime gun. We extracted the table using tabula."
   ]
  },
  {
   "cell_type": "code",
   "execution_count": 1,
   "id": "8a2b1444-5795-4b17-b107-f522e21d40d5",
   "metadata": {
    "tags": []
   },
   "outputs": [],
   "source": [
    "import pandas as pd\n",
    "import altair as alt\n",
    "import os"
   ]
  },
  {
   "cell_type": "markdown",
   "id": "75f767fd-693b-45c9-9b8d-278bb77cb76c",
   "metadata": {
    "tags": []
   },
   "source": [
    "## Clean up tabula extraction and save raw data"
   ]
  },
  {
   "cell_type": "code",
   "execution_count": 14,
   "id": "916373e4-21bc-4110-b1bb-e30ccdfbbbf8",
   "metadata": {
    "tags": []
   },
   "outputs": [],
   "source": [
    "ca_crime_guns = pd.read_csv(\"../../data/source/tabula-AB 1191 Crime Gun Report -Dealer Information.csv\",\n",
    "                            dtype=str)"
   ]
  },
  {
   "cell_type": "code",
   "execution_count": 15,
   "id": "ec4f75c7-3db5-440c-bc0b-e2c08aaa2464",
   "metadata": {
    "tags": []
   },
   "outputs": [],
   "source": [
    "ca_crime_guns = ca_crime_guns.replace(\"\\r\",\" \",regex=True)"
   ]
  },
  {
   "cell_type": "code",
   "execution_count": 16,
   "id": "bc49f672-abf3-47b7-bd34-3383c0e1c3fd",
   "metadata": {
    "tags": []
   },
   "outputs": [],
   "source": [
    "ca_crime_guns.columns = ca_crime_guns.columns.str.replace(\"\\r\",\" \",regex=True)"
   ]
  },
  {
   "cell_type": "code",
   "execution_count": 17,
   "id": "03ab51e0-743a-4c3d-8a4c-c1fffda7ea65",
   "metadata": {
    "tags": []
   },
   "outputs": [],
   "source": [
    "ca_crime_guns[\"Dealer Name\"] = ca_crime_guns[\"Dealer Name\"].str.replace(\"’\",\"\",regex=True)\n",
    "ca_crime_guns[\"Crime Guns\"] = ca_crime_guns[\"Crime Guns\"].str.replace(\",\",\"\")\n",
    "ca_crime_guns[\"Total Firearms Sold\"] = ca_crime_guns[\"Total Firearms Sold\"].str.replace(\",\",\"\")\n",
    "ca_crime_guns[\"Total Firearms Sold\"] = ca_crime_guns[\"Total Firearms Sold\"].str.replace(\"%\",\"\")\n",
    "ca_crime_guns[\"Percentage Crime Guns\"] = ca_crime_guns[\"Percentage Crime Guns\"].str.replace(\"%\",\"\")"
   ]
  },
  {
   "cell_type": "code",
   "execution_count": 18,
   "id": "ded60429-2129-4061-8940-f263e2f02e8e",
   "metadata": {
    "tags": []
   },
   "outputs": [],
   "source": [
    "ca_crime_guns[\"Crime Guns\"] = pd.to_numeric(ca_crime_guns[\"Crime Guns\"])\n",
    "ca_crime_guns[\"Total Firearms Sold\"] = pd.to_numeric(ca_crime_guns[\"Total Firearms Sold\"])\n",
    "ca_crime_guns[\"Percentage Crime Guns\"] = pd.to_numeric(ca_crime_guns[\"Percentage Crime Guns\"])"
   ]
  },
  {
   "cell_type": "code",
   "execution_count": 19,
   "id": "2dc3f1de-47c9-44be-ac43-8e447376aff5",
   "metadata": {
    "tags": []
   },
   "outputs": [
    {
     "data": {
      "text/plain": [
       "1929"
      ]
     },
     "execution_count": 19,
     "metadata": {},
     "output_type": "execute_result"
    }
   ],
   "source": [
    "len(ca_crime_guns)"
   ]
  },
  {
   "cell_type": "code",
   "execution_count": 24,
   "id": "1cda4808-1555-41dd-b6c6-45281fe44e1a",
   "metadata": {
    "tags": []
   },
   "outputs": [],
   "source": [
    "ca_crime_guns.columns = [\"dealer_name\",\"dealer_status\",\"street\",\"zip_code\",\"city\",\"crime_guns\",\"total_firearms_sold\",\"percentage_crime_guns\"]"
   ]
  },
  {
   "cell_type": "code",
   "execution_count": 27,
   "id": "2801b24a-5d34-407d-998d-ea5ece9b7661",
   "metadata": {
    "tags": []
   },
   "outputs": [
    {
     "data": {
      "text/html": [
       "<div>\n",
       "<style scoped>\n",
       "    .dataframe tbody tr th:only-of-type {\n",
       "        vertical-align: middle;\n",
       "    }\n",
       "\n",
       "    .dataframe tbody tr th {\n",
       "        vertical-align: top;\n",
       "    }\n",
       "\n",
       "    .dataframe thead th {\n",
       "        text-align: right;\n",
       "    }\n",
       "</style>\n",
       "<table border=\"1\" class=\"dataframe\">\n",
       "  <thead>\n",
       "    <tr style=\"text-align: right;\">\n",
       "      <th></th>\n",
       "      <th>dealer_name</th>\n",
       "      <th>dealer_status</th>\n",
       "      <th>street</th>\n",
       "      <th>zip_code</th>\n",
       "      <th>city</th>\n",
       "      <th>crime_guns</th>\n",
       "      <th>total_firearms_sold</th>\n",
       "      <th>percentage_crime_guns</th>\n",
       "    </tr>\n",
       "  </thead>\n",
       "  <tbody>\n",
       "    <tr>\n",
       "      <th>0</th>\n",
       "      <td>TURNERS OUTDOORSMAN</td>\n",
       "      <td>active</td>\n",
       "      <td>17204 HAWTHORNE BLVD</td>\n",
       "      <td>90504</td>\n",
       "      <td>TORRANCE</td>\n",
       "      <td>1652</td>\n",
       "      <td>82433</td>\n",
       "      <td>2.00</td>\n",
       "    </tr>\n",
       "    <tr>\n",
       "      <th>1</th>\n",
       "      <td>TURNERS OUTDOORSMAN</td>\n",
       "      <td>active</td>\n",
       "      <td>491 W ORANGE SHOW RD</td>\n",
       "      <td>92408</td>\n",
       "      <td>SAN BERNARDINO</td>\n",
       "      <td>1650</td>\n",
       "      <td>86271</td>\n",
       "      <td>1.91</td>\n",
       "    </tr>\n",
       "    <tr>\n",
       "      <th>2</th>\n",
       "      <td>TURNERS OUTDOORSMAN</td>\n",
       "      <td>active</td>\n",
       "      <td>11336 FIRESTONE BLVD</td>\n",
       "      <td>90650</td>\n",
       "      <td>NORWALK</td>\n",
       "      <td>1458</td>\n",
       "      <td>102175</td>\n",
       "      <td>1.43</td>\n",
       "    </tr>\n",
       "    <tr>\n",
       "      <th>3</th>\n",
       "      <td>RIVER CITY GUN EXCHANGE, INC</td>\n",
       "      <td>active</td>\n",
       "      <td>2370 FRUITRIDGE RD</td>\n",
       "      <td>95822</td>\n",
       "      <td>SACRAMENTO</td>\n",
       "      <td>1330</td>\n",
       "      <td>75170</td>\n",
       "      <td>1.77</td>\n",
       "    </tr>\n",
       "    <tr>\n",
       "      <th>4</th>\n",
       "      <td>TURNERS OUTDOORSMAN</td>\n",
       "      <td>active</td>\n",
       "      <td>2201 E WILLOW ST BLDG M</td>\n",
       "      <td>90755</td>\n",
       "      <td>SIGNAL HILL</td>\n",
       "      <td>1207</td>\n",
       "      <td>78755</td>\n",
       "      <td>1.53</td>\n",
       "    </tr>\n",
       "  </tbody>\n",
       "</table>\n",
       "</div>"
      ],
      "text/plain": [
       "                    dealer_name dealer_status                   street   \n",
       "0           TURNERS OUTDOORSMAN        active     17204 HAWTHORNE BLVD  \\\n",
       "1           TURNERS OUTDOORSMAN        active     491 W ORANGE SHOW RD   \n",
       "2           TURNERS OUTDOORSMAN        active     11336 FIRESTONE BLVD   \n",
       "3  RIVER CITY GUN EXCHANGE, INC        active       2370 FRUITRIDGE RD   \n",
       "4           TURNERS OUTDOORSMAN        active  2201 E WILLOW ST BLDG M   \n",
       "\n",
       "  zip_code            city  crime_guns  total_firearms_sold   \n",
       "0    90504        TORRANCE        1652                82433  \\\n",
       "1    92408  SAN BERNARDINO        1650                86271   \n",
       "2    90650         NORWALK        1458               102175   \n",
       "3    95822      SACRAMENTO        1330                75170   \n",
       "4    90755     SIGNAL HILL        1207                78755   \n",
       "\n",
       "   percentage_crime_guns  \n",
       "0                   2.00  \n",
       "1                   1.91  \n",
       "2                   1.43  \n",
       "3                   1.77  \n",
       "4                   1.53  "
      ]
     },
     "execution_count": 27,
     "metadata": {},
     "output_type": "execute_result"
    }
   ],
   "source": [
    "ca_crime_guns.head()"
   ]
  },
  {
   "cell_type": "code",
   "execution_count": 26,
   "id": "d4d66f0b-8689-4b36-8e63-48172ca19657",
   "metadata": {
    "tags": []
   },
   "outputs": [],
   "source": [
    "ca_crime_guns.to_csv(\"../../data/processed/ca_ab_1191_crime_gun_report.csv\", index=False)"
   ]
  }
 ],
 "metadata": {
  "kernelspec": {
   "display_name": "gun-dealers-2023-analysis",
   "language": "python",
   "name": "python3"
  },
  "language_info": {
   "codemirror_mode": {
    "name": "ipython",
    "version": 3
   },
   "file_extension": ".py",
   "mimetype": "text/x-python",
   "name": "python",
   "nbconvert_exporter": "python",
   "pygments_lexer": "ipython3",
   "version": "3.11.2"
  }
 },
 "nbformat": 4,
 "nbformat_minor": 5
}
