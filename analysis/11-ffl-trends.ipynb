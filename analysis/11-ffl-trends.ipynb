{
 "cells": [
  {
   "cell_type": "markdown",
   "id": "f959715a-86aa-4c56-9d0c-00ce4e234f75",
   "metadata": {},
   "source": [
    "# National, state, and county-level dealer trends"
   ]
  },
  {
   "cell_type": "code",
   "execution_count": null,
   "id": "60ba4a80-20df-4d1c-b317-9d32d735c0fa",
   "metadata": {},
   "outputs": [],
   "source": [
    "import pandas as pd\n",
    "import numpy as np\n",
    "import altair as alt"
   ]
  },
  {
   "cell_type": "code",
   "execution_count": null,
   "id": "a8148195-b2da-4f8a-b8e0-bbb00aaf218f",
   "metadata": {},
   "outputs": [],
   "source": [
    "# These are the years of FFL lists that we have\n",
    "years = ['2003', '2004', '2005', '2006', '2007', '2008', '2009', '2010', '2011', '2012',\n",
    "         '2013', '2014', '2015', '2016', '2017', '2018', '2019', '2020', '2021', '2022', \n",
    "         '2023']"
   ]
  },
  {
   "cell_type": "code",
   "execution_count": null,
   "id": "731f9fd2-f31d-4ba2-88f1-e8b649fb9d6d",
   "metadata": {},
   "outputs": [],
   "source": [
    "national = pd.DataFrame()\n",
    "state = pd.DataFrame()\n",
    "county = pd.DataFrame()"
   ]
  },
  {
   "cell_type": "code",
   "execution_count": null,
   "id": "af8cd5dc-7b6c-41df-83c7-a8f97ac89480",
   "metadata": {},
   "outputs": [],
   "source": [
    "for year in years:\n",
    "    df_national = pd.read_csv('../../data/processed/atf-ffl-list/'+year+'-ffl-list-license-types.csv')\n",
    "    df_national['year'] = year\n",
    "    national = pd.concat([national, df_national])\n",
    "    df_state = pd.read_csv('../../data/processed/atf-ffl-list/'+year+'-ffl-list-states.csv', dtype={\"statefp\":'str'})\n",
    "    df_state['year'] = year\n",
    "    state = pd.concat([state, df_state])\n",
    "    df_county = pd.read_csv('../../data/processed/atf-ffl-list/'+year+'-ffl-list-counties.csv', dtype={\"fips\":'str'})\n",
    "    df_county['year'] = year\n",
    "    county = pd.concat([county, df_county])"
   ]
  },
  {
   "cell_type": "code",
   "execution_count": null,
   "id": "ba274896-7beb-4efa-9792-d502192640e1",
   "metadata": {},
   "outputs": [],
   "source": [
    "national.to_csv('../../data/processed/atf-ffl-list/ffls_total_type.csv', index=False)\n",
    "state.to_csv('../../data/processed/atf-ffl-list/ffls_state.csv', index=False)\n",
    "county.to_csv('../../data/processed/atf-ffl-list/ffls_county.csv', index=False)"
   ]
  },
  {
   "cell_type": "markdown",
   "id": "0e8e63d7-5665-4044-b6e5-16ab522dfd2d",
   "metadata": {},
   "source": [
    "### Latest FFLs"
   ]
  },
  {
   "cell_type": "code",
   "execution_count": null,
   "id": "61e645a9-29a6-4d38-b917-e35c38bb6649",
   "metadata": {},
   "outputs": [],
   "source": [
    "latest = pd.read_csv('../../data/processed/atf-ffl-list/1023-ffl-list-license-types.csv')"
   ]
  },
  {
   "cell_type": "code",
   "execution_count": null,
   "id": "a91d6067-c956-4474-95b0-d7a03c7b0584",
   "metadata": {},
   "outputs": [],
   "source": [
    "latest"
   ]
  },
  {
   "cell_type": "code",
   "execution_count": null,
   "id": "7e737946-febf-4a12-84fa-5581bd497cea",
   "metadata": {},
   "outputs": [],
   "source": [
    "latest[\"count\"].sum()"
   ]
  },
  {
   "cell_type": "markdown",
   "id": "d5a31ee1-5d69-4494-a1dc-db7027d28795",
   "metadata": {},
   "source": [
    "### National FFLs"
   ]
  },
  {
   "cell_type": "code",
   "execution_count": null,
   "id": "4c7fbb42-ce09-49bc-a6b2-6e69cbfa3253",
   "metadata": {},
   "outputs": [],
   "source": [
    "national_totals = national.groupby(['year'])['count'].sum().reset_index()"
   ]
  },
  {
   "cell_type": "code",
   "execution_count": null,
   "id": "0a8ec440-1049-4f1b-acbc-d3e84f5dc949",
   "metadata": {},
   "outputs": [],
   "source": [
    "national_totals.to_csv('../../data/processed/atf-ffl-list/ffls_total.csv', index=False)"
   ]
  },
  {
   "cell_type": "code",
   "execution_count": null,
   "id": "ba6aa2af-32f2-431d-ad39-9ac8cc8962ff",
   "metadata": {},
   "outputs": [],
   "source": [
    "national.groupby(['year','lic_type'])['count'].sum().reset_index().pivot(index='lic_type', columns='year', values='count').reset_index()"
   ]
  },
  {
   "cell_type": "code",
   "execution_count": null,
   "id": "f2092225-3c09-459c-a815-623e9ece1274",
   "metadata": {},
   "outputs": [],
   "source": [
    "national.groupby(['year'])['count'].sum().reset_index()"
   ]
  },
  {
   "cell_type": "code",
   "execution_count": null,
   "id": "c3a51ee0-d2e5-404f-8b6a-f48d89a88a63",
   "metadata": {},
   "outputs": [],
   "source": [
    "alt.Chart(national).mark_area().encode(\n",
    "    x=\"year:T\",\n",
    "    y=\"count:Q\",\n",
    "    color=\"lic_type:N\"\n",
    ")"
   ]
  },
  {
   "cell_type": "code",
   "execution_count": null,
   "id": "9162459c-59ff-4b6e-9443-03577c95bc44",
   "metadata": {},
   "outputs": [],
   "source": [
    "alt.Chart(national).mark_area().encode(\n",
    "    x=\"year:T\",\n",
    "    y=\"count:Q\",\n",
    "    color=\"lic_type:N\"\n",
    ").properties(\n",
    "    width=200,\n",
    "    height=140\n",
    ").facet('lic_type', columns=4)"
   ]
  },
  {
   "cell_type": "markdown",
   "id": "79ab567a-f9bf-43e7-8dc4-d3c9eede83c8",
   "metadata": {},
   "source": [
    "### State FFLs"
   ]
  },
  {
   "cell_type": "code",
   "execution_count": null,
   "id": "89fdb73a-d6aa-4afe-a8f9-eeb96d260383",
   "metadata": {},
   "outputs": [],
   "source": [
    "state_group = state.groupby(['year','state'])['count'].sum().reset_index()"
   ]
  },
  {
   "cell_type": "code",
   "execution_count": null,
   "id": "603187c2-8b88-4d43-b573-0fd21d9d70c4",
   "metadata": {},
   "outputs": [],
   "source": [
    "state_group[state_group[\"state\"] == \"CA\"]"
   ]
  },
  {
   "cell_type": "code",
   "execution_count": null,
   "id": "7be5e726-8222-42f2-8c10-8e40c6084e2e",
   "metadata": {},
   "outputs": [],
   "source": [
    "state_group_pivot = state_group.pivot(index='state', columns='year', values='count').reset_index()"
   ]
  },
  {
   "cell_type": "code",
   "execution_count": null,
   "id": "004d8290-ef97-4366-bdfa-ba50263f2a3e",
   "metadata": {},
   "outputs": [],
   "source": [
    "state_group_pivot[\"difference\"] = state_group_pivot[\"2023\"] - state_group_pivot[\"2003\"]"
   ]
  },
  {
   "cell_type": "code",
   "execution_count": null,
   "id": "f4b36c34-e3ed-4e37-94c0-f7756d79a2d8",
   "metadata": {},
   "outputs": [],
   "source": [
    "state_group_pivot[\"pct_difference\"] = (state_group_pivot[\"2023\"] - state_group_pivot[\"2003\"]) / state_group_pivot[\"2003\"]"
   ]
  },
  {
   "cell_type": "code",
   "execution_count": null,
   "id": "03f0576c-c2f9-4815-b335-87912427265d",
   "metadata": {},
   "outputs": [],
   "source": [
    "state_group_pivot.to_csv('../../data/processed/ffl-count-changes-by-state.csv', index=False)"
   ]
  },
  {
   "cell_type": "markdown",
   "id": "fd7a2e6d-edf1-4f6c-800c-6f58e3a26058",
   "metadata": {},
   "source": [
    "### States that have increased the most"
   ]
  },
  {
   "cell_type": "code",
   "execution_count": null,
   "id": "4190dbe7-f447-4e7b-b941-eed438ce4e49",
   "metadata": {},
   "outputs": [],
   "source": [
    "state_group_pivot.sort_values(\"pct_difference\", ascending=False)[[\"state\",\"difference\",\"pct_difference\"]].head(10)"
   ]
  },
  {
   "cell_type": "markdown",
   "id": "ffd862d0-83dc-49d7-a24b-4a6779da0b31",
   "metadata": {},
   "source": [
    "### States that have decreased the most"
   ]
  },
  {
   "cell_type": "code",
   "execution_count": null,
   "id": "009fed82-c813-4147-b02b-3305b2f2289b",
   "metadata": {},
   "outputs": [],
   "source": [
    "state_group_pivot.sort_values(\"pct_difference\", ascending=False)[[\"state\",\"difference\",\"pct_difference\"]].tail(10)"
   ]
  },
  {
   "cell_type": "markdown",
   "id": "5d1b87e5-e2df-46fb-b439-4a59ce87ee65",
   "metadata": {},
   "source": [
    "### California FFLs"
   ]
  },
  {
   "cell_type": "code",
   "execution_count": null,
   "id": "4ed2c9f7-164a-42c0-8ac1-d7c4a36f6fcf",
   "metadata": {},
   "outputs": [],
   "source": [
    "ca = state.loc[state[\"state\"] == \"CA\"]"
   ]
  },
  {
   "cell_type": "code",
   "execution_count": null,
   "id": "592fe74c-8741-41ae-be47-173e29372f29",
   "metadata": {},
   "outputs": [],
   "source": [
    "ca"
   ]
  },
  {
   "cell_type": "code",
   "execution_count": null,
   "id": "ad8af181-a090-4bcf-9a72-34ea38c5aed8",
   "metadata": {},
   "outputs": [],
   "source": [
    "alt.Chart(ca).mark_area().encode(\n",
    "    x=\"year\",\n",
    "    y=\"count\",\n",
    ")"
   ]
  },
  {
   "cell_type": "markdown",
   "id": "44db6d96-de53-4492-b636-1156fcb5f28f",
   "metadata": {},
   "source": [
    "### Southern California FFLs"
   ]
  },
  {
   "cell_type": "code",
   "execution_count": null,
   "id": "eba2e36b-6e20-41ab-92ec-70a24bbaf022",
   "metadata": {},
   "outputs": [],
   "source": [
    "ca_counties = county.loc[(county[\"countyname\"].isin([\"Los Angeles County\",\"Orange County\",\"Riverside County\", \"Kern County\", \"Ventura County\"]))& (county[\"state\"] == \"CA\")]"
   ]
  },
  {
   "cell_type": "code",
   "execution_count": null,
   "id": "eb2ed60d-a521-4acb-8117-596511483db1",
   "metadata": {},
   "outputs": [],
   "source": [
    "alt.Chart(ca_counties).mark_area().encode(\n",
    "    x=\"year\",\n",
    "    y=\"count\",\n",
    ").properties(\n",
    "    width=200,\n",
    "    height=140\n",
    ").facet('countyname', columns=4)"
   ]
  },
  {
   "cell_type": "code",
   "execution_count": null,
   "id": "37afb986-8c05-4eef-81bb-b5ccde96e752",
   "metadata": {},
   "outputs": [],
   "source": []
  }
 ],
 "metadata": {
  "kernelspec": {
   "display_name": "gun-dealers-2023-analysis",
   "language": "python",
   "name": "python3"
  },
  "language_info": {
   "codemirror_mode": {
    "name": "ipython",
    "version": 3
   },
   "file_extension": ".py",
   "mimetype": "text/x-python",
   "name": "python",
   "nbconvert_exporter": "python",
   "pygments_lexer": "ipython3",
   "version": "3.11.2"
  }
 },
 "nbformat": 4,
 "nbformat_minor": 5
}
