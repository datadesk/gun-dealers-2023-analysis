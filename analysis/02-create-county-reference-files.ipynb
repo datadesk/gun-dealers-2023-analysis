{
 "cells": [
  {
   "cell_type": "markdown",
   "id": "4bf44706-b1e9-463d-8f03-421443b520ec",
   "metadata": {},
   "source": [
    "# Create county information dataset"
   ]
  },
  {
   "cell_type": "code",
   "execution_count": 1,
   "id": "f5497271-1ff5-4e89-9b45-66dab5235b29",
   "metadata": {},
   "outputs": [],
   "source": [
    "import pandas as pd\n",
    "import geopandas as gpd"
   ]
  },
  {
   "cell_type": "markdown",
   "id": "056f786d-d6ef-4e7e-aec5-aa02546d00e1",
   "metadata": {},
   "source": [
    "## Load and clean county shapefile"
   ]
  },
  {
   "cell_type": "code",
   "execution_count": 44,
   "id": "671aab55-8c13-440c-aa43-c48dc6b6fc7a",
   "metadata": {},
   "outputs": [],
   "source": [
    "counties_gdf = gpd.read_file(\"../../data/source/census/cb_2018_us_county_500k/cb_2018_us_county_500k.shp\")"
   ]
  },
  {
   "cell_type": "code",
   "execution_count": 45,
   "id": "e522d041-ad83-48a0-8b00-00937752e80a",
   "metadata": {},
   "outputs": [],
   "source": [
    "# Set to NAD 1983 Albers North America - https://epsg.io/102008\n",
    "counties_gdf = counties_gdf.to_crs(\"ESRI:102008\")"
   ]
  },
  {
   "cell_type": "code",
   "execution_count": 46,
   "id": "1d97ee5b-5533-40ab-a5a8-9c3b394aac9b",
   "metadata": {},
   "outputs": [],
   "source": [
    "# Convert square meter to square miles - https://www.metric-conversions.org/area/square-meters-to-square-miles.htm\n",
    "counties_gdf[\"area\"] = counties_gdf.area * 0.00000038610215855"
   ]
  },
  {
   "cell_type": "code",
   "execution_count": 47,
   "id": "5d296ed0-43c4-4058-b1ad-0362ff749fac",
   "metadata": {},
   "outputs": [],
   "source": [
    "counties_gdf.rename(columns={\"GEOID\":\"fips\"}, inplace=True)"
   ]
  },
  {
   "cell_type": "code",
   "execution_count": 48,
   "id": "b6f4b4ee-cc6c-416a-8987-b14e9c1ac9b9",
   "metadata": {},
   "outputs": [
    {
     "data": {
      "text/html": [
       "<div>\n",
       "<style scoped>\n",
       "    .dataframe tbody tr th:only-of-type {\n",
       "        vertical-align: middle;\n",
       "    }\n",
       "\n",
       "    .dataframe tbody tr th {\n",
       "        vertical-align: top;\n",
       "    }\n",
       "\n",
       "    .dataframe thead th {\n",
       "        text-align: right;\n",
       "    }\n",
       "</style>\n",
       "<table border=\"1\" class=\"dataframe\">\n",
       "  <thead>\n",
       "    <tr style=\"text-align: right;\">\n",
       "      <th></th>\n",
       "      <th>STATEFP</th>\n",
       "      <th>COUNTYFP</th>\n",
       "      <th>COUNTYNS</th>\n",
       "      <th>AFFGEOID</th>\n",
       "      <th>fips</th>\n",
       "      <th>NAME</th>\n",
       "      <th>LSAD</th>\n",
       "      <th>ALAND</th>\n",
       "      <th>AWATER</th>\n",
       "      <th>geometry</th>\n",
       "      <th>area</th>\n",
       "    </tr>\n",
       "  </thead>\n",
       "  <tbody>\n",
       "    <tr>\n",
       "      <th>2821</th>\n",
       "      <td>19</td>\n",
       "      <td>193</td>\n",
       "      <td>00465285</td>\n",
       "      <td>0500000US19193</td>\n",
       "      <td>19193</td>\n",
       "      <td>Woodbury</td>\n",
       "      <td>06</td>\n",
       "      <td>2260790985</td>\n",
       "      <td>12793704</td>\n",
       "      <td>POLYGON ((-38499.979 302529.582, -35572.074 30...</td>\n",
       "      <td>877.744373</td>\n",
       "    </tr>\n",
       "  </tbody>\n",
       "</table>\n",
       "</div>"
      ],
      "text/plain": [
       "     STATEFP COUNTYFP  COUNTYNS        AFFGEOID   fips      NAME LSAD  \\\n",
       "2821      19      193  00465285  0500000US19193  19193  Woodbury   06   \n",
       "\n",
       "           ALAND    AWATER                                           geometry  \\\n",
       "2821  2260790985  12793704  POLYGON ((-38499.979 302529.582, -35572.074 30...   \n",
       "\n",
       "            area  \n",
       "2821  877.744373  "
      ]
     },
     "execution_count": 48,
     "metadata": {},
     "output_type": "execute_result"
    }
   ],
   "source": [
    "counties_gdf.sample()"
   ]
  },
  {
   "cell_type": "code",
   "execution_count": 49,
   "id": "fe255c69-3fe9-4780-9034-f5515684577e",
   "metadata": {},
   "outputs": [],
   "source": [
    "counties_gdf_trim = counties_gdf[[\"fips\",\"area\"]]"
   ]
  },
  {
   "cell_type": "code",
   "execution_count": 50,
   "id": "dd1d81f6-0b9d-4c70-b543-477493e91b5d",
   "metadata": {},
   "outputs": [
    {
     "data": {
      "text/html": [
       "<div>\n",
       "<style scoped>\n",
       "    .dataframe tbody tr th:only-of-type {\n",
       "        vertical-align: middle;\n",
       "    }\n",
       "\n",
       "    .dataframe tbody tr th {\n",
       "        vertical-align: top;\n",
       "    }\n",
       "\n",
       "    .dataframe thead th {\n",
       "        text-align: right;\n",
       "    }\n",
       "</style>\n",
       "<table border=\"1\" class=\"dataframe\">\n",
       "  <thead>\n",
       "    <tr style=\"text-align: right;\">\n",
       "      <th></th>\n",
       "      <th>fips</th>\n",
       "      <th>area</th>\n",
       "    </tr>\n",
       "  </thead>\n",
       "  <tbody>\n",
       "    <tr>\n",
       "      <th>245</th>\n",
       "      <td>45005</td>\n",
       "      <td>412.624001</td>\n",
       "    </tr>\n",
       "  </tbody>\n",
       "</table>\n",
       "</div>"
      ],
      "text/plain": [
       "      fips        area\n",
       "245  45005  412.624001"
      ]
     },
     "execution_count": 50,
     "metadata": {},
     "output_type": "execute_result"
    }
   ],
   "source": [
    "counties_gdf_trim.sample()"
   ]
  },
  {
   "cell_type": "markdown",
   "id": "7effb5be-a6f0-448c-9e44-6a85d866ee59",
   "metadata": {},
   "source": [
    "## Find neighbor counties"
   ]
  },
  {
   "cell_type": "markdown",
   "id": "8643c2f4-b9f9-41de-809a-32089ed70ca5",
   "metadata": {},
   "source": [
    "### Create the neighbors nested JSON file"
   ]
  },
  {
   "cell_type": "code",
   "execution_count": 16,
   "id": "8d71db57-dd94-4b66-963d-7cf2ffff1af2",
   "metadata": {
    "tags": []
   },
   "outputs": [],
   "source": [
    "neighbors = {}"
   ]
  },
  {
   "cell_type": "code",
   "execution_count": 17,
   "id": "fb324e38-3228-44d2-845e-d9ee44157654",
   "metadata": {
    "tags": []
   },
   "outputs": [],
   "source": [
    "for county in counties_gdf.itertuples():\n",
    "    neighbor_filter = counties_gdf[counties_gdf.touches(counties_gdf.geometry)]\n",
    "    neighbors[counties_gdf.fips] = neighbor_filter[\"geoid\"].tolist()"
   ]
  },
  {
   "cell_type": "code",
   "execution_count": 18,
   "id": "c4d1170f-91cd-4e49-b0e2-7e7aa002ed31",
   "metadata": {
    "tags": []
   },
   "outputs": [],
   "source": [
    "with open(\"neighbor-counties.json\", \"w\") as outfile:\n",
    "    json.dump(neighbors, outfile)"
   ]
  },
  {
   "cell_type": "markdown",
   "id": "7be8bde5-1173-4525-8f9e-0f30270808ed",
   "metadata": {},
   "source": [
    "### Create the long neighbors CSV file"
   ]
  },
  {
   "cell_type": "code",
   "execution_count": 62,
   "id": "cb1a0c2a-eab2-4f4c-aa91-8823454a237b",
   "metadata": {},
   "outputs": [],
   "source": [
    "# Read the list of neighbors\n",
    "neighbors = open(\"../../data/handmade/neighbor-counties.json\")\n",
    "neighbors = json.load(neighbors)"
   ]
  },
  {
   "cell_type": "code",
   "execution_count": 63,
   "id": "7ed210a9-e8f5-42b2-8520-7bb2a0686f2c",
   "metadata": {},
   "outputs": [],
   "source": [
    "neighbors = pd.DataFrame(pd.concat({k: pd.Series(v) for k, v in neighbors.items()})).reset_index()"
   ]
  },
  {
   "cell_type": "code",
   "execution_count": 64,
   "id": "34c2074f-9b1d-4891-a2fc-6f584768e797",
   "metadata": {},
   "outputs": [],
   "source": [
    "neighbors.drop(['level_1'], axis=1, inplace=True)\n",
    "neighbors.columns = [\"fips\",\"neighbor_fips\"]"
   ]
  },
  {
   "cell_type": "code",
   "execution_count": 65,
   "id": "af1f5d95-936e-4b05-8b72-87a06ea136b1",
   "metadata": {},
   "outputs": [
    {
     "data": {
      "text/html": [
       "<div>\n",
       "<style scoped>\n",
       "    .dataframe tbody tr th:only-of-type {\n",
       "        vertical-align: middle;\n",
       "    }\n",
       "\n",
       "    .dataframe tbody tr th {\n",
       "        vertical-align: top;\n",
       "    }\n",
       "\n",
       "    .dataframe thead th {\n",
       "        text-align: right;\n",
       "    }\n",
       "</style>\n",
       "<table border=\"1\" class=\"dataframe\">\n",
       "  <thead>\n",
       "    <tr style=\"text-align: right;\">\n",
       "      <th></th>\n",
       "      <th>fips</th>\n",
       "      <th>neighbor_fips</th>\n",
       "    </tr>\n",
       "  </thead>\n",
       "  <tbody>\n",
       "    <tr>\n",
       "      <th>0</th>\n",
       "      <td>02013</td>\n",
       "      <td>02016</td>\n",
       "    </tr>\n",
       "    <tr>\n",
       "      <th>1</th>\n",
       "      <td>02013</td>\n",
       "      <td>02164</td>\n",
       "    </tr>\n",
       "    <tr>\n",
       "      <th>2</th>\n",
       "      <td>02016</td>\n",
       "      <td>02013</td>\n",
       "    </tr>\n",
       "    <tr>\n",
       "      <th>3</th>\n",
       "      <td>28107</td>\n",
       "      <td>28071</td>\n",
       "    </tr>\n",
       "    <tr>\n",
       "      <th>4</th>\n",
       "      <td>28107</td>\n",
       "      <td>28143</td>\n",
       "    </tr>\n",
       "  </tbody>\n",
       "</table>\n",
       "</div>"
      ],
      "text/plain": [
       "    fips neighbor_fips\n",
       "0  02013         02016\n",
       "1  02013         02164\n",
       "2  02016         02013\n",
       "3  28107         28071\n",
       "4  28107         28143"
      ]
     },
     "execution_count": 65,
     "metadata": {},
     "output_type": "execute_result"
    }
   ],
   "source": [
    "neighbors.sample()"
   ]
  },
  {
   "cell_type": "code",
   "execution_count": 66,
   "id": "300415cf-fdc8-4fe9-b1c8-7af45c830fc1",
   "metadata": {},
   "outputs": [],
   "source": [
    "# neighbors.to_csv(\"../../data/handmade/neighbor-counties.csv\", index=False)"
   ]
  },
  {
   "cell_type": "markdown",
   "id": "6faf3e2d-692a-49dc-bf9b-6742a8f1350d",
   "metadata": {},
   "source": [
    "## Load and clean state and county FIPS code files"
   ]
  },
  {
   "cell_type": "code",
   "execution_count": 51,
   "id": "c3569371-5bf8-4445-8cab-8fb68e3498bd",
   "metadata": {},
   "outputs": [],
   "source": [
    "state_fips = pd.read_csv('../../data/source/census/state_fips.txt', sep=\"|\", dtype=str)"
   ]
  },
  {
   "cell_type": "code",
   "execution_count": 52,
   "id": "34e898d6-0638-4431-8b09-83130d528eeb",
   "metadata": {},
   "outputs": [],
   "source": [
    "state_fips.columns = state_fips.columns.str.lower()"
   ]
  },
  {
   "cell_type": "code",
   "execution_count": 53,
   "id": "3306142e-eaca-46a7-8dee-589634385c28",
   "metadata": {},
   "outputs": [
    {
     "data": {
      "text/html": [
       "<div>\n",
       "<style scoped>\n",
       "    .dataframe tbody tr th:only-of-type {\n",
       "        vertical-align: middle;\n",
       "    }\n",
       "\n",
       "    .dataframe tbody tr th {\n",
       "        vertical-align: top;\n",
       "    }\n",
       "\n",
       "    .dataframe thead th {\n",
       "        text-align: right;\n",
       "    }\n",
       "</style>\n",
       "<table border=\"1\" class=\"dataframe\">\n",
       "  <thead>\n",
       "    <tr style=\"text-align: right;\">\n",
       "      <th></th>\n",
       "      <th>state</th>\n",
       "      <th>statefp</th>\n",
       "      <th>statens</th>\n",
       "      <th>state_name</th>\n",
       "    </tr>\n",
       "  </thead>\n",
       "  <tbody>\n",
       "    <tr>\n",
       "      <th>54</th>\n",
       "      <td>PR</td>\n",
       "      <td>72</td>\n",
       "      <td>01779808</td>\n",
       "      <td>Puerto Rico</td>\n",
       "    </tr>\n",
       "  </tbody>\n",
       "</table>\n",
       "</div>"
      ],
      "text/plain": [
       "   state statefp   statens   state_name\n",
       "54    PR      72  01779808  Puerto Rico"
      ]
     },
     "execution_count": 53,
     "metadata": {},
     "output_type": "execute_result"
    }
   ],
   "source": [
    "state_fips.sample()"
   ]
  },
  {
   "cell_type": "code",
   "execution_count": 54,
   "id": "e6120a71-9a23-4904-b644-56d3a80cc2bd",
   "metadata": {},
   "outputs": [],
   "source": [
    "county_fips = pd.read_csv('../../data/source/census/county_fips.txt', sep=\"|\", dtype=str)"
   ]
  },
  {
   "cell_type": "code",
   "execution_count": 55,
   "id": "112519ab-dfb4-468b-8474-7bac5b1f076a",
   "metadata": {},
   "outputs": [],
   "source": [
    "county_fips.columns = county_fips.columns.str.lower()"
   ]
  },
  {
   "cell_type": "code",
   "execution_count": 56,
   "id": "617cd1b4-752b-4d1c-acb1-8f5a8ba36d1d",
   "metadata": {},
   "outputs": [],
   "source": [
    "# Create county FIPS code\n",
    "county_fips[\"fips\"] = county_fips[\"statefp\"] + county_fips[\"countyfp\"]"
   ]
  },
  {
   "cell_type": "code",
   "execution_count": 57,
   "id": "9d8c7dd2-0ff8-45fe-a3bf-29a05f21c029",
   "metadata": {},
   "outputs": [
    {
     "data": {
      "text/html": [
       "<div>\n",
       "<style scoped>\n",
       "    .dataframe tbody tr th:only-of-type {\n",
       "        vertical-align: middle;\n",
       "    }\n",
       "\n",
       "    .dataframe tbody tr th {\n",
       "        vertical-align: top;\n",
       "    }\n",
       "\n",
       "    .dataframe thead th {\n",
       "        text-align: right;\n",
       "    }\n",
       "</style>\n",
       "<table border=\"1\" class=\"dataframe\">\n",
       "  <thead>\n",
       "    <tr style=\"text-align: right;\">\n",
       "      <th></th>\n",
       "      <th>state</th>\n",
       "      <th>statefp</th>\n",
       "      <th>countyfp</th>\n",
       "      <th>countyns</th>\n",
       "      <th>countyname</th>\n",
       "      <th>classfp</th>\n",
       "      <th>funcstat</th>\n",
       "      <th>fips</th>\n",
       "    </tr>\n",
       "  </thead>\n",
       "  <tbody>\n",
       "    <tr>\n",
       "      <th>54</th>\n",
       "      <td>AL</td>\n",
       "      <td>01</td>\n",
       "      <td>109</td>\n",
       "      <td>00161581</td>\n",
       "      <td>Pike County</td>\n",
       "      <td>H1</td>\n",
       "      <td>A</td>\n",
       "      <td>01109</td>\n",
       "    </tr>\n",
       "  </tbody>\n",
       "</table>\n",
       "</div>"
      ],
      "text/plain": [
       "   state statefp countyfp  countyns   countyname classfp funcstat   fips\n",
       "54    AL      01      109  00161581  Pike County      H1        A  01109"
      ]
     },
     "execution_count": 57,
     "metadata": {},
     "output_type": "execute_result"
    }
   ],
   "source": [
    "county_fips.sample()"
   ]
  },
  {
   "cell_type": "code",
   "execution_count": 58,
   "id": "91919c3a-5f03-4f2b-bb4f-a7a608bc5a73",
   "metadata": {},
   "outputs": [],
   "source": [
    "# Filter states\n",
    "county_fips = county_fips.loc[~county_fips[\"state\"].isin(['AS', 'GU', 'MP', 'PR', 'UM', 'VI'])]"
   ]
  },
  {
   "cell_type": "code",
   "execution_count": 59,
   "id": "cbc78569-30c7-4983-9a74-dab281082e2e",
   "metadata": {},
   "outputs": [
    {
     "data": {
      "text/plain": [
       "array(['AL', 'AK', 'AZ', 'AR', 'CA', 'CO', 'CT', 'DE', 'DC', 'FL', 'GA',\n",
       "       'HI', 'ID', 'IL', 'IN', 'IA', 'KS', 'KY', 'LA', 'ME', 'MD', 'MA',\n",
       "       'MI', 'MN', 'MS', 'MO', 'MT', 'NE', 'NV', 'NH', 'NJ', 'NM', 'NY',\n",
       "       'NC', 'ND', 'OH', 'OK', 'OR', 'PA', 'RI', 'SC', 'SD', 'TN', 'TX',\n",
       "       'UT', 'VT', 'VA', 'WA', 'WV', 'WI', 'WY'], dtype=object)"
      ]
     },
     "execution_count": 59,
     "metadata": {},
     "output_type": "execute_result"
    }
   ],
   "source": [
    "county_fips.state.unique()"
   ]
  },
  {
   "cell_type": "code",
   "execution_count": 60,
   "id": "c24fc42e-220e-4a4a-bcb3-d9831063fe16",
   "metadata": {},
   "outputs": [],
   "source": [
    "counties = county_fips[[\"state\",\"statefp\",\"countyname\",\"countyfp\",\"fips\"]].merge(counties_gdf_trim, on=\"fips\", how=\"left\")"
   ]
  },
  {
   "cell_type": "code",
   "execution_count": 61,
   "id": "9d3c946b-3c70-4ade-a328-3f3fbef0b7cf",
   "metadata": {},
   "outputs": [
    {
     "data": {
      "text/html": [
       "<div>\n",
       "<style scoped>\n",
       "    .dataframe tbody tr th:only-of-type {\n",
       "        vertical-align: middle;\n",
       "    }\n",
       "\n",
       "    .dataframe tbody tr th {\n",
       "        vertical-align: top;\n",
       "    }\n",
       "\n",
       "    .dataframe thead th {\n",
       "        text-align: right;\n",
       "    }\n",
       "</style>\n",
       "<table border=\"1\" class=\"dataframe\">\n",
       "  <thead>\n",
       "    <tr style=\"text-align: right;\">\n",
       "      <th></th>\n",
       "      <th>state</th>\n",
       "      <th>statefp</th>\n",
       "      <th>countyname</th>\n",
       "      <th>countyfp</th>\n",
       "      <th>fips</th>\n",
       "      <th>area</th>\n",
       "    </tr>\n",
       "  </thead>\n",
       "  <tbody>\n",
       "    <tr>\n",
       "      <th>0</th>\n",
       "      <td>AL</td>\n",
       "      <td>01</td>\n",
       "      <td>Autauga County</td>\n",
       "      <td>001</td>\n",
       "      <td>01001</td>\n",
       "      <td>604.374128</td>\n",
       "    </tr>\n",
       "    <tr>\n",
       "      <th>1</th>\n",
       "      <td>AL</td>\n",
       "      <td>01</td>\n",
       "      <td>Baldwin County</td>\n",
       "      <td>003</td>\n",
       "      <td>01003</td>\n",
       "      <td>1680.528617</td>\n",
       "    </tr>\n",
       "    <tr>\n",
       "      <th>2</th>\n",
       "      <td>AL</td>\n",
       "      <td>01</td>\n",
       "      <td>Barbour County</td>\n",
       "      <td>005</td>\n",
       "      <td>01005</td>\n",
       "      <td>904.461410</td>\n",
       "    </tr>\n",
       "    <tr>\n",
       "      <th>3</th>\n",
       "      <td>AL</td>\n",
       "      <td>01</td>\n",
       "      <td>Bibb County</td>\n",
       "      <td>007</td>\n",
       "      <td>01007</td>\n",
       "      <td>626.372236</td>\n",
       "    </tr>\n",
       "    <tr>\n",
       "      <th>4</th>\n",
       "      <td>AL</td>\n",
       "      <td>01</td>\n",
       "      <td>Blount County</td>\n",
       "      <td>009</td>\n",
       "      <td>01009</td>\n",
       "      <td>650.620030</td>\n",
       "    </tr>\n",
       "  </tbody>\n",
       "</table>\n",
       "</div>"
      ],
      "text/plain": [
       "  state statefp      countyname countyfp   fips         area\n",
       "0    AL      01  Autauga County      001  01001   604.374128\n",
       "1    AL      01  Baldwin County      003  01003  1680.528617\n",
       "2    AL      01  Barbour County      005  01005   904.461410\n",
       "3    AL      01     Bibb County      007  01007   626.372236\n",
       "4    AL      01   Blount County      009  01009   650.620030"
      ]
     },
     "execution_count": 61,
     "metadata": {},
     "output_type": "execute_result"
    }
   ],
   "source": [
    "counties.sample()"
   ]
  },
  {
   "cell_type": "markdown",
   "id": "31419ed0-fe05-4a63-a438-e108eae06614",
   "metadata": {},
   "source": [
    "## Save the county reference file"
   ]
  },
  {
   "cell_type": "code",
   "execution_count": null,
   "id": "fc9a81c2-e907-4e7e-8aa4-2d6f851b03f6",
   "metadata": {},
   "outputs": [],
   "source": [
    "counties.to_csv(\"../../data/processed/counties-reference.csv\", index=False)"
   ]
  }
 ],
 "metadata": {
  "kernelspec": {
   "display_name": "gun-dealers-2023-analysis",
   "language": "python",
   "name": "python3"
  },
  "language_info": {
   "codemirror_mode": {
    "name": "ipython",
    "version": 3
   },
   "file_extension": ".py",
   "mimetype": "text/x-python",
   "name": "python",
   "nbconvert_exporter": "python",
   "pygments_lexer": "ipython3",
   "version": "3.11.2"
  }
 },
 "nbformat": 4,
 "nbformat_minor": 5
}
