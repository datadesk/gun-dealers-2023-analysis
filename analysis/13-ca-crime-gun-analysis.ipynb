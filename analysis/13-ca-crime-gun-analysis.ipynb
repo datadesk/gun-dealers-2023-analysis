{
 "cells": [
  {
   "cell_type": "code",
   "execution_count": 1,
   "id": "8a2b1444-5795-4b17-b107-f522e21d40d5",
   "metadata": {
    "tags": []
   },
   "outputs": [],
   "source": [
    "import pandas as pd\n",
    "import altair as alt\n",
    "import os"
   ]
  },
  {
   "cell_type": "markdown",
   "id": "857174f7-73bb-446f-9591-9ed23b7bfc8e",
   "metadata": {
    "tags": []
   },
   "source": [
    "## Which dealers sell the most guns?"
   ]
  },
  {
   "cell_type": "code",
   "execution_count": 2,
   "id": "6e78d7b0-e2c3-4bb5-8c29-91307584edeb",
   "metadata": {
    "tags": []
   },
   "outputs": [],
   "source": [
    "ca_crime_guns = pd.read_csv(\"data/processed/ca_ab_1191_crime_gun_report.csv\")"
   ]
  },
  {
   "cell_type": "code",
   "execution_count": 6,
   "id": "d783d328-776c-47df-8ea7-2f183291a2b0",
   "metadata": {
    "tags": []
   },
   "outputs": [
    {
     "data": {
      "text/html": [
       "<div>\n",
       "<style scoped>\n",
       "    .dataframe tbody tr th:only-of-type {\n",
       "        vertical-align: middle;\n",
       "    }\n",
       "\n",
       "    .dataframe tbody tr th {\n",
       "        vertical-align: top;\n",
       "    }\n",
       "\n",
       "    .dataframe thead th {\n",
       "        text-align: right;\n",
       "    }\n",
       "</style>\n",
       "<table border=\"1\" class=\"dataframe\">\n",
       "  <thead>\n",
       "    <tr style=\"text-align: right;\">\n",
       "      <th></th>\n",
       "      <th>dealer_name</th>\n",
       "      <th>dealer_status</th>\n",
       "      <th>street</th>\n",
       "      <th>zip_code</th>\n",
       "      <th>city</th>\n",
       "      <th>crime_guns</th>\n",
       "      <th>total_firearms_sold</th>\n",
       "      <th>percentage_crime_guns</th>\n",
       "    </tr>\n",
       "  </thead>\n",
       "  <tbody>\n",
       "    <tr>\n",
       "      <th>37</th>\n",
       "      <td>RIFLE GEAR</td>\n",
       "      <td>active</td>\n",
       "      <td>18065 MOUNT SHAY ST</td>\n",
       "      <td>92708</td>\n",
       "      <td>FOUNTAIN VALLEY</td>\n",
       "      <td>392</td>\n",
       "      <td>128721</td>\n",
       "      <td>0.30</td>\n",
       "    </tr>\n",
       "    <tr>\n",
       "      <th>17</th>\n",
       "      <td>PROFORCE LAW ENFORCEMENT</td>\n",
       "      <td>active</td>\n",
       "      <td>2625 STEARMAN ROAD #A</td>\n",
       "      <td>86301</td>\n",
       "      <td>PRESCOTT, ARIZONA?</td>\n",
       "      <td>543</td>\n",
       "      <td>114063</td>\n",
       "      <td>0.48</td>\n",
       "    </tr>\n",
       "    <tr>\n",
       "      <th>2</th>\n",
       "      <td>TURNERS OUTDOORSMAN</td>\n",
       "      <td>active</td>\n",
       "      <td>11336 FIRESTONE BLVD</td>\n",
       "      <td>90650</td>\n",
       "      <td>NORWALK</td>\n",
       "      <td>1458</td>\n",
       "      <td>102175</td>\n",
       "      <td>1.43</td>\n",
       "    </tr>\n",
       "    <tr>\n",
       "      <th>7</th>\n",
       "      <td>TURNERS OUTDOORSMAN</td>\n",
       "      <td>active</td>\n",
       "      <td>835 S ARROYO PKWY</td>\n",
       "      <td>91105</td>\n",
       "      <td>PASADENA</td>\n",
       "      <td>1024</td>\n",
       "      <td>89440</td>\n",
       "      <td>1.14</td>\n",
       "    </tr>\n",
       "    <tr>\n",
       "      <th>1</th>\n",
       "      <td>TURNERS OUTDOORSMAN</td>\n",
       "      <td>active</td>\n",
       "      <td>491 W ORANGE SHOW RD</td>\n",
       "      <td>92408</td>\n",
       "      <td>SAN BERNARDINO</td>\n",
       "      <td>1650</td>\n",
       "      <td>86271</td>\n",
       "      <td>1.91</td>\n",
       "    </tr>\n",
       "  </tbody>\n",
       "</table>\n",
       "</div>"
      ],
      "text/plain": [
       "                 dealer_name dealer_status                 street  zip_code  \\\n",
       "37                RIFLE GEAR        active    18065 MOUNT SHAY ST     92708   \n",
       "17  PROFORCE LAW ENFORCEMENT        active  2625 STEARMAN ROAD #A     86301   \n",
       "2        TURNERS OUTDOORSMAN        active   11336 FIRESTONE BLVD     90650   \n",
       "7        TURNERS OUTDOORSMAN        active      835 S ARROYO PKWY     91105   \n",
       "1        TURNERS OUTDOORSMAN        active   491 W ORANGE SHOW RD     92408   \n",
       "\n",
       "                  city  crime_guns  total_firearms_sold  percentage_crime_guns  \n",
       "37     FOUNTAIN VALLEY         392               128721                   0.30  \n",
       "17  PRESCOTT, ARIZONA?         543               114063                   0.48  \n",
       "2              NORWALK        1458               102175                   1.43  \n",
       "7             PASADENA        1024                89440                   1.14  \n",
       "1       SAN BERNARDINO        1650                86271                   1.91  "
      ]
     },
     "execution_count": 6,
     "metadata": {},
     "output_type": "execute_result"
    }
   ],
   "source": [
    "ca_crime_guns.sort_values(\"total_firearms_sold\", ascending=False).head()"
   ]
  },
  {
   "cell_type": "code",
   "execution_count": 5,
   "id": "e06f306c-7cfd-4664-9140-5cf321b8d74c",
   "metadata": {
    "tags": []
   },
   "outputs": [
    {
     "data": {
      "text/plain": [
       "9528531"
      ]
     },
     "execution_count": 5,
     "metadata": {},
     "output_type": "execute_result"
    }
   ],
   "source": [
    "# Total guns sold\n",
    "ca_crime_guns[\"total_firearms_sold\"].sum()"
   ]
  },
  {
   "cell_type": "markdown",
   "id": "1a0201bd-29ca-4ed3-8e29-420922d3b1b7",
   "metadata": {
    "tags": []
   },
   "source": [
    "## Which dealers have a higher than average percentage of crime guns sold?"
   ]
  },
  {
   "cell_type": "code",
   "execution_count": 7,
   "id": "aae87f2c-6162-4bb8-85dd-83baf766221e",
   "metadata": {
    "tags": []
   },
   "outputs": [
    {
     "data": {
      "text/plain": [
       "1.1187662001036807"
      ]
     },
     "execution_count": 7,
     "metadata": {},
     "output_type": "execute_result"
    }
   ],
   "source": [
    "ca_crime_guns[\"percentage_crime_guns\"].mean()"
   ]
  },
  {
   "cell_type": "code",
   "execution_count": 14,
   "id": "16f72445-0a5b-40c9-be92-8c1a595d1fa1",
   "metadata": {
    "tags": []
   },
   "outputs": [
    {
     "data": {
      "text/plain": [
       "0.5021343665856702"
      ]
     },
     "execution_count": 14,
     "metadata": {},
     "output_type": "execute_result"
    }
   ],
   "source": [
    "ca_crime_guns.iloc[0:82][\"crime_guns\"].sum() / ca_crime_guns[\"crime_guns\"].sum()"
   ]
  },
  {
   "cell_type": "code",
   "execution_count": 15,
   "id": "b7e039c8-5a5c-4b42-aa44-eabc202a58fa",
   "metadata": {
    "tags": []
   },
   "outputs": [],
   "source": [
    "top_sellers = ca_crime_guns.iloc[0:82]"
   ]
  }
 ],
 "metadata": {
  "kernelspec": {
   "display_name": "Python 3 (ipykernel)",
   "language": "python",
   "name": "python3"
  },
  "language_info": {
   "codemirror_mode": {
    "name": "ipython",
    "version": 3
   },
   "file_extension": ".py",
   "mimetype": "text/x-python",
   "name": "python",
   "nbconvert_exporter": "python",
   "pygments_lexer": "ipython3",
   "version": "3.11.2"
  }
 },
 "nbformat": 4,
 "nbformat_minor": 5
}
