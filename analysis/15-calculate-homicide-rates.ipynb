{
 "cells": [
  {
   "cell_type": "markdown",
   "id": "23348ca2-8404-439d-b5fc-917be4712d10",
   "metadata": {},
   "source": [
    "# Calculate homicide rate"
   ]
  },
  {
   "cell_type": "code",
   "execution_count": null,
   "id": "9332f6a5-861b-4d0e-aa06-cab5c32af5e0",
   "metadata": {},
   "outputs": [],
   "source": [
    "import pandas as pd"
   ]
  },
  {
   "cell_type": "code",
   "execution_count": null,
   "id": "d524f19f-0b96-4aa4-8f34-a0bf4ad3bfae",
   "metadata": {},
   "outputs": [],
   "source": [
    "hom_99_20 = pd.read_csv('./_workspace/gun-dealers-2023-analysis/data/processed/cdc-data/Underlying Cause of Death, 1999-2020.txt', sep=\"\\t\", usecols=[\"Year\",\"Deaths\",\"Population\"])\n",
    "hom_18_21 = pd.read_csv('./_workspace/gun-dealers-2023-analysis/data/processed/cdc-data/Underlying Cause of Death, 2018-2021, Single Race.txt', sep=\"\\t\", usecols=[\"Year\",\"Deaths\",\"Population\"])"
   ]
  },
  {
   "cell_type": "code",
   "execution_count": null,
   "id": "c71eaca6-ea47-486c-a656-114847dd6b4c",
   "metadata": {},
   "outputs": [],
   "source": [
    "hom_99_20 = hom_99_20[hom_99_20[\"Year\"] >= 2014]\n",
    "hom_18_21 = hom_18_21[hom_18_21[\"Year\"] == 2021]"
   ]
  },
  {
   "cell_type": "code",
   "execution_count": null,
   "id": "1013c95a-70bc-4644-b535-daa6826f0dee",
   "metadata": {},
   "outputs": [],
   "source": [
    "hom_18_21"
   ]
  },
  {
   "cell_type": "code",
   "execution_count": null,
   "id": "f8fd0bce-d6ec-4e3c-9fd6-ed0bab2cf1f3",
   "metadata": {},
   "outputs": [],
   "source": [
    "hom_14_21 = pd.concat([hom_99_20,hom_18_21])"
   ]
  },
  {
   "cell_type": "code",
   "execution_count": null,
   "id": "5b9337de-4568-464e-afd0-cc1282e81c5a",
   "metadata": {},
   "outputs": [],
   "source": [
    "hom_14_21[\"total_rate\"] = (hom_14_21[\"Deaths\"] / hom_14_21[\"Population\"]) * 100000"
   ]
  },
  {
   "cell_type": "code",
   "execution_count": null,
   "id": "4b9a93c2-6ded-46a0-897c-7d9cf895f28a",
   "metadata": {},
   "outputs": [],
   "source": [
    "hom_14_21"
   ]
  },
  {
   "cell_type": "code",
   "execution_count": null,
   "id": "0202ae5f-e135-4426-96b4-d9a235c5058c",
   "metadata": {},
   "outputs": [],
   "source": [
    "# Firearm homicide rate for all analysis years\n",
    "(hom_14_21[\"Deaths\"].sum() / hom_14_21[\"Population\"].sum()) * 100000"
   ]
  },
  {
   "cell_type": "code",
   "execution_count": null,
   "id": "997496cc-d7fb-4446-81d1-1ae2040be79d",
   "metadata": {},
   "outputs": [],
   "source": [
    "# Firearm homicide count for each of the analysis years\n",
    "hom_14_21[\"Deaths\"].sum() / 8"
   ]
  },
  {
   "cell_type": "code",
   "execution_count": null,
   "id": "68197b14-b1e0-4b41-b436-16375948350d",
   "metadata": {},
   "outputs": [],
   "source": [
    "# Firearm homicide rate for 2021\n",
    "rate_21 = hom_18_21[\"Deaths\"].sum() / hom_18_21[\"Population\"].sum() * 100000"
   ]
  },
  {
   "cell_type": "code",
   "execution_count": null,
   "id": "759b4ae3-a567-41f7-99ab-a4c3ab8d1cd0",
   "metadata": {},
   "outputs": [],
   "source": [
    "rate_21"
   ]
  },
  {
   "cell_type": "code",
   "execution_count": null,
   "id": "c83ed1c0-cb25-42ba-a1ab-51de7cdca10b",
   "metadata": {},
   "outputs": [],
   "source": []
  },
  {
   "cell_type": "code",
   "execution_count": null,
   "id": "c44cbbf9-ca25-465e-9018-eb673ea5298f",
   "metadata": {},
   "outputs": [],
   "source": []
  },
  {
   "cell_type": "code",
   "execution_count": null,
   "id": "7a86fb07-c6b5-40f1-88c7-69bd607d62e2",
   "metadata": {},
   "outputs": [],
   "source": []
  },
  {
   "cell_type": "code",
   "execution_count": null,
   "id": "b5371b61-3ee5-4f98-b87e-156256591306",
   "metadata": {},
   "outputs": [],
   "source": []
  }
 ],
 "metadata": {
  "kernelspec": {
   "display_name": "gun-dealers-2023-analysis",
   "language": "python",
   "name": "python3"
  },
  "language_info": {
   "codemirror_mode": {
    "name": "ipython",
    "version": 3
   },
   "file_extension": ".py",
   "mimetype": "text/x-python",
   "name": "python",
   "nbconvert_exporter": "python",
   "pygments_lexer": "ipython3",
   "version": "3.11.2"
  }
 },
 "nbformat": 4,
 "nbformat_minor": 5
}
