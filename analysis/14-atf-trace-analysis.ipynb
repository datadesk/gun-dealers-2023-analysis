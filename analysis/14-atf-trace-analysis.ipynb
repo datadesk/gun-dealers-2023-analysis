{
 "cells": [
  {
   "cell_type": "markdown",
   "id": "2151fbc5-49f5-4e4f-9fa7-47aa2139b14b",
   "metadata": {},
   "source": [
    "# Analysis of ATF trace data"
   ]
  },
  {
   "cell_type": "code",
   "execution_count": null,
   "id": "d55d331a-cb45-4494-908c-a6744799353f",
   "metadata": {},
   "outputs": [],
   "source": [
    "# Time to crime from 2012-2022\n",
    "# Number of guns recovered in under a year 2017-2022\n",
    "# Guns purchased in state from 2022"
   ]
  },
  {
   "cell_type": "code",
   "execution_count": null,
   "id": "bb7356d9-25e2-490c-aa48-b561855362aa",
   "metadata": {},
   "outputs": [],
   "source": [
    "import pandas as pd\n",
    "import altair as alt"
   ]
  },
  {
   "cell_type": "markdown",
   "id": "1a2fa764-ab0b-48dd-9344-962117df953b",
   "metadata": {},
   "source": [
    "## Load and combine general data"
   ]
  },
  {
   "cell_type": "code",
   "execution_count": null,
   "id": "5955bee2-3e6b-432b-8215-0e8dba737ecd",
   "metadata": {},
   "outputs": [],
   "source": [
    "general_17 = pd.read_csv(\"./data/processed/atf-trace-data/general-numbers-2017.csv\", dtype={\"all_traces\":str,\"source_traces\":str,\"national_ttc\":str,\"state_ttc\":str})\n",
    "general_18 = pd.read_csv(\"./data/processed/atf-trace-data/general-numbers-2018.csv\", dtype={\"all_traces\":str,\"source_traces\":str,\"national_ttc\":str,\"state_ttc\":str})\n",
    "general_19 = pd.read_csv(\"./data/processed/atf-trace-data/general-numbers-2019.csv\", dtype={\"all_traces\":str,\"source_traces\":str,\"national_ttc\":str,\"state_ttc\":str})\n",
    "general_20 = pd.read_csv(\"./data/processed/atf-trace-data/general-numbers-2020.csv\", dtype={\"all_traces\":str,\"source_traces\":str,\"national_ttc\":str,\"state_ttc\":str})\n",
    "general_21 = pd.read_csv(\"./data/processed/atf-trace-data/general-numbers-2021.csv\", dtype={\"all_traces\":str,\"source_traces\":str,\"national_ttc\":str,\"state_ttc\":str})"
   ]
  },
  {
   "cell_type": "code",
   "execution_count": null,
   "id": "4301ffe0-6612-45be-86ec-d1af396c3eca",
   "metadata": {},
   "outputs": [],
   "source": [
    "general = pd.concat([general_17, general_18, general_19, general_20, general_21])"
   ]
  },
  {
   "cell_type": "code",
   "execution_count": null,
   "id": "ff1392ed-ffb8-4708-bd5b-4c8375aff4f4",
   "metadata": {},
   "outputs": [],
   "source": [
    "general.head()"
   ]
  },
  {
   "cell_type": "code",
   "execution_count": null,
   "id": "a5708df2-06c2-4aa4-9848-1d950df40809",
   "metadata": {},
   "outputs": [],
   "source": [
    "drop_list = ['Guam','Puerto','U.S.']"
   ]
  },
  {
   "cell_type": "code",
   "execution_count": null,
   "id": "3a2dd4c0-bd93-4512-9152-efb9e609a382",
   "metadata": {},
   "outputs": [],
   "source": [
    "general = general.copy().loc[~general[\"state\"].isin(drop_list)]"
   ]
  },
  {
   "cell_type": "code",
   "execution_count": null,
   "id": "546dbf1d-3e71-4844-910c-84e9fd334c23",
   "metadata": {},
   "outputs": [],
   "source": [
    "# Texas 2019 went to too many lines so replace this manually\n",
    "general.loc[((general[\"state\"] == \"Texas\") & (general[\"year\"] == 2019)), \"source_traces\"] = \"23,597\""
   ]
  },
  {
   "cell_type": "code",
   "execution_count": null,
   "id": "89c2df58-bd3f-43a8-9564-19585c10b630",
   "metadata": {},
   "outputs": [],
   "source": [
    "general[\"all_traces\"] = general[\"all_traces\"].str.replace(\",\",\"\")\n",
    "general[\"all_traces\"] = pd.to_numeric(general[\"all_traces\"])\n",
    "general[\"source_traces\"] = general[\"source_traces\"].str.replace(\",\",\"\")\n",
    "general[\"source_traces\"] = general[\"source_traces\"].str.replace(\" \",\"\")\n",
    "general[\"source_traces\"] = general[\"source_traces\"].str.strip()\n",
    "general[\"source_traces\"] = pd.to_numeric(general[\"source_traces\"])\n",
    "general[\"state_ttc\"] = general[\"state_ttc\"].str.strip()\n",
    "general[\"state_ttc\"] = pd.to_numeric(general[\"state_ttc\"])\n",
    "general[\"national_ttc\"] = general[\"national_ttc\"].str.strip()\n",
    "general[\"national_ttc\"] = pd.to_numeric(general[\"national_ttc\"])"
   ]
  },
  {
   "cell_type": "markdown",
   "id": "57d8d4b8-572b-4a96-8e50-e3a7362ceefc",
   "metadata": {},
   "source": [
    "## Time to crime"
   ]
  },
  {
   "cell_type": "code",
   "execution_count": null,
   "id": "d7ae60d4-0dda-4e10-be34-f3fe4c0fb1b1",
   "metadata": {},
   "outputs": [],
   "source": [
    "# Pick any state to grab the national numbers - they are the same for all states\n",
    "nat_ttc = general[general[\"state\"] == \"Alabama\"][[\"year\",\"national_ttc\"]]"
   ]
  },
  {
   "cell_type": "code",
   "execution_count": null,
   "id": "52b43993-953e-4880-87ae-0273da403a36",
   "metadata": {},
   "outputs": [],
   "source": [
    "# Fill in older years by pulling the national time to crime manually from reports\n",
    "more = {\n",
    "    \"year\":[2006,2007,2008,2009,2010,2011,2012,2013,2014,2015,2016],\n",
    "    \"national_ttc\":[10.17,10.33,10.39,10.77,10.94,11.2,11.2,11.08,10.88,10.48,9.79]\n",
    "}\n",
    "more = pd.DataFrame(data=more)\n",
    "nat_ttc = pd.concat([more, nat_ttc])"
   ]
  },
  {
   "cell_type": "code",
   "execution_count": null,
   "id": "2a325613-072e-4b6c-91df-d0e56d2e576a",
   "metadata": {},
   "outputs": [],
   "source": [
    "nat_ttc.year = pd.to_datetime(nat_ttc.year, format='%Y')"
   ]
  },
  {
   "cell_type": "code",
   "execution_count": null,
   "id": "5af54322-c52b-443e-80d5-dd88adf5455a",
   "metadata": {},
   "outputs": [],
   "source": [
    "nat_ttc"
   ]
  },
  {
   "cell_type": "code",
   "execution_count": null,
   "id": "17c0fe27-4aa9-4dc6-bd54-899f1c442866",
   "metadata": {},
   "outputs": [],
   "source": [
    "alt.Chart(nat_ttc).mark_bar(size=14).encode(\n",
    "    x=alt.X('year:T', title=\"Year\", axis=alt.Axis(format=\"%Y\")),\n",
    "    y=alt.Y('national_ttc:Q',title=\"Time-to-crime (in years)\"),\n",
    ").properties(\n",
    "    title=\"National average time-to-crime\"\n",
    ")"
   ]
  },
  {
   "cell_type": "markdown",
   "id": "b9fe064e-3b64-410b-9658-c6c92d1733e8",
   "metadata": {},
   "source": [
    "## Guns recovered less than a year from purchase"
   ]
  },
  {
   "cell_type": "code",
   "execution_count": null,
   "id": "31228000-45cd-4b40-baa6-b22bf5526b75",
   "metadata": {},
   "outputs": [],
   "source": [
    "less_than_year_categories = [\"Under 3 Months\", \"3 Months to Under 7 Months\", \"7 Months to Under 1 Year\"]"
   ]
  },
  {
   "cell_type": "code",
   "execution_count": null,
   "id": "e6836b78-eaba-4fb8-ba0c-1e29cf176ca7",
   "metadata": {},
   "outputs": [],
   "source": [
    "df_2017 = pd.read_csv('./_workspace/gun-dealers-2023-analysis/data/processed/atf-trace-data/time-to-crime-2017.csv', dtype=str)\n",
    "df_2018 = pd.read_csv('./_workspace/gun-dealers-2023-analysis/data/processed/atf-trace-data/time-to-crime-2018.csv', dtype=str)\n",
    "df_2019 = pd.read_csv('./_workspace/gun-dealers-2023-analysis/data/processed/atf-trace-data/time-to-crime-2019.csv', dtype=str)\n",
    "df_2020 = pd.read_csv('./_workspace/gun-dealers-2023-analysis/data/processed/atf-trace-data/time-to-crime-2020.csv', dtype=str)\n",
    "df_2021 = pd.read_csv('./_workspace/gun-dealers-2023-analysis/data/processed/atf-trace-data/time-to-crime-2021.csv', dtype=str)\n",
    "df_2022 = pd.read_csv('./_workspace/gun-dealers-2023-analysis/data/processed/atf-trace-data/time-to-crime-2022.csv', dtype=str)"
   ]
  },
  {
   "cell_type": "code",
   "execution_count": null,
   "id": "045e9722-dce1-4519-91fa-eebcd25fbc8d",
   "metadata": {},
   "outputs": [],
   "source": [
    "df_2017.state = df_2017.state.str.replace(\"District of\", \"District of Columbia\")\n",
    "df_2018.state = df_2018.state.str.replace(\"District of\", \"District of Columbia\")\n",
    "df_2019.state = df_2019.state.str.replace(\"District of\", \"District of Columbia\")"
   ]
  },
  {
   "cell_type": "code",
   "execution_count": null,
   "id": "15b3264b-4964-46e1-af0a-b971a5b963f9",
   "metadata": {},
   "outputs": [],
   "source": [
    "under_year = pd.concat([df_2017, df_2018, df_2019, df_2020, df_2021, df_2022])"
   ]
  },
  {
   "cell_type": "code",
   "execution_count": null,
   "id": "cc127c1e-803a-4cd0-a228-61d3a6bd09f5",
   "metadata": {},
   "outputs": [],
   "source": [
    "under_year[\"time_to_crime\"] = under_year[\"time_to_crime\"].str.replace(\"\\n\", \" \")"
   ]
  },
  {
   "cell_type": "code",
   "execution_count": null,
   "id": "bb01c669-07e1-478e-be7a-19fc8fede622",
   "metadata": {},
   "outputs": [],
   "source": [
    "under_year.time_to_crime.unique()"
   ]
  },
  {
   "cell_type": "code",
   "execution_count": null,
   "id": "6bba8873-0239-45bc-b19f-b57a6bcf9ea9",
   "metadata": {},
   "outputs": [],
   "source": [
    "# Remove Guam, Puerto (Rico), and U.S. \n",
    "under_year = under_year.loc[~under_year.state.isin(['Guam','Puerto','U.S.'])]"
   ]
  },
  {
   "cell_type": "code",
   "execution_count": null,
   "id": "2a55c37e-a1da-4d21-bf29-5d8bb6c08efd",
   "metadata": {},
   "outputs": [],
   "source": [
    "under_year[\"count\"] = under_year[\"count\"].str.replace(\",\", \"\")\n",
    "under_year[\"count\"] = pd.to_numeric(under_year[\"count\"])"
   ]
  },
  {
   "cell_type": "code",
   "execution_count": null,
   "id": "1324312a-593b-400f-8b30-a201323b65bf",
   "metadata": {},
   "outputs": [],
   "source": [
    "under_year_df = under_year.loc[under_year.time_to_crime.isin(less_than_year_categories)]"
   ]
  },
  {
   "cell_type": "code",
   "execution_count": null,
   "id": "f7d4f607-cf34-4503-9953-107d9b5f51dc",
   "metadata": {},
   "outputs": [],
   "source": [
    "under_year_df.groupby([\"year\"])[\"count\"].sum().reset_index()"
   ]
  },
  {
   "cell_type": "code",
   "execution_count": null,
   "id": "ad16337e-2af6-4642-856d-c12ed18776d4",
   "metadata": {},
   "outputs": [],
   "source": [
    "alt.Chart(under_year_df.groupby([\"year\"])[\"count\"].sum().reset_index()).mark_bar().encode(\n",
    "    x=alt.X('count:Q', title=\"\"),\n",
    "    y=alt.Y('year:N', title=\"\"),\n",
    "    # tooltip=[\"year\",\"value\"]\n",
    ").properties(\n",
    "    title=\"Guns recovered and traced in under a year\"\n",
    ")"
   ]
  },
  {
   "cell_type": "markdown",
   "id": "4c217893-7ef7-490d-bc38-a56f1ec9a4aa",
   "metadata": {},
   "source": [
    "## Source states"
   ]
  },
  {
   "cell_type": "code",
   "execution_count": null,
   "id": "c96db1ca-1685-4b6d-8e03-646e15a4c040",
   "metadata": {},
   "outputs": [],
   "source": [
    "source_17 = pd.read_csv(\"./data/processed/atf-trace-data/source-states-2017.csv\")\n",
    "source_18 = pd.read_csv(\"./data/processed/atf-trace-data/source-states-2018.csv\")\n",
    "source_19 = pd.read_csv(\"./data/processed/atf-trace-data/source-states-2019.csv\")\n",
    "source_20 = pd.read_csv(\"./data/processed/atf-trace-data/source-states-2020.csv\")\n",
    "source_21 = pd.read_csv(\"./data/processed/atf-trace-data/source-states-2021.csv\")"
   ]
  },
  {
   "cell_type": "code",
   "execution_count": null,
   "id": "3fa1bd03-7b75-4ee6-bc86-c6a43e68b988",
   "metadata": {},
   "outputs": [],
   "source": [
    "source = pd.concat([source_17, source_18, source_19, source_20, source_21])"
   ]
  },
  {
   "cell_type": "code",
   "execution_count": null,
   "id": "852d0ad0-ec89-4893-8024-302f11d4d7f9",
   "metadata": {},
   "outputs": [],
   "source": [
    "source[\"source_state\"] = source[\"source_state\"].str.replace(\"  \",\" \")"
   ]
  },
  {
   "cell_type": "code",
   "execution_count": null,
   "id": "bb23ef33-20cd-4d68-bfbc-be05908673b6",
   "metadata": {},
   "outputs": [],
   "source": [
    "source.groupby(\"year\")[\"count\"].sum()"
   ]
  },
  {
   "cell_type": "code",
   "execution_count": null,
   "id": "dc9ffd0c-f8fe-4b24-ac6d-a858d4087a6f",
   "metadata": {},
   "outputs": [],
   "source": [
    "source_merged = source.merge(general, on=[\"state\",\"year\"], how=\"left\")"
   ]
  },
  {
   "cell_type": "code",
   "execution_count": null,
   "id": "33735ea0-8a84-4596-a58e-f1efa8a0223d",
   "metadata": {},
   "outputs": [],
   "source": [
    "source_merged[\"percent\"] = source_merged[\"count\"] / source_merged[\"source_traces\"]"
   ]
  },
  {
   "cell_type": "code",
   "execution_count": null,
   "id": "e5cf10fa-4910-408f-b62a-ef6fc3868797",
   "metadata": {},
   "outputs": [],
   "source": [
    "source_merged.head()"
   ]
  },
  {
   "cell_type": "code",
   "execution_count": null,
   "id": "29ec9420-e38e-44fa-a7e3-f1b57ca9f950",
   "metadata": {},
   "outputs": [],
   "source": [
    "# How many guns recovered in California came from California?\n",
    "source_merged.loc[(source_merged[\"state\"] == \"California\") & (source_merged[\"source_state\"] == \"California\")]"
   ]
  },
  {
   "cell_type": "markdown",
   "id": "fdb44578-8cb2-429e-80a5-df194ce1ef0c",
   "metadata": {},
   "source": [
    "### In state"
   ]
  },
  {
   "cell_type": "code",
   "execution_count": null,
   "id": "7e66322b-e44d-48a0-bd94-c2ee6d554a6a",
   "metadata": {},
   "outputs": [],
   "source": [
    "instate = source_merged.loc[(source_merged[\"source_state\"] == source_merged[\"state\"]) & (source_merged[\"year\"] == 2021)]"
   ]
  },
  {
   "cell_type": "code",
   "execution_count": null,
   "id": "5aa96a4a-7f5e-4805-aea1-d8276aef689f",
   "metadata": {},
   "outputs": [],
   "source": [
    "instate[[\"state\",\"count\",\"percent\",\"state_ttc\"]].sort_values(\"percent\", ascending=False)"
   ]
  }
 ],
 "metadata": {
  "kernelspec": {
   "display_name": "gun-dealers-2023-analysis",
   "language": "python",
   "name": "python3"
  },
  "language_info": {
   "codemirror_mode": {
    "name": "ipython",
    "version": 3
   },
   "file_extension": ".py",
   "mimetype": "text/x-python",
   "name": "python",
   "nbconvert_exporter": "python",
   "pygments_lexer": "ipython3",
   "version": "3.11.2"
  }
 },
 "nbformat": 4,
 "nbformat_minor": 5
}
